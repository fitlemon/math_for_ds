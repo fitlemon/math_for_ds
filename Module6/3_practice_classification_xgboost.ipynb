{
 "cells": [
  {
   "cell_type": "code",
   "execution_count": 1,
   "id": "93b8939c",
   "metadata": {},
   "outputs": [],
   "source": [
    "from utils.hints import hide_toggle"
   ]
  },
  {
   "cell_type": "markdown",
   "id": "3fe14a49",
   "metadata": {},
   "source": [
    "# Набор данных \"Auction Verification\""
   ]
  },
  {
   "cell_type": "markdown",
   "id": "9781cf0c",
   "metadata": {},
   "source": [
    "Датасет был создан в рамках научного исследования с целью выяснить, можно ли заменить дорогостоящую верификацию сложных моделей процессов (в данном случае: одновременные многораундовые аукционы, используемые для аукционов частотных спектров) предсказаниями результатов.\n",
    "\n",
    "Каждый экземпляр в этом датасете представляет один запуск верификации. Верификация выполняется для проверки, является ли определенная цена возможной для определенного продукта, и в некоторых случаях, определения, может ли определенный участник выиграть продукт по этой цене. Каждый экземпляр содержит детали одного такого сценария верификации.\n",
    "\n",
    "Краткое описание признаков:\n",
    "\n",
    "- process.b1.capacity: Характеристика (вместимость) первого участника (заявителя). Целое число. Вместимость (максимальное количество продуктов для выигрыша) участника 1.\n",
    "\n",
    "- process.b2.capacity: Характеристика (вместимость) второго участника (заявителя). Целое число. Вместимость (максимальное количество продуктов для выигрыша) участника 2.\n",
    "\n",
    "- process.b3.capacity: Характеристика (вместимость) третьего участника (заявителя). Целое число. Вместимость (максимальное количество продуктов для выигрыша) участника 3.\n",
    "\n",
    "- process.b4.capacity: Характеристика (вместимость) четвертого участника (заявителя). Целое число. Вместимость (максимальное количество продуктов для выигрыша) участника 4.\n",
    "\n",
    "- property.price: Характеристика (цена) продукта. Целое число. Текущая проверенная цена.\n",
    "\n",
    "- property.product: Характеристика (продукт) продукта. Целое число. Текущий проверенный продукт.\n",
    "\n",
    "- property.winner: Характеристика (победитель) продукта. Целое число. Участник (заявитель), который в настоящее время признан победителем продукта (0, если проверена только цена).\n",
    "\n",
    "Целевая переменная:\n",
    "\n",
    "- verification.result: Целевой атрибут (категориальный). Результат верификации. Бинарный результат - возможен ли проверенный результат?"
   ]
  },
  {
   "cell_type": "code",
   "execution_count": 2,
   "id": "b966528a",
   "metadata": {},
   "outputs": [
    {
     "name": "stdout",
     "output_type": "stream",
     "text": [
      "F1-мера на тестовом наборе:  1.0\n"
     ]
    }
   ],
   "source": [
    "# Импорт необходимых библиотек\n",
    "import numpy as np\n",
    "import pandas as pd\n",
    "from sklearn.model_selection import train_test_split, GridSearchCV\n",
    "from sklearn.preprocessing import StandardScaler\n",
    "from xgboost import XGBClassifier\n",
    "from sklearn.metrics import f1_score\n",
    "\n",
    "# Загрузка набора данных Wine Quality из CSV-файла в DataFrame\n",
    "df = pd.read_csv(\"datasets/auction.csv\")\n",
    "df.drop(columns=['verification.time'], inplace=True)\n",
    "\n",
    "# Определение признаков (X) и целевой переменной (y)\n",
    "X = df.drop(columns=['verification.result'])\n",
    "y = df['verification.result'].astype(int)\n",
    "\n",
    "# Нормализация признаков с помощью StandardScaler\n",
    "scaler = StandardScaler()\n",
    "X_scaled = scaler.fit_transform(X)\n",
    "\n",
    "# Разделение данных на обучающий и тестовый наборы\n",
    "X_train, X_test, y_train, y_test = train_test_split(X_scaled, y, test_size=0.2, random_state=42)\n",
    "\n",
    "# Создание модели XGBoost для классификации\n",
    "xgb = XGBClassifier()\n",
    "\n",
    "# Обучение модели на обучающем наборе данных\n",
    "xgb.fit(X_train, y_train)\n",
    "\n",
    "# Прогнозирование на тестовом наборе\n",
    "y_pred = xgb.predict(X_test)\n",
    "\n",
    "# Вычисление F1-меры на тестовом наборе\n",
    "f1 = f1_score(y_pred, y_test)\n",
    "\n",
    "# Вывод значения F1-меры\n",
    "print(\"F1-мера на тестовом наборе: \", f1)\n"
   ]
  },
  {
   "cell_type": "markdown",
   "id": "df43f0a5",
   "metadata": {},
   "source": [
    "# Набор данных \"Predict students' dropout and academic success\""
   ]
  },
  {
   "cell_type": "markdown",
   "id": "2d5c0ab3",
   "metadata": {},
   "source": [
    "Датасет был создан в рамках проекта, направленного на снижение количества студентов, прекращающих обучение или испытывающих неудачи в высшем образовании, путем использования методов машинного обучения для выявления студентов, находящихся в рискованных ситуациях на раннем этапе их учебного пути, чтобы разработать стратегии для их поддержки.\n",
    "\n",
    "Датасет включает информацию, известную на момент поступления студента в учебное заведение, такую как учебный путь, демографические данные и социоэкономические факторы.\n",
    "\n",
    "Задача сформулирована как задача классификации с тремя категориями (бросившие обучение, зачисленные и выпускники) к концу нормативного срока обучения. То есть, для каждого студента предсказывается, к какой из трех категорий он относится к моменту окончания курса (нормативного срока обучения).\n",
    "\n",
    "Краткое описание признаков можно посмотреть по ссылке: https://archive.ics.uci.edu/dataset/697/predict+students+dropout+and+academic+success\n",
    "\n",
    "Целевая переменная:\n",
    "\n",
    "- **Target**: бросившие обучение, зачисленные и выпускники"
   ]
  },
  {
   "cell_type": "code",
   "execution_count": 3,
   "id": "b04aa1c4",
   "metadata": {},
   "outputs": [],
   "source": [
    "\"\"\"\n",
    "По аналогии с решением задачи Auction Verification решите в текущей ячейке задачу для предсказания целевой переменной на \n",
    "наборе Bike Sharing Demand. С случае затруднений можно посмотреть на образец решения задания в ячейке ниже.\n",
    "\"\"\";\n",
    "\n",
    "# НАЧАЛО ВАШЕГО РЕШЕНИЯ\n",
    "\n",
    "# КОНЕЦ ВАШЕГО РЕШЕНИЯ"
   ]
  },
  {
   "cell_type": "code",
   "execution_count": 4,
   "id": "07989edc",
   "metadata": {},
   "outputs": [
    {
     "data": {
      "text/html": [
       "\n",
       "        <script>\n",
       "            function code_toggle_17150423061666618969() {\n",
       "                $('div.cell.code_cell.rendered.selected').next().find('div.input').toggle();\n",
       "            }\n",
       "\n",
       "            $('div.cell.code_cell.rendered.selected').find(\"div.input\").hide();\n",
       "        </script>\n",
       "\n",
       "        <a href=\"javascript:code_toggle_17150423061666618969()\">Нажмите на ссылку внизу, чтобы увидеть ответ к заданию</a>\n",
       "    "
      ],
      "text/plain": [
       "<IPython.core.display.HTML object>"
      ]
     },
     "execution_count": 4,
     "metadata": {},
     "output_type": "execute_result"
    }
   ],
   "source": [
    "hide_toggle(for_next=True)"
   ]
  },
  {
   "cell_type": "code",
   "execution_count": 5,
   "id": "a68c8c18",
   "metadata": {},
   "outputs": [
    {
     "name": "stdout",
     "output_type": "stream",
     "text": [
      "F1-мера на тестовом наборе:  0.7729615661169058\n"
     ]
    },
    {
     "name": "stderr",
     "output_type": "stream",
     "text": [
      "C:\\Users\\avglinsky\\PycharmProjects\\math_and_ml_algorithms\\venv\\Lib\\site-packages\\sklearn\\preprocessing\\_encoders.py:227: UserWarning: Found unknown categories in columns [5, 6, 7, 9, 10, 11, 16, 17, 18, 19] during transform. These unknown categories will be encoded as all zeros\n",
      "  warnings.warn(\n"
     ]
    }
   ],
   "source": [
    "# Импорт необходимых библиотек\n",
    "import pandas as pd\n",
    "import numpy as np\n",
    "from sklearn.model_selection import train_test_split, GridSearchCV\n",
    "from sklearn.preprocessing import StandardScaler, OneHotEncoder, LabelEncoder\n",
    "from sklearn.compose import ColumnTransformer\n",
    "from sklearn.pipeline import Pipeline\n",
    "from xgboost import XGBClassifier\n",
    "from sklearn.metrics import f1_score\n",
    "\n",
    "# Загрузка набора данных bike sharing\n",
    "numeric_features = []\n",
    "categorical_features = []\n",
    "df = pd.read_csv(\"datasets/students_predictions.csv\", sep=\";\")\n",
    "\n",
    "# Отделяем целевую переменную от признаков\n",
    "X = df.drop(columns=['Target'])\n",
    "y = df['Target']\n",
    "\n",
    "# Преобразование строковых меток классов в целочисленные значения\n",
    "label_encoder = LabelEncoder()\n",
    "y = label_encoder.fit_transform(y)\n",
    "\n",
    "for column in X.columns:\n",
    "    unique_values_count = df[column].nunique()\n",
    "    if 2 < unique_values_count < 50:\n",
    "        categorical_features.append(column)\n",
    "    else:\n",
    "        numeric_features.append(column)\n",
    "\n",
    "numeric_transformer = Pipeline(steps=[\n",
    "    ('scaler', StandardScaler())\n",
    "])\n",
    "\n",
    "categorical_transformer = Pipeline(steps=[\n",
    "    ('onehot', OneHotEncoder(drop='first', handle_unknown='ignore'))\n",
    "])\n",
    "\n",
    "preprocessor = ColumnTransformer(\n",
    "    transformers=[\n",
    "        ('num', numeric_transformer, numeric_features),\n",
    "        ('cat', categorical_transformer, categorical_features)\n",
    "    ])\n",
    "\n",
    "# Разделение данных на обучающий и тестовый наборы\n",
    "X_train, X_test, y_train, y_test = train_test_split(X, y, test_size=0.2, random_state=42)\n",
    "\n",
    "# Создание модели XGBoost для классификации\n",
    "xgb = XGBClassifier()\n",
    "\n",
    "# Обучение модели на обучающем наборе данных\n",
    "xgb.fit(preprocessor.fit_transform(X_train), y_train)\n",
    "\n",
    "# Прогнозирование на тестовом наборе\n",
    "y_pred = xgb.predict(preprocessor.transform(X_test))\n",
    "\n",
    "# Вычисление взвешенной F1-меры на тестовом наборе\n",
    "f1 = f1_score(y_pred, y_test, average='weighted')\n",
    "\n",
    "# Вывод значения F1-меры\n",
    "print(\"F1-мера на тестовом наборе: \", f1)\n"
   ]
  },
  {
   "cell_type": "markdown",
   "id": "5d5dae08",
   "metadata": {},
   "source": [
    "# Набор данных \"accelerometer_gyro_mobile_phone_dataset\""
   ]
  },
  {
   "cell_type": "markdown",
   "id": "07cd4473",
   "metadata": {},
   "source": [
    "Данные, собранные в 2022 году в Университете короля Сауда в Эр-Рияде для распознавания действий человека с помощью датчиков IMU мобильного телефона (акселерометр и гироскоп). эти действия сводятся к стоянию (остановке) или ходьбе.\n",
    "\n",
    "Краткое описание признаков:\n",
    "- accX\tВещественный\n",
    "- accY\tВещественный\n",
    "- accZ\tВещественный\n",
    "- gyroX\tВещественный\n",
    "- gyroY\tВещественный\n",
    "- gyroZ\tВещественный\n",
    "- timestamp\tDatetime\n",
    "\n",
    "Целевая переменная:\n",
    "\n",
    "- **Activity**: стояние или ходьба"
   ]
  },
  {
   "cell_type": "code",
   "execution_count": 6,
   "id": "3001f0f0",
   "metadata": {},
   "outputs": [],
   "source": [
    "\"\"\"\n",
    "По аналогии с решением задачи Auction Verification решите в текущей ячейке задачу для предсказания целевой переменной на \n",
    "наборе accelerometer_gyro_mobile_phone_dataset. С случае затруднений можно посмотреть на образец решения задания в ячейке ниже.\n",
    "\"\"\";\n",
    "\n",
    "# НАЧАЛО ВАШЕГО РЕШЕНИЯ\n",
    "\n",
    "# КОНЕЦ ВАШЕГО РЕШЕНИЯ"
   ]
  },
  {
   "cell_type": "code",
   "execution_count": 7,
   "id": "34483247",
   "metadata": {},
   "outputs": [
    {
     "data": {
      "text/html": [
       "\n",
       "        <script>\n",
       "            function code_toggle_9516767012084966844() {\n",
       "                $('div.cell.code_cell.rendered.selected').next().find('div.input').toggle();\n",
       "            }\n",
       "\n",
       "            $('div.cell.code_cell.rendered.selected').find(\"div.input\").hide();\n",
       "        </script>\n",
       "\n",
       "        <a href=\"javascript:code_toggle_9516767012084966844()\">Нажмите на ссылку внизу, чтобы увидеть ответ к заданию</a>\n",
       "    "
      ],
      "text/plain": [
       "<IPython.core.display.HTML object>"
      ]
     },
     "execution_count": 7,
     "metadata": {},
     "output_type": "execute_result"
    }
   ],
   "source": [
    "hide_toggle(for_next=True)"
   ]
  },
  {
   "cell_type": "code",
   "execution_count": 8,
   "id": "af540124",
   "metadata": {},
   "outputs": [
    {
     "name": "stdout",
     "output_type": "stream",
     "text": [
      "f1-мера на тестовом наборе:  0.9868138096830814\n"
     ]
    }
   ],
   "source": [
    "# Импорт необходимых библиотек\n",
    "import pandas as pd\n",
    "import numpy as np\n",
    "from sklearn.model_selection import train_test_split, GridSearchCV\n",
    "from sklearn.preprocessing import StandardScaler\n",
    "from sklearn.compose import ColumnTransformer\n",
    "from sklearn.pipeline import Pipeline\n",
    "from xgboost import XGBClassifier\n",
    "from sklearn.metrics import f1_score\n",
    "\n",
    "# Загрузка набора данных accelerometer_gyro_mobile_phone_dataset\n",
    "df = pd.read_csv(\"datasets/accelerometer_gyro_mobile_phone_dataset.csv\")\n",
    "\n",
    "# Удаление исходного столбца \"timestamp\"\n",
    "df = df.drop(columns=['timestamp'])\n",
    "\n",
    "# Отделяем целевую переменную от признаков\n",
    "X = df.drop(columns=['Activity'])\n",
    "y = df['Activity']\n",
    "\n",
    "# Предобработка данных: нормализация числовых признаков\n",
    "numeric_features = X.columns.tolist() \n",
    "\n",
    "numeric_transformer = Pipeline(steps=[\n",
    "    ('scaler', StandardScaler())\n",
    "])\n",
    "\n",
    "preprocessor = ColumnTransformer(\n",
    "    transformers=[\n",
    "        ('num', numeric_transformer, numeric_features)\n",
    "    ])\n",
    "\n",
    "# Разделение данных на обучающий и тестовый наборы\n",
    "X_train, X_test, y_train, y_test = train_test_split(X, y, test_size=0.2, random_state=42)\n",
    "\n",
    "# Создание модели XGBoost для классификации\n",
    "xgb = XGBClassifier()\n",
    "\n",
    "# Обучение модели на обучающем наборе данных\n",
    "xgb.fit(preprocessor.fit_transform(X_train), y_train)\n",
    "\n",
    "# Прогнозирование на тестовом наборе\n",
    "y_pred = xgb.predict(preprocessor.transform(X_test))\n",
    "\n",
    "# Вычисление f1-меры на тестовом наборе\n",
    "f1 = f1_score(y_pred, y_test, average='weighted')\n",
    "\n",
    "# Вывод значения f1-меры\n",
    "print(\"f1-мера на тестовом наборе: \", f1)\n"
   ]
  },
  {
   "cell_type": "code",
   "execution_count": null,
   "id": "9bdc4373",
   "metadata": {},
   "outputs": [],
   "source": []
  }
 ],
 "metadata": {
  "kernelspec": {
   "display_name": "Python 3 (ipykernel)",
   "language": "python",
   "name": "python3"
  },
  "language_info": {
   "codemirror_mode": {
    "name": "ipython",
    "version": 3
   },
   "file_extension": ".py",
   "mimetype": "text/x-python",
   "name": "python",
   "nbconvert_exporter": "python",
   "pygments_lexer": "ipython3",
   "version": "3.11.4"
  }
 },
 "nbformat": 4,
 "nbformat_minor": 5
}
