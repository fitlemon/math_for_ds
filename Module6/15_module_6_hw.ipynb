{
 "cells": [
  {
   "cell_type": "markdown",
   "metadata": {},
   "source": [
    "Прежде чем проверять задания:\n",
    "- **Перезапустите ядро** (**restart the kernel**) (В меню, выбрать Ядро (Kernel) $\\rightarrow$ Перезапустить (Restart)\n",
    "- Затем **Выполнить все ячейки**  **run all cells** (В меню, выбрать Ячейка (Cell) $\\rightarrow$ Запустить все (Run All).\n",
    "\n",
    "Убедитесь, что заполнены все ячейки с комментарием \"НАЧАЛО ВАШЕГО РЕШЕНИЯ\".\n",
    "\n",
    "После ячеек с заданием следуют ячейки с проверкой с помощью assert.\n",
    "\n",
    "Если в коде есть ошибки, assert выведет уведомление об ошибке.\n",
    "\n",
    "Если в коде нет ошибок, assert отработает без вывода дополнительной информации."
   ]
  },
  {
   "cell_type": "markdown",
   "metadata": {},
   "source": [
    "---"
   ]
  },
  {
   "cell_type": "markdown",
   "metadata": {
    "deletable": false,
    "editable": false,
    "nbgrader": {
     "cell_type": "markdown",
     "checksum": "74d677bdc3f50985710cbeac8585dded",
     "grade": false,
     "grade_id": "cell-e5e20c11a2df79d4",
     "locked": true,
     "schema_version": 3,
     "solution": false,
     "task": false
    }
   },
   "source": [
    "# Цель занятия\n",
    "На этом занятии мы на практике закрепим работу с градиентным бустингом на основе библиотек XGBoost и Catboost."
   ]
  },
  {
   "cell_type": "markdown",
   "metadata": {
    "deletable": false,
    "editable": false,
    "nbgrader": {
     "cell_type": "markdown",
     "checksum": "5eeebbb159978ef4546d129554b6421b",
     "grade": false,
     "grade_id": "cell-a12a1cf31bd86de8",
     "locked": true,
     "schema_version": 3,
     "solution": false,
     "task": false
    }
   },
   "source": [
    "## Часть 1. XGBoost."
   ]
  },
  {
   "cell_type": "markdown",
   "metadata": {
    "deletable": false,
    "editable": false,
    "nbgrader": {
     "cell_type": "markdown",
     "checksum": "aa08b3c81fb959f5ab1eda631a1ac94a",
     "grade": false,
     "grade_id": "cell-ad0908409300e6db",
     "locked": true,
     "schema_version": 3,
     "solution": false,
     "task": false
    }
   },
   "source": [
    "**XGBoost (eXtreme Gradient Boosting)** - это оптимизированная реализация алгоритма градиентного бустинга над решающими деревьями. Он является одним из наиболее популярных и эффективных алгоритмов машинного обучения, широко применяемым для задач классификации и регрессии.\n",
    "\n",
    "XGBoost использует ансамбль деревьев решений, которые обучаются последовательно, каждое следующее дерево исправляет ошибки предыдущих. Основная идея заключается в том, чтобы строить деревья, которые учитывают остатки (разницу между предсказанными и фактическими значениями) предыдущих деревьев. Это позволяет модели постепенно улучшать свою способность к прогнозированию и достигать лучшей обобщающей способности.\n",
    "\n",
    "XGBoost предоставляет множество параметров, которые можно настраивать для достижения оптимальной производительности и обобщающей способности модели. Он обладает высокой скоростью обучения и предсказания, хорошей обработкой категориальных признаков, встроенной обработкой пропущенных значений и возможностью регуляризации для снижения переобучения.\n",
    "\n",
    "установка xgboost:\n",
    "`pip install xgboost`"
   ]
  },
  {
   "cell_type": "markdown",
   "metadata": {
    "deletable": false,
    "editable": false,
    "nbgrader": {
     "cell_type": "markdown",
     "checksum": "60dfb064ac0a254746580892ec69959e",
     "grade": false,
     "grade_id": "cell-b8b3b2a84a2584c1",
     "locked": true,
     "schema_version": 3,
     "solution": false,
     "task": false
    }
   },
   "source": [
    "Для обработки датасета в XGBoost требуется выполнить следующие преобразования:\n",
    "\n",
    "1. Разделите данные на признаки (X) и целевую переменную (y). Признаки должны быть представлены в виде двумерного массива (например, в виде списка списков или в формате pandas DataFrame), а целевая переменная - в виде одномерного массива или списка.\n",
    "\n",
    "2. Преобразуйте категориальные признаки в числовой формат. XGBoost не может обрабатывать категориальные данные напрямую, поэтому необходимо выполнить кодирование категориальных признаков. Вы можете использовать методы, такие как one-hot encoding или label encoding, чтобы преобразовать категориальные значения в числовые.\n",
    "\n",
    "   - One-Hot Encoding: Создает дополнительные бинарные признаки для каждой категории и присваивает им значение 0 или 1, в зависимости от принадлежности исходного значения к соответствующей категории. Многие библиотеки, включая pandas и scikit-learn, предоставляют инструменты для выполнения one-hot encoding.\n",
    "   \n",
    "   - Label Encoding: Присваивает каждой уникальной категории целочисленное значение. Например, \"красный\" может быть закодирован как 0, \"синий\" - как 1 и т. д. В библиотеке scikit-learn есть класс LabelEncoder, который можно использовать для выполнения label encoding.\n",
    "   \n",
    "3. Выполните масштабирование признаков, если это необходимо. XGBoost не требует масштабирования признаков, так как сам алгоритм деревьев решений не зависит от масштаба. Однако, если в вашем датасете присутствуют числовые признаки с различными диапазонами значений, масштабирование может быть полезным для улучшения сходимости и производительности модели.\n",
    "\n",
    "4. Разделите данные на обучающую и тестовую выборки. Рекомендуется разделить данные на две непересекающиеся части: одну для обучения модели (обычно 70-80% от исходного датасета) и другую для оценки производительности модели (обычно 20-30% от исходного датасета). Это поможет вам проверить качество модели на новых данных и оценить ее способность к обобщению.\n",
    "\n",
    "После выполнения этих шагов вы можете использовать преобразованные данные для обучения модели XGBoost."
   ]
  },
  {
   "cell_type": "markdown",
   "metadata": {
    "deletable": false,
    "editable": false,
    "nbgrader": {
     "cell_type": "markdown",
     "checksum": "e98bd45b81668434b6d95e53f3174d2b",
     "grade": false,
     "grade_id": "cell-52f791cf220cd891",
     "locked": true,
     "schema_version": 3,
     "solution": false,
     "task": false
    }
   },
   "source": [
    "GridSearchCV - это инструмент в библиотеке scikit-learn, который предоставляет функциональность для систематического поиска наилучших гиперпараметров модели машинного обучения. Гиперпараметры являются настройками модели, которые не могут быть обучены в процессе обучения, а должны быть заданы до начала обучения. Примерами гиперпараметров могут быть глубина дерева в решающем дереве, скорость обучения в алгоритмах градиентного спуска и степень регуляризации в линейных моделях.\n",
    "\n",
    "GridSearchCV позволяет определить набор возможных значений гиперпараметров, которые вы хотите проверить, и автоматически перебирает все возможные комбинации этих значений, обучая и оценивая модель на каждой комбинации. Затем он возвращает модель с наилучшими найденными значениями гиперпараметров.\n",
    "\n",
    "В процессе использования GridSearchCV вам необходимо предоставить следующие элементы:\n",
    "1. Модель машинного обучения, которую вы хотите настроить с помощью поиска по сетке гиперпараметров.\n",
    "2. Словарь или список возможных значений для каждого гиперпараметра, которые вы хотите проверить.\n",
    "3. Метод оценки, который будет использоваться для сравнения различных комбинаций гиперпараметров. Например, это может быть точность (accuracy) или площадь под ROC-кривой (AUC-ROC).\n",
    "\n",
    "GridSearchCV автоматически перебирает все возможные комбинации гиперпараметров, выполняет обучение и оценку модели на каждой комбинации с использованием выбранного метода оценки. Затем он возвращает наилучшую модель с оптимальными значениями гиперпараметров, которые были найдены в результате перебора. Эта модель может быть использована для предсказания на новых данных."
   ]
  },
  {
   "cell_type": "code",
   "execution_count": null,
   "metadata": {
    "deletable": false,
    "editable": false,
    "nbgrader": {
     "cell_type": "code",
     "checksum": "286973b4d46106b87c9bfab48ce18c5d",
     "grade": false,
     "grade_id": "cell-c37a4ea3f59325d2",
     "locked": true,
     "schema_version": 3,
     "solution": false,
     "task": false
    }
   },
   "outputs": [],
   "source": [
    "# импорт необходимых библиотек\n",
    "import pandas as pd\n",
    "from sklearn.preprocessing import LabelEncoder\n",
    "from sklearn.model_selection import train_test_split, GridSearchCV\n",
    "from sklearn.metrics import accuracy_score\n",
    "import xgboost as xgb"
   ]
  },
  {
   "cell_type": "code",
   "execution_count": null,
   "metadata": {
    "deletable": false,
    "editable": false,
    "nbgrader": {
     "cell_type": "code",
     "checksum": "aee87f7373f5c9fa60351d3ffcaacb4b",
     "grade": false,
     "grade_id": "cell-657d8c0348911152",
     "locked": true,
     "schema_version": 3,
     "solution": false,
     "task": false
    }
   },
   "outputs": [],
   "source": [
    "# Загрузка данных\n",
    "data = pd.read_csv('Telco-Customer-Churn.csv')\n",
    "X = data.drop(['customerID', 'Churn'], axis=1)\n",
    "y = data['Churn']\n",
    "# Целевая переменная для модели XGBoost должна быть представлена целым числом.\n",
    "y = data['Churn'].apply(lambda x: 1 if x == \"Yes\" else 0)"
   ]
  },
  {
   "cell_type": "code",
   "execution_count": null,
   "metadata": {
    "deletable": false,
    "nbgrader": {
     "cell_type": "code",
     "checksum": "9d918815831d76ba4ed96974ff805b6a",
     "grade": false,
     "grade_id": "cell-c93c03a36b18e7a1",
     "locked": false,
     "schema_version": 3,
     "solution": true,
     "task": false
    }
   },
   "outputs": [],
   "source": [
    "\"\"\"\n",
    "Задание 1. \n",
    "\n",
    "1.1 Выполните для столбца \"TotalCharges\" преобразование к вещественному типу\n",
    "    Пример\n",
    "    df[\"column_name\"] = pd.to_numeric(X[\"column_name\"], errors=\"coerce\")\n",
    "\n",
    "1.2 Создайте пустой список categorical_columns\n",
    "1.3 Создайте цикл для прохода по каждому столбцу в DataFrame X: \n",
    "    если количество уникальных элементов в столбце меньше 5:\n",
    "        добавить имя столбца в categorical_columns\n",
    "    Пример:    \n",
    "    for column in df.columns:\n",
    "        if len(df[column].unique()) < 10:\n",
    "            list_to_add.append(column)  \n",
    "1.4 Создайте экземпляр класса LabelEncoder, сохраните его в label_encoder\n",
    "    Пример:\n",
    "    encoder = LabelEncoder()\n",
    "1.5 Примените LabelEncoder к каждому категориальному признаку\n",
    "    Пример:\n",
    "    for column in categorical_columns:\n",
    "        # Замена значений в столбце X[column] на их числовое представление\n",
    "        df[column] = label_encoder.fit_transform(df[column])\n",
    "\"\"\"\n",
    "\n",
    "\n",
    "# НАЧАЛО ВАШЕГО РЕШЕНИЯ\n",
    "raise NotImplementedError()\n",
    "# КОНЕЦ ВАШЕГО РЕШЕНИЯ"
   ]
  },
  {
   "cell_type": "code",
   "execution_count": null,
   "metadata": {
    "deletable": false,
    "editable": false,
    "nbgrader": {
     "cell_type": "code",
     "checksum": "e53d930a5dca0323421e462cae7b3f03",
     "grade": true,
     "grade_id": "cell-67896dd84ccce32c",
     "locked": true,
     "points": 2,
     "schema_version": 3,
     "solution": false,
     "task": false
    }
   },
   "outputs": [],
   "source": [
    "assert X[\"TotalCharges\"].dtype == float\n",
    "assert len(categorical_columns) == 16"
   ]
  },
  {
   "cell_type": "code",
   "execution_count": null,
   "metadata": {
    "deletable": false,
    "nbgrader": {
     "cell_type": "code",
     "checksum": "7dda2cc2170cc8aac2db1c74581af51f",
     "grade": false,
     "grade_id": "cell-fb424e10a55c73b7",
     "locked": false,
     "schema_version": 3,
     "solution": true,
     "task": false
    }
   },
   "outputs": [],
   "source": [
    "\"\"\"\n",
    "Задание 2.\n",
    "2.1 Разбейте датасет X и метки y, сохранив результат в X_train, X_test, y_train, y_test \n",
    "    с помощью train_test_split. Параметры train_test_split: X, y, test_size=0.2, random_state=42\n",
    "\"\"\"\n",
    "# НАЧАЛО ВАШЕГО РЕШЕНИЯ\n",
    "raise NotImplementedError()\n",
    "# КОНЕЦ ВАШЕГО РЕШЕНИЯ"
   ]
  },
  {
   "cell_type": "code",
   "execution_count": null,
   "metadata": {
    "deletable": false,
    "editable": false,
    "nbgrader": {
     "cell_type": "code",
     "checksum": "2436217b776be769767a26d92b2bd4f2",
     "grade": true,
     "grade_id": "cell-305e029df98ef617",
     "locked": true,
     "points": 1,
     "schema_version": 3,
     "solution": false,
     "task": false
    }
   },
   "outputs": [],
   "source": [
    "assert len(X_train) == len(y_train) == 5634"
   ]
  },
  {
   "cell_type": "code",
   "execution_count": null,
   "metadata": {
    "deletable": false,
    "nbgrader": {
     "cell_type": "code",
     "checksum": "79753a4de2096c8bb2763e1fb2ac6009",
     "grade": false,
     "grade_id": "cell-fcf2e11d7fcf7326",
     "locked": false,
     "schema_version": 3,
     "solution": true,
     "task": false
    }
   },
   "outputs": [],
   "source": [
    "\"\"\"\n",
    "Задание 3. Инициализируйте экземпляр класса XGBClassifier без параметров и сохраните \n",
    "его в переменную xgb_classifier.\n",
    "Пример для регрессора:\n",
    "xgb_regressor = xgb.XGBRegressor()\n",
    "\"\"\"\n",
    "# НАЧАЛО ВАШЕГО РЕШЕНИЯ\n",
    "raise NotImplementedError()\n",
    "# КОНЕЦ ВАШЕГО РЕШЕНИЯ"
   ]
  },
  {
   "cell_type": "code",
   "execution_count": null,
   "metadata": {
    "deletable": false,
    "editable": false,
    "nbgrader": {
     "cell_type": "code",
     "checksum": "a7fc642d8693e6c2633e18a9e2e3fbe9",
     "grade": true,
     "grade_id": "cell-5071f27eb1747157",
     "locked": true,
     "points": 1,
     "schema_version": 3,
     "solution": false,
     "task": false
    }
   },
   "outputs": [],
   "source": [
    "assert type(xgb_classifier) ==  xgb.XGBClassifier"
   ]
  },
  {
   "cell_type": "code",
   "execution_count": null,
   "metadata": {
    "deletable": false,
    "nbgrader": {
     "cell_type": "code",
     "checksum": "acc582322cd42a63f5fbcf29a0de023a",
     "grade": false,
     "grade_id": "cell-23246e1e99a69175",
     "locked": false,
     "schema_version": 3,
     "solution": true,
     "task": false
    }
   },
   "outputs": [],
   "source": [
    "\"\"\"\n",
    "Задание 4. \n",
    "Определение сетки параметров для перебора.\n",
    "Создайте словарь parameters со следующими парами ключ-значение:\n",
    "max_depth - [3, 5, 7]\n",
    "learning_rate - [0.1, 0.01, 0.001]\n",
    "n_estimators - [30, 50, 100]\n",
    "Пример:\n",
    "params = {\n",
    "    'key1': [1,2,3],\n",
    "    'key2': [1,2,3],\n",
    "    'key3': [1,2,3]\n",
    "}\n",
    "\"\"\"\n",
    "\n",
    "# НАЧАЛО ВАШЕГО РЕШЕНИЯ\n",
    "raise NotImplementedError()\n",
    "# КОНЕЦ ВАШЕГО РЕШЕНИЯ"
   ]
  },
  {
   "cell_type": "code",
   "execution_count": null,
   "metadata": {
    "deletable": false,
    "editable": false,
    "nbgrader": {
     "cell_type": "code",
     "checksum": "1bc157327b14f567f75046ff14bf4fb8",
     "grade": true,
     "grade_id": "cell-54081ac097d6ac1a",
     "locked": true,
     "points": 1,
     "schema_version": 3,
     "solution": false,
     "task": false
    }
   },
   "outputs": [],
   "source": [
    "assert type(parameters) == dict\n",
    "assert sorted(parameters['max_depth']) == [3, 5, 7]\n",
    "assert sorted(parameters['learning_rate']) == [0.001, 0.01, 0.1]\n",
    "assert sorted(parameters['n_estimators']) == [30, 50, 100]"
   ]
  },
  {
   "cell_type": "code",
   "execution_count": null,
   "metadata": {
    "deletable": false,
    "nbgrader": {
     "cell_type": "code",
     "checksum": "c8b07c0583a11f0c6ec5016ae3fdcf62",
     "grade": false,
     "grade_id": "cell-7582baae7cd33e40",
     "locked": false,
     "schema_version": 3,
     "solution": true,
     "task": false
    }
   },
   "outputs": [],
   "source": [
    "\"\"\"\n",
    "Задание 5.\n",
    "Создайте экземпляр класса GridSearchCV, передав в него ряд параметров:\n",
    "estimator=xgb_classifier, \n",
    "param_grid=parameters, \n",
    "scoring='accuracy',\n",
    "cv=5\n",
    "Сохранить в переменную grid_search\n",
    "Пример:\n",
    "grid_search = GridSearchCV(par1=val1, par2=val2)\n",
    "\"\"\"\n",
    "\n",
    "# НАЧАЛО ВАШЕГО РЕШЕНИЯ\n",
    "raise NotImplementedError()\n",
    "# КОНЕЦ ВАШЕГО РЕШЕНИЯ"
   ]
  },
  {
   "cell_type": "code",
   "execution_count": null,
   "metadata": {
    "deletable": false,
    "editable": false,
    "nbgrader": {
     "cell_type": "code",
     "checksum": "3e86484d6794ab6b1b7fbb263ab1537f",
     "grade": true,
     "grade_id": "cell-f36f8a554fc343cf",
     "locked": true,
     "points": 1,
     "schema_version": 3,
     "solution": false,
     "task": false
    }
   },
   "outputs": [],
   "source": [
    "assert type(grid_search) == GridSearchCV\n",
    "assert grid_search.__dict__['scoring'] == 'accuracy'\n",
    "assert grid_search.__dict__['cv'] == 5"
   ]
  },
  {
   "cell_type": "code",
   "execution_count": null,
   "metadata": {
    "deletable": false,
    "editable": false,
    "nbgrader": {
     "cell_type": "code",
     "checksum": "31b36d71df229a48f78ff1e660d1a459",
     "grade": false,
     "grade_id": "cell-fe149fdc7ba0ca1f",
     "locked": true,
     "schema_version": 3,
     "solution": false,
     "task": false
    }
   },
   "outputs": [],
   "source": [
    "# Обучение модели с перебором параметров\n",
    "# !!! Может выполняться несколько минут\n",
    "grid_search.fit(X_train, y_train)"
   ]
  },
  {
   "cell_type": "code",
   "execution_count": null,
   "metadata": {
    "deletable": false,
    "editable": false,
    "nbgrader": {
     "cell_type": "code",
     "checksum": "b6a94aed166943205dffa2f4c7498705",
     "grade": false,
     "grade_id": "cell-a3e6f52bfbf18e37",
     "locked": true,
     "schema_version": 3,
     "solution": false,
     "task": false
    }
   },
   "outputs": [],
   "source": [
    "# Лучшие параметры и точность модели\n",
    "best_params = grid_search.best_params_\n",
    "best_score = grid_search.best_score_\n",
    "\n",
    "print(\"Лучшие параметры:\", best_params)\n",
    "print(\"Точность на обучающем наборе:\", best_score)\n",
    "\n",
    "# Оценка модели на тестовом наборе\n",
    "y_pred = grid_search.predict(X_test)\n",
    "accuracy = accuracy_score(y_test, y_pred)\n",
    "print(\"Точность на тестовом наборе:\", accuracy)"
   ]
  },
  {
   "cell_type": "markdown",
   "metadata": {
    "deletable": false,
    "editable": false,
    "nbgrader": {
     "cell_type": "markdown",
     "checksum": "c81345812c5794a5f8514b33226ed60c",
     "grade": false,
     "grade_id": "cell-332919cbfa1f2c05",
     "locked": true,
     "schema_version": 3,
     "solution": false,
     "task": false
    }
   },
   "source": [
    "## Часть 2. Catboost\n",
    "\n",
    "CatBoost — это открытая библиотека градиентного бустинга на деревьях решений. Она разработана компанией Яндекс и предназначена для решения задач машинного обучения, таких как классификация, регрессия и ранжирование. CatBoost предлагает высокую скорость обучения и прогнозирования, а также хорошую устойчивость к различным типам данных и категориальным признакам. Особенностью CatBoost является его способность автоматически обрабатывать категориальные признаки без необходимости их предварительного преобразования или использования кодирования, что делает эту библиотеку особенно полезной для работы с данными с множеством категориальных переменных.\n",
    "\n",
    "установка catboost:\n",
    "`pip install catboost`"
   ]
  },
  {
   "cell_type": "markdown",
   "metadata": {
    "deletable": false,
    "editable": false,
    "nbgrader": {
     "cell_type": "markdown",
     "checksum": "1f8c74b56645e41a3f3c77ddeb6009ed",
     "grade": false,
     "grade_id": "cell-cadca6781d957b7c",
     "locked": true,
     "schema_version": 3,
     "solution": false,
     "task": false
    }
   },
   "source": [
    "Hyperopt - это библиотека для автоматической оптимизации гиперпараметров моделей машинного обучения. Она предоставляет простой и гибкий интерфейс для поиска наилучших значений гиперпараметров, используя алгоритмы оптимизации.\n",
    "\n",
    "Основной идеей Hyperopt является применение адаптивной модели оптимизации для нахождения комбинации гиперпараметров, которая минимизирует или максимизирует заданную функцию оценки (например, функцию потерь или метрику качества). Библиотека предлагает несколько алгоритмов оптимизации, включая Tree of Parzen Estimators (TPE) и Random Search.\n",
    "\n",
    "Процесс использования Hyperopt обычно включает в себя следующие шаги:\n",
    "\n",
    "1. Определение пространства поиска: Задается пространство гиперпараметров, которое нужно оптимизировать. Это может быть сделано с использованием объектов из модуля `hyperopt.hp`, которые представляют различные типы параметров (например, вещественные числа, целые числа, категориальные значения и др.).\n",
    "\n",
    "2. Определение функции оценки (целевой функции): Задается функция, которую нужно минимизировать или максимизировать. Обычно это функция потерь или метрика качества, связанная с моделью машинного обучения.\n",
    "\n",
    "3. Создание объекта `Trials`: Создается объект `Trials`, который будет использоваться для хранения информации о проведенных оптимизациях.\n",
    "\n",
    "4. Запуск оптимизации: Вызывается функция `fmin` с указанием функции оценки, пространства поиска и алгоритма оптимизации. Hyperopt будет итеративно предлагать наборы гиперпараметров, вычислять значение функции оценки и обновлять модель оптимизации для принятия решения о следующем наборе гиперпараметров.\n",
    "\n",
    "5. Получение лучших гиперпараметров: По окончании оптимизации можно получить значения лучших гиперпараметров, найденных в ходе процесса оптимизации.\n",
    "\n",
    "Установка библиотеки: `pip install hyperopt`"
   ]
  },
  {
   "cell_type": "code",
   "execution_count": null,
   "metadata": {
    "deletable": false,
    "editable": false,
    "nbgrader": {
     "cell_type": "code",
     "checksum": "4561696c33114756a8033404f6a6a0b1",
     "grade": false,
     "grade_id": "cell-200b2e08851e9edb",
     "locked": true,
     "schema_version": 3,
     "solution": false,
     "task": false
    }
   },
   "outputs": [],
   "source": [
    "# Импортируем необходимые библиотеки\n",
    "import catboost as cb\n",
    "from sklearn.model_selection import train_test_split\n",
    "from sklearn.metrics import accuracy_score\n",
    "from hyperopt import hp, fmin, tpe, Trials\n",
    "\n",
    "# Загрузка данных\n",
    "data = pd.read_csv('Telco-Customer-Churn.csv')\n",
    "X = data.drop(['customerID', 'Churn'], axis=1)\n",
    "y = data['Churn']\n",
    "\n",
    "X_train, X_test, y_train, y_test = train_test_split(X, y, test_size=0.2, random_state=42)"
   ]
  },
  {
   "cell_type": "code",
   "execution_count": null,
   "metadata": {
    "deletable": false,
    "nbgrader": {
     "cell_type": "code",
     "checksum": "4ab6aaf6e3bc5c564308c5df88ad2c96",
     "grade": false,
     "grade_id": "cell-1bed802cedc0e8e7",
     "locked": false,
     "schema_version": 3,
     "solution": true,
     "task": false
    }
   },
   "outputs": [],
   "source": [
    "\"\"\"\n",
    "Задание 6. \n",
    "\n",
    "1.1 Выполните для столбца \"TotalCharges\" преобразование к вещественному типу\n",
    "    Пример\n",
    "    df[\"column_name\"] = pd.to_numeric(X[\"column_name\"], errors=\"coerce\")\n",
    "\n",
    "1.2 Создайте пустой список categorical_columns_indices\n",
    "1.3 Создайте цикл с enumerate для прохода по каждому столбцу в DataFrame X: \n",
    "    если количество уникальных элементов в столбце меньше 5:\n",
    "        добавить индекс столбца в categorical_columns_indices\n",
    "    Пример:    \n",
    "    for index, column in enumerate(df.columns):\n",
    "        if len(df[column].unique()) < 10:\n",
    "            list_to_add.append(index)\n",
    "\"\"\"\n",
    "\n",
    "\n",
    "# НАЧАЛО ВАШЕГО РЕШЕНИЯ\n",
    "raise NotImplementedError()\n",
    "# КОНЕЦ ВАШЕГО РЕШЕНИЯ"
   ]
  },
  {
   "cell_type": "code",
   "execution_count": null,
   "metadata": {
    "deletable": false,
    "editable": false,
    "nbgrader": {
     "cell_type": "code",
     "checksum": "0942ede011d2ecbd3c5e5d180f7840ca",
     "grade": true,
     "grade_id": "cell-0a6d79b9bba4aa27",
     "locked": true,
     "points": 1,
     "schema_version": 3,
     "solution": false,
     "task": false
    }
   },
   "outputs": [],
   "source": [
    "assert X[\"TotalCharges\"].dtype == float\n",
    "assert len(categorical_columns_indices) == 16"
   ]
  },
  {
   "cell_type": "code",
   "execution_count": null,
   "metadata": {
    "deletable": false,
    "nbgrader": {
     "cell_type": "code",
     "checksum": "abca8e4986e35d3aea5d038b6face658",
     "grade": false,
     "grade_id": "cell-025a19e639ff83bb",
     "locked": false,
     "schema_version": 3,
     "solution": true,
     "task": false
    }
   },
   "outputs": [],
   "source": [
    "\"\"\"\n",
    "Задание 7. \n",
    "\n",
    "1.1 Создайте словарь dict_of_params со следующими парами ключ - значение:\n",
    "    \"iterations\": [30, 50, 70],\n",
    "    \"depth\": [3, 5, 7],\n",
    "    \"learning_rate\": [0.01, 0.3],\n",
    "    \"l2_leaf_reg\": [1, 3, 5, 7, 9]\n",
    "\"\"\"\n",
    "\n",
    "# НАЧАЛО ВАШЕГО РЕШЕНИЯ\n",
    "raise NotImplementedError()\n",
    "# КОНЕЦ ВАШЕГО РЕШЕНИЯ"
   ]
  },
  {
   "cell_type": "code",
   "execution_count": null,
   "metadata": {
    "deletable": false,
    "editable": false,
    "nbgrader": {
     "cell_type": "code",
     "checksum": "dbdd914243d822f8b24bc08c3b00e182",
     "grade": true,
     "grade_id": "cell-88eef32de85e06d3",
     "locked": true,
     "points": 1,
     "schema_version": 3,
     "solution": false,
     "task": false
    }
   },
   "outputs": [],
   "source": [
    "assert sorted(dict_of_params[\"iterations\"]) == [30, 50, 70]"
   ]
  },
  {
   "cell_type": "code",
   "execution_count": null,
   "metadata": {
    "deletable": false,
    "editable": false,
    "nbgrader": {
     "cell_type": "code",
     "checksum": "d18190d96e9f74c4a1af0e54513f61d4",
     "grade": false,
     "grade_id": "cell-096eac29491b822b",
     "locked": true,
     "schema_version": 3,
     "solution": false,
     "task": false
    }
   },
   "outputs": [],
   "source": [
    "# Переводим словарь dict_of_params в формат Hyperopt\n",
    "space = {\n",
    "    'iterations': hp.choice('iterations', dict_of_params[\"iterations\"]),\n",
    "    'depth': hp.choice('depth', dict_of_params[\"depth\"]),\n",
    "    'learning_rate': hp.uniform('learning_rate', dict_of_params[\"learning_rate\"][0], dict_of_params[\"learning_rate\"][1]),\n",
    "    'l2_leaf_reg': hp.choice('l2_leaf_reg', dict_of_params[\"l2_leaf_reg\"])\n",
    "}"
   ]
  },
  {
   "cell_type": "code",
   "execution_count": null,
   "metadata": {
    "deletable": false,
    "nbgrader": {
     "cell_type": "code",
     "checksum": "261d7ec965f45f16fddb09e5ee9fff33",
     "grade": false,
     "grade_id": "cell-a6ff96f3b6fa8479",
     "locked": false,
     "schema_version": 3,
     "solution": true,
     "task": false
    }
   },
   "outputs": [],
   "source": [
    "\"\"\"\n",
    "Задание 7. \n",
    "Определяем функцию для оптимизации с гиперпараметрами и параметром cat_features, \n",
    "указывающим индексы категориальных признаков\n",
    "1.1 определите функцию с именем objective с параметром params\n",
    "    Пример :\n",
    "    def objective(parameters):\n",
    "\n",
    "!!! Внутри функции objective:\n",
    "1.2 инициализируйте cb.CatBoostClassifier(), передав в качестве параметров\n",
    "    **params, cat_features=categorical_columns_indices\n",
    "    Сохраните экземпляр в переменную model\n",
    "    Пример:\n",
    "    model = cb.CatBoostClassifier(**parameters, cat_features=indices)\n",
    "1.3 Обучите модель на X_train, y_train с помощью метода fit(X_train, y_train, silent=True) , \n",
    "    silent=True убирает вывод подробной информации об обучении\n",
    "1.4 Сделайте предсказания для X_test с помощью метода predict(),\n",
    "    ответ сохраните в y_pred\n",
    "1.5 Сохраните в переменную score результат вызова accuracy_score() с параметрами y_test, y_pred\n",
    "1.6 Верните через return -score\n",
    "\"\"\"\n",
    "\n",
    "# НАЧАЛО ВАШЕГО РЕШЕНИЯ\n",
    "raise NotImplementedError()\n",
    "# КОНЕЦ ВАШЕГО РЕШЕНИЯ"
   ]
  },
  {
   "cell_type": "code",
   "execution_count": null,
   "metadata": {
    "deletable": false,
    "editable": false,
    "nbgrader": {
     "cell_type": "code",
     "checksum": "838175b45fd6b060b991de7f9351371c",
     "grade": true,
     "grade_id": "cell-76a46666a33dada0",
     "locked": true,
     "points": 2,
     "schema_version": 3,
     "solution": false,
     "task": false
    }
   },
   "outputs": [],
   "source": [
    "assert callable(objective)"
   ]
  },
  {
   "cell_type": "code",
   "execution_count": null,
   "metadata": {
    "deletable": false,
    "editable": false,
    "nbgrader": {
     "cell_type": "code",
     "checksum": "25789e0495e49a98fb9517151e099dae",
     "grade": false,
     "grade_id": "cell-a97807424c46f88b",
     "locked": true,
     "schema_version": 3,
     "solution": false,
     "task": false
    }
   },
   "outputs": [],
   "source": [
    "# Запускаем оптимизацию с помощью Hyperopt\n",
    "trials = Trials()\n",
    "best = fmin(objective, space, algo=tpe.suggest, max_evals=100, trials=trials)"
   ]
  },
  {
   "cell_type": "code",
   "execution_count": null,
   "metadata": {
    "deletable": false,
    "editable": false,
    "nbgrader": {
     "cell_type": "code",
     "checksum": "74c8f2c7b4a858576a9f66f8bc2d8a3c",
     "grade": false,
     "grade_id": "cell-19835974c82c9d2b",
     "locked": true,
     "schema_version": 3,
     "solution": false,
     "task": false
    }
   },
   "outputs": [],
   "source": [
    "# Получаем лучшие значения гиперпараметров\n",
    "final_best_params = {}\n",
    "for key in best:\n",
    "    try:\n",
    "        final_best_params[key] = dict_of_params[key][best[key]]\n",
    "    except:\n",
    "        final_best_params[key] = best[key]\n",
    "\n",
    "\n",
    "# Обучаем модель с лучшими гиперпараметрами\n",
    "# Создание экземпляра CatBoostClassifier с передачей списка индексов категориальных признаков\n",
    "model = cb.CatBoostClassifier(**final_best_params, cat_features=categorical_columns_indices)\n",
    "model.fit(X_train, y_train, silent=True)\n",
    "\n",
    "\n",
    "# Предсказываем классы для тестовых данных\n",
    "y_pred = model.predict(X_test)\n",
    "\n",
    "# Вычисляем точность модели\n",
    "accuracy = accuracy_score(y_test, y_pred)\n",
    "\n",
    "# Выводим результаты\n",
    "print(\"Точность модели:\", accuracy)"
   ]
  },
  {
   "cell_type": "markdown",
   "metadata": {
    "deletable": false,
    "editable": false,
    "nbgrader": {
     "cell_type": "markdown",
     "checksum": "1ef4c1e31cf9b1637887777917b43fb3",
     "grade": false,
     "grade_id": "cell-6e7a9507bc2645a1",
     "locked": true,
     "schema_version": 3,
     "solution": false,
     "task": false
    }
   },
   "source": [
    "Мы можем видеть, что подготовка данных для Catboost занимает меньше времени. \n",
    "Если сравнивать GridSearchCV и Hyperopt, то Hyperopt устроен сложнее, однако может выдавать более оптимальные результаты."
   ]
  }
 ],
 "metadata": {
  "kernelspec": {
   "display_name": "Python 3 (ipykernel)",
   "language": "python",
   "name": "python3"
  },
  "language_info": {
   "codemirror_mode": {
    "name": "ipython",
    "version": 3
   },
   "file_extension": ".py",
   "mimetype": "text/x-python",
   "name": "python",
   "nbconvert_exporter": "python",
   "pygments_lexer": "ipython3",
   "version": "3.10.0"
  }
 },
 "nbformat": 4,
 "nbformat_minor": 1
}
