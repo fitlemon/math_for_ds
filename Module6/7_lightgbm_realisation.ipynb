{
 "cells": [
  {
   "cell_type": "markdown",
   "metadata": {
    "id": "DGqdPtceNNDy"
   },
   "source": [
    "Документация: https://lightgbm.readthedocs.io/en/latest/\n",
    "Для установки lightgbm:\n",
    "\n",
    "`pip install lightgbm`\n",
    "\n",
    "Если с установкой библиотеки возникли трудности, можно запустить ноутбук в Colab: \n",
    "\n",
    "https://colab.research.google.com/"
   ]
  },
  {
   "cell_type": "markdown",
   "metadata": {
    "id": "F5FtcKQtScdR"
   },
   "source": [
    "# Цель занятия\n",
    "На этом занятии мы рассмотрим применение алгоритма LightGBM для задачи классификации."
   ]
  },
  {
   "cell_type": "markdown",
   "metadata": {
    "id": "THMztLxsS0Xj"
   },
   "source": [
    "LightGBM (Light Gradient Boosting Machine) - это библиотека машинного обучения для градиентного бустинга на деревьях решений. Она была разработана в Microsoft и представляет собой более быстрый и эффективный вариант бустинга на деревьях решений, чем другие алгоритмы бустинга, такие как XGBoost.\n",
    "\n",
    "LightGBM использует алгоритм, основанный на гистограммах, который группирует данные в различные корзины (buckets), вместо простого поиска лучшего разбиения на каждом шаге, что ускоряет обучение. Кроме того, LightGBM поддерживает распараллеливание, использование различных типов данных и распределение на нескольких компьютерах.\n",
    "\n",
    "LightGBM обычно используется для решения задач классификации и регрессии в различных областях, включая компьютерное зрение, естественный язык, финансы и т.д."
   ]
  },
  {
   "cell_type": "code",
   "execution_count": 2,
   "metadata": {
    "id": "jpBmog7RNSpS"
   },
   "outputs": [],
   "source": [
    "# Загрузка библиотек\n",
    "import lightgbm as lgb\n",
    "from sklearn import datasets\n",
    "from sklearn.model_selection import train_test_split\n",
    "import numpy as np\n",
    "from sklearn.metrics import accuracy_score"
   ]
  },
  {
   "cell_type": "code",
   "execution_count": 3,
   "metadata": {
    "id": "tAWZqR_RQZ-d"
   },
   "outputs": [],
   "source": [
    "# Загрузка датасета\n",
    "iris = datasets.load_iris()\n",
    "X = iris.data\n",
    "y = iris.target\n",
    "\n",
    "X_train, X_test, y_train, y_test = train_test_split(X, y, test_size=0.2, random_state=42)"
   ]
  },
  {
   "cell_type": "code",
   "execution_count": 4,
   "metadata": {
    "id": "9pnKe9xEOFkq"
   },
   "outputs": [],
   "source": [
    "# Создание объекта lgb.Dataset, который содержит тренировочные данные:\n",
    "train_data = lgb.Dataset(X_train, label=y_train)"
   ]
  },
  {
   "cell_type": "code",
   "execution_count": 5,
   "metadata": {
    "id": "VHqVI_KVOFnf"
   },
   "outputs": [],
   "source": [
    "# Определение параметров для модели LightGBM:\n",
    "\n",
    "params = {\n",
    "    \"objective\": \"multiclass\",\n",
    "    \"num_class\": 3,\n",
    "    \"metric\": \"multi_logloss\",\n",
    "    \"learning_rate\": 0.1\n",
    "}\n",
    "\n",
    "# objective: тип задачи машинного обучения (в нашем случае, многоклассовая классификация).\n",
    "# num_class: количество классов (в нашем случае, 3).\n",
    "# metric: метрика, используемая для оценки качества модели.\n",
    "# learning_rate: скорость обучения, т.е. насколько быстро модель будет обучаться.\n",
    "num_rounds = 10 # количество раундов (num_rounds)"
   ]
  },
  {
   "cell_type": "code",
   "execution_count": 6,
   "metadata": {
    "colab": {
     "base_uri": "https://localhost:8080/"
    },
    "id": "jiW3pplPOFp0",
    "outputId": "11c4059b-efdb-4b48-a41a-76602e9d177c"
   },
   "outputs": [
    {
     "name": "stdout",
     "output_type": "stream",
     "text": [
      "[LightGBM] [Warning] Auto-choosing row-wise multi-threading, the overhead of testing was 0.014270 seconds.\n",
      "You can set `force_row_wise=true` to remove the overhead.\n",
      "And if memory is not enough, you can set `force_col_wise=true`.\n",
      "[LightGBM] [Info] Total Bins 91\n",
      "[LightGBM] [Info] Number of data points in the train set: 120, number of used features: 4\n",
      "[LightGBM] [Info] Start training from score -1.098612\n",
      "[LightGBM] [Info] Start training from score -1.073920\n",
      "[LightGBM] [Info] Start training from score -1.123930\n",
      "[LightGBM] [Warning] No further splits with positive gain, best gain: -inf\n",
      "[LightGBM] [Warning] No further splits with positive gain, best gain: -inf\n",
      "[LightGBM] [Warning] No further splits with positive gain, best gain: -inf\n",
      "[LightGBM] [Warning] No further splits with positive gain, best gain: -inf\n",
      "[LightGBM] [Warning] No further splits with positive gain, best gain: -inf\n",
      "[LightGBM] [Warning] No further splits with positive gain, best gain: -inf\n",
      "[LightGBM] [Warning] No further splits with positive gain, best gain: -inf\n",
      "[LightGBM] [Warning] No further splits with positive gain, best gain: -inf\n",
      "[LightGBM] [Warning] No further splits with positive gain, best gain: -inf\n",
      "[LightGBM] [Warning] No further splits with positive gain, best gain: -inf\n",
      "[LightGBM] [Warning] No further splits with positive gain, best gain: -inf\n",
      "[LightGBM] [Warning] No further splits with positive gain, best gain: -inf\n",
      "[LightGBM] [Warning] No further splits with positive gain, best gain: -inf\n",
      "[LightGBM] [Warning] No further splits with positive gain, best gain: -inf\n",
      "[LightGBM] [Warning] No further splits with positive gain, best gain: -inf\n",
      "[LightGBM] [Warning] No further splits with positive gain, best gain: -inf\n",
      "[LightGBM] [Warning] No further splits with positive gain, best gain: -inf\n",
      "[LightGBM] [Warning] No further splits with positive gain, best gain: -inf\n",
      "[LightGBM] [Warning] No further splits with positive gain, best gain: -inf\n",
      "[LightGBM] [Warning] No further splits with positive gain, best gain: -inf\n",
      "[LightGBM] [Warning] No further splits with positive gain, best gain: -inf\n",
      "[LightGBM] [Warning] No further splits with positive gain, best gain: -inf\n",
      "[LightGBM] [Warning] No further splits with positive gain, best gain: -inf\n",
      "[LightGBM] [Warning] No further splits with positive gain, best gain: -inf\n",
      "[LightGBM] [Warning] No further splits with positive gain, best gain: -inf\n",
      "[LightGBM] [Warning] No further splits with positive gain, best gain: -inf\n",
      "[LightGBM] [Warning] No further splits with positive gain, best gain: -inf\n",
      "[LightGBM] [Warning] No further splits with positive gain, best gain: -inf\n",
      "[LightGBM] [Warning] No further splits with positive gain, best gain: -inf\n",
      "[LightGBM] [Warning] No further splits with positive gain, best gain: -inf\n"
     ]
    }
   ],
   "source": [
    "# Обучение модели\n",
    "model = lgb.train(params, train_data, num_rounds)"
   ]
  },
  {
   "cell_type": "code",
   "execution_count": 7,
   "metadata": {
    "id": "Vai60Co_OFsK"
   },
   "outputs": [],
   "source": [
    "# Обратите внимание, что метод predict возвращает вероятности принадлежности каждого класса. \n",
    "# Чтобы получить предсказанный класс, мы можем выбрать класс с наибольшей вероятностью:\n",
    "\n",
    "y_pred = model.predict(X_test)\n",
    "y_pred_class = np.argmax(y_pred, axis=1)"
   ]
  },
  {
   "cell_type": "code",
   "execution_count": 8,
   "metadata": {
    "colab": {
     "base_uri": "https://localhost:8080/"
    },
    "id": "e71liUhrOFxG",
    "outputId": "74285a97-e931-443f-d89e-210da07cb842"
   },
   "outputs": [
    {
     "name": "stdout",
     "output_type": "stream",
     "text": [
      "Accuracy: 1.0\n"
     ]
    }
   ],
   "source": [
    "accuracy = accuracy_score(y_test, y_pred_class)\n",
    "print(\"Accuracy:\", accuracy)"
   ]
  }
 ],
 "metadata": {
  "colab": {
   "provenance": []
  },
  "kernelspec": {
   "display_name": "Python 3 (ipykernel)",
   "language": "python",
   "name": "python3"
  },
  "language_info": {
   "codemirror_mode": {
    "name": "ipython",
    "version": 3
   },
   "file_extension": ".py",
   "mimetype": "text/x-python",
   "name": "python",
   "nbconvert_exporter": "python",
   "pygments_lexer": "ipython3",
   "version": "3.10.0"
  }
 },
 "nbformat": 4,
 "nbformat_minor": 1
}
