{
 "cells": [
  {
   "cell_type": "markdown",
   "metadata": {
    "id": "vBp_z_fuARYs"
   },
   "source": [
    "# **Дополнительное домашнее задание. Логистическая регрессия и решающие деревья**"
   ]
  },
  {
   "cell_type": "markdown",
   "metadata": {
    "id": "QJWpCwbaZtbf"
   },
   "source": [
    "Суммарно 10 баллов за всю работу. По 5 баллов в каждой части.\n",
    "\n",
    "Требуется выполнить следующие задания."
   ]
  },
  {
   "cell_type": "code",
   "execution_count": 71,
   "metadata": {
    "deletable": false,
    "editable": false,
    "id": "LAazO1JI_9Nb",
    "nbgrader": {
     "cell_type": "code",
     "checksum": "4a97adf18cbf7d9242167540ed264dc2",
     "grade": false,
     "grade_id": "cell-3a9d1fb3",
     "locked": true,
     "schema_version": 3,
     "solution": false,
     "task": false
    },
    "tags": []
   },
   "outputs": [],
   "source": [
    "import numpy as np\n",
    "import pandas as pd\n",
    "import matplotlib.pyplot as plt\n",
    "%matplotlib inline\n",
    "\n",
    "import random\n",
    "\n",
    "from __future__ import annotations"
   ]
  },
  {
   "cell_type": "markdown",
   "metadata": {
    "id": "xYmiOkCgOjeV"
   },
   "source": [
    "## **Часть 1. Логистическая регрессия (5 баллов)**"
   ]
  },
  {
   "cell_type": "markdown",
   "metadata": {
    "id": "zI5d1wcDOjeW"
   },
   "source": [
    "**Задание 1 (3 балла)**. Реализуйте логистическую регрессию, обучаемую с помощью двух видов градиенткого спуска:\n",
    "- полный (по всем данным) градиентный спуск\n",
    "\n",
    "- стохастический градиентный спуск\n",
    "\n",
    "Во всех пунктах необходимо соблюдать два условия:\n",
    "- Циклы можно использовать только для итераций градиентного спуска;\n",
    "- В качестве критерия останова необходимо использовать (одновременно):\n",
    "\n",
    "    - проверку на евклидову норму разности весов на двух соседних итерациях (например, меньше некоторого малого числа порядка 1e-6), задаваемого параметром `tolerance`;\n",
    "    - достижение максимального числа итераций (например, 10000), задаваемого параметром `max_iter`.\n",
    "\n",
    "Чтобы проследить, что оптимизационный процесс действительно сходится, добавьте атрибут класса `loss_history`. В нём после вызова метода `fit` должны содержаться значения функции потерь для всех итераций градиентного спуска, начиная с нулевой.\n",
    "\n",
    "Инициализировать веса можно случайным образом или нулевым вектором."
   ]
  },
  {
   "cell_type": "code",
   "execution_count": 72,
   "metadata": {
    "id": "qtjYaxHCahgu"
   },
   "outputs": [],
   "source": [
    "from sklearn.base import BaseEstimator\n",
    "\n",
    "from sklearn.metrics import precision_recall_curve, roc_auc_score, roc_curve, auc\n",
    "\n",
    "from sklearn.model_selection import KFold"
   ]
  },
  {
   "cell_type": "code",
   "execution_count": 73,
   "metadata": {
    "id": "ReCAYLn6OjeX"
   },
   "outputs": [],
   "source": [
    "class MyLogisticRegression(BaseEstimator):\n",
    "    def __init__(\n",
    "        self,\n",
    "        gd_type: str = \"stochastic\",\n",
    "        tolerance: float = 1e-6,\n",
    "        max_iter: int = 1000,\n",
    "        eta: float = 1e-2,\n",
    "        w0: np.array = None,\n",
    "    ) -> None:\n",
    "        \"\"\"\n",
    "        Аргументы:\n",
    "          gd_type: Вид градиентного спуска ('full' или 'stochastic').\n",
    "\n",
    "          tolerance: Порог для остановки градиетного спуска.\n",
    "\n",
    "          max_iter: Максимальное количество шагов в градиентном спуске.\n",
    "\n",
    "          eta: Скорость обучения (learning rate).\n",
    "\n",
    "          w0: Массив размерности d (d — количество весов в оптимизации).\n",
    "              Начальные веса.\n",
    "        \"\"\"\n",
    "        self.gd_type = gd_type\n",
    "        self.tolerance = tolerance\n",
    "        self.max_iter = max_iter\n",
    "        self.eta = eta\n",
    "        self.w0 = w0\n",
    "        self.w = None\n",
    "        self.loss_history = None\n",
    "\n",
    "    def fit(self, X: np.array, y: np.array):\n",
    "        \"\"\"Обучаем модель на training данных. Сохраняйте значении функции потерь после каждой итерации.\n",
    "\n",
    "        Аргументы:\n",
    "          X: Данные на обучение.\n",
    "\n",
    "          y: Целевая переменная.\n",
    "\n",
    "        Возвращает:\n",
    "          self: Обученный регрессор.\n",
    "        \"\"\"\n",
    "        self.loss_history = []\n",
    "        if self.w0 is None:\n",
    "            self.w = np.random.rand(X.shape[1])\n",
    "        else:\n",
    "            self.w = self.w0\n",
    "        self.b = np.random.rand()  # bias\n",
    "        for iter in range(self.max_iter):\n",
    "            if self.gd_type == \"stochastic\":\n",
    "                sample = np.random.randint(0, len(y) + 1)\n",
    "                X_ = np.array([X[sample]])\n",
    "                y_ = np.array([y[sample]])\n",
    "            elif self.gd_type == \"full\":\n",
    "                X_ = X\n",
    "                y_ = y\n",
    "            else:\n",
    "                raise Exception(\"Not valid GD type\")\n",
    "            loss = self.calc_loss(X_, y_)\n",
    "            grad = self.calc_gradient(X_, y_)\n",
    "            new_w = self.w - self.eta * grad\n",
    "            new_b = self.b - self.eta * (self.predict_proba(X_) - y_).mean()\n",
    "            self.loss_history.append(loss)\n",
    "            if (\n",
    "                np.linalg.norm(new_w - self.w) < self.tolerance\n",
    "                and np.linalg.norm(new_b - self.b) < self.tolerance\n",
    "            ):\n",
    "                break\n",
    "            else:\n",
    "                self.w = new_w\n",
    "                self.b = new_b\n",
    "        return self\n",
    "\n",
    "    def predict_proba(self, X: np.array) -> np.array:\n",
    "        \"\"\"Вычислите вероятности положительного и отрицательного классов для каждого наблюдения.\n",
    "\n",
    "        Аргументы:\n",
    "          X: Массив размером (n, d).\n",
    "             Данные.\n",
    "\n",
    "        Возвращает:\n",
    "             Массив размером (n, 2).\n",
    "             Предсказанные вероятности.\n",
    "        \"\"\"\n",
    "        if self.w is None:\n",
    "            raise Exception(\"Not trained yet\")\n",
    "        # your code\n",
    "        if self.gd_type == \"stochastic\":\n",
    "            z = X.dot(self.w.T) + self.b\n",
    "        elif self.gd_type == \"full\":\n",
    "            z = X.dot(self.w) + self.b\n",
    "        p = 1 / (1 + np.exp(-z))\n",
    "        return p\n",
    "\n",
    "    def predict(self, X: np.array) -> np.array:\n",
    "        \"\"\"Предсказание метки класса для каждого наблюдения.\n",
    "\n",
    "        Аргументы:\n",
    "          X: Массив размером (n, d).\n",
    "             Данные.\n",
    "\n",
    "        Возвращает:\n",
    "             Массив размером (n,).\n",
    "             Предсказанные метки классов.\n",
    "        \"\"\"\n",
    "        if self.w is None:\n",
    "            raise Exception(\"Not trained yet\")\n",
    "        # your code\n",
    "        return np.array([1 if p > 0.5 else 0 for p in self.predict_proba(X)])\n",
    "\n",
    "    def calc_gradient(self, X: np.array, y: np.array) -> np.array:\n",
    "        \"\"\"Вычислите градиент функции потерь после каждой итерации.\n",
    "\n",
    "        Аргументы:\n",
    "          X: Массив размером (n, d), n может быть равно 1, если выбран 'stochastic'.\n",
    "          y: Массив размером (n,).\n",
    "\n",
    "        Возвращает:\n",
    "          Массив размером (d,).\n",
    "          Градиент функции потерь после текущей итерации.\n",
    "        \"\"\"\n",
    "        # your code\n",
    "        p = self.predict_proba(X)\n",
    "        grad = (p - y).dot(X) / len(y)\n",
    "        return grad\n",
    "\n",
    "    def calc_loss(self, X: np.array, y: np.array) -> float:\n",
    "        \"\"\"Вычислите значение функции потерь после каждой итерации.\n",
    "\n",
    "        Аргументы:\n",
    "          X: Массив размером (n, d).\n",
    "          y: Массив размером (n,).\n",
    "\n",
    "        Возвращает:\n",
    "          Значение функции потерь после текущей итерации.\n",
    "        \"\"\"\n",
    "        # your code\n",
    "        p = self.predict_proba(X)\n",
    "        loss = (-1) * sum(y * np.log(p) + (1 - y) * np.log(1 - p)) / len(y)\n",
    "\n",
    "        return loss"
   ]
  },
  {
   "cell_type": "code",
   "execution_count": 74,
   "metadata": {},
   "outputs": [
    {
     "data": {
      "text/plain": [
       "array([[1., 2., 3., 1.],\n",
       "       [2., 4., 5., 1.]])"
      ]
     },
     "execution_count": 74,
     "metadata": {},
     "output_type": "execute_result"
    }
   ],
   "source": [
    "arr1 = np.array([[1, 2, 3], [2, 4, 5]])\n",
    "arr2 = np.array([0, 0, 1])\n",
    "y = np.array([1, 1])\n",
    "w0 = 0\n",
    "z = arr1.dot(arr2) + w0\n",
    "p = 1 / (1 + np.exp(-z))\n",
    "loss = -(y * np.log(p) + (1 - y) * np.log(1 - p))\n",
    "grad = np.dot((p - y), arr1)\n",
    "np.append(arr1, np.ones(arr1.shape[0]))\n",
    "ones = np.ones((arr1.shape[0], 1))\n",
    "ones\n",
    "np.concatenate([arr1, ones], axis=1)"
   ]
  },
  {
   "cell_type": "markdown",
   "metadata": {
    "id": "0EHJ_pqXOjeY"
   },
   "source": [
    "Далее предполагается, что вы используете собственную реализацию логистической регрессии.\n",
    "Если с написанием класса возникли проблемы, используйте реализацию sklearn, чтобы не терять баллы за остальные задания."
   ]
  },
  {
   "cell_type": "markdown",
   "metadata": {
    "id": "MhoFH4BfOjeZ"
   },
   "source": [
    "Сгенерируем искусственные данные."
   ]
  },
  {
   "cell_type": "code",
   "execution_count": 75,
   "metadata": {
    "id": "5dh6ImQQOjeZ"
   },
   "outputs": [],
   "source": [
    "from sklearn.datasets import make_classification\n",
    "from sklearn.model_selection import train_test_split\n",
    "from sklearn.preprocessing import Normalizer\n",
    "\n",
    "X, y = make_classification(\n",
    "    n_samples=10000, n_features=10, n_informative=5, n_redundant=5, random_state=999\n",
    ")\n",
    "\n",
    "scaler = Normalizer()\n",
    "\n",
    "X_train, X_test, y_train, y_test = train_test_split(\n",
    "    X, y, test_size=0.2, random_state=999\n",
    ")"
   ]
  },
  {
   "cell_type": "markdown",
   "metadata": {
    "id": "BJlB_E7nOjea"
   },
   "source": [
    "**Задание 2 (1 балл).** Обучите логистическую регрессию на искусственных данных. Нарисуйте изменение лосса во время обучения."
   ]
  },
  {
   "cell_type": "code",
   "execution_count": 76,
   "metadata": {
    "colab": {
     "base_uri": "https://localhost:8080/",
     "height": 492
    },
    "executionInfo": {
     "elapsed": 3230,
     "status": "ok",
     "timestamp": 1701087918304,
     "user": {
      "displayName": "Sergey Korpachev",
      "userId": "09181340988160569540"
     },
     "user_tz": -180
    },
    "id": "BH-yySQuOjeb",
    "outputId": "950779aa-29c2-4783-fa6d-ed194ccdf277"
   },
   "outputs": [
    {
     "data": {
      "text/plain": [
       "Text(0.5, 0, 'Iterations')"
      ]
     },
     "execution_count": 76,
     "metadata": {},
     "output_type": "execute_result"
    },
    {
     "data": {
      "image/png": "[encoded data removed]",
      "text/plain": [
       "<Figure size 1600x400 with 2 Axes>"
      ]
     },
     "metadata": {},
     "output_type": "display_data"
    }
   ],
   "source": [
    "import matplotlib.pyplot as plt\n",
    "\n",
    "X_train_scaled = scaler.fit_transform(X_train)\n",
    "logregr_full = MyLogisticRegression(gd_type=\"full\", eta=1e-1, max_iter=1000)\n",
    "model_full = logregr_full.fit(X_train_scaled, y_train)\n",
    "logregr_sgd = MyLogisticRegression(gd_type=\"stochastic\", eta=1e-2, max_iter=1000)\n",
    "model_sgd = logregr_sgd.fit(X_train_scaled, y_train)\n",
    "fig, axes = plt.subplots(nrows=1, ncols=2, figsize=(16, 4))\n",
    "axes[0].plot(model_full.loss_history, label=\"Full GD\")\n",
    "axes[0].set_title(\"Log Loss for Full GD\", fontsize=16)\n",
    "axes[0].set_ylabel(\"Loss\")\n",
    "axes[0].set_xlabel(\"Iterations\")\n",
    "axes[1].plot(model_sgd.loss_history, label=\"SGD GD\")\n",
    "axes[1].set_title(\"Log Loss for SGD\", fontsize=16)\n",
    "axes[1].set_xlabel(\"Iterations\")"
   ]
  },
  {
   "cell_type": "markdown",
   "metadata": {
    "id": "tuHbOvPlOjec"
   },
   "source": [
    "На тестовой части посчитайте ROC-AUC, PR-AUC. Постройте ROC и PR кривые."
   ]
  },
  {
   "cell_type": "code",
   "execution_count": 77,
   "metadata": {
    "colab": {
     "base_uri": "https://localhost:8080/",
     "height": 983
    },
    "executionInfo": {
     "elapsed": 402,
     "status": "ok",
     "timestamp": 1701087920330,
     "user": {
      "displayName": "Sergey Korpachev",
      "userId": "09181340988160569540"
     },
     "user_tz": -180
    },
    "id": "wN1zT9E-Ydc8",
    "outputId": "6cc2fdf0-860e-4ccc-85f9-230dfd40eace"
   },
   "outputs": [
    {
     "name": "stdout",
     "output_type": "stream",
     "text": [
      "ROC_AUC score: 0.7981749371909554\n",
      "PR_AUC score: 0.8608159574978798\n"
     ]
    },
    {
     "data": {
      "text/plain": [
       "Text(0.5, 1.0, 'ROC-AUC curve fo model')"
      ]
     },
     "execution_count": 77,
     "metadata": {},
     "output_type": "execute_result"
    },
    {
     "data": {
      "image/png": "[encoded data removed]",
      "text/plain": [
       "<Figure size 1600x400 with 2 Axes>"
      ]
     },
     "metadata": {},
     "output_type": "display_data"
    }
   ],
   "source": [
    "# your code\n",
    "# precision_recall_curve, roc_auc_score, roc_curve, auc\n",
    "y_pred = model_full.predict(X_test)\n",
    "y_proba = model_full.predict_proba(X_test)\n",
    "\n",
    "# Get the metrics\n",
    "score_roc = roc_auc_score(y_test, y_pred)\n",
    "fpr, tpr, thresholds = roc_curve(y_test, y_proba)\n",
    "precision, recall, thresholds = precision_recall_curve(y_test, y_proba)\n",
    "score_pr = auc(fpr, tpr)\n",
    "\n",
    "\n",
    "print(f\"ROC_AUC score: {score_roc}\")\n",
    "print(f\"PR_AUC score: {score_pr}\")\n",
    "\n",
    "\n",
    "fig, axes = plt.subplots(nrows=1, ncols=2, figsize=(16, 4))\n",
    "# Drawing Test Precision-Recall curve\n",
    "\n",
    "axes[0].fill_between(recall, precision)\n",
    "axes[0].set_ylabel(\"Precision\")\n",
    "axes[0].set_xlabel(\"Recall\")\n",
    "axes[0].set_title(\"Precision-Recall curve for model\")\n",
    "# Drawing ROC curve\n",
    "\n",
    "axes[1].fill_between(fpr, tpr)\n",
    "axes[1].set_ylabel(\"True Positive Rate\")\n",
    "axes[1].set_xlabel(\"False Positive Rate\")\n",
    "axes[1].set_title(\"ROC-AUC curve fo model\")"
   ]
  },
  {
   "cell_type": "markdown",
   "metadata": {
    "id": "6aTPsxh6Ydc9"
   },
   "source": [
    "**Задание 3 (1 балл).** Оцените ошибку ROC-AUC и PR-AUC вашей модели при помощи K-fold кросс валидации.  "
   ]
  },
  {
   "cell_type": "code",
   "execution_count": 78,
   "metadata": {
    "colab": {
     "base_uri": "https://localhost:8080/"
    },
    "executionInfo": {
     "elapsed": 13,
     "status": "ok",
     "timestamp": 1701087954042,
     "user": {
      "displayName": "Sergey Korpachev",
      "userId": "09181340988160569540"
     },
     "user_tz": -180
    },
    "id": "Xx8Zz3MeYdc-",
    "outputId": "fd6ce204-5f2c-45c2-c6bb-ff3da3a20eb9"
   },
   "outputs": [
    {
     "name": "stdout",
     "output_type": "stream",
     "text": [
      "Scores of each fold - \n",
      " ROC-AUC: [0.798594622054936, 0.7951877552042885, 0.8042256540537508, 0.8013125173254697, 0.7847007495426657] \n",
      " PR-AUC: [0.5013087211738783, 0.4907378518056289, 0.5076401188496268, 0.49052599999999996, 0.5152967670903813]\n",
      "Avg accuracy : - \n",
      " ROC-AUC: 0.7968042596362221 \n",
      " PR-AUC: 0.5011018917839031\n"
     ]
    }
   ],
   "source": [
    "# your code\n",
    "k = 5\n",
    "kf = KFold(n_splits=k, random_state=None)\n",
    "model = MyLogisticRegression(gd_type=\"full\", eta=1e-1, max_iter=1000)\n",
    "\n",
    "scores_roc_auc = []\n",
    "scores_pr_auc = []\n",
    "\n",
    "for train_index, test_index in kf.split(X):\n",
    "    X_train, X_test = X[train_index], X[test_index]\n",
    "    y_train, y_test = y[train_index], y[test_index]\n",
    "    # Fit the model\n",
    "    model.fit(X_train, y_train)\n",
    "    pred_values = model.predict(X_test)\n",
    "\n",
    "    # get metrics\n",
    "    score_roc = roc_auc_score(y_test, y_pred)\n",
    "    fpr, tpr, thresholds = roc_curve(y_test, y_proba)\n",
    "    score_pr = auc(fpr, tpr)\n",
    "    score_roc = roc_auc_score(pred_values, y_test)\n",
    "    # collect the scores\n",
    "    scores_roc_auc.append(score_roc)\n",
    "    scores_pr_auc.append(score_pr)\n",
    "\n",
    "avg_roc_score = sum(scores_roc_auc) / k\n",
    "avg_pr_score = sum(scores_pr_auc) / k\n",
    "\n",
    "print(f\"Scores of each fold - \\n ROC-AUC: {scores_roc_auc} \\n PR-AUC: {scores_pr_auc}\")\n",
    "print(f\"Avg accuracy : - \\n ROC-AUC: {avg_roc_score} \\n PR-AUC: {avg_pr_score}\")"
   ]
  },
  {
   "cell_type": "markdown",
   "metadata": {
    "id": "ToLJecgbY44W"
   },
   "source": [
    "## **Часть 2. Решающие деревья (5 баллов)**"
   ]
  },
  {
   "cell_type": "markdown",
   "metadata": {
    "id": "9iAZwRjCeAQO"
   },
   "source": [
    "Здесь требуется реализовать разбиение элементов выборки в вершине дерева."
   ]
  },
  {
   "cell_type": "markdown",
   "metadata": {
    "id": "7zl0dnOpd3xX"
   },
   "source": [
    "$R_m$ - множество объектов в разбиваемой вершине, $j$ - номер признака, по которому происходит разбиение, $t$ - порог разбиения.\n",
    "\n",
    "Критерий ошибки:\n",
    "\n",
    "$$\n",
    "Q(R_m, j, t) = \\frac{|R_\\ell|}{|R_m|}H(R_\\ell) + \\frac{|R_r|}{|R_m|}H(R_r) \\to \\min_{j, t}\n",
    "$$\n",
    "\n",
    "$R_\\ell$ - множество объектов в левом поддереве, $R_r$ - множество объектов в правом поддереве.\n",
    "\n",
    "$H(R)$ - критерий информативности, с помощью которого можно оценить качество распределения целевой переменной среди объектов множества $R$."
   ]
  },
  {
   "cell_type": "code",
   "execution_count": 79,
   "metadata": {
    "id": "kHeOJOhD-TVX"
   },
   "outputs": [],
   "source": [
    "from typing import Iterable, List, Tuple"
   ]
  },
  {
   "cell_type": "markdown",
   "metadata": {
    "id": "xEeetsF8f39b"
   },
   "source": [
    "Так как Boston Dataset с недавних пор отсутствует в sklearn, то ниже реализован способ загрузки данного датасета из другого источника."
   ]
  },
  {
   "cell_type": "code",
   "execution_count": 80,
   "metadata": {
    "id": "LvqFxfNwKLGG"
   },
   "outputs": [],
   "source": [
    "# `load_boston` has been removed from scikit-learn since version 1.2.\n",
    "\n",
    "# from sklearn.datasets import load_boston\n",
    "# boston = load_boston()"
   ]
  },
  {
   "cell_type": "code",
   "execution_count": 96,
   "metadata": {
    "id": "D_kJdSOIKL2Z"
   },
   "outputs": [],
   "source": [
    "# !wget -i https://github.com/scikit-learn/scikit-learn/blob/main/sklearn/datasets/data/boston_house_prices.csv\n",
    "# data_git = pd.read_csv('boston_house_prices.csv', sep=\"\\s+\")"
   ]
  },
  {
   "cell_type": "markdown",
   "metadata": {
    "id": "b1KE7WIFKp51"
   },
   "source": [
    "**Data Set Characteristics:**  \n",
    "\n",
    "    :Number of Instances: 506\n",
    "\n",
    "    :Number of Attributes: 13 numeric/categorical predictive. Median Value (attribute 14) is usually the target.\n",
    "\n",
    "    :Attribute Information (in order):\n",
    "        - CRIM     per capita crime rate by town\n",
    "        - ZN       proportion of residential land zoned for lots over 25,000 sq.ft.\n",
    "        - INDUS    proportion of non-retail business acres per town\n",
    "        - CHAS     Charles River dummy variable (= 1 if tract bounds river; 0 otherwise)\n",
    "        - NOX      nitric oxides concentration (parts per 10 million)\n",
    "        - RM       average number of rooms per dwelling\n",
    "        - AGE      proportion of owner-occupied units built prior to 1940\n",
    "        - DIS      weighted distances to five Boston employment centres\n",
    "        - RAD      index of accessibility to radial highways\n",
    "        - TAX      full-value property-tax rate per $10,000\n",
    "        - PTRATIO  pupil-teacher ratio by town\n",
    "        - B        1000(Bk - 0.63)^2 where Bk is the proportion of blacks by town\n",
    "        - LSTAT    % lower status of the population\n",
    "        - MEDV     Median value of owner-occupied homes in $1000's\n",
    "\n",
    "    :Missing Attribute Values: None\n",
    "\n",
    "    :Creator: Harrison, D. and Rubinfeld, D.L.\n",
    "\n",
    "This is a copy of UCI ML housing dataset.\n",
    "https://archive.ics.uci.edu/ml/machine-learning-databases/housing/\n",
    "\n",
    "This dataset was taken from the StatLib library which is maintained at Carnegie Mellon University.\n",
    "\n",
    "The Boston house-price data of Harrison, D. and Rubinfeld, D.L. 'Hedonic\n",
    "prices and the demand for clean air', J. Environ. Economics & Management,\n",
    "vol.5, 81-102, 1978.   Used in Belsley, Kuh & Welsch, 'Regression diagnostics\n",
    "...', Wiley, 1980.   N.B. Various transformations are used in the table on\n",
    "pages 244-261 of the latter.\n",
    "\n",
    "The Boston house-price data has been used in many machine learning papers that address regression\n",
    "problems.   \n",
    "     \n",
    ".. topic:: References\n",
    "\n",
    "   - Belsley, Kuh & Welsch, 'Regression diagnostics: Identifying Influential Data and Sources of Collinearity', Wiley, 1980. 244-261.\n",
    "   - Quinlan,R. (1993). Combining Instance-Based and Model-Based Learning. In Proceedings on the Tenth International Conference of Machine Learning, 236-243, University of Massachusetts, Amherst. Morgan Kaufmann.\n",
    "\n"
   ]
  },
  {
   "cell_type": "code",
   "execution_count": 89,
   "metadata": {
    "id": "Qv8CemmpK2EU"
   },
   "outputs": [],
   "source": [
    "data_url = \"http://lib.stat.cmu.edu/datasets/boston\"\n",
    "raw_df = pd.read_csv(data_url, sep=\"\\s+\", skiprows=22, header=None)\n",
    "data = np.hstack([raw_df.values[::2, :], raw_df.values[1::2, :2]])\n",
    "target = raw_df.values[1::2, 2]"
   ]
  },
  {
   "cell_type": "code",
   "execution_count": 94,
   "metadata": {
    "id": "3KLql08wLMKy"
   },
   "outputs": [],
   "source": [
    "feature_names = [\n",
    "    \"CRIM\",\n",
    "    \"ZN\",\n",
    "    \"INDUS\",\n",
    "    \"CHAS\",\n",
    "    \"NOX\",\n",
    "    \"RM\",\n",
    "    \"AGE\",\n",
    "    \"DIS\",\n",
    "    \"RAD\",\n",
    "    \"TAX\",\n",
    "    \"PTRATIO\",\n",
    "    \"B\",\n",
    "    \"LSTAT\",\n",
    "]\n",
    "\n",
    "X = pd.DataFrame(data, columns=feature_names, index=range(len(data)))\n",
    "y = pd.DataFrame(target, columns=[\"MEDV\"], index=range(len(target)))\n",
    "\n",
    "X[\"target\"] = y"
   ]
  },
  {
   "cell_type": "code",
   "execution_count": 95,
   "metadata": {
    "id": "QMs9TfkuSme0"
   },
   "outputs": [],
   "source": [
    "X_train, X_test = train_test_split(X, test_size=0.25, random_state=999)"
   ]
  },
  {
   "cell_type": "markdown",
   "metadata": {
    "id": "hirWI1Vw4Fle"
   },
   "source": [
    "**Задание 1 (1 балл)**. Реализуйте подсчет критерия ошибки. Для этого реализуйте функции для подсчета значения критерия информативности, а также для разбиения вершины."
   ]
  },
  {
   "cell_type": "code",
   "execution_count": 85,
   "metadata": {
    "id": "5bGstPZ14Flf"
   },
   "outputs": [],
   "source": [
    "def H(R: np.array) -> float:\n",
    "    \"\"\"\n",
    "    Вычислить критерий информативности (impurity criterion) для фиксированного набора объектов R.\n",
    "    Предполагается, что последний столбец содержить целевую переменную.\n",
    "    \"\"\"\n",
    "    # your code\n",
    "\n",
    "\n",
    "def split_node(R_m: np.array, feature: str, t: float) -> Iterable[np.array]:\n",
    "    \"\"\"\n",
    "    Разделить фиксированный набор объектов R_m с заданным признаком (номером признака) и пороговым значением t.\n",
    "    \"\"\"\n",
    "    # your code\n",
    "\n",
    "\n",
    "def q_error(R_m: np.array, feature: str, t: float) -> float:\n",
    "    \"\"\"\n",
    "    Вычислить критерий ошибки для заданных параметров разделения.\n",
    "    \"\"\"\n",
    "    # your code"
   ]
  },
  {
   "cell_type": "markdown",
   "metadata": {
    "id": "z5vMn7Yu4Flg"
   },
   "source": [
    "**Задание 2 (1 балл)**. Переберите все возможные разбиения обучающей выборки по одному из признаков и постройте график критерия ошибки в зависимости от значения порога."
   ]
  },
  {
   "cell_type": "markdown",
   "metadata": {
    "id": "cdNVqLH24Flj"
   },
   "source": [
    "**Задание 3  (1 балл)**. Напишите функцию, находящую оптимальное разбиение данной вершины по данному признаку."
   ]
  },
  {
   "cell_type": "code",
   "execution_count": 86,
   "metadata": {
    "id": "JnK6p2FU4Flk"
   },
   "outputs": [
    {
     "ename": "SyntaxError",
     "evalue": "incomplete input (1467579199.py, line 2)",
     "output_type": "error",
     "traceback": [
      "\u001b[0;36m  Cell \u001b[0;32mIn[86], line 2\u001b[0;36m\u001b[0m\n\u001b[0;31m    # your code\u001b[0m\n\u001b[0m               ^\u001b[0m\n\u001b[0;31mSyntaxError\u001b[0m\u001b[0;31m:\u001b[0m incomplete input\n"
     ]
    }
   ],
   "source": [
    "def get_optimal_split(R_m: np.array, feature: str) -> Tuple[float, List[float]]:\n",
    "    # your code"
   ]
  },
  {
   "cell_type": "markdown",
   "metadata": {
    "id": "WTwCYIgc4Fll"
   },
   "source": [
    "**Задание 4  (1 балл)**. Для первого разбиения найдите признак, показывающий наилучшее качество. Каков порог разбиения и значение качества? Постройте график критерия ошибки для данного признака в зависимости от значения порога."
   ]
  },
  {
   "cell_type": "code",
   "execution_count": null,
   "metadata": {
    "colab": {
     "base_uri": "https://localhost:8080/"
    },
    "executionInfo": {
     "elapsed": 2609,
     "status": "ok",
     "timestamp": 1701087958364,
     "user": {
      "displayName": "Sergey Korpachev",
      "userId": "09181340988160569540"
     },
     "user_tz": -180
    },
    "id": "GUl5daTc4Flo",
    "outputId": "9aea172f-3300-4571-9716-aa820c67bfc1"
   },
   "outputs": [],
   "source": [
    "# your code"
   ]
  },
  {
   "cell_type": "markdown",
   "metadata": {
    "id": "qaSseANG4Flq"
   },
   "source": [
    " **Задание 5 (1 балл)**. Изобразите разбиение визуально. Для этого постройте диаграмму рассеяния целевой переменной в зависимости от значения входного признака. Далее изобразите вертикальную линию, соответствующую порогу разбиения."
   ]
  },
  {
   "cell_type": "code",
   "execution_count": null,
   "metadata": {
    "colab": {
     "base_uri": "https://localhost:8080/",
     "height": 562
    },
    "executionInfo": {
     "elapsed": 603,
     "status": "ok",
     "timestamp": 1701087959571,
     "user": {
      "displayName": "Sergey Korpachev",
      "userId": "09181340988160569540"
     },
     "user_tz": -180
    },
    "id": "Cjw3cznv8Qn2",
    "outputId": "5741f5c8-c00e-4efc-ac6c-5a62fd3c5eda"
   },
   "outputs": [],
   "source": [
    "# your code"
   ]
  }
 ],
 "metadata": {
  "colab": {
   "provenance": []
  },
  "kernelspec": {
   "display_name": "Python 3",
   "language": "python",
   "name": "python3"
  },
  "language_info": {
   "codemirror_mode": {
    "name": "ipython",
    "version": 3
   },
   "file_extension": ".py",
   "mimetype": "text/x-python",
   "name": "python",
   "nbconvert_exporter": "python",
   "pygments_lexer": "ipython3",
   "version": "3.10.12"
  }
 },
 "nbformat": 4,
 "nbformat_minor": 1
}
