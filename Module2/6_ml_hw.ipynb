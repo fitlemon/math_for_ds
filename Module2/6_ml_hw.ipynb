{
  "cells": [
    {
      "cell_type": "markdown",
      "metadata": {
        "id": "jyaLGF-Vz9pI"
      },
      "source": [
        "Прежде чем проверять задания:\n",
        "- **Перезапустите ядро** (**restart the kernel**) (В меню, выбрать Ядро (Kernel) $\\rightarrow$ Перезапустить (Restart)\n",
        "- Затем **Выполнить все ячейки**  **run all cells** (В меню, выбрать Ячейка (Cell) $\\rightarrow$ Запустить все (Run All).\n",
        "\n",
        "Убедитесь, что заполнены все ячейки с комментарием \"НАЧАЛО ВАШЕГО РЕШЕНИЯ\".\n",
        "\n",
        "После ячеек с заданием следуют ячейки с проверкой с помощью assert.\n",
        "\n",
        "Если в коде есть ошибки, assert выведет уведомление об ошибке.\n",
        "\n",
        "Если в коде нет ошибок, assert отработает без вывода дополнительной информации."
      ]
    },
    {
      "cell_type": "markdown",
      "metadata": {
        "id": "x96HNBOTz9pM"
      },
      "source": [
        "---"
      ]
    },
    {
      "cell_type": "markdown",
      "metadata": {
        "deletable": false,
        "editable": false,
        "id": "Eas4V7hDz9pN",
        "nbgrader": {
          "cell_type": "markdown",
          "checksum": "fc6f3ff0c98af7c3e36469068388cf5b",
          "grade": false,
          "grade_id": "cell-7aae2185af5375c4",
          "locked": true,
          "schema_version": 3,
          "solution": false,
          "task": false
        }
      },
      "source": [
        "Датасет **\"Недвижимость в Калифорнии\"** (California Housing Prices dataset) содержит информацию о жилых районах в штате Калифорния, основанную на переписи населения 1990 года. Он часто используется в задачах регрессии для предсказания медианной стоимости жилья в районе на основе данных о населении, доходах, количестве комнат, географическом положении и других характеристиках района.\n",
        "\n",
        "Датасет содержит 20 640 наблюдений и 9 признаков. Каждое наблюдение представляет собой информацию о жилом районе, а каждый признак описывает различные характеристики района:\n",
        "\n",
        "- longitude: долгота географического положения района.\n",
        "- latitude: широта географического положения района.\n",
        "- housing_median_age: медианный возраст домов в районе.\n",
        "- total_rooms: среднее количество комнат в доме в районе.\n",
        "- total_bedrooms: среднее количество спален в доме в районе.\n",
        "- population: общее количество людей, проживающих в районе.\n",
        "- households: среднее количество людей, проживающих в каждом доме в районе.\n",
        "- median_income: медианный доход домохозяйства в районе.\n",
        "- median_house_value: медианная стоимость домов в районе (целевая переменная).\n",
        "- ocean_proximity: близость к океану (категориальная переменная).\n",
        "\n",
        "Целевая переменная MedHouseVal является непрерывной переменной, что делает этот датасет идеальным для задачи регрессии. Данные были собраны в 1990 году, поэтому медианные стоимости домов устарели и не отражают текущие рыночные цены на недвижимость.\n",
        "\n",
        "Этот датасет доступен в библиотеке scikit-learn и также может быть загружен из репозитория UCI Machine Learning Repository. В нашем случае он загружается из файла."
      ]
    },
    {
      "cell_type": "code",
      "execution_count": 2,
      "metadata": {
        "deletable": false,
        "editable": false,
        "id": "F6kyzSVez9pO",
        "nbgrader": {
          "cell_type": "code",
          "checksum": "17d94243762477381b62a563df1bfab1",
          "grade": false,
          "grade_id": "cell-77365f539f474fb0",
          "locked": true,
          "schema_version": 3,
          "solution": false,
          "task": false
        }
      },
      "outputs": [],
      "source": [
        "# импорт библиотек\n",
        "import pandas as pd\n",
        "import numpy as np\n",
        "from sklearn.neighbors import KNeighborsRegressor\n",
        "from sklearn.model_selection import GridSearchCV, train_test_split\n",
        "from sklearn.metrics import mean_absolute_error, mean_squared_error\n",
        "\n",
        "np.random.seed(42)  # фиксация генератора случайных чисел"
      ]
    },
    {
      "cell_type": "code",
      "execution_count": 3,
      "metadata": {
        "deletable": false,
        "editable": false,
        "id": "pKCF9QS7z9pP",
        "nbgrader": {
          "cell_type": "code",
          "checksum": "6c0897e40b10b612ba75aa7afbad3b97",
          "grade": false,
          "grade_id": "cell-8c7e965920834ff2",
          "locked": true,
          "schema_version": 3,
          "solution": false,
          "task": false
        }
      },
      "outputs": [
        {
          "name": "stdout",
          "output_type": "stream",
          "text": [
            "<class 'pandas.core.frame.DataFrame'>\n",
            "RangeIndex: 20640 entries, 0 to 20639\n",
            "Data columns (total 10 columns):\n",
            " #   Column              Non-Null Count  Dtype  \n",
            "---  ------              --------------  -----  \n",
            " 0   longitude           20640 non-null  float64\n",
            " 1   latitude            20640 non-null  float64\n",
            " 2   housing_median_age  20640 non-null  float64\n",
            " 3   total_rooms         20640 non-null  float64\n",
            " 4   total_bedrooms      20433 non-null  float64\n",
            " 5   population          20640 non-null  float64\n",
            " 6   households          20640 non-null  float64\n",
            " 7   median_income       20640 non-null  float64\n",
            " 8   median_house_value  20640 non-null  float64\n",
            " 9   ocean_proximity     20640 non-null  object \n",
            "dtypes: float64(9), object(1)\n",
            "memory usage: 1.6+ MB\n"
          ]
        }
      ],
      "source": [
        "# загрузка набора данных по ценам на недвижимость в Калифорнии\n",
        "# https://drive.google.com/file/d/1rcfG4gq3EkS0mEng2l0MJHHFkMFsPoLV/view?usp=sharing\n",
        "# ссылка на датасет, размещенные на гугл-диске\n",
        "url = (\n",
        "    \"https://drive.google.com/file/d/1rcfG4gq3EkS0mEng2l0MJHHFkMFsPoLV/view?usp=sharing\"\n",
        ")\n",
        "url = \"https://drive.google.com/uc?id=\" + url.split(\"/\")[-2]\n",
        "california_housing = pd.read_csv(url, sep=\",\")\n",
        "california_housing.info()"
      ]
    },
    {
      "cell_type": "code",
      "execution_count": 5,
      "metadata": {
        "deletable": false,
        "id": "IRc66Nfbz9pP",
        "nbgrader": {
          "cell_type": "code",
          "checksum": "e7c8256c2e4c317d5796f91875a757ad",
          "grade": false,
          "grade_id": "cell-648c014dbf815965",
          "locked": false,
          "schema_version": 3,
          "solution": true,
          "task": false
        }
      },
      "outputs": [],
      "source": [
        "\"\"\"\n",
        "Задание 1. Мы видим, что в столбце \"total_bedrooms\" отсутствует 207 значений.\n",
        "Давайте удалим эти 207 строк с помощью применения  метода .dropna с параметром inplace=True\n",
        "к нашему датафрейму (california_housing).\n",
        "\n",
        "Примените dropna к california_housing с параметром inplace=True\n",
        "\"\"\"\n",
        "# НАЧАЛО ВАШЕГО РЕШЕНИЯ\n",
        "california_housing.dropna(axis=0, inplace=True)\n",
        "# КОНЕЦ ВАШЕГО РЕШЕНИЯ"
      ]
    },
    {
      "cell_type": "code",
      "execution_count": 6,
      "metadata": {
        "deletable": false,
        "editable": false,
        "id": "OyWooufAz9pQ",
        "nbgrader": {
          "cell_type": "code",
          "checksum": "471d490eb2870af86c72a61ec608bb65",
          "grade": true,
          "grade_id": "cell-04508a02b1545650",
          "locked": true,
          "points": 1,
          "schema_version": 3,
          "solution": false,
          "task": false
        }
      },
      "outputs": [
        {
          "name": "stdout",
          "output_type": "stream",
          "text": [
            "(20433, 10)\n"
          ]
        }
      ],
      "source": [
        "# Проверка задания 1. Просто запустите ячейку.\n",
        "assert california_housing.shape == (\n",
        "    20433,\n",
        "    10,\n",
        "), \"размер датасета не совпадает с правильным\"\n",
        "print(california_housing.shape)"
      ]
    },
    {
      "cell_type": "code",
      "execution_count": 9,
      "metadata": {
        "deletable": false,
        "id": "Lrj2bQfsz9pQ",
        "nbgrader": {
          "cell_type": "code",
          "checksum": "12b7d7c0e2e13bad974e5bc5a64aa945",
          "grade": false,
          "grade_id": "cell-bc052feba1e8525d",
          "locked": false,
          "schema_version": 3,
          "solution": true,
          "task": false
        }
      },
      "outputs": [],
      "source": [
        "\"\"\"\n",
        "Задание 2. Разделим датафрейм california_housing на признаки и целевую переменную.\n",
        "Метод drop() в библиотеке Pandas используется для удаления одного или нескольких\n",
        "столбцов или строк из DataFrame. Метод drop() не изменяет исходный DataFrame,\n",
        "а возвращает новый DataFrame с удаленными столбцами или строками.\n",
        "Примените метод drop к california_housing, передав туда\n",
        "в параметр columns значение ['median_house_value']. Получившийся DataFrame сохранить в\n",
        "переменную с признаками california_housing_data\n",
        "\"\"\"\n",
        "# НАЧАЛО ВАШЕГО РЕШЕНИЯ\n",
        "california_housing_data = california_housing.drop(columns=[\"median_house_value\"])\n",
        "# КОНЕЦ ВАШЕГО РЕШЕНИЯ"
      ]
    },
    {
      "cell_type": "code",
      "execution_count": 10,
      "metadata": {
        "deletable": false,
        "editable": false,
        "id": "NNsqO7pfz9pQ",
        "nbgrader": {
          "cell_type": "code",
          "checksum": "28f5c4bb9cb562221ab080e8a17dda01",
          "grade": true,
          "grade_id": "cell-f9db6f6c1ae75e31",
          "locked": true,
          "points": 1,
          "schema_version": 3,
          "solution": false,
          "task": false
        }
      },
      "outputs": [],
      "source": [
        "# Проверка задания 2. Просто запустите ячейку.\n",
        "assert california_housing_data.shape == (20433, 9)"
      ]
    },
    {
      "cell_type": "code",
      "execution_count": 11,
      "metadata": {
        "deletable": false,
        "id": "MUHL0VCuz9pQ",
        "nbgrader": {
          "cell_type": "code",
          "checksum": "c317eda007c4f634c2435f3fa6532e49",
          "grade": false,
          "grade_id": "cell-e8606767ee649ec9",
          "locked": false,
          "schema_version": 3,
          "solution": true,
          "task": false
        }
      },
      "outputs": [],
      "source": [
        "\"\"\"\n",
        "Задание 3. Операция df['column'] в pandas называется индексацией (indexing) и используется\n",
        "для извлечения одного или нескольких столбцов из DataFrame.\n",
        "Эта операция позволяет получить Series, соответствующий одному столбцу DataFrame.\n",
        "Если вместо одного столбца нужно выбрать несколько столбцов, то следует передать\n",
        "список с именами столбцов в квадратных скобках, например: df[['column1', 'column2']].\n",
        "\n",
        "Примените операцию индексация к california_housing, передав туда\n",
        "в качестве column значение 'median_house_value'. Получившийся Series сохранить в\n",
        "переменную california_housing_target\n",
        "\"\"\"\n",
        "# НАЧАЛО ВАШЕГО РЕШЕНИЯ\n",
        "california_housing_target = california_housing[\"median_house_value\"]\n",
        "# КОНЕЦ ВАШЕГО РЕШЕНИЯ"
      ]
    },
    {
      "cell_type": "code",
      "execution_count": 12,
      "metadata": {
        "deletable": false,
        "editable": false,
        "id": "QvPC29Hzz9pR",
        "nbgrader": {
          "cell_type": "code",
          "checksum": "b75495f3571ca4b0302c294e0d8a8b45",
          "grade": true,
          "grade_id": "cell-0f970ef725e1dcdb",
          "locked": true,
          "points": 1,
          "schema_version": 3,
          "solution": false,
          "task": false
        }
      },
      "outputs": [],
      "source": [
        "# Проверка задания 3. Просто запустите ячейку.\n",
        "assert california_housing_target.shape == (20433,)"
      ]
    },
    {
      "cell_type": "code",
      "execution_count": 13,
      "metadata": {
        "deletable": false,
        "id": "Um_S58whz9pR",
        "nbgrader": {
          "cell_type": "code",
          "checksum": "a326409dc77196372fe4217abe7015c2",
          "grade": false,
          "grade_id": "cell-ee5bd439bbf48360",
          "locked": false,
          "schema_version": 3,
          "solution": true,
          "task": false
        }
      },
      "outputs": [],
      "source": [
        "\"\"\"\n",
        "Задание 4. Посмотрите, сколько уникальных значений категорий содержится в колонке 'ocean_proximity' датафрейма\n",
        "california_housing_data. Это можно сделать с помощью встроенной функции len и метода unique().\n",
        "Ответ сохраните в переменную num_values (Пример num_values = len(df['column'].unique()))\n",
        "\"\"\"\n",
        "num_values = None\n",
        "\n",
        "# НАЧАЛО ВАШЕГО РЕШЕНИЯ\n",
        "num_values = california_housing_data[\"ocean_proximity\"].nunique()\n",
        "# КОНЕЦ ВАШЕГО РЕШЕНИЯ"
      ]
    },
    {
      "cell_type": "code",
      "execution_count": 14,
      "metadata": {
        "deletable": false,
        "editable": false,
        "id": "Xuc-Zde5z9pR",
        "nbgrader": {
          "cell_type": "code",
          "checksum": "d2048f77e73ad10060bb9ccd55aaa2f1",
          "grade": true,
          "grade_id": "cell-e23225678ec5b66b",
          "locked": true,
          "points": 1,
          "schema_version": 3,
          "solution": false,
          "task": false
        }
      },
      "outputs": [],
      "source": [
        "# Проверка задания 4. Просто запустите ячейку.\n",
        "assert num_values"
      ]
    },
    {
      "cell_type": "code",
      "execution_count": 18,
      "metadata": {
        "deletable": false,
        "id": "wLp5uSG3z9pS",
        "nbgrader": {
          "cell_type": "code",
          "checksum": "84535aa7a77a4515b58f8d1b32b7d86e",
          "grade": false,
          "grade_id": "cell-19791910b941774e",
          "locked": false,
          "schema_version": 3,
          "solution": true,
          "task": false
        }
      },
      "outputs": [],
      "source": [
        "\"\"\"\n",
        "Задание 5. Преобразуйте категориальный признак 'ocean_proximity' в несколько бинарных признаков с помощью\n",
        "One-Hot Encoding. Результат работы pd.get_dummies сохраните в ту же переменную california_housing_data\n",
        "Пример: df = pd.get_dummies(df, columns=['color'])\n",
        "\"\"\"\n",
        "# НАЧАЛО ВАШЕГО РЕШЕНИЯ\n",
        "california_housing_data = pd.get_dummies(\n",
        "    california_housing_data, columns=[\"ocean_proximity\"]\n",
        ")\n",
        "# КОНЕЦ ВАШЕГО РЕШЕНИЯ"
      ]
    },
    {
      "cell_type": "code",
      "execution_count": 19,
      "metadata": {
        "deletable": false,
        "editable": false,
        "id": "tz6xyofjz9pS",
        "nbgrader": {
          "cell_type": "code",
          "checksum": "c39cbe1af43364ea8ecad3a959dee22c",
          "grade": true,
          "grade_id": "cell-6c5a71a464411a3e",
          "locked": true,
          "points": 1,
          "schema_version": 3,
          "solution": false,
          "task": false
        }
      },
      "outputs": [
        {
          "name": "stdout",
          "output_type": "stream",
          "text": [
            "<class 'pandas.core.frame.DataFrame'>\n",
            "Index: 20433 entries, 0 to 20639\n",
            "Data columns (total 13 columns):\n",
            " #   Column                      Non-Null Count  Dtype  \n",
            "---  ------                      --------------  -----  \n",
            " 0   longitude                   20433 non-null  float64\n",
            " 1   latitude                    20433 non-null  float64\n",
            " 2   housing_median_age          20433 non-null  float64\n",
            " 3   total_rooms                 20433 non-null  float64\n",
            " 4   total_bedrooms              20433 non-null  float64\n",
            " 5   population                  20433 non-null  float64\n",
            " 6   households                  20433 non-null  float64\n",
            " 7   median_income               20433 non-null  float64\n",
            " 8   ocean_proximity_<1H OCEAN   20433 non-null  bool   \n",
            " 9   ocean_proximity_INLAND      20433 non-null  bool   \n",
            " 10  ocean_proximity_ISLAND      20433 non-null  bool   \n",
            " 11  ocean_proximity_NEAR BAY    20433 non-null  bool   \n",
            " 12  ocean_proximity_NEAR OCEAN  20433 non-null  bool   \n",
            "dtypes: bool(5), float64(8)\n",
            "memory usage: 1.5 MB\n",
            "None\n"
          ]
        }
      ],
      "source": [
        "# Проверка задания 5. Просто запустите ячейку.\n",
        "print(california_housing_data.info())\n",
        "# Мы видим, что исчез столбец ocean_proximity и появились новые столбцы"
      ]
    },
    {
      "cell_type": "code",
      "execution_count": 20,
      "metadata": {
        "deletable": false,
        "id": "uAIh3zLvz9pS",
        "nbgrader": {
          "cell_type": "code",
          "checksum": "1236e52199d7a60b0a56038f7d7fd2ad",
          "grade": false,
          "grade_id": "cell-e71a5fe9004225f9",
          "locked": false,
          "schema_version": 3,
          "solution": true,
          "task": false
        }
      },
      "outputs": [],
      "source": [
        "\"\"\"\n",
        "Задание 6. Разделите DataFrame california_housing_data и Series california_housing_target\n",
        "на обучающую и тестовую выборки с помощью функции train_test_split.\n",
        "Можно не указывать параметр test_size (тогда подставится значение по умолчанию 0.25),\n",
        "либо указать напрямую test_size=0.25\n",
        "Передайте в эту функцию признаки и целевую переменную.\n",
        "Пример: X_train, X_test, y_train, y_test = train_test_split(X, y, test_size=0.33)\n",
        "\"\"\"\n",
        "X_train, X_test, y_train, y_test = train_test_split(\n",
        "    # НАЧАЛО ВАШЕГО РЕШЕНИЯ\n",
        "    california_housing_data,\n",
        "    california_housing_target,\n",
        "    test_size=0.25\n",
        "    # КОНЕЦ ВАШЕГО РЕШЕНИЯ\n",
        ")"
      ]
    },
    {
      "cell_type": "code",
      "execution_count": 21,
      "metadata": {
        "deletable": false,
        "editable": false,
        "id": "AvfwJKD2z9pS",
        "nbgrader": {
          "cell_type": "code",
          "checksum": "3fe8dd453ecfdb21076e45be4e0f8a7f",
          "grade": true,
          "grade_id": "cell-cfe2db9e37b2924c",
          "locked": true,
          "points": 1,
          "schema_version": 3,
          "solution": false,
          "task": false
        }
      },
      "outputs": [],
      "source": [
        "# Проверка задания 6. Просто запустите ячейку.\n",
        "assert X_train.shape == (15324, 13)\n",
        "assert y_test.shape == (5109,)"
      ]
    },
    {
      "cell_type": "markdown",
      "metadata": {
        "deletable": false,
        "editable": false,
        "id": "9_1VTKQAz9pS",
        "nbgrader": {
          "cell_type": "markdown",
          "checksum": "8f49deee347bf93c8411f24be747ae07",
          "grade": false,
          "grade_id": "cell-5dc07e12c861b048",
          "locked": true,
          "schema_version": 3,
          "solution": false,
          "task": false
        }
      },
      "source": [
        "Мы будем искать оптимальный параметр 'n_neighbors' (количество соседей) с помощью GridSearchCV.\n",
        "GridSearchCV - это инструмент для поиска наилучших гиперпараметров модели машинного обучения.\n",
        "Он используется для автоматического подбора наилучших параметров модели путем перебора всех\n",
        "возможных комбинаций гиперпараметров из заранее определенного диапазона.\n",
        "\n",
        "Основная идея GridSearchCV заключается в том, чтобы создать сетку (grid) всех возможных комбинаций\n",
        "гиперпараметров и обучить модель на каждой из этих комбинаций.\n",
        "Затем GridSearchCV выбирает ту комбинацию гиперпараметров, которая показала наилучшую\n",
        "производительность (например, наилучшее значение метрики качества на тестовых данных).\n",
        "\n",
        "Этот инструмент особенно полезен при работе с моделями, у которых множество гиперпараметров,\n",
        "и требуется максимально точно настроить их значения для достижения наилучшей производительности."
      ]
    },
    {
      "cell_type": "code",
      "execution_count": 27,
      "metadata": {
        "deletable": false,
        "id": "rHwVq2HIz9pS",
        "nbgrader": {
          "cell_type": "code",
          "checksum": "5b07ba063f6d479eacb8f22a46094c89",
          "grade": false,
          "grade_id": "cell-3e51b21e42309fde",
          "locked": false,
          "schema_version": 3,
          "solution": true,
          "task": false
        }
      },
      "outputs": [],
      "source": [
        "\"\"\"\n",
        "Задание 7. Создайте словарь param_grid с одним ключом 'n_neighbors' и значением этого ключа,\n",
        "равным [1, 3, 5, 7, 9]\n",
        "Пример: dict_example = {'key': [1, 3, 5]}\n",
        "\"\"\"\n",
        "# НАЧАЛО ВАШЕГО РЕШЕНИЯ\n",
        "param_grid = dict([(\"n_neighbors\", [1, 3, 5, 7, 9])])\n",
        "# КОНЕЦ ВАШЕГО РЕШЕНИЯ"
      ]
    },
    {
      "cell_type": "code",
      "execution_count": 28,
      "metadata": {
        "deletable": false,
        "editable": false,
        "id": "dp3cSpNWz9pT",
        "nbgrader": {
          "cell_type": "code",
          "checksum": "1ffbb658fafa1a5838b5e1bbfb54a182",
          "grade": true,
          "grade_id": "cell-4268635d68b19bce",
          "locked": true,
          "points": 1,
          "schema_version": 3,
          "solution": false,
          "task": false
        }
      },
      "outputs": [],
      "source": [
        "# Проверка задания 7. Просто запустите ячейку.\n",
        "assert \"n_neighbors\" in param_grid"
      ]
    },
    {
      "cell_type": "code",
      "execution_count": 29,
      "metadata": {
        "deletable": false,
        "editable": false,
        "id": "d3A8Ywlxz9pT",
        "nbgrader": {
          "cell_type": "code",
          "checksum": "30e3a24f3e1c93103559e7f06c77ad43",
          "grade": false,
          "grade_id": "cell-be5a9d857eedfa57",
          "locked": true,
          "schema_version": 3,
          "solution": false,
          "task": false
        }
      },
      "outputs": [],
      "source": [
        "# создание экземпляра класса KNeighborsRegressor\n",
        "knn = KNeighborsRegressor()"
      ]
    },
    {
      "cell_type": "code",
      "execution_count": 30,
      "metadata": {
        "deletable": false,
        "id": "nUaR_qTSz9pT",
        "nbgrader": {
          "cell_type": "code",
          "checksum": "a4856957661267ce8e1b284e65ba316e",
          "grade": false,
          "grade_id": "cell-e4aa5dc12f532156",
          "locked": false,
          "schema_version": 3,
          "solution": true,
          "task": false
        }
      },
      "outputs": [],
      "source": [
        "\"\"\"\n",
        "Задание 8. Создайте экземпляр класса GridSearchCV для поиска оптимального значения 'n_neighbors'.\n",
        "Передайте в него три параметра:\n",
        "1. Экземпляр класса KNeighborsRegressor, который создан выше\n",
        "2. Словарь param_grid\n",
        "3. Параметр сv со значением 5 (Этот параметр отвечает за разбивку обучающей выборки на 5 частей\n",
        "    в рамках кросс-валидации)\n",
        "\n",
        "Пример: grid_search = GridSearchCV(regressor, parameters_grid, cv=10)\n",
        "\"\"\"\n",
        "# НАЧАЛО ВАШЕГО РЕШЕНИЯ\n",
        "grid_search = GridSearchCV(knn, param_grid, cv=5)\n",
        "# КОНЕЦ ВАШЕГО РЕШЕНИЯ"
      ]
    },
    {
      "cell_type": "code",
      "execution_count": 31,
      "metadata": {
        "deletable": false,
        "editable": false,
        "id": "5OVpGkDnz9pT",
        "nbgrader": {
          "cell_type": "code",
          "checksum": "e61451372d0e85caae65a8a25288f6ca",
          "grade": true,
          "grade_id": "cell-9db8fd5de1562fdc",
          "locked": true,
          "points": 1,
          "schema_version": 3,
          "solution": false,
          "task": false
        }
      },
      "outputs": [],
      "source": [
        "# Проверка задания 8. Просто запустите ячейку.\n",
        "grid_search_vars = vars(grid_search)\n",
        "assert grid_search_vars[\"cv\"] == 5"
      ]
    },
    {
      "cell_type": "code",
      "execution_count": 35,
      "metadata": {
        "deletable": false,
        "id": "dGyYjdoXz9pT",
        "nbgrader": {
          "cell_type": "code",
          "checksum": "a6bba0cab853abd3ccf583637271398d",
          "grade": false,
          "grade_id": "cell-68075b9903fe1096",
          "locked": false,
          "schema_version": 3,
          "solution": true,
          "task": false
        }
      },
      "outputs": [
        {
          "data": {
            "text/html": [
              "<style>#sk-container-id-2 {color: black;}#sk-container-id-2 pre{padding: 0;}#sk-container-id-2 div.sk-toggleable {background-color: white;}#sk-container-id-2 label.sk-toggleable__label {cursor: pointer;display: block;width: 100%;margin-bottom: 0;padding: 0.3em;box-sizing: border-box;text-align: center;}#sk-container-id-2 label.sk-toggleable__label-arrow:before {content: \"▸\";float: left;margin-right: 0.25em;color: #696969;}#sk-container-id-2 label.sk-toggleable__label-arrow:hover:before {color: black;}#sk-container-id-2 div.sk-estimator:hover label.sk-toggleable__label-arrow:before {color: black;}#sk-container-id-2 div.sk-toggleable__content {max-height: 0;max-width: 0;overflow: hidden;text-align: left;background-color: #f0f8ff;}#sk-container-id-2 div.sk-toggleable__content pre {margin: 0.2em;color: black;border-radius: 0.25em;background-color: #f0f8ff;}#sk-container-id-2 input.sk-toggleable__control:checked~div.sk-toggleable__content {max-height: 200px;max-width: 100%;overflow: auto;}#sk-container-id-2 input.sk-toggleable__control:checked~label.sk-toggleable__label-arrow:before {content: \"▾\";}#sk-container-id-2 div.sk-estimator input.sk-toggleable__control:checked~label.sk-toggleable__label {background-color: #d4ebff;}#sk-container-id-2 div.sk-label input.sk-toggleable__control:checked~label.sk-toggleable__label {background-color: #d4ebff;}#sk-container-id-2 input.sk-hidden--visually {border: 0;clip: rect(1px 1px 1px 1px);clip: rect(1px, 1px, 1px, 1px);height: 1px;margin: -1px;overflow: hidden;padding: 0;position: absolute;width: 1px;}#sk-container-id-2 div.sk-estimator {font-family: monospace;background-color: #f0f8ff;border: 1px dotted black;border-radius: 0.25em;box-sizing: border-box;margin-bottom: 0.5em;}#sk-container-id-2 div.sk-estimator:hover {background-color: #d4ebff;}#sk-container-id-2 div.sk-parallel-item::after {content: \"\";width: 100%;border-bottom: 1px solid gray;flex-grow: 1;}#sk-container-id-2 div.sk-label:hover label.sk-toggleable__label {background-color: #d4ebff;}#sk-container-id-2 div.sk-serial::before {content: \"\";position: absolute;border-left: 1px solid gray;box-sizing: border-box;top: 0;bottom: 0;left: 50%;z-index: 0;}#sk-container-id-2 div.sk-serial {display: flex;flex-direction: column;align-items: center;background-color: white;padding-right: 0.2em;padding-left: 0.2em;position: relative;}#sk-container-id-2 div.sk-item {position: relative;z-index: 1;}#sk-container-id-2 div.sk-parallel {display: flex;align-items: stretch;justify-content: center;background-color: white;position: relative;}#sk-container-id-2 div.sk-item::before, #sk-container-id-2 div.sk-parallel-item::before {content: \"\";position: absolute;border-left: 1px solid gray;box-sizing: border-box;top: 0;bottom: 0;left: 50%;z-index: -1;}#sk-container-id-2 div.sk-parallel-item {display: flex;flex-direction: column;z-index: 1;position: relative;background-color: white;}#sk-container-id-2 div.sk-parallel-item:first-child::after {align-self: flex-end;width: 50%;}#sk-container-id-2 div.sk-parallel-item:last-child::after {align-self: flex-start;width: 50%;}#sk-container-id-2 div.sk-parallel-item:only-child::after {width: 0;}#sk-container-id-2 div.sk-dashed-wrapped {border: 1px dashed gray;margin: 0 0.4em 0.5em 0.4em;box-sizing: border-box;padding-bottom: 0.4em;background-color: white;}#sk-container-id-2 div.sk-label label {font-family: monospace;font-weight: bold;display: inline-block;line-height: 1.2em;}#sk-container-id-2 div.sk-label-container {text-align: center;}#sk-container-id-2 div.sk-container {/* jupyter's `normalize.less` sets `[hidden] { display: none; }` but bootstrap.min.css set `[hidden] { display: none !important; }` so we also need the `!important` here to be able to override the default hidden behavior on the sphinx rendered scikit-learn.org. See: https://github.com/scikit-learn/scikit-learn/issues/21755 */display: inline-block !important;position: relative;}#sk-container-id-2 div.sk-text-repr-fallback {display: none;}</style><div id=\"sk-container-id-2\" class=\"sk-top-container\"><div class=\"sk-text-repr-fallback\"><pre>GridSearchCV(cv=5, estimator=KNeighborsRegressor(),\n",
              "             param_grid={&#x27;n_neighbors&#x27;: [1, 3, 5, 7, 9]})</pre><b>In a Jupyter environment, please rerun this cell to show the HTML representation or trust the notebook. <br />On GitHub, the HTML representation is unable to render, please try loading this page with nbviewer.org.</b></div><div class=\"sk-container\" hidden><div class=\"sk-item sk-dashed-wrapped\"><div class=\"sk-label-container\"><div class=\"sk-label sk-toggleable\"><input class=\"sk-toggleable__control sk-hidden--visually\" id=\"sk-estimator-id-4\" type=\"checkbox\" ><label for=\"sk-estimator-id-4\" class=\"sk-toggleable__label sk-toggleable__label-arrow\">GridSearchCV</label><div class=\"sk-toggleable__content\"><pre>GridSearchCV(cv=5, estimator=KNeighborsRegressor(),\n",
              "             param_grid={&#x27;n_neighbors&#x27;: [1, 3, 5, 7, 9]})</pre></div></div></div><div class=\"sk-parallel\"><div class=\"sk-parallel-item\"><div class=\"sk-item\"><div class=\"sk-label-container\"><div class=\"sk-label sk-toggleable\"><input class=\"sk-toggleable__control sk-hidden--visually\" id=\"sk-estimator-id-5\" type=\"checkbox\" ><label for=\"sk-estimator-id-5\" class=\"sk-toggleable__label sk-toggleable__label-arrow\">estimator: KNeighborsRegressor</label><div class=\"sk-toggleable__content\"><pre>KNeighborsRegressor()</pre></div></div></div><div class=\"sk-serial\"><div class=\"sk-item\"><div class=\"sk-estimator sk-toggleable\"><input class=\"sk-toggleable__control sk-hidden--visually\" id=\"sk-estimator-id-6\" type=\"checkbox\" ><label for=\"sk-estimator-id-6\" class=\"sk-toggleable__label sk-toggleable__label-arrow\">KNeighborsRegressor</label><div class=\"sk-toggleable__content\"><pre>KNeighborsRegressor()</pre></div></div></div></div></div></div></div></div></div></div>"
            ],
            "text/plain": [
              "GridSearchCV(cv=5, estimator=KNeighborsRegressor(),\n",
              "             param_grid={'n_neighbors': [1, 3, 5, 7, 9]})"
            ]
          },
          "execution_count": 35,
          "metadata": {},
          "output_type": "execute_result"
        }
      ],
      "source": [
        "\"\"\"\n",
        "Задание 9. Запустите обучение grid_search, передав в метод grid_search.fit()\n",
        "ОБУЧАЮЩИЕ данные и целевые переменные\n",
        "Пример: regressor.fit(X, y)\n",
        "\"\"\"\n",
        "# НАЧАЛО ВАШЕГО РЕШЕНИЯ\n",
        "grid_search.fit(X_train, y_train)\n",
        "# КОНЕЦ ВАШЕГО РЕШЕНИЯ"
      ]
    },
    {
      "cell_type": "code",
      "execution_count": 36,
      "metadata": {
        "deletable": false,
        "editable": false,
        "id": "ribX95avz9pT",
        "nbgrader": {
          "cell_type": "code",
          "checksum": "45396ac9acd88b47d34b181065ceba93",
          "grade": true,
          "grade_id": "cell-0622f458ef5f8199",
          "locked": true,
          "points": 1,
          "schema_version": 3,
          "solution": false,
          "task": false
        }
      },
      "outputs": [
        {
          "name": "stdout",
          "output_type": "stream",
          "text": [
            "Оптимальное значение K: 9\n"
          ]
        }
      ],
      "source": [
        "# Проверка задания 9. Просто запустите ячейку.\n",
        "assert hasattr(grid_search, \"best_params_\")\n",
        "# вывод оптимального значения параметра K\n",
        "print(\"Оптимальное значение K:\", grid_search.best_params_[\"n_neighbors\"])"
      ]
    },
    {
      "cell_type": "code",
      "execution_count": 37,
      "metadata": {
        "deletable": false,
        "editable": false,
        "id": "wdPPZ7Qyz9pT",
        "nbgrader": {
          "cell_type": "code",
          "checksum": "7e9b681b12301dbfd6503cd17de09d32",
          "grade": false,
          "grade_id": "cell-8a2604fd9368c665",
          "locked": true,
          "schema_version": 3,
          "solution": false,
          "task": false
        }
      },
      "outputs": [],
      "source": [
        "# Прогнозирование на тестовой выборке осуществляется с использованием оптимального значения K.\n",
        "y_pred = grid_search.predict(X_test)"
      ]
    },
    {
      "cell_type": "code",
      "execution_count": 38,
      "metadata": {
        "deletable": false,
        "id": "rC98oscWz9pT",
        "nbgrader": {
          "cell_type": "code",
          "checksum": "554122dc989d0368ff302a45d68c2cad",
          "grade": false,
          "grade_id": "cell-ee4e81176d9bc82c",
          "locked": false,
          "schema_version": 3,
          "solution": true,
          "task": false
        }
      },
      "outputs": [],
      "source": [
        "\"\"\"\n",
        "Задание 10. Осуществите вычисление mean_absolute_error и mean_squared_error на ТЕСТОВЫХ данных\n",
        "Ответ запишите в переменные mae и mse\n",
        "Пример:\n",
        "mae = mean_absolute_error(y, pred)\n",
        "mse = mean_squared_error(y, pred)\n",
        "\"\"\"\n",
        "# НАЧАЛО ВАШЕГО РЕШЕНИЯ\n",
        "mae = mean_absolute_error(y_test, y_pred)\n",
        "mse = mean_squared_error(y_test, y_pred)\n",
        "# КОНЕЦ ВАШЕГО РЕШЕНИЯ"
      ]
    },
    {
      "cell_type": "code",
      "execution_count": 39,
      "metadata": {
        "deletable": false,
        "editable": false,
        "id": "fiNusanZz9pU",
        "nbgrader": {
          "cell_type": "code",
          "checksum": "2d2f6d063a763a7ee1538d3fa0f1958c",
          "grade": true,
          "grade_id": "cell-69b53c4c0bc12250",
          "locked": true,
          "points": 1,
          "schema_version": 3,
          "solution": false,
          "task": false
        }
      },
      "outputs": [
        {
          "name": "stdout",
          "output_type": "stream",
          "text": [
            "MAE: 75819.99536765185\n",
            "MSE: 9433490759.921362\n"
          ]
        }
      ],
      "source": [
        "# Проверка задания 10. Просто запустите ячейку.\n",
        "assert int(mae) == 75819, \"величина mae не совпадает с величиной из теста\"\n",
        "print(\"MAE:\", mae)\n",
        "print(\"MSE:\", mse)"
      ]
    }
  ],
  "metadata": {
    "colab": {
      "provenance": []
    },
    "kernelspec": {
      "display_name": "Python 3 (ipykernel)",
      "language": "python",
      "name": "python3"
    },
    "language_info": {
      "codemirror_mode": {
        "name": "ipython",
        "version": 3
      },
      "file_extension": ".py",
      "mimetype": "text/x-python",
      "name": "python",
      "nbconvert_exporter": "python",
      "pygments_lexer": "ipython3",
      "version": "3.10.12"
    }
  },
  "nbformat": 4,
  "nbformat_minor": 0
}
