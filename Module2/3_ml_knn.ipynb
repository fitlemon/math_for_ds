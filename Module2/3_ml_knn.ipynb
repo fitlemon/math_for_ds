{
 "cells": [
  {
   "cell_type": "markdown",
   "metadata": {},
   "source": [
    "Цель занятия — научиться применять алгоритм kNN для решения задач регрессии и классификации на подготовленных и неподготовленных данных."
   ]
  },
  {
   "cell_type": "markdown",
   "metadata": {},
   "source": [
    "## Визуальная демонстрация алгоритма"
   ]
  },
  {
   "cell_type": "markdown",
   "metadata": {},
   "source": [
    "Визуальная демонстрация алгоритма представлена на последовательности из четырёх шагов:"
   ]
  },
  {
   "cell_type": "markdown",
   "metadata": {},
   "source": [
    "<img src='../static/img/module_2_16.png' style=\"width: 800px;\">"
   ]
  },
  {
   "cell_type": "markdown",
   "metadata": {},
   "source": [
    "<img src='../static/img/module_2_17.png' style=\"width: 800px;\">"
   ]
  },
  {
   "cell_type": "markdown",
   "metadata": {},
   "source": [
    "## Описание алгоритма"
   ]
  },
  {
   "cell_type": "markdown",
   "metadata": {},
   "source": [
    "<div style=\"background-color: #e0fff3; padding: 15px; color: black; width: 80%;\"><b>Метод ближайших соседей</b> (англ. kNN, k-Nearest Neighbors) — это алгоритм машинного обучения для классификации и регрессии. Он относится к методам обучения с учителем. Это означает, что для обучения необходимы данные с известными метками классов или целевыми значениями.</div>"
   ]
  },
  {
   "cell_type": "markdown",
   "metadata": {},
   "source": [
    "Псевдокод алгоритма kNN для классификации:"
   ]
  },
  {
   "cell_type": "markdown",
   "metadata": {},
   "source": [
    "<img src='../static/img/module_2_18.png' style=\"width: 800px;\">"
   ]
  },
  {
   "cell_type": "markdown",
   "metadata": {},
   "source": [
    "В случае регрессии вместо подсчёта количества соседей из того или иного класса происходит присваивание объекту, для которого необходимо сделать предсказание, среднего значения по k его ближайших соседей.\n",
    "\n",
    "Алгоритм k-ближайших соседей (kNN) — это простой алгоритм машинного обучения, у которого немного параметров обучения. Главный параметр — <b>число соседей (k)</b>, которое необходимо выбрать для каждого объекта, чтобы выполнить классификацию или регрессию.\n",
    "\n",
    "Выбор числа соседей k — важный шаг в использовании алгоритма kNN.\n",
    "\n",
    "- Если выбрать слишком маленькое значение k, то модель будет слишком чувствительной к выбросам и шуму, что может привести к переобучению.\n",
    "- Если выбрать слишком большое значение k, то модель может потерять способность к выделению малозначимых признаков и к различению классов.\n",
    "\n",
    "Другие параметры, которые можно учитывать для алгоритма kNN, включают в себя:\n",
    "\n",
    "- <b>меру расстояния</b> — например, евклидово расстояние, расстояние Минковского, косинусное расстояние;\n",
    "- <b>веса для каждого соседа</b> — например, обратная пропорциональность расстояния до соседа.\n"
   ]
  },
  {
   "cell_type": "markdown",
   "metadata": {},
   "source": [
    "<div style=\"border: 1px solid white; padding: 5px; margin-right: auto;  width: 80%;\">Важно отметить, что параметры меры расстояния и веса соседей могут сильно влиять на качество модели и при их выборе нужно исходить из особенностей конкретной задачи. Как правило, оптимальные значения этих параметров подбираются методом кросс-валидации на обучающем наборе данных.</div>"
   ]
  },
  {
   "cell_type": "markdown",
   "metadata": {},
   "source": [
    "## Подготовка данных для алгоритма"
   ]
  },
  {
   "cell_type": "markdown",
   "metadata": {},
   "source": [
    "Перед применением алгоритма kNN необходимо выполнить следующие шаги по подготовке данных:\n",
    "\n",
    "- <b>Очистка данных</b> — удаление неполных или некорректных записей, заполнение пропущенных значений и преобразование данных в формат, подходящий для анализа.\n",
    "- <b>Нормализация данных</b> — приведение данных к общему масштабу, чтобы у каждого признака был одинаковый вклад в анализ.\n",
    "- <b>Разбиение данных на обучающую и тестовую выборки</b>. Обучающая выборка используется для обучения модели, а тестовая — для оценки её точности.\n",
    "- <b>Выбор метрики расстояния</b> для определения ближайших соседей.\n",
    "- <b>Определение параметра k</b>. Выбор оптимального значения параметра k (количество ближайших соседей), который даёт наилучшие результаты для конкретной задачи, с помощью алгоритмов перебора.\n"
   ]
  },
  {
   "cell_type": "markdown",
   "metadata": {},
   "source": [
    "## Оценка качества алгоритма"
   ]
  },
  {
   "cell_type": "markdown",
   "metadata": {},
   "source": [
    "Чтобы оценить точность алгоритма kNN в задачах классификации и регрессии, часто используют следующие метрики.\n",
    "\n",
    "Для задач классификации:\n",
    "\n",
    "- <b>Accuracy</b> — доля правильно классифицированных объектов.\n",
    "- <b>Precision (точность)</b> — доля объектов, классифицированных как положительные и действительно являющихся положительными.\n",
    "- <b>Recall (полнота)</b> — доля положительных объектов, правильно классифицированных алгоритмом.\n",
    "- <b>F1-мера</b> — среднее гармоническое между precision и recall.\n",
    "\n",
    "Для задач регрессии:\n",
    "\n",
    "- <b>Mean Absolute Error (MAE)</b> — средняя абсолютная ошибка между прогнозами и истинными значениями.\n",
    "- <b>Mean Squared Error (MSE)</b> — среднеквадратичная ошибка между прогнозами и истинными значениями.\n"
   ]
  },
  {
   "cell_type": "markdown",
   "metadata": {},
   "source": [
    "## Модификации алгоритма"
   ]
  },
  {
   "cell_type": "markdown",
   "metadata": {},
   "source": [
    "<div style=\"background-color: #f5f5f5; padding: 15px; color: black; width: 80%;\">Существует несколько модификаций алгоритма k-ближайших соседей (kNN). Они приведены здесь для ознакомления, поскольку на практике их используют нечасто.</div>"
   ]
  },
  {
   "cell_type": "markdown",
   "metadata": {},
   "source": [
    "### Взвешенный kNN (weighted kNN)\n",
    "\n",
    "Каждый сосед получает вес, зависящий от расстояния до целевого объекта. Чем ближе сосед, тем больший вес он получает. Это позволяет учесть вклад каждого соседа в классификацию или регрессию и улучшает точность модели."
   ]
  },
  {
   "cell_type": "markdown",
   "metadata": {},
   "source": [
    "### kNN с переменным числом соседей (variable kNN)\n",
    "\n",
    "Число соседей для каждого объекта может быть разным. Например, для объектов, находящихся в области с большой плотностью точек, можно выбирать большее число соседей, а для объектов в области с малой плотностью — меньшее число соседей. Это позволяет лучше адаптировать модель к особенностям данных."
   ]
  },
  {
   "cell_type": "markdown",
   "metadata": {},
   "source": [
    "### kNN с оптимизацией расстояния (distance-optimized kNN)\n",
    "\n",
    "В этой модификации используют не единственную меру расстояния, а оптимизированную комбинацию нескольких мер. Это может улучшить точность классификации или регрессии в задачах с нелинейными зависимостями между признаками."
   ]
  },
  {
   "cell_type": "markdown",
   "metadata": {},
   "source": [
    "### Многоуровневый kNN (англ. multi-level kNN)\n",
    "\n",
    "В этой модификации используют несколько моделей kNN на разных уровнях анализа данных. Например, для текстовых данных можно использовать первый уровень kNN для выбора близких по смыслу документов, а затем второй уровень kNN для классификации на основе дополнительных признаков."
   ]
  },
  {
   "cell_type": "markdown",
   "metadata": {},
   "source": [
    "### kNN на основе графов (англ. graph-based kNN)\n",
    "\n",
    "Объекты представляются в виде вершин графа, а соседство между объектами определяется на основе связей в графе. Это позволяет учитывать не только расстояние между объектами, но и их близость в структуре данных."
   ]
  },
  {
   "cell_type": "markdown",
   "metadata": {},
   "source": [
    "Каждая из этих модификаций kNN может быть полезной в определённых задачах машинного обучения, и выбор модификации должен основываться на особенностях данных и конкретной задаче."
   ]
  },
  {
   "cell_type": "markdown",
   "metadata": {},
   "source": [
    "## Область применения алгоритма"
   ]
  },
  {
   "cell_type": "markdown",
   "metadata": {},
   "source": [
    "Область применения алгоритма kNN включает в себя многие задачи машинного обучения:\n",
    "\n",
    "- <b>Обработка табличных данных.</b>\n",
    "- <b>Классификация текстов по их содержанию</b>. Например, классификация новостей на категории.\n",
    "- <b>Обработка изображений на основе их содержания.</b> Например, классификация изображений по типу объекта на фотографии (человек, автомобиль, животное и т. д.).\n",
    "- <b>Медицинская диагностика на основе симптомов и медицинских показателей</b>. Например, классификация пациентов на основе их медицинской истории.\n",
    "- <b>Анализ финансовых данных</b> и прогнозирование цен на акции, валюту и другие финансовые инструменты.\n",
    "\n",
    "Алгоритм kNN можно применять и во многих других областях, где требуется классификация или регрессия на основе признаков объектов."
   ]
  },
  {
   "cell_type": "markdown",
   "metadata": {},
   "source": [
    "😃 \n",
    "- Простота реализации и понимания. Это один из самых простых алгоритмов машинного обучения.\n",
    "- Можно использовать как для задач классификации, так и для задач регрессии.\n",
    "- Гибкость в выборе метрики расстояния и числа соседей.\n"
   ]
  },
  {
   "cell_type": "markdown",
   "metadata": {},
   "source": [
    "😟 \n",
    "- Низкая эффективность на больших выборках и большое время выполнения.\n",
    "- Чувствительность к выбросам и шуму в данных.\n",
    "- Требует хранения всего набора данных в памяти, что может быть проблематично для больших датасетов.\n",
    "- Трудности с выбором оптимального числа соседей, которые влияют на качество предсказаний.\n"
   ]
  },
  {
   "cell_type": "markdown",
   "metadata": {},
   "source": [
    "<div style=\"background-color: #f5f5f5; padding: 15px; color: black; width: 80%;\">В целом, логика алгоритма kNN проста и интуитивно понятна, но его эффективность может быть низкой в случае больших выборок и шумных данных.</div>"
   ]
  },
  {
   "cell_type": "markdown",
   "metadata": {},
   "source": [
    "# Реализация алгоритма kNN в Python"
   ]
  },
  {
   "cell_type": "markdown",
   "metadata": {},
   "source": [
    "В модуле neighbors библиотеки scikit-learn реализованы классы KNeighborsClassifier и KNeighborsRegressor для классификации и регрессии соответственно.\n",
    "\n",
    "Класс KNeighborsClassifier имеет следующие параметры:\n",
    "\n",
    "- n_neighbors — количество соседей, используемых для классификации объекта. По умолчанию равно 5.\n",
    "- weights — весовая функция для определения влияния каждого соседа. По умолчанию все соседи имеют равный вес.\n",
    "- algorithm — алгоритм для вычисления ближайших соседей. Возможные значения: auto, ball_tree, kd_tree, brute. По умолчанию используется auto, который выбирает наиболее подходящий алгоритм на основе обучающих данных.\n",
    "- leaf_size — размер листа дерева при использовании алгоритмов ball_tree или kd_tree. По умолчанию равен 30.\n",
    "- p — параметр для расчёта расстояния между объектами. По умолчанию равен 2 (евклидово расстояние).\n",
    "metric — метрика для измерения расстояния между объектами. По умолчанию используется minkowski.\n",
    "\n",
    "Класс KNeighborsRegressor имеет те же параметры, что и KNeighborsClassifier, за исключением параметра weights, который по умолчанию установлен в uniform.\n",
    "\n",
    "У обоих классов есть метод fit(X, y) для обучения модели на данных X и y, а также методы predict(X) и predict_proba(X) (для KNeighborsClassifier) для предсказания меток и вероятностей соответственно.\n",
    "\n",
    "Кроме того, у KNeighborsRegressor есть методы score(X, y) и kneighbors(X), которые возвращают коэффициент детерминации (R-квадрат) и индексы ближайших соседей для каждого объекта в X соответственно."
   ]
  },
  {
   "cell_type": "markdown",
   "id": "223e1ebe",
   "metadata": {},
   "source": [
    "# Цель занятия\n",
    "На этом занятии мы рассмотрим применение алгоритма KNN для решения задач регрессии и классификации с подбором параметра K."
   ]
  },
  {
   "cell_type": "markdown",
   "id": "dd02d985",
   "metadata": {},
   "source": [
    "## Регрессия\n",
    "\n",
    "Для примера регрессии с K-ближайших соседей (KNN) с подбором количества ближайших соседей (K) в библиотеке scikit-learn мы можем использовать набор данных по ценам на недвижимость в Бостоне. Мы будем использовать модуль GridSearchCV для выбора оптимального значения параметра K.\n",
    "\n",
    "Boston dataset - это набор данных, содержащий информацию о недвижимости в городе Бостон, штат Массачусетс, США. Датасет состоит из 506 строк и 14 столбцов.\n",
    "\n",
    "Каждая строка представляет собой информацию об одном районе Бостона, а каждый столбец - это различные характеристики этого района. Вот описание каждого столбца:\n",
    "\n",
    "- CRIM: Уровень преступности на душу населения в районе\n",
    "- ZN: Доля земельных участков для жилой застройки площадью более 25 000 кв. футов\n",
    "- INDUS: Доля площадей, занятых не жилой застройкой в районе\n",
    "- CHAS: Фиктивная переменная (1, если участок граничит с рекой, иначе 0)\n",
    "- NOX: Концентрация оксидов азота (частей на 10 миллионов)\n",
    "- RM: Среднее количество комнат в доме\n",
    "- AGE: Доля занимаемых владельцами жилья единиц, построенных до 1940 года\n",
    "- DIS: Взвешенное расстояние до пяти бостонских центров занятости\n",
    "- RAD: Индекс доступности радиальных магистралей\n",
    "- TAX: Ставка налога на имущество за 10 000 долларов США\n",
    "- PTRATIO: Соотношение учеников и учителей в районе\n",
    "- B: 1000 * (доля афроамериканцев в районе)\n",
    "- LSTAT: Доля населения с более низким социальным статусом\n",
    "- TARGET: Средняя стоимость занимаемых владельцами жилья единиц в 1000 долларов США"
   ]
  },
  {
   "cell_type": "code",
   "execution_count": 2,
   "id": "0dc14ab7",
   "metadata": {},
   "outputs": [],
   "source": [
    "# Необходимые библиотеки\n",
    "import numpy as np\n",
    "import pandas as pd\n",
    "import seaborn as sns\n",
    "\n",
    "from sklearn.preprocessing import StandardScaler\n",
    "from sklearn.neighbors import KNeighborsRegressor\n",
    "from sklearn import model_selection as model_selection\n",
    "from sklearn.metrics import mean_squared_error"
   ]
  },
  {
   "cell_type": "code",
   "execution_count": 4,
   "id": "09fcdaa5",
   "metadata": {},
   "outputs": [],
   "source": [
    "# Загрузка датасета: Для начала загрузим датасет в Pandas DataFrame.\n",
    "# Добавим имена столбцов (column_names)\n",
    "column_names = [\n",
    "    \"CRIM\",\n",
    "    \"ZN\",\n",
    "    \"INDUS\",\n",
    "    \"CHAS\",\n",
    "    \"NOX\",\n",
    "    \"RM\",\n",
    "    \"AGE\",\n",
    "    \"DIS\",\n",
    "    \"RAD\",\n",
    "    \"TAX\",\n",
    "    \"PTRATIO\",\n",
    "    \"B\",\n",
    "    \"LSTAT\",\n",
    "    \"TARGET\",\n",
    "]\n",
    "df = pd.read_csv(\n",
    "    \"data/lecture_02_code_labs_03_knn.csv\",\n",
    "    header=None,\n",
    "    delimiter=r\"\\s+\",\n",
    "    names=column_names,\n",
    ")"
   ]
  },
  {
   "cell_type": "code",
   "execution_count": 6,
   "id": "6195d602",
   "metadata": {},
   "outputs": [
    {
     "data": {
      "text/html": [
       "<div>\n",
       "<style scoped>\n",
       "    .dataframe tbody tr th:only-of-type {\n",
       "        vertical-align: middle;\n",
       "    }\n",
       "\n",
       "    .dataframe tbody tr th {\n",
       "        vertical-align: top;\n",
       "    }\n",
       "\n",
       "    .dataframe thead th {\n",
       "        text-align: right;\n",
       "    }\n",
       "</style>\n",
       "<table border=\"1\" class=\"dataframe\">\n",
       "  <thead>\n",
       "    <tr style=\"text-align: right;\">\n",
       "      <th></th>\n",
       "      <th>CRIM</th>\n",
       "      <th>ZN</th>\n",
       "      <th>INDUS</th>\n",
       "      <th>CHAS</th>\n",
       "      <th>NOX</th>\n",
       "      <th>RM</th>\n",
       "      <th>AGE</th>\n",
       "      <th>DIS</th>\n",
       "      <th>RAD</th>\n",
       "      <th>TAX</th>\n",
       "      <th>PTRATIO</th>\n",
       "      <th>B</th>\n",
       "      <th>LSTAT</th>\n",
       "      <th>TARGET</th>\n",
       "    </tr>\n",
       "  </thead>\n",
       "  <tbody>\n",
       "    <tr>\n",
       "      <th>0</th>\n",
       "      <td>0.00632</td>\n",
       "      <td>18.0</td>\n",
       "      <td>2.31</td>\n",
       "      <td>0</td>\n",
       "      <td>0.538</td>\n",
       "      <td>6.575</td>\n",
       "      <td>65.2</td>\n",
       "      <td>4.0900</td>\n",
       "      <td>1</td>\n",
       "      <td>296.0</td>\n",
       "      <td>15.3</td>\n",
       "      <td>396.90</td>\n",
       "      <td>4.98</td>\n",
       "      <td>24.0</td>\n",
       "    </tr>\n",
       "    <tr>\n",
       "      <th>1</th>\n",
       "      <td>0.02731</td>\n",
       "      <td>0.0</td>\n",
       "      <td>7.07</td>\n",
       "      <td>0</td>\n",
       "      <td>0.469</td>\n",
       "      <td>6.421</td>\n",
       "      <td>78.9</td>\n",
       "      <td>4.9671</td>\n",
       "      <td>2</td>\n",
       "      <td>242.0</td>\n",
       "      <td>17.8</td>\n",
       "      <td>396.90</td>\n",
       "      <td>9.14</td>\n",
       "      <td>21.6</td>\n",
       "    </tr>\n",
       "    <tr>\n",
       "      <th>2</th>\n",
       "      <td>0.02729</td>\n",
       "      <td>0.0</td>\n",
       "      <td>7.07</td>\n",
       "      <td>0</td>\n",
       "      <td>0.469</td>\n",
       "      <td>7.185</td>\n",
       "      <td>61.1</td>\n",
       "      <td>4.9671</td>\n",
       "      <td>2</td>\n",
       "      <td>242.0</td>\n",
       "      <td>17.8</td>\n",
       "      <td>392.83</td>\n",
       "      <td>4.03</td>\n",
       "      <td>34.7</td>\n",
       "    </tr>\n",
       "    <tr>\n",
       "      <th>3</th>\n",
       "      <td>0.03237</td>\n",
       "      <td>0.0</td>\n",
       "      <td>2.18</td>\n",
       "      <td>0</td>\n",
       "      <td>0.458</td>\n",
       "      <td>6.998</td>\n",
       "      <td>45.8</td>\n",
       "      <td>6.0622</td>\n",
       "      <td>3</td>\n",
       "      <td>222.0</td>\n",
       "      <td>18.7</td>\n",
       "      <td>394.63</td>\n",
       "      <td>2.94</td>\n",
       "      <td>33.4</td>\n",
       "    </tr>\n",
       "    <tr>\n",
       "      <th>4</th>\n",
       "      <td>0.06905</td>\n",
       "      <td>0.0</td>\n",
       "      <td>2.18</td>\n",
       "      <td>0</td>\n",
       "      <td>0.458</td>\n",
       "      <td>7.147</td>\n",
       "      <td>54.2</td>\n",
       "      <td>6.0622</td>\n",
       "      <td>3</td>\n",
       "      <td>222.0</td>\n",
       "      <td>18.7</td>\n",
       "      <td>396.90</td>\n",
       "      <td>5.33</td>\n",
       "      <td>36.2</td>\n",
       "    </tr>\n",
       "  </tbody>\n",
       "</table>\n",
       "</div>"
      ],
      "text/plain": [
       "      CRIM    ZN  INDUS  CHAS    NOX     RM   AGE     DIS  RAD    TAX  \\\n",
       "0  0.00632  18.0   2.31     0  0.538  6.575  65.2  4.0900    1  296.0   \n",
       "1  0.02731   0.0   7.07     0  0.469  6.421  78.9  4.9671    2  242.0   \n",
       "2  0.02729   0.0   7.07     0  0.469  7.185  61.1  4.9671    2  242.0   \n",
       "3  0.03237   0.0   2.18     0  0.458  6.998  45.8  6.0622    3  222.0   \n",
       "4  0.06905   0.0   2.18     0  0.458  7.147  54.2  6.0622    3  222.0   \n",
       "\n",
       "   PTRATIO       B  LSTAT  TARGET  \n",
       "0     15.3  396.90   4.98    24.0  \n",
       "1     17.8  396.90   9.14    21.6  \n",
       "2     17.8  392.83   4.03    34.7  \n",
       "3     18.7  394.63   2.94    33.4  \n",
       "4     18.7  396.90   5.33    36.2  "
      ]
     },
     "execution_count": 6,
     "metadata": {},
     "output_type": "execute_result"
    }
   ],
   "source": [
    "# Давайте проверим первые 5 строк датасета, чтобы убедиться, что загрузка прошла успешно.\n",
    "df.head()"
   ]
  },
  {
   "cell_type": "code",
   "execution_count": 7,
   "id": "78be9fa2",
   "metadata": {},
   "outputs": [
    {
     "data": {
      "text/plain": [
       "CRIM       0\n",
       "ZN         0\n",
       "INDUS      0\n",
       "CHAS       0\n",
       "NOX        0\n",
       "RM         0\n",
       "AGE        0\n",
       "DIS        0\n",
       "RAD        0\n",
       "TAX        0\n",
       "PTRATIO    0\n",
       "B          0\n",
       "LSTAT      0\n",
       "TARGET     0\n",
       "dtype: int64"
      ]
     },
     "execution_count": 7,
     "metadata": {},
     "output_type": "execute_result"
    }
   ],
   "source": [
    "# Очистка данных: Проверим наличие пропущенных значений в датасете.\n",
    "# Если найдены пропущенные значения, то их можно удалить или заполнить средним, медианой или модой столбца.\n",
    "# В нашем случае пропущенных данных нет\n",
    "df.isnull().sum()"
   ]
  },
  {
   "cell_type": "markdown",
   "id": "79600dbe",
   "metadata": {},
   "source": [
    "Визуализация данных: Используем библиотеку seaborn (sns) для визуализации данных. Например, построим scatter plot между двумя столбцами."
   ]
  },
  {
   "cell_type": "code",
   "execution_count": 8,
   "id": "f72d9c7a",
   "metadata": {},
   "outputs": [
    {
     "data": {
      "text/plain": [
       "<Axes: xlabel='RM', ylabel='TARGET'>"
      ]
     },
     "execution_count": 8,
     "metadata": {},
     "output_type": "execute_result"
    },
    {
     "data": {
      "image/png": "[encoded data removed]",
      "text/plain": [
       "<Figure size 640x480 with 1 Axes>"
      ]
     },
     "metadata": {},
     "output_type": "display_data"
    }
   ],
   "source": [
    "sns.scatterplot(x=\"RM\", y=\"TARGET\", data=df)"
   ]
  },
  {
   "cell_type": "markdown",
   "id": "5c49ee8d",
   "metadata": {},
   "source": [
    "Предобработка данных: Для того, чтобы подготовить данные для обучения модели машинного обучения, их необходимо обработать. Например, мы можем нормализовать данные используя StandardScaler из библиотеки scikit-learn."
   ]
  },
  {
   "cell_type": "code",
   "execution_count": 9,
   "id": "1792db6c",
   "metadata": {},
   "outputs": [],
   "source": [
    "scaler = StandardScaler()\n",
    "df = pd.DataFrame(scaler.fit_transform(df), columns=df.columns)"
   ]
  },
  {
   "cell_type": "markdown",
   "id": "e9b75e1d",
   "metadata": {},
   "source": [
    "В библиотеке scikit-learn есть класс KNeighborsRegressor для решения задач регрессии с помощью алгоритма k-NN. Для подбора значения k можно использовать класс GridSearchCV."
   ]
  },
  {
   "cell_type": "code",
   "execution_count": 10,
   "id": "e3573012",
   "metadata": {},
   "outputs": [
    {
     "name": "stdout",
     "output_type": "stream",
     "text": [
      "MSE для k = 2: 0.19155142493992836\n"
     ]
    }
   ],
   "source": [
    "# Разделение на признаки и метки\n",
    "y = df[\"TARGET\"]\n",
    "X = df.drop([\"TARGET\"], axis=1)\n",
    "\n",
    "# Разделение на тренировочный и тестовый наборы\n",
    "X_train, X_test, y_train, y_test = model_selection.train_test_split(\n",
    "    X, y, test_size=0.2, random_state=42\n",
    ")\n",
    "\n",
    "# Определение значений параметров для подбора\n",
    "param_grid = {\"n_neighbors\": range(1, 20)}\n",
    "\n",
    "# Создание модели k-NN\n",
    "knn = KNeighborsRegressor(metric=\"minkowski\", p=2)\n",
    "\n",
    "# Создание объекта GridSearchCV для подбора параметра k\n",
    "grid = model_selection.GridSearchCV(knn, param_grid, cv=5)\n",
    "\n",
    "# Обучение модели на тренировочных данных\n",
    "grid.fit(X_train, y_train)\n",
    "\n",
    "# Определение лучшего значения k\n",
    "best_k = grid.best_params_[\"n_neighbors\"]\n",
    "\n",
    "# Прогнозирование целевых меток на тестовых данных\n",
    "y_pred = grid.predict(X_test)\n",
    "\n",
    "# Вычисление MSE\n",
    "mse = mean_squared_error(y_test, y_pred)\n",
    "print(f\"MSE для k = {best_k}: {mse}\")"
   ]
  },
  {
   "cell_type": "markdown",
   "id": "144a72e3",
   "metadata": {},
   "source": [
    "## Классификация\n",
    "\n",
    "Классификация с использованием метода ближайших соседей (k-Nearest Neighbors, KNN) является одним из простых и популярных методов машинного обучения. \n",
    "\n",
    "Пример использования KNN с подбором параметра k с помощью GridSearchCV в библиотеке scikit-learn представлен ниже. \n",
    "В этом примере мы используем набор данных Iris для классификации трех видов ирисов на основе их длины и ширины лепестков и чашелистников. Мы разбиваем данные на обучающую и тестовую выборки, создаем объект KNeighborsClassifier, определяем диапазон значений параметра k, который нужно проверить, и инициализируем объект GridSearchCV для перебора параметров с использованием кросс-валидации. Затем мы обучаем модель на обучающей выборке с использованием GridSearchCV для поиска оптимального значения k и создаем новую модель KNN с оптимальным значением K. В качестве метрики используется accuracy."
   ]
  },
  {
   "cell_type": "code",
   "execution_count": 11,
   "id": "6e7f29a2",
   "metadata": {},
   "outputs": [
    {
     "name": "stdout",
     "output_type": "stream",
     "text": [
      "Оптимальное значение k: 11\n",
      "Точность предсказаний на тестовой выборке: 1.0\n"
     ]
    }
   ],
   "source": [
    "from sklearn.neighbors import KNeighborsClassifier\n",
    "from sklearn.datasets import load_iris\n",
    "from sklearn.metrics import accuracy_score\n",
    "\n",
    "# Загружаем набор данных Iris\n",
    "iris = load_iris()\n",
    "X = iris.data\n",
    "y = iris.target\n",
    "\n",
    "# Разбиваем данные на обучающую и тестовую выборки\n",
    "X_train, X_test, y_train, y_test = model_selection.train_test_split(\n",
    "    X, y, test_size=0.2, random_state=42\n",
    ")\n",
    "\n",
    "# Создаем модель KNN\n",
    "knn = KNeighborsClassifier()\n",
    "\n",
    "# Определяем диапазон значений параметра k, которые нужно проверить\n",
    "k_range = list(range(1, 31))\n",
    "\n",
    "# Определяем сетку параметров, которые нужно проверить\n",
    "param_grid = dict(n_neighbors=k_range)\n",
    "\n",
    "# Инициализируем объект GridSearchCV для перебора параметров с использованием кросс-валидации\n",
    "grid = model_selection.GridSearchCV(knn, param_grid, cv=10, scoring=\"accuracy\")\n",
    "\n",
    "# Обучаем модель на обучающей выборке с использованием GridSearchCV для поиска оптимального значения k\n",
    "grid.fit(X_train, y_train)\n",
    "\n",
    "# Получаем наилучшее значение k\n",
    "best_k = grid.best_params_[\"n_neighbors\"]\n",
    "\n",
    "# Создаем новую модель KNN с оптимальным значением k\n",
    "knn_best = KNeighborsClassifier(n_neighbors=best_k)\n",
    "\n",
    "# Обучаем модель на обучающей выборке с оптимальным значением k\n",
    "knn_best.fit(X_train, y_train)\n",
    "\n",
    "# Делаем предсказания на тестовой выборке\n",
    "y_pred = knn_best.predict(X_test)\n",
    "\n",
    "# Оцениваем точность предсказаний на тестовой выборке\n",
    "accuracy = accuracy_score(y_test, y_pred)\n",
    "\n",
    "print(\"Оптимальное значение k:\", best_k)\n",
    "print(\"Точность предсказаний на тестовой выборке:\", accuracy)"
   ]
  },
  {
   "cell_type": "markdown",
   "metadata": {},
   "source": [
    "<div style=\"border: 1px solid white; padding: 5px; margin-right: auto;  width: 80%;\">\n",
    "\n",
    "В этом юните мы рассмотрели k-Nearest Neighbors (kNN) — простой алгоритм машинного обучения, который используется для классификации и регрессии. Алгоритм определяет класс нового объекта или его значение, основываясь на k ближайших объектах из тренировочного набора данных.\n",
    "\n",
    "Параметр k — это количество ближайших объектов, которые используются для определения класса нового объекта. Чем больше k, тем более гладкой будет граница принятия решений, но при этом увеличивается шанс на ошибку из-за увеличения влияния объектов других классов.\n",
    "\n",
    "- Основные преимущества kNN — простота реализации и хорошее качество классификации для некоторых типов данных.\n",
    "- Недостатками алгоритма являются высокая вычислительная сложность и требование к наличию большого объёма данных для получения высокой точности классификации или регрессии.\n",
    "\n",
    "Также существуют модификации алгоритма (взвешенный kNN, kNN с использованием ядра), метрики расстояния и алгоритмы уменьшения размерности, которые могут помочь улучшить качество классификации и регрессии с помощью kNN.\n",
    "</div>"
   ]
  }
 ],
 "metadata": {
  "kernelspec": {
   "display_name": "Python 3 (ipykernel)",
   "language": "python",
   "name": "python3"
  },
  "language_info": {
   "codemirror_mode": {
    "name": "ipython",
    "version": 3
   },
   "file_extension": ".py",
   "mimetype": "text/x-python",
   "name": "python",
   "nbconvert_exporter": "python",
   "pygments_lexer": "ipython3",
   "version": "3.10.12"
  }
 },
 "nbformat": 4,
 "nbformat_minor": 5
}
