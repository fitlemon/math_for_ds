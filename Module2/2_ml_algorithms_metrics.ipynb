{
 "cells": [
  {
   "cell_type": "markdown",
   "metadata": {
    "tags": []
   },
   "source": [
    "# Цель занятия\n",
    "На этом занятии мы рассмотрим подробно метрики качества работы алгоритмов, работающих с задачами регрессии и классификации."
   ]
  },
  {
   "cell_type": "markdown",
   "metadata": {},
   "source": [
    "Метрики качества в машинном обучении нужны для оценки качества работы алгоритмов. Они позволяют сравнивать разные модели машинного обучения и выбирать наилучшую для конкретной задачи. Кроме того, метрики качества позволяют определить, насколько хорошо обученная модель справляется с поставленной перед ней задачей и насколько ее результаты достоверны.\n",
    "\n",
    "Например, метрики качества для задачи классификации позволяют определить, насколько точно модель предсказывает метки классов для тестовых данных. А метрики качества для задачи регрессии позволяют определить, насколько близко предсказанные значения к истинным.\n",
    "\n",
    "Метрики качества могут быть использованы для выбора оптимального набора гиперпараметров модели,  для настройки ее параметров, а также для сравнения разных алгоритмов машинного обучения и выбора наилучшего из них."
   ]
  },
  {
   "cell_type": "markdown",
   "metadata": {
    "tags": []
   },
   "source": [
    "# Используемые библиотеки"
   ]
  },
  {
   "cell_type": "markdown",
   "metadata": {},
   "source": [
    "**Scikit-learn (также известный как sklearn)** - это библиотека машинного обучения на языке Python, которая предоставляет широкий спектр инструментов для решения задач классификации, регрессии, кластеризации, снижения размерности, выбора моделей и многих других. Библиотека основана на библиотеках NumPy, SciPy и matplotlib и имеет простой и интуитивно понятный интерфейс, что делает ее доступной для использования как для начинающих, так и для продвинутых пользователей."
   ]
  },
  {
   "cell_type": "code",
   "execution_count": 1,
   "metadata": {
    "code_folding": [],
    "id": "R5VGCAYhEn6q"
   },
   "outputs": [],
   "source": [
    "# Импорт библиотек и необходимых функций\n",
    "import numpy as np\n",
    "\n",
    "np.random.seed(1)\n",
    "import sklearn.metrics as metrics"
   ]
  },
  {
   "cell_type": "markdown",
   "metadata": {},
   "source": [
    "# Метрики качества регрессии\n",
    "\n",
    "Метрики качества регрессии - это числовые характеристики, которые используются для оценки того, насколько хорошо модель регрессии соответствует данным. Ниже приведены некоторые из наиболее распространенных метрик качества регрессии с примерами."
   ]
  },
  {
   "cell_type": "code",
   "execution_count": 2,
   "metadata": {},
   "outputs": [],
   "source": [
    "# генерируем 100 случайных значений в диапазоне 0 - 1 для \"реальных\" значений\n",
    "y_test_reg = np.random.rand(100)\n",
    "\n",
    "# генерируем 100 случайных значений в диапазоне 0 - 1 для \"предсказанных\" значений\n",
    "y_pred_reg = np.random.rand(100)"
   ]
  },
  {
   "cell_type": "markdown",
   "metadata": {
    "id": "h93nb1trtwhu"
   },
   "source": [
    "**Среднеквадратичная ошибка (MSE)** - это среднее значение квадратов разностей между прогнозируемыми значениями и фактическими значениями.\n",
    "Формула для средней квадратичной ошибки (MSE) выглядит следующим образом:\n",
    "\n",
    "$\\mathrm{MSE} = \\frac{1}{n}\\sum_{i=1}^{n}\\left(y_i - \\hat{y}_i\\right)^2$\n",
    "\n",
    "где $n$ - количество примеров в выборке, $y_i$ - истинное значение для $i$-го примера, а $\\hat{y}_i$ - предсказанное значение для $i$-го примера. В данной формуле $(y_i - \\hat{y}_i)^2$ обозначает квадрат разности между истинным и предсказанным значением.\n",
    "MSE особенно часто используется, когда существует линейная зависимость между признаками и целевой переменной. Это происходит, когда мы имеем дело с непрерывными переменными, такими как цена на недвижимость или доход.\n",
    "\n",
    "Оценим качество прогнозов с помощью mean_squared_error из sklearn.metrics."
   ]
  },
  {
   "cell_type": "code",
   "execution_count": 3,
   "metadata": {},
   "outputs": [
    {
     "name": "stdout",
     "output_type": "stream",
     "text": [
      "Среднеквадратическая ошибка: 0.1913082933977216\n"
     ]
    }
   ],
   "source": [
    "# оцениваем качество прогнозов с помощью среднеквадратической ошибки\n",
    "mse = metrics.mean_squared_error(y_test_reg, y_pred_reg)\n",
    "\n",
    "print(\"Среднеквадратическая ошибка:\", mse)"
   ]
  },
  {
   "cell_type": "markdown",
   "metadata": {},
   "source": [
    "**Средняя абсолютная ошибка (MAE)** - это среднее значение абсолютных разностей между прогнозируемыми значениями и фактическими значениями.\n",
    "Формула для средней абсолютной ошибки (MAE) выглядит следующим образом:\n",
    "\n",
    "$\\mathrm{MAE} = \\frac{1}{n}\\sum_{i=1}^{n}\\left|y_i - \\hat{y}_i\\right|$\n",
    "\n",
    "где $n$ - количество примеров в выборке, $y_i$ - истинное значение для $i$-го примера, а $\\hat{y}_i$ - предсказанное значение для $i$-го примера. Функция $\\left|\\cdot\\right|$ обозначает модуль разности между истинным и предсказанным значением.\n",
    "\n",
    "MAE чаще используется,  когда мы имеем дело с выбросами и выбивающимися значениями. Она более устойчива к выбросам, чем MSE.\n",
    "Пример: Предположим, что у нас есть модель, которая прогнозирует цены на недвижимость. MAE для этой модели может быть рассчитана как среднее значение абсолютных разностей между прогнозируемыми ценами и реальными ценами.\n",
    "\n",
    "Оценим качество прогнозов с помощью mean_absolute_error из sklearn.metrics."
   ]
  },
  {
   "cell_type": "code",
   "execution_count": 4,
   "metadata": {},
   "outputs": [
    {
     "name": "stdout",
     "output_type": "stream",
     "text": [
      "Средняя абсолютная ошибка: 0.3601070155483342\n"
     ]
    }
   ],
   "source": [
    "# оцениваем качество прогнозов с помощью средней абсолютной ошибки\n",
    "mae = metrics.mean_absolute_error(y_test_reg, y_pred_reg)\n",
    "\n",
    "print(\"Средняя абсолютная ошибка:\", mae)"
   ]
  },
  {
   "cell_type": "markdown",
   "metadata": {},
   "source": [
    "**Функция потерь Хьюбера (Huber loss)** - это функция потерь, которая комбинирует свойства среднеквадратичной ошибки (MSE) и средней абсолютной ошибки (MAE) в зависимости от значения отклонения. Она используется для задач регрессии и оптимизации моделей машинного обучения.\n",
    "Формула для функции потерь Хьюбера выглядит следующим образом:\n",
    "\n",
    "$L_{\\delta}(y, f(x)) = \\begin{cases}\n",
    "\\frac{1}{2}(y - f(x))^2, & \\text{if}\\ \\left|y - f(x)\\right| \\leq \\delta \\\\\n",
    "\\delta\\left(\\left|y - f(x)\\right| - \\frac{\\delta}{2}\\right), & \\text{otherwise}\n",
    "\\end{cases}$\n",
    "\n",
    "где $y$ - истинное значение, $f(x)$ - предсказанное значение, а $\\delta$ - параметр, который контролирует переход от MSE к MAE. \n",
    "\n",
    "Функция потерь Хьюбера вычисляется как среднее значение потерь для всех примеров.\n",
    "Функция потерь Хьюбера более устойчива к выбросам, чем MSE, потому что она уменьшает вклад выбросов в общую ошибку. При этом, она сохраняет свойства MSE, когда отклонение мало, и свойства MAE, когда отклонение большое.\n",
    "Пример: Предположим, что у нас есть модель, которая прогнозирует цены на недвижимость. Huber loss для этой модели может быть рассчитана как среднее значение функции потерь Хьюбера между прогнозируемыми ценами и реальными ценами. Параметр $\\delta$ можно выбрать в зависимости от того, насколько сильно мы хотим уменьшить влияние выбросов на общую ошибку.\n",
    "\n",
    "Вот пример использования функции потерь Хьюбера (Huber loss) в scikit-learn для обучения модели регрессии. Мы сначала создаем синтетические данные для регрессии с помощью функции make_regression, затем разбиваем данные на обучающую и тестовую выборки с помощью train_test_split. Мы обучаем модель регрессии с функцией потерь Хьюбера на обучающей выборке, используя класс HuberRegressor из модуля linear_model. Мы делаем прогнозы на тестовой выборке и оцениваем качество прогнозов с помощью mean_squared_error. В данном примере мы устанавливаем параметр epsilon равным 1.35, который задает пороговое значение между линейными и квадратичными значениями функции потерь. "
   ]
  },
  {
   "cell_type": "code",
   "execution_count": 5,
   "metadata": {},
   "outputs": [
    {
     "name": "stdout",
     "output_type": "stream",
     "text": [
      "Среднеквадратическая ошибка: 0.24702940693670242\n"
     ]
    }
   ],
   "source": [
    "from sklearn.linear_model import HuberRegressor\n",
    "from sklearn.datasets import make_regression\n",
    "from sklearn.model_selection import train_test_split\n",
    "\n",
    "# создаем синтетические данные для регрессии\n",
    "X, y = make_regression(n_samples=100, n_features=10, noise=0.5)\n",
    "\n",
    "# разбиваем данные на обучающую и тестовую выборки\n",
    "X_train, X_test, y_train, y_test_reg = train_test_split(\n",
    "    X, y, test_size=0.2, random_state=42\n",
    ")\n",
    "\n",
    "# обучаем модель регрессии с функцией потерь Хьюбера на обучающей выборке\n",
    "model = HuberRegressor(epsilon=1.35)\n",
    "model.fit(X_train, y_train)\n",
    "\n",
    "# делаем прогнозы на тестовой выборке\n",
    "y_pred_reg = model.predict(X_test)\n",
    "\n",
    "# оцениваем качество прогнозов с помощью среднеквадратической ошибки\n",
    "mse = metrics.mean_squared_error(y_test_reg, y_pred_reg)\n",
    "\n",
    "print(\"Среднеквадратическая ошибка:\", mse)"
   ]
  },
  {
   "cell_type": "markdown",
   "metadata": {},
   "source": [
    "Это только некоторые из наиболее распространенных метрик качества регрессии. В зависимости от задачи и данных, могут быть использованы и другие метрики."
   ]
  },
  {
   "cell_type": "markdown",
   "metadata": {},
   "source": [
    "# Метрики качества классификации"
   ]
  },
  {
   "cell_type": "markdown",
   "metadata": {},
   "source": [
    "Метрики качества классификации - это числовые характеристики, которые используются для оценки того, насколько хорошо модель классификации соответствует данным. Ниже приведены некоторые из наиболее распространенных метрик качества классификации с примерами."
   ]
  },
  {
   "cell_type": "markdown",
   "metadata": {},
   "source": [
    "## Метрики качества бинарной классификации"
   ]
  },
  {
   "cell_type": "markdown",
   "metadata": {},
   "source": [
    "**Точность (Accuracy)** - это доля правильных ответов модели относительно всех ответов.\n",
    "Формула для точности (Accuracy) выглядит следующим образом:\n",
    "\n",
    "$\\mathrm{Accuracy} = \\frac{\\mathrm{TP}+\\mathrm{TN}}{\\mathrm{TP}+\\mathrm{TN}+\\mathrm{FP}+\\mathrm{FN}}$\n",
    "\n",
    "где $\\mathrm{TP}$ - количество верно классифицированных примеров положительного класса, $\\mathrm{TN}$ - количество верно классифицированных примеров отрицательного класса, $\\mathrm{FP}$ - количество неверно классифицированных примеров положительного класса (ложно-положительные), $\\mathrm{FN}$ - количество неверно классифицированных примеров отрицательного класса (ложно-отрицательные). Точность - это мера того, как часто классификатор правильно классифицирует примеры. Она используется в качестве метрики для оценки качества бинарной классификации.\n",
    "\n",
    "Вот пример использования метрики точности (Accuracy) в scikit-learn"
   ]
  },
  {
   "cell_type": "code",
   "execution_count": 6,
   "metadata": {},
   "outputs": [
    {
     "name": "stdout",
     "output_type": "stream",
     "text": [
      "Точность: 0.75\n"
     ]
    }
   ],
   "source": [
    "# создадим 20 значений 0 или 1 для \"реальных\" значений\n",
    "y_test_cl = [1, 1, 1, 1, 1, 1, 1, 1, 1, 1, 0, 0, 0, 0, 0, 0, 0, 0, 0, 0]\n",
    "\n",
    "# создадим 20 значений 0 или 1 для \"предсказанных\" значений\n",
    "y_pred_cl = [1, 1, 1, 1, 1, 1, 1, 1, 1, 0, 1, 1, 0, 0, 1, 0, 0, 1, 0, 0]\n",
    "\n",
    "# оцениваем качество прогнозов с помощью метрики точности\n",
    "accuracy = metrics.accuracy_score(y_test_cl, y_pred_cl)\n",
    "\n",
    "print(\"Точность:\", accuracy)"
   ]
  },
  {
   "cell_type": "markdown",
   "metadata": {},
   "source": [
    "![alt text](../static/img/module_2_1.png)"
   ]
  },
  {
   "cell_type": "markdown",
   "metadata": {},
   "source": [
    "**Точность положительного класса (Precision)** - это доля правильно классифицированных объектов положительного класса относительно всех объектов, которые модель классифицировала как положительный класс.\n",
    "Формула для точности положительного класса (Precision) выглядит следующим образом:\n",
    "\n",
    "$\\mathrm{Precision} = \\frac{\\mathrm{TP}}{\\mathrm{TP}+\\mathrm{FP}}$\n",
    "\n",
    "где $\\mathrm{TP}$ - количество верно классифицированных примеров положительного класса, $\\mathrm{FP}$ - количество неверно классифицированных примеров положительного класса (ложно-положительные). \n",
    "\n",
    "Точность положительного класса - это мера того, насколько точно классификатор классифицирует примеры как положительные. Она используется в качестве метрики для оценки качества бинарной классификации.\n",
    "\n",
    "Вот пример использования метрики точности положительного класса (Precision) в scikit-learn"
   ]
  },
  {
   "cell_type": "code",
   "execution_count": 7,
   "metadata": {},
   "outputs": [
    {
     "name": "stdout",
     "output_type": "stream",
     "text": [
      "Точность положительного класса: 0.6923076923076923\n"
     ]
    }
   ],
   "source": [
    "# создадим 20 значений 0 или 1 для \"реальных\" значений\n",
    "y_test_cl = [1, 1, 1, 1, 1, 1, 1, 1, 1, 1, 0, 0, 0, 0, 0, 0, 0, 0, 0, 0]\n",
    "\n",
    "# создадим 20 значений 0 или 1 для \"предсказанных\" значений\n",
    "y_pred_cl = [1, 1, 1, 1, 1, 1, 1, 1, 1, 0, 1, 1, 0, 0, 1, 0, 0, 1, 0, 0]\n",
    "\n",
    "\n",
    "# оцениваем точность положительного класса\n",
    "precision = metrics.precision_score(y_test_cl, y_pred_cl)\n",
    "\n",
    "print(\"Точность положительного класса:\", precision)"
   ]
  },
  {
   "cell_type": "markdown",
   "metadata": {},
   "source": [
    "![alt text](../static/img/module_2_2.png)"
   ]
  },
  {
   "cell_type": "markdown",
   "metadata": {},
   "source": [
    "**Полнота (Recall)** - это доля правильно классифицированных объектов положительного класса относительно всех объектов, которые на самом деле относятся к положительному классу.\n",
    "Формула для полноты (Recall) выглядит следующим образом:\n",
    "\n",
    "$\\mathrm{Recall} = \\frac{\\mathrm{TP}}{\\mathrm{TP}+\\mathrm{FN}}$\n",
    "\n",
    "где $\\mathrm{TP}$ - количество верно классифицированных примеров положительного класса, $\\mathrm{FN}$ - количество неверно классифицированных примеров положительного класса (ложно-отрицательные). \n",
    "\n",
    "Полнота - это мера того, насколько хорошо классификатор обнаруживает примеры положительного класса. Она используется в качестве метрики для оценки качества бинарной классификации.\n",
    "\n",
    "Вот пример использования метрики полноты (Recall) в scikit-learn"
   ]
  },
  {
   "cell_type": "code",
   "execution_count": 8,
   "metadata": {},
   "outputs": [
    {
     "name": "stdout",
     "output_type": "stream",
     "text": [
      "Полнота положительного класса: 0.9\n"
     ]
    }
   ],
   "source": [
    "# создадим 20 значений 0 или 1 для \"реальных\" значений\n",
    "y_test_cl = [1, 1, 1, 1, 1, 1, 1, 1, 1, 1, 0, 0, 0, 0, 0, 0, 0, 0, 0, 0]\n",
    "\n",
    "# создадим 20 значений 0 или 1 для \"предсказанных\" значений\n",
    "y_pred_cl = [1, 1, 1, 1, 1, 1, 1, 1, 1, 0, 1, 1, 0, 0, 1, 0, 0, 1, 0, 0]\n",
    "\n",
    "# оцениваем полноту положительного класса\n",
    "recall = metrics.recall_score(y_test_cl, y_pred_cl)\n",
    "\n",
    "print(\"Полнота положительного класса:\", recall)"
   ]
  },
  {
   "cell_type": "markdown",
   "metadata": {},
   "source": [
    "![alt text](../static/img/module_2_3.png)"
   ]
  },
  {
   "cell_type": "markdown",
   "metadata": {},
   "source": [
    "**F1-мера (F1-score)** - это гармоническое среднее между точностью и полнотой.\n",
    "Формула для F1-меры (F1-score) выглядит следующим образом:\n",
    "\n",
    "$\\mathrm{F1} = 2\\cdot\\frac{\\mathrm{Precision}\\cdot\\mathrm{Recall}}{\\mathrm{Precision}+\\mathrm{Recall}}$\n",
    "\n",
    "где $\\mathrm{Precision}$ - точность (precision), $\\mathrm{Recall}$ - полнота (recall). F1-мера - это гармоническое среднее между точностью и полнотой. Она используется в качестве метрики для оценки качества бинарной классификации, когда необходимо учесть и точность, и полноту, и получить общую меру качества.\n",
    "\n",
    "Вот пример использования метрики F1-меры (F1 score) в scikit-learn"
   ]
  },
  {
   "cell_type": "code",
   "execution_count": 10,
   "metadata": {},
   "outputs": [
    {
     "name": "stdout",
     "output_type": "stream",
     "text": [
      "F1 положительного класса: 0.7826086956521738\n"
     ]
    }
   ],
   "source": [
    "# создадим 20 значений 0 или 1 для \"реальных\" значений\n",
    "y_test_cl = [1, 1, 1, 1, 1, 1, 1, 1, 1, 1, 0, 0, 0, 0, 0, 0, 0, 0, 0, 0]\n",
    "\n",
    "# создадим 20 значений 0 или 1 для \"предсказанных\" значений\n",
    "y_pred_cl = [1, 1, 1, 1, 1, 1, 1, 1, 1, 0, 1, 1, 0, 0, 1, 0, 0, 1, 0, 0]\n",
    "\n",
    "# оцениваем F1\n",
    "f1 = metrics.f1_score(y_test_cl, y_pred_cl)\n",
    "\n",
    "print(\"F1 положительного класса:\", f1)"
   ]
  },
  {
   "cell_type": "markdown",
   "metadata": {},
   "source": [
    "![alt text](../static/img/module_2_4.png)"
   ]
  },
  {
   "cell_type": "markdown",
   "metadata": {},
   "source": [
    "## Метрики качества многоклассовой классификации"
   ]
  },
  {
   "cell_type": "code",
   "execution_count": 24,
   "metadata": {},
   "outputs": [],
   "source": [
    "# Считаем ответы, двигаясь по сетке слева-направо сверху-вниз\n",
    "# создадим 30 значений 1,2,3 для \"реальных\" значений\n",
    "y_test_cl = (\n",
    "    [1] * 6\n",
    "    + [3]\n",
    "    + [1]\n",
    "    + [3] * 2\n",
    "    + [1] * 2\n",
    "    + [2]\n",
    "    + [1]\n",
    "    + [3] * 2\n",
    "    + [2]\n",
    "    + [3]\n",
    "    + [2] * 5\n",
    "    + [3]\n",
    "    + [2] * 2\n",
    "    + [3] * 3\n",
    "    + [2]\n",
    ")\n",
    "\n",
    "# создадим 30 значений 1,2,3 для \"предсказанных\" значений\n",
    "y_pred_cl = (\n",
    "    [1] * 4\n",
    "    + [3]\n",
    "    + [1] * 3\n",
    "    + [3] * 2\n",
    "    + [1] * 4\n",
    "    + [3] * 4\n",
    "    + [2] * 4\n",
    "    + [3] * 2\n",
    "    + [2] * 3\n",
    "    + [3]\n",
    "    + [2] * 2\n",
    ")"
   ]
  },
  {
   "cell_type": "markdown",
   "metadata": {},
   "source": [
    "![alt text](../static/img/module_2_5.png)"
   ]
  },
  {
   "cell_type": "markdown",
   "metadata": {},
   "source": [
    "Micro Precision:\n",
    "\\begin{equation}\n",
    "    \\begin{gathered}\n",
    "        P_{micro} = \\frac{\\sum_c TP_c}{\\sum_c (TP_c + FP_c)},\\\\\n",
    "        \\text{где $TP_c$ - количество верно предсказанных положительных примеров класса $c$,}\\\\\n",
    "        \\text{$FP_c$ - количество ложно предсказанных положительных примеров класса $c$.}\n",
    "    \\end{gathered}\n",
    "    \\label{eq:Precision_micro}\n",
    "\\end{equation}"
   ]
  },
  {
   "cell_type": "markdown",
   "metadata": {},
   "source": [
    "![alt text](../static/img/module_2_6.png)"
   ]
  },
  {
   "cell_type": "markdown",
   "metadata": {},
   "source": [
    "Micro precision — это метрика, которая вычисляет точность для каждого класса по отдельности, а затем усредняет их с использованием общего числа истинных и ложных положительных и отрицательных ответов по всем классам. Эта метрика подходит для задач, где классы не сбалансированы и модель должна давать одинаковый вес каждому объекту."
   ]
  },
  {
   "cell_type": "code",
   "execution_count": 25,
   "metadata": {},
   "outputs": [
    {
     "name": "stdout",
     "output_type": "stream",
     "text": [
      "Micro precision: 0.7666666666666667\n"
     ]
    }
   ],
   "source": [
    "micro_precision = metrics.precision_score(y_test_cl, y_pred_cl, average=\"micro\")\n",
    "\n",
    "print(\"Micro precision:\", micro_precision)"
   ]
  },
  {
   "cell_type": "markdown",
   "metadata": {},
   "source": [
    "Macro Precision:\n",
    "\\begin{equation}\n",
    "    \\begin{gathered}\n",
    "        P_{macro} = \\frac{1}{C}\\sum_c P_c,\\\\\n",
    "        \\text{где $P_c$ - точность по классу $c$, $C$ - количество классов в задаче классификации.}\n",
    "    \\end{gathered}\n",
    "    \\label{eq:Precision_macro}\n",
    "\\end{equation}"
   ]
  },
  {
   "cell_type": "markdown",
   "metadata": {},
   "source": [
    "Macro precision — это метрика, которая вычисляет точность для каждого класса по отдельности и затем усредняет их. Она не учитывает размеры классов, поэтому подходит для задач, где классы сбалансированы."
   ]
  },
  {
   "cell_type": "markdown",
   "metadata": {},
   "source": [
    "![alt text](../static/img/module_2_7.png)"
   ]
  },
  {
   "cell_type": "code",
   "execution_count": 26,
   "metadata": {},
   "outputs": [
    {
     "name": "stdout",
     "output_type": "stream",
     "text": [
      "Macro precision: 0.7653198653198654\n"
     ]
    }
   ],
   "source": [
    "macro_precision = metrics.precision_score(y_test_cl, y_pred_cl, average=\"macro\")\n",
    "\n",
    "print(\"Macro precision:\", macro_precision)"
   ]
  },
  {
   "cell_type": "markdown",
   "metadata": {},
   "source": [
    "Weighted Precision:\n",
    "\\begin{equation}\n",
    "    \\begin{gathered}\n",
    "        P_{weighted} = \\frac{\\sum_c (TP_c + FP_c) \\cdot P_c}{\\sum_c (TP_c + FP_c)},\\\\\n",
    "        \\text{где $P_c$ - точность по классу $c$,}\\\\\n",
    "        \\text{$TP_c$ - количество верно предсказанных положительных примеров класса $c$,}\\\\\n",
    "        \\text{$FP_c$ - количество ложно предсказанных положительных примеров класса $c$.}\n",
    "    \\end{gathered}\n",
    "    \\label{eq:Precision_weighted}\n",
    "\\end{equation}"
   ]
  },
  {
   "cell_type": "markdown",
   "metadata": {},
   "source": [
    "Weighted precision — это метрика, которая вычисляет точность для каждого класса по отдельности и затем усредняет их с использованием весов, пропорциональных размеру каждого класса. Она подходит для задач, где классы не сбалансированы и модель должна учитывать важность каждого класса."
   ]
  },
  {
   "cell_type": "markdown",
   "metadata": {},
   "source": [
    "![alt text](../static/img/module_2_8.png)"
   ]
  },
  {
   "cell_type": "code",
   "execution_count": 27,
   "metadata": {},
   "outputs": [
    {
     "name": "stdout",
     "output_type": "stream",
     "text": [
      "Weighted precision: 0.7653198653198653\n"
     ]
    }
   ],
   "source": [
    "weighted_precision = metrics.precision_score(y_test_cl, y_pred_cl, average=\"weighted\")\n",
    "\n",
    "print(\"Weighted precision:\", weighted_precision)"
   ]
  },
  {
   "cell_type": "markdown",
   "metadata": {},
   "source": [
    "![alt text](../static/img/module_2_9.png)"
   ]
  },
  {
   "cell_type": "markdown",
   "metadata": {},
   "source": [
    "Micro Recall:\n",
    "\\begin{equation}\n",
    "    \\begin{gathered}\n",
    "        R_{micro} = \\frac{\\sum_c TP_c}{\\sum_c (TP_c + FN_c)},\\\\\n",
    "        \\text{где $TP_c$ - количество верно предсказанных положительных примеров класса $c$,}\\\\\n",
    "        \\text{$FN_c$ - количество ложно предсказанных отрицательных примеров класса $c$.}\n",
    "    \\end{gathered}\n",
    "    \\label{eq:Recall_micro}\n",
    "\\end{equation}"
   ]
  },
  {
   "cell_type": "markdown",
   "metadata": {},
   "source": [
    "![alt text](../static/img/module_2_10.png)"
   ]
  },
  {
   "cell_type": "code",
   "execution_count": 28,
   "metadata": {},
   "outputs": [
    {
     "name": "stdout",
     "output_type": "stream",
     "text": [
      "Micro recall: 0.7666666666666667\n"
     ]
    }
   ],
   "source": [
    "micro_recall = metrics.recall_score(y_test_cl, y_pred_cl, average=\"micro\")\n",
    "\n",
    "print(\"Micro recall:\", micro_recall)"
   ]
  },
  {
   "cell_type": "markdown",
   "metadata": {},
   "source": [
    "Macro Recall:\n",
    "\\begin{equation}\n",
    "    \\begin{gathered}\n",
    "        R_{macro} = \\frac{1}{C}\\sum_c R_c,\\\\\n",
    "        \\text{где $R_c$ - полнота по классу $c$, $C$ - количество классов в задаче классификации.}\n",
    "    \\end{gathered}\n",
    "    \\label{eq:Recall_macro}\n",
    "\\end{equation}"
   ]
  },
  {
   "cell_type": "markdown",
   "metadata": {},
   "source": [
    "![alt text](../static/img/module_2_11.png)"
   ]
  },
  {
   "cell_type": "code",
   "execution_count": 29,
   "metadata": {},
   "outputs": [
    {
     "name": "stdout",
     "output_type": "stream",
     "text": [
      "Macro recall: 0.7666666666666666\n"
     ]
    }
   ],
   "source": [
    "macro_recall = metrics.recall_score(y_test_cl, y_pred_cl, average=\"macro\")\n",
    "\n",
    "print(\"Macro recall:\", macro_recall)"
   ]
  },
  {
   "cell_type": "markdown",
   "metadata": {},
   "source": [
    "Weighted Recall:\n",
    "\\begin{equation}\n",
    "    \\begin{gathered}\n",
    "        R_{weighted} = \\frac{\\sum_c (TP_c + FN_c) \\cdot R_c}{\\sum_c (TP_c + FN_c)},\\\\\n",
    "        \\text{где $R_c$ - полнота по классу $c$,}\\\\\n",
    "        \\text{$TP_c$ - количество верно предсказанных положительных примеров класса $c$,}\\\\\n",
    "        \\text{$FN_c$ - количество ложно предсказанных отрицательных примеров класса $c$.}\n",
    "    \\end{gathered}\n",
    "    \\label{eq:Recall_weighted}\n",
    "\\end{equation}"
   ]
  },
  {
   "cell_type": "markdown",
   "metadata": {},
   "source": [
    "![alt text](../static/img/module_2_12.png)"
   ]
  },
  {
   "cell_type": "code",
   "execution_count": 30,
   "metadata": {},
   "outputs": [
    {
     "name": "stdout",
     "output_type": "stream",
     "text": [
      "Weighted recall: 0.7666666666666667\n"
     ]
    }
   ],
   "source": [
    "weighted_recall = metrics.recall_score(y_test_cl, y_pred_cl, average=\"weighted\")\n",
    "\n",
    "print(\"Weighted recall:\", weighted_recall)"
   ]
  },
  {
   "cell_type": "markdown",
   "metadata": {},
   "source": [
    "Micro F1 score вычисляется путем усреднения всех TP (true positive), FP (false positive) и FN (false negative) для всех классов:\n",
    "\n",
    "\\begin{equation}\n",
    "    \\begin{gathered}\n",
    "        Micro F1 = 2 * \\frac{\\sum_{i=1}^{n} TP_i}{\\sum_{i=1}^{n}(TP_i + FP_i) + \\sum_{i=1}^{n}(TP_i + FN_i)}\n",
    "    \\end{gathered}\n",
    "    \\label{eq:Micro_F1}\n",
    "\\end{equation}"
   ]
  },
  {
   "cell_type": "markdown",
   "metadata": {},
   "source": [
    "![alt text](../static/img/module_2_13.png)"
   ]
  },
  {
   "cell_type": "code",
   "execution_count": 31,
   "metadata": {},
   "outputs": [
    {
     "name": "stdout",
     "output_type": "stream",
     "text": [
      "Micro f1: 0.7666666666666667\n"
     ]
    }
   ],
   "source": [
    "micro_f1 = metrics.f1_score(y_test_cl, y_pred_cl, average=\"micro\")\n",
    "\n",
    "print(\"Micro f1:\", micro_f1)"
   ]
  },
  {
   "cell_type": "markdown",
   "metadata": {},
   "source": [
    "Macro F1 score вычисляется путем усреднения F1 score для каждого класса:\n",
    "\n",
    "\\begin{equation}\n",
    "    \\begin{gathered}\n",
    "        Macro F1 = \\frac{1}{n} * \\sum_{i=1}^{n} F1_i    \\end{gathered}\n",
    "    \\label{eq:Macro_F1}\n",
    "\\end{equation}"
   ]
  },
  {
   "cell_type": "markdown",
   "metadata": {},
   "source": [
    "![alt text](../static/img/module_2_14.png)"
   ]
  },
  {
   "cell_type": "code",
   "execution_count": 32,
   "metadata": {},
   "outputs": [
    {
     "name": "stdout",
     "output_type": "stream",
     "text": [
      "Macro f1: 0.7646616541353383\n"
     ]
    }
   ],
   "source": [
    "macro_f1 = metrics.f1_score(y_test_cl, y_pred_cl, average=\"macro\")\n",
    "\n",
    "print(\"Macro f1:\", macro_f1)"
   ]
  },
  {
   "cell_type": "markdown",
   "metadata": {},
   "source": [
    "Weighted F1 score вычисляется путем усреднения F1 score для каждого класса с учетом их весов. Веса могут быть определены как отношение количества образцов каждого класса к общему количеству образцов.\n",
    "Формула для расчета Weighted F1 score:\n",
    "\n",
    "\\begin{equation}\n",
    "    \\begin{gathered}\n",
    "        Weighted F1 = \\frac{\\sum_{i=1}^{n} w_i * F1_i}{\\sum_{i=1}^{n} w_i,}\\\\\n",
    "        \\text{где $w_i$ - вес класса $i$.}\n",
    "    \\end{gathered}\n",
    "    \\label{eq:Weighted_F1}\n",
    "\\end{equation}"
   ]
  },
  {
   "cell_type": "markdown",
   "metadata": {},
   "source": [
    "![alt text](../static/img/module_2_15.png)"
   ]
  },
  {
   "cell_type": "code",
   "execution_count": 33,
   "metadata": {},
   "outputs": [
    {
     "name": "stdout",
     "output_type": "stream",
     "text": [
      "Weighted f1: 0.7646616541353384\n"
     ]
    }
   ],
   "source": [
    "weighted_f1 = metrics.f1_score(y_test_cl, y_pred_cl, average=\"weighted\")\n",
    "\n",
    "print(\"Weighted f1:\", weighted_f1)"
   ]
  },
  {
   "cell_type": "markdown",
   "metadata": {},
   "source": [
    "Функция classification_report из библиотеки scikit-learn предоставляет отчёт о метриках качества классификации для каждого класса в задачах многоклассовой классификации. Отчёт включает в себя следующие метрики:\n",
    "\n",
    "- точность (precision): доля истинно классифицированных объектов среди всех объектов, которые были классифицированы как данный класс.\n",
    "- полнота (recall): доля истинных объектов данного класса, которые были правильно классифицированы.\n",
    "- f1-мера (f1-score): гармоническое среднее точности и полноты.\n",
    "- поддержка (support): количество объектов данного класса в тестовой выборке.\n",
    "\n",
    "Отчёт может быть получен следующим образом:"
   ]
  },
  {
   "cell_type": "code",
   "execution_count": 34,
   "metadata": {},
   "outputs": [
    {
     "name": "stdout",
     "output_type": "stream",
     "text": [
      "              precision    recall  f1-score   support\n",
      "\n",
      "     Класс 1       0.82      0.90      0.86        10\n",
      "     Класс 2       0.78      0.70      0.74        10\n",
      "     Класс 3       0.70      0.70      0.70        10\n",
      "\n",
      "    accuracy                           0.77        30\n",
      "   macro avg       0.77      0.77      0.76        30\n",
      "weighted avg       0.77      0.77      0.76        30\n",
      "\n"
     ]
    }
   ],
   "source": [
    "target_names = [\"Класс 1\", \"Класс 2\", \"Класс 3\"]\n",
    "\n",
    "print(metrics.classification_report(y_test_cl, y_pred_cl, target_names=target_names))"
   ]
  },
  {
   "cell_type": "markdown",
   "metadata": {},
   "source": [
    "Confusion matrix - это таблица, которая показывает количество верно и неверно классифицированных примеров для каждого класса в задаче классификации. Она является одним из способов оценки производительности модели машинного обучения в задачах классификации.\n",
    "\n",
    "В библиотеке scikit-learn (sklearn) confusion matrix представлена в виде функции confusion_matrix() модуля sklearn.metrics. Эта функция принимает на вход два аргумента: истинные метки классов и предсказанные метки классов, и возвращает confusion matrix в виде массива numpy.\n",
    "\n",
    "Пример использования функции confusion matrix в sklearn:"
   ]
  },
  {
   "cell_type": "code",
   "execution_count": 35,
   "metadata": {},
   "outputs": [
    {
     "data": {
      "image/png": "[encoded data removed]",
      "text/plain": [
       "<Figure size 800x800 with 2 Axes>"
      ]
     },
     "metadata": {},
     "output_type": "display_data"
    }
   ],
   "source": [
    "import numpy as np\n",
    "import matplotlib.pyplot as plt\n",
    "\n",
    "np.set_printoptions(precision=2)\n",
    "\n",
    "# Создаем матрицу ошибок\n",
    "cm = metrics.confusion_matrix(y_test_cl, y_pred_cl)\n",
    "\n",
    "class_names = [\"Класс 1\", \"Класс 2\", \"Класс 3\"]\n",
    "\n",
    "# Создаем объект класса ConfusionMatrixDisplay\n",
    "cmd = metrics.ConfusionMatrixDisplay(confusion_matrix=cm, display_labels=class_names)\n",
    "\n",
    "# Строим график confusion matrix\n",
    "fig, ax = plt.subplots(figsize=(8, 8))\n",
    "cmd.plot(ax=ax, cmap=\"Blues\")\n",
    "\n",
    "# Добавляем название и подписи к графику\n",
    "ax.set_title(\"Confusion Matrix\")\n",
    "plt.xlabel(\"Predicted label\")\n",
    "plt.ylabel(\"True label\")\n",
    "plt.show()"
   ]
  },
  {
   "cell_type": "code",
   "execution_count": null,
   "metadata": {},
   "outputs": [],
   "source": []
  }
 ],
 "metadata": {
  "colab": {
   "collapsed_sections": [],
   "name": "Data Wrangling & EDA with Pandas.ipynb",
   "provenance": []
  },
  "kernelspec": {
   "display_name": "Python 3 (ipykernel)",
   "language": "python",
   "name": "python3"
  },
  "language_info": {
   "codemirror_mode": {
    "name": "ipython",
    "version": 3
   },
   "file_extension": ".py",
   "mimetype": "text/x-python",
   "name": "python",
   "nbconvert_exporter": "python",
   "pygments_lexer": "ipython3",
   "version": "3.10.12"
  },
  "toc-autonumbering": true,
  "toc-showcode": false,
  "toc-showmarkdowntxt": false,
  "toc-showtags": false
 },
 "nbformat": 4,
 "nbformat_minor": 4
}
