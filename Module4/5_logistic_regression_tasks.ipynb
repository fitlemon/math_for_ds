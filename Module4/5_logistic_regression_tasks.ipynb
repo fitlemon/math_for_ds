{
 "cells": [
  {
   "cell_type": "code",
   "execution_count": 2,
   "id": "93b8939c",
   "metadata": {},
   "outputs": [],
   "source": [
    "from utils.hints import hide_toggle"
   ]
  },
  {
   "cell_type": "markdown",
   "id": "3fe14a49",
   "metadata": {},
   "source": [
    "# Набор данных \"Auction Verification\""
   ]
  },
  {
   "cell_type": "markdown",
   "id": "9781cf0c",
   "metadata": {},
   "source": [
    "Датасет был создан в рамках научного исследования с целью выяснить, можно ли заменить дорогостоящую верификацию сложных моделей процессов (в данном случае: одновременные многораундовые аукционы, используемые для аукционов частотных спектров) предсказаниями результатов.\n",
    "\n",
    "Каждый экземпляр в этом датасете представляет один запуск верификации. Верификация выполняется для проверки, является ли определенная цена возможной для определенного продукта, и в некоторых случаях, определения, может ли определенный участник выиграть продукт по этой цене. Каждый экземпляр содержит детали одного такого сценария верификации.\n",
    "\n",
    "Краткое описание признаков:\n",
    "\n",
    "- process.b1.capacity: Характеристика (вместимость) первого участника (заявителя). Целое число. Вместимость (максимальное количество продуктов для выигрыша) участника 1.\n",
    "\n",
    "- process.b2.capacity: Характеристика (вместимость) второго участника (заявителя). Целое число. Вместимость (максимальное количество продуктов для выигрыша) участника 2.\n",
    "\n",
    "- process.b3.capacity: Характеристика (вместимость) третьего участника (заявителя). Целое число. Вместимость (максимальное количество продуктов для выигрыша) участника 3.\n",
    "\n",
    "- process.b4.capacity: Характеристика (вместимость) четвертого участника (заявителя). Целое число. Вместимость (максимальное количество продуктов для выигрыша) участника 4.\n",
    "\n",
    "- property.price: Характеристика (цена) продукта. Целое число. Текущая проверенная цена.\n",
    "\n",
    "- property.product: Характеристика (продукт) продукта. Целое число. Текущий проверенный продукт.\n",
    "\n",
    "- property.winner: Характеристика (победитель) продукта. Целое число. Участник (заявитель), который в настоящее время признан победителем продукта (0, если проверена только цена).\n",
    "\n",
    "Целевая переменная:\n",
    "\n",
    "- verification.result: Целевой атрибут (категориальный). Результат верификации. Бинарный результат - возможен ли проверенный результат?"
   ]
  },
  {
   "cell_type": "code",
   "execution_count": 1,
   "id": "b966528a",
   "metadata": {},
   "outputs": [
    {
     "ename": "FileNotFoundError",
     "evalue": "[Errno 2] No such file or directory: 'datasets/auction.csv'",
     "output_type": "error",
     "traceback": [
      "\u001b[0;31m---------------------------------------------------------------------------\u001b[0m",
      "\u001b[0;31mFileNotFoundError\u001b[0m                         Traceback (most recent call last)",
      "\u001b[1;32m/home/fitlemon/code/math_for_ds/Module4/5_logistic_regression_tasks.ipynb Cell 4\u001b[0m line \u001b[0;36m1\n\u001b[1;32m      <a href='vscode-notebook-cell:/home/fitlemon/code/math_for_ds/Module4/5_logistic_regression_tasks.ipynb#W3sZmlsZQ%3D%3D?line=6'>7</a>\u001b[0m \u001b[39mfrom\u001b[39;00m \u001b[39msklearn\u001b[39;00m\u001b[39m.\u001b[39;00m\u001b[39mmetrics\u001b[39;00m \u001b[39mimport\u001b[39;00m f1_score\n\u001b[1;32m      <a href='vscode-notebook-cell:/home/fitlemon/code/math_for_ds/Module4/5_logistic_regression_tasks.ipynb#W3sZmlsZQ%3D%3D?line=8'>9</a>\u001b[0m \u001b[39m# Загрузка набора данных auction из CSV-файла в DataFrame\u001b[39;00m\n\u001b[0;32m---> <a href='vscode-notebook-cell:/home/fitlemon/code/math_for_ds/Module4/5_logistic_regression_tasks.ipynb#W3sZmlsZQ%3D%3D?line=9'>10</a>\u001b[0m df \u001b[39m=\u001b[39m pd\u001b[39m.\u001b[39;49mread_csv(\u001b[39m\"\u001b[39;49m\u001b[39mdatasets/auction.csv\u001b[39;49m\u001b[39m\"\u001b[39;49m)\n\u001b[1;32m     <a href='vscode-notebook-cell:/home/fitlemon/code/math_for_ds/Module4/5_logistic_regression_tasks.ipynb#W3sZmlsZQ%3D%3D?line=10'>11</a>\u001b[0m df\u001b[39m.\u001b[39mdrop(columns\u001b[39m=\u001b[39m[\u001b[39m'\u001b[39m\u001b[39mverification.time\u001b[39m\u001b[39m'\u001b[39m], inplace\u001b[39m=\u001b[39m\u001b[39mTrue\u001b[39;00m)\n\u001b[1;32m     <a href='vscode-notebook-cell:/home/fitlemon/code/math_for_ds/Module4/5_logistic_regression_tasks.ipynb#W3sZmlsZQ%3D%3D?line=12'>13</a>\u001b[0m \u001b[39m# Определение признаков (X) и целевой переменной (y)\u001b[39;00m\n",
      "File \u001b[0;32m~/code/math_for_ds/.venv/lib/python3.10/site-packages/pandas/io/parsers/readers.py:948\u001b[0m, in \u001b[0;36mread_csv\u001b[0;34m(filepath_or_buffer, sep, delimiter, header, names, index_col, usecols, dtype, engine, converters, true_values, false_values, skipinitialspace, skiprows, skipfooter, nrows, na_values, keep_default_na, na_filter, verbose, skip_blank_lines, parse_dates, infer_datetime_format, keep_date_col, date_parser, date_format, dayfirst, cache_dates, iterator, chunksize, compression, thousands, decimal, lineterminator, quotechar, quoting, doublequote, escapechar, comment, encoding, encoding_errors, dialect, on_bad_lines, delim_whitespace, low_memory, memory_map, float_precision, storage_options, dtype_backend)\u001b[0m\n\u001b[1;32m    935\u001b[0m kwds_defaults \u001b[39m=\u001b[39m _refine_defaults_read(\n\u001b[1;32m    936\u001b[0m     dialect,\n\u001b[1;32m    937\u001b[0m     delimiter,\n\u001b[0;32m   (...)\u001b[0m\n\u001b[1;32m    944\u001b[0m     dtype_backend\u001b[39m=\u001b[39mdtype_backend,\n\u001b[1;32m    945\u001b[0m )\n\u001b[1;32m    946\u001b[0m kwds\u001b[39m.\u001b[39mupdate(kwds_defaults)\n\u001b[0;32m--> 948\u001b[0m \u001b[39mreturn\u001b[39;00m _read(filepath_or_buffer, kwds)\n",
      "File \u001b[0;32m~/code/math_for_ds/.venv/lib/python3.10/site-packages/pandas/io/parsers/readers.py:611\u001b[0m, in \u001b[0;36m_read\u001b[0;34m(filepath_or_buffer, kwds)\u001b[0m\n\u001b[1;32m    608\u001b[0m _validate_names(kwds\u001b[39m.\u001b[39mget(\u001b[39m\"\u001b[39m\u001b[39mnames\u001b[39m\u001b[39m\"\u001b[39m, \u001b[39mNone\u001b[39;00m))\n\u001b[1;32m    610\u001b[0m \u001b[39m# Create the parser.\u001b[39;00m\n\u001b[0;32m--> 611\u001b[0m parser \u001b[39m=\u001b[39m TextFileReader(filepath_or_buffer, \u001b[39m*\u001b[39;49m\u001b[39m*\u001b[39;49mkwds)\n\u001b[1;32m    613\u001b[0m \u001b[39mif\u001b[39;00m chunksize \u001b[39mor\u001b[39;00m iterator:\n\u001b[1;32m    614\u001b[0m     \u001b[39mreturn\u001b[39;00m parser\n",
      "File \u001b[0;32m~/code/math_for_ds/.venv/lib/python3.10/site-packages/pandas/io/parsers/readers.py:1448\u001b[0m, in \u001b[0;36mTextFileReader.__init__\u001b[0;34m(self, f, engine, **kwds)\u001b[0m\n\u001b[1;32m   1445\u001b[0m     \u001b[39mself\u001b[39m\u001b[39m.\u001b[39moptions[\u001b[39m\"\u001b[39m\u001b[39mhas_index_names\u001b[39m\u001b[39m\"\u001b[39m] \u001b[39m=\u001b[39m kwds[\u001b[39m\"\u001b[39m\u001b[39mhas_index_names\u001b[39m\u001b[39m\"\u001b[39m]\n\u001b[1;32m   1447\u001b[0m \u001b[39mself\u001b[39m\u001b[39m.\u001b[39mhandles: IOHandles \u001b[39m|\u001b[39m \u001b[39mNone\u001b[39;00m \u001b[39m=\u001b[39m \u001b[39mNone\u001b[39;00m\n\u001b[0;32m-> 1448\u001b[0m \u001b[39mself\u001b[39m\u001b[39m.\u001b[39m_engine \u001b[39m=\u001b[39m \u001b[39mself\u001b[39;49m\u001b[39m.\u001b[39;49m_make_engine(f, \u001b[39mself\u001b[39;49m\u001b[39m.\u001b[39;49mengine)\n",
      "File \u001b[0;32m~/code/math_for_ds/.venv/lib/python3.10/site-packages/pandas/io/parsers/readers.py:1705\u001b[0m, in \u001b[0;36mTextFileReader._make_engine\u001b[0;34m(self, f, engine)\u001b[0m\n\u001b[1;32m   1703\u001b[0m     \u001b[39mif\u001b[39;00m \u001b[39m\"\u001b[39m\u001b[39mb\u001b[39m\u001b[39m\"\u001b[39m \u001b[39mnot\u001b[39;00m \u001b[39min\u001b[39;00m mode:\n\u001b[1;32m   1704\u001b[0m         mode \u001b[39m+\u001b[39m\u001b[39m=\u001b[39m \u001b[39m\"\u001b[39m\u001b[39mb\u001b[39m\u001b[39m\"\u001b[39m\n\u001b[0;32m-> 1705\u001b[0m \u001b[39mself\u001b[39m\u001b[39m.\u001b[39mhandles \u001b[39m=\u001b[39m get_handle(\n\u001b[1;32m   1706\u001b[0m     f,\n\u001b[1;32m   1707\u001b[0m     mode,\n\u001b[1;32m   1708\u001b[0m     encoding\u001b[39m=\u001b[39;49m\u001b[39mself\u001b[39;49m\u001b[39m.\u001b[39;49moptions\u001b[39m.\u001b[39;49mget(\u001b[39m\"\u001b[39;49m\u001b[39mencoding\u001b[39;49m\u001b[39m\"\u001b[39;49m, \u001b[39mNone\u001b[39;49;00m),\n\u001b[1;32m   1709\u001b[0m     compression\u001b[39m=\u001b[39;49m\u001b[39mself\u001b[39;49m\u001b[39m.\u001b[39;49moptions\u001b[39m.\u001b[39;49mget(\u001b[39m\"\u001b[39;49m\u001b[39mcompression\u001b[39;49m\u001b[39m\"\u001b[39;49m, \u001b[39mNone\u001b[39;49;00m),\n\u001b[1;32m   1710\u001b[0m     memory_map\u001b[39m=\u001b[39;49m\u001b[39mself\u001b[39;49m\u001b[39m.\u001b[39;49moptions\u001b[39m.\u001b[39;49mget(\u001b[39m\"\u001b[39;49m\u001b[39mmemory_map\u001b[39;49m\u001b[39m\"\u001b[39;49m, \u001b[39mFalse\u001b[39;49;00m),\n\u001b[1;32m   1711\u001b[0m     is_text\u001b[39m=\u001b[39;49mis_text,\n\u001b[1;32m   1712\u001b[0m     errors\u001b[39m=\u001b[39;49m\u001b[39mself\u001b[39;49m\u001b[39m.\u001b[39;49moptions\u001b[39m.\u001b[39;49mget(\u001b[39m\"\u001b[39;49m\u001b[39mencoding_errors\u001b[39;49m\u001b[39m\"\u001b[39;49m, \u001b[39m\"\u001b[39;49m\u001b[39mstrict\u001b[39;49m\u001b[39m\"\u001b[39;49m),\n\u001b[1;32m   1713\u001b[0m     storage_options\u001b[39m=\u001b[39;49m\u001b[39mself\u001b[39;49m\u001b[39m.\u001b[39;49moptions\u001b[39m.\u001b[39;49mget(\u001b[39m\"\u001b[39;49m\u001b[39mstorage_options\u001b[39;49m\u001b[39m\"\u001b[39;49m, \u001b[39mNone\u001b[39;49;00m),\n\u001b[1;32m   1714\u001b[0m )\n\u001b[1;32m   1715\u001b[0m \u001b[39massert\u001b[39;00m \u001b[39mself\u001b[39m\u001b[39m.\u001b[39mhandles \u001b[39mis\u001b[39;00m \u001b[39mnot\u001b[39;00m \u001b[39mNone\u001b[39;00m\n\u001b[1;32m   1716\u001b[0m f \u001b[39m=\u001b[39m \u001b[39mself\u001b[39m\u001b[39m.\u001b[39mhandles\u001b[39m.\u001b[39mhandle\n",
      "File \u001b[0;32m~/code/math_for_ds/.venv/lib/python3.10/site-packages/pandas/io/common.py:863\u001b[0m, in \u001b[0;36mget_handle\u001b[0;34m(path_or_buf, mode, encoding, compression, memory_map, is_text, errors, storage_options)\u001b[0m\n\u001b[1;32m    858\u001b[0m \u001b[39melif\u001b[39;00m \u001b[39misinstance\u001b[39m(handle, \u001b[39mstr\u001b[39m):\n\u001b[1;32m    859\u001b[0m     \u001b[39m# Check whether the filename is to be opened in binary mode.\u001b[39;00m\n\u001b[1;32m    860\u001b[0m     \u001b[39m# Binary mode does not support 'encoding' and 'newline'.\u001b[39;00m\n\u001b[1;32m    861\u001b[0m     \u001b[39mif\u001b[39;00m ioargs\u001b[39m.\u001b[39mencoding \u001b[39mand\u001b[39;00m \u001b[39m\"\u001b[39m\u001b[39mb\u001b[39m\u001b[39m\"\u001b[39m \u001b[39mnot\u001b[39;00m \u001b[39min\u001b[39;00m ioargs\u001b[39m.\u001b[39mmode:\n\u001b[1;32m    862\u001b[0m         \u001b[39m# Encoding\u001b[39;00m\n\u001b[0;32m--> 863\u001b[0m         handle \u001b[39m=\u001b[39m \u001b[39mopen\u001b[39;49m(\n\u001b[1;32m    864\u001b[0m             handle,\n\u001b[1;32m    865\u001b[0m             ioargs\u001b[39m.\u001b[39;49mmode,\n\u001b[1;32m    866\u001b[0m             encoding\u001b[39m=\u001b[39;49mioargs\u001b[39m.\u001b[39;49mencoding,\n\u001b[1;32m    867\u001b[0m             errors\u001b[39m=\u001b[39;49merrors,\n\u001b[1;32m    868\u001b[0m             newline\u001b[39m=\u001b[39;49m\u001b[39m\"\u001b[39;49m\u001b[39m\"\u001b[39;49m,\n\u001b[1;32m    869\u001b[0m         )\n\u001b[1;32m    870\u001b[0m     \u001b[39melse\u001b[39;00m:\n\u001b[1;32m    871\u001b[0m         \u001b[39m# Binary mode\u001b[39;00m\n\u001b[1;32m    872\u001b[0m         handle \u001b[39m=\u001b[39m \u001b[39mopen\u001b[39m(handle, ioargs\u001b[39m.\u001b[39mmode)\n",
      "\u001b[0;31mFileNotFoundError\u001b[0m: [Errno 2] No such file or directory: 'datasets/auction.csv'"
     ]
    }
   ],
   "source": [
    "# Импорт необходимых библиотек\n",
    "import numpy as np\n",
    "import pandas as pd\n",
    "from sklearn.model_selection import train_test_split, GridSearchCV\n",
    "from sklearn.preprocessing import StandardScaler\n",
    "from sklearn.linear_model import LogisticRegression  # Импорт LogisticRegression\n",
    "from sklearn.metrics import f1_score\n",
    "\n",
    "# Загрузка набора данных auction из CSV-файла в DataFrame\n",
    "df = pd.read_csv(\"datasets/auction.csv\")\n",
    "df.drop(columns=[\"verification.time\"], inplace=True)\n",
    "\n",
    "# Определение признаков (X) и целевой переменной (y)\n",
    "X = df.drop(columns=[\"verification.result\"])\n",
    "y = df[\"verification.result\"].astype(int)\n",
    "\n",
    "# Нормализация признаков с помощью StandardScaler\n",
    "scaler = StandardScaler()\n",
    "X_scaled = scaler.fit_transform(X)\n",
    "\n",
    "# Разделение данных на обучающий и тестовый наборы\n",
    "X_train, X_test, y_train, y_test = train_test_split(\n",
    "    X_scaled, y, test_size=0.2, random_state=42\n",
    ")\n",
    "\n",
    "# Создание модели LogisticRegression для классификации\n",
    "log_reg = LogisticRegression()\n",
    "\n",
    "# Использование GridSearchCV для поиска наилучших параметров (для предварительной обработки данных, например)\n",
    "grid_search = GridSearchCV(log_reg, {}, cv=5)\n",
    "grid_search.fit(X_train, y_train)\n",
    "\n",
    "# Вывод наилучших параметров и оценки на кросс-валидации (но они будут пустыми)\n",
    "print(\"Наилучшие параметры на кросс-валидации:\", grid_search.best_params_)\n",
    "print(\"Наилучшая оценка на кросс-валидации:\", grid_search.best_score_)\n",
    "\n",
    "# Прогнозирование на тестовом наборе с помощью модели\n",
    "y_pred = grid_search.predict(X_test)\n",
    "\n",
    "# Вычисление f1 на тестовом наборе\n",
    "f1 = f1_score(y_pred, y_test)\n",
    "\n",
    "# Вывод значения f1\n",
    "print(\"f1 на тестовом наборе: \", f1)"
   ]
  },
  {
   "cell_type": "markdown",
   "id": "df43f0a5",
   "metadata": {},
   "source": [
    "# Набор данных \"Predict students' dropout and academic success\""
   ]
  },
  {
   "cell_type": "markdown",
   "id": "2d5c0ab3",
   "metadata": {},
   "source": [
    "Датасет был создан в рамках проекта, направленного на снижение количества студентов, прекращающих обучение или испытывающих неудачи в высшем образовании, путем использования методов машинного обучения для выявления студентов, находящихся в рискованных ситуациях на раннем этапе их учебного пути, чтобы разработать стратегии для их поддержки.\n",
    "\n",
    "Датасет включает информацию, известную на момент поступления студента в учебное заведение, такую как учебный путь, демографические данные и социоэкономические факторы.\n",
    "\n",
    "Задача сформулирована как задача классификации с тремя категориями (бросившие обучение, зачисленные и выпускники) к концу нормативного срока обучения. То есть, для каждого студента предсказывается, к какой из трех категорий он относится к моменту окончания курса (нормативного срока обучения).\n",
    "\n",
    "Краткое описание признаков можно посмотреть по ссылке: https://archive.ics.uci.edu/dataset/697/predict+students+dropout+and+academic+success\n",
    "\n",
    "Целевая переменная:\n",
    "\n",
    "- **Target**: бросившие обучение, зачисленные и выпускники"
   ]
  },
  {
   "cell_type": "code",
   "execution_count": null,
   "id": "b04aa1c4",
   "metadata": {},
   "outputs": [],
   "source": [
    "\"\"\"\n",
    "По аналогии с решением задачи Auction Verification решите в текущей ячейке задачу для предсказания целевой переменной на \n",
    "наборе Bike Sharing Demand. С случае затруднений можно посмотреть на образец решения задания в ячейке ниже.\n",
    "\"\"\"\n",
    "\n",
    "# НАЧАЛО ВАШЕГО РЕШЕНИЯ\n",
    "\n",
    "# КОНЕЦ ВАШЕГО РЕШЕНИЯ"
   ]
  },
  {
   "cell_type": "code",
   "execution_count": 5,
   "id": "07989edc",
   "metadata": {},
   "outputs": [
    {
     "data": {
      "text/html": [
       "\n",
       "        <script>\n",
       "            function code_toggle_1303620403507839319() {\n",
       "                $('div.cell.code_cell.rendered.selected').next().find('div.input').toggle();\n",
       "            }\n",
       "\n",
       "            $('div.cell.code_cell.rendered.selected').find(\"div.input\").hide();\n",
       "        </script>\n",
       "\n",
       "        <a href=\"javascript:code_toggle_1303620403507839319()\">Нажмите на ссылку внизу, чтобы увидеть ответ к заданию</a>\n",
       "    "
      ],
      "text/plain": [
       "<IPython.core.display.HTML object>"
      ]
     },
     "execution_count": 5,
     "metadata": {},
     "output_type": "execute_result"
    }
   ],
   "source": [
    "hide_toggle(for_next=True)"
   ]
  },
  {
   "cell_type": "code",
   "execution_count": null,
   "id": "a68c8c18",
   "metadata": {},
   "outputs": [],
   "source": [
    "# Импорт необходимых библиотек\n",
    "import pandas as pd\n",
    "from sklearn.model_selection import train_test_split, GridSearchCV\n",
    "from sklearn.preprocessing import StandardScaler, OneHotEncoder\n",
    "from sklearn.compose import ColumnTransformer\n",
    "from sklearn.pipeline import Pipeline\n",
    "from sklearn.linear_model import LogisticRegression  # Импорт LogisticRegression\n",
    "from sklearn.metrics import f1_score\n",
    "\n",
    "# Загрузка набора данных\n",
    "numeric_features = []\n",
    "categorical_features = []\n",
    "df = pd.read_csv(\"datasets/students_predictions.csv\", sep=\";\")\n",
    "\n",
    "# Отделяем целевую переменную от признаков\n",
    "X = df.drop(columns=[\"Target\"])\n",
    "y = df[\"Target\"]\n",
    "\n",
    "for column in X.columns:\n",
    "    unique_values_count = df[column].nunique()\n",
    "    if 2 < unique_values_count < 50:\n",
    "        categorical_features.append(column)\n",
    "    else:\n",
    "        numeric_features.append(column)\n",
    "\n",
    "numeric_transformer = Pipeline(steps=[(\"scaler\", StandardScaler())])\n",
    "\n",
    "categorical_transformer = Pipeline(\n",
    "    steps=[(\"onehot\", OneHotEncoder(drop=\"first\", handle_unknown=\"ignore\"))]\n",
    ")\n",
    "\n",
    "preprocessor = ColumnTransformer(\n",
    "    transformers=[\n",
    "        (\"num\", numeric_transformer, numeric_features),\n",
    "        (\"cat\", categorical_transformer, categorical_features),\n",
    "    ]\n",
    ")\n",
    "\n",
    "# Разделение данных на обучающий и тестовый наборы\n",
    "X_train, X_test, y_train, y_test = train_test_split(\n",
    "    X, y, test_size=0.2, random_state=42\n",
    ")\n",
    "\n",
    "# Создание модели LogisticRegression для классификации\n",
    "log_reg = LogisticRegression()\n",
    "\n",
    "# Использование GridSearchCV для поиска наилучших параметров (для предварительной обработки данных, например)\n",
    "grid_search = GridSearchCV(log_reg, {}, cv=5)\n",
    "grid_search.fit(preprocessor.fit_transform(X_train), y_train)\n",
    "\n",
    "# Вывод наилучших параметров и оценки на кросс-валидации (но они будут пустыми)\n",
    "print(\"Наилучшие параметры на кросс-валидации:\", grid_search.best_params_)\n",
    "print(\"Наилучшая оценка на кросс-валидации:\", grid_search.best_score_)\n",
    "\n",
    "# Прогнозирование на тестовом наборе с помощью модели\n",
    "y_pred = grid_search.predict(preprocessor.transform(X_test))\n",
    "\n",
    "# Вычисление f1 на тестовом наборе\n",
    "f1 = f1_score(y_pred, y_test, average=\"weighted\")\n",
    "\n",
    "# Вывод значения f1\n",
    "print(\"f1 на тестовом наборе: \", f1)"
   ]
  },
  {
   "cell_type": "markdown",
   "id": "5d5dae08",
   "metadata": {},
   "source": [
    "# Набор данных \"accelerometer_gyro_mobile_phone_dataset\""
   ]
  },
  {
   "cell_type": "markdown",
   "id": "07cd4473",
   "metadata": {},
   "source": [
    "Данные, собранные в 2022 году в Университете короля Сауда в Эр-Рияде для распознавания действий человека с помощью датчиков IMU мобильного телефона (акселерометр и гироскоп). эти действия сводятся к стоянию (остановке) или ходьбе.\n",
    "\n",
    "Краткое описание признаков:\n",
    "- accX\tВещественный\n",
    "- accY\tВещественный\n",
    "- accZ\tВещественный\n",
    "- gyroX\tВещественный\n",
    "- gyroY\tВещественный\n",
    "- gyroZ\tВещественный\n",
    "- timestamp\tDatetime\n",
    "\n",
    "Целевая переменная:\n",
    "\n",
    "- **Activity**: стояние или ходьба"
   ]
  },
  {
   "cell_type": "code",
   "execution_count": null,
   "id": "3001f0f0",
   "metadata": {},
   "outputs": [],
   "source": [
    "\"\"\"\n",
    "По аналогии с решением задачи Auction Verification решите в текущей ячейке задачу для предсказания целевой переменной на \n",
    "наборе accelerometer_gyro_mobile_phone_dataset. С случае затруднений можно посмотреть на образец решения задания в ячейке ниже.\n",
    "\"\"\"\n",
    "\n",
    "# НАЧАЛО ВАШЕГО РЕШЕНИЯ\n",
    "\n",
    "# КОНЕЦ ВАШЕГО РЕШЕНИЯ"
   ]
  },
  {
   "cell_type": "code",
   "execution_count": null,
   "id": "34483247",
   "metadata": {},
   "outputs": [],
   "source": [
    "hide_toggle(for_next=True)"
   ]
  },
  {
   "cell_type": "code",
   "execution_count": null,
   "id": "af540124",
   "metadata": {},
   "outputs": [],
   "source": [
    "import pandas as pd\n",
    "import numpy as np\n",
    "from sklearn.model_selection import train_test_split, GridSearchCV\n",
    "from sklearn.preprocessing import StandardScaler\n",
    "from sklearn.linear_model import LogisticRegression  # Импорт LogisticRegression\n",
    "from sklearn.metrics import accuracy_score, f1_score\n",
    "\n",
    "# Загрузка набора данных\n",
    "df = pd.read_csv(\"datasets/accelerometer_gyro_mobile_phone_dataset.csv\")\n",
    "\n",
    "# Удаление исходного столбца \"date\"\n",
    "df = df.drop(columns=[\"timestamp\"])\n",
    "\n",
    "# Отделяем целевую переменную от признаков\n",
    "X = df.drop(columns=[\"Activity\"])\n",
    "y = df[\"Activity\"]\n",
    "\n",
    "# Предобработка данных: преобразование категориальных признаков и нормализация числовых признаков\n",
    "numeric_features = X.columns.tolist()\n",
    "\n",
    "numeric_transformer = Pipeline(steps=[(\"scaler\", StandardScaler())])\n",
    "\n",
    "preprocessor = ColumnTransformer(\n",
    "    transformers=[(\"num\", numeric_transformer, numeric_features)]\n",
    ")\n",
    "\n",
    "# Разделение данных на обучающий и тестовый наборы\n",
    "X_train, X_test, y_train, y_test = train_test_split(\n",
    "    X, y, test_size=0.2, random_state=42\n",
    ")\n",
    "\n",
    "# Создание модели LogisticRegression для классификации\n",
    "log_reg = LogisticRegression()\n",
    "\n",
    "# Использование GridSearchCV для поиска наилучших параметров (для предварительной обработки данных, например)\n",
    "grid_search = GridSearchCV(log_reg, {}, cv=5)\n",
    "grid_search.fit(preprocessor.fit_transform(X_train), y_train)\n",
    "\n",
    "# Вывод наилучших параметров и оценки на кросс-валидации (но они будут пустыми)\n",
    "print(\"Наилучшие параметры на кросс-валидации:\", grid_search.best_params_)\n",
    "print(\"Наилучшая оценка на кросс-валидации:\", grid_search.best_score_)\n",
    "\n",
    "# Прогнозирование на тестовом наборе с помощью модели\n",
    "y_pred = grid_search.predict(preprocessor.transform(X_test))\n",
    "\n",
    "# Вычисление accuracy на тестовом наборе\n",
    "f1 = f1_score(y_pred, y_test)\n",
    "\n",
    "# Вывод значения accuracy\n",
    "print(\"f1_score на тестовом наборе: \", f1)"
   ]
  }
 ],
 "metadata": {
  "kernelspec": {
   "display_name": "Python 3 (ipykernel)",
   "language": "python",
   "name": "python3"
  },
  "language_info": {
   "codemirror_mode": {
    "name": "ipython",
    "version": 3
   },
   "file_extension": ".py",
   "mimetype": "text/x-python",
   "name": "python",
   "nbconvert_exporter": "python",
   "pygments_lexer": "ipython3",
   "version": "3.10.12"
  }
 },
 "nbformat": 4,
 "nbformat_minor": 5
}
