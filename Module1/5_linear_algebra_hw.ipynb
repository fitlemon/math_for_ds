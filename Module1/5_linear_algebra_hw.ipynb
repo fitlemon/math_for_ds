{
 "cells": [
  {
   "cell_type": "markdown",
   "metadata": {},
   "source": [
    "Прежде чем проверять задания:\n",
    "- **Перезапустите ядро** (**restart the kernel**) (В меню, выбрать Ядро (Kernel) $\\rightarrow$ Перезапустить (Restart)\n",
    "- Затем **Выполнить все ячейки**  **run all cells** (В меню, выбрать Ячейка (Cell) $\\rightarrow$ Запустить все (Run All).\n",
    "\n",
    "Убедитесь, что заполнены все ячейки с комментарием \"НАЧАЛО ВАШЕГО РЕШЕНИЯ\".\n",
    "\n",
    "После ячеек с заданием следуют ячейки с проверкой с помощью assert.\n",
    "\n",
    "Если в коде есть ошибки, assert выведет уведомление об ошибке.\n",
    "\n",
    "Если в коде нет ошибок, assert отработает без вывода дополнительной информации."
   ]
  },
  {
   "cell_type": "markdown",
   "metadata": {},
   "source": [
    "---"
   ]
  },
  {
   "cell_type": "markdown",
   "metadata": {
    "deletable": false,
    "editable": false,
    "nbgrader": {
     "cell_type": "markdown",
     "checksum": "cab860d2da5a2d30d04d0cbdcfaf5ae9",
     "grade": false,
     "grade_id": "gfgdsdg",
     "locked": true,
     "schema_version": 3,
     "solution": false,
     "task": false
    },
    "tags": []
   },
   "source": [
    "## Импорт библиотек"
   ]
  },
  {
   "cell_type": "code",
   "execution_count": 1,
   "metadata": {
    "deletable": false,
    "editable": false,
    "nbgrader": {
     "cell_type": "code",
     "checksum": "4a97adf18cbf7d9242167540ed264dc2",
     "grade": false,
     "grade_id": "cell-3a9d1fb3",
     "locked": true,
     "schema_version": 3,
     "solution": false,
     "task": false
    },
    "tags": []
   },
   "outputs": [],
   "source": [
    "import numpy as np"
   ]
  },
  {
   "cell_type": "markdown",
   "metadata": {
    "deletable": false,
    "editable": false,
    "nbgrader": {
     "cell_type": "markdown",
     "checksum": "27073c52d5d542b96116f0b08e8d9587",
     "grade": false,
     "grade_id": "cell-bc02cf6bf1ffde",
     "locked": true,
     "schema_version": 3,
     "solution": false,
     "task": false
    },
    "tags": []
   },
   "source": [
    "# Задания на векторы"
   ]
  },
  {
   "cell_type": "markdown",
   "metadata": {
    "deletable": false,
    "editable": false,
    "nbgrader": {
     "cell_type": "markdown",
     "checksum": "42e2f966d9ed695bbe319832aedde7e1",
     "grade": false,
     "grade_id": "cell-b40bdcf9629b9",
     "locked": true,
     "schema_version": 3,
     "solution": false,
     "task": false
    },
    "tags": []
   },
   "source": [
    "## Задание 1 (1 балл)\n",
    "\n",
    "Напишите код функции для вычисления L2-нормы одномерный np.array вектора с помощью numpy:"
   ]
  },
  {
   "cell_type": "code",
   "execution_count": 7,
   "metadata": {
    "deletable": false,
    "nbgrader": {
     "cell_type": "code",
     "checksum": "a293aac09bc1b1ddb5e16f687b7b6064",
     "grade": false,
     "grade_id": "l2_norm",
     "locked": false,
     "schema_version": 3,
     "solution": true,
     "task": false
    },
    "tags": []
   },
   "outputs": [],
   "source": [
    "def l2_norm(vector):\n",
    "    \n",
    "    \"\"\"\n",
    "    Аргументы:\n",
    "    vector - одномерный np.array вектор\n",
    "\n",
    "    Возвращает:\n",
    "    float\n",
    "    \"\"\"\n",
    "    \n",
    "    # НАЧАЛО ВАШЕГО РЕШЕНИЯ\n",
    "    norm = np.linalg.norm(vector)\n",
    "    return norm\n",
    "    # КОНЕЦ ВАШЕГО РЕШЕНИЯ"
   ]
  },
  {
   "cell_type": "code",
   "execution_count": 8,
   "metadata": {
    "deletable": false,
    "editable": false,
    "nbgrader": {
     "cell_type": "code",
     "checksum": "46ec3e00456ee56737a7f13df4a7fb99",
     "grade": true,
     "grade_id": "l2_norm_test",
     "locked": true,
     "points": 1,
     "schema_version": 3,
     "solution": false,
     "task": false
    },
    "tags": []
   },
   "outputs": [],
   "source": [
    "# Тест 1: Вектор (1, 0, 0) имеет L2-норму 1.\n",
    "vector1 = np.array([1, 0, 0])\n",
    "assert l2_norm(vector1) == 1.0\n",
    "\n",
    "# Тест 2: Вектор (0, 1, 0) имеет L2-норму 1.\n",
    "vector2 = np.array([0, 1, 0])\n",
    "assert l2_norm(vector2) == 1.0\n",
    "\n",
    "# Тест 3: Вектор (1, 2, 3, 4, 5, 6, 7, 8, 9) имеет L2-норму sqrt(285).\n",
    "vector3 = np.array([1, 2, 3, 4, 5, 6, 7, 8, 9])\n",
    "assert l2_norm(vector3) == np.sqrt(285)\n",
    "\n",
    "# Тест 3: Вектор (0, 0, 1) имеет L2-норму 1.\n",
    "vector3 = np.array([0, 0, 1])\n",
    "assert l2_norm(vector3) == 1.0\n",
    "\n",
    "# Тест 4: Вектор (3, 4) имеет L2-норму 5.\n",
    "vector4 = np.array([3, 4])\n",
    "assert l2_norm(vector4) == 5.0\n",
    "\n",
    "# Тест 5: Вектор (-3, -4) имеет L2-норму 5.\n",
    "vector5 = np.array([-3, -4])\n",
    "assert l2_norm(vector5) == 5.0\n",
    "\n",
    "# Тест 6: Вектор (1, 1, 1) имеет L2-норму sqrt(3).\n",
    "vector6 = np.array([1, 1, 1])\n",
    "assert l2_norm(vector6) == np.sqrt(3)\n",
    "\n",
    "# Тест 7: Вектор (0, 0, 0) имеет L2-норму 0.\n",
    "vector7 = np.array([0, 0, 0])\n",
    "assert l2_norm(vector7) == 0.0\n",
    "\n",
    "# Тест 8: Вектор (1, 2, 3, 4, 5) имеет L2-норму sqrt(55).\n",
    "vector8 = np.array([1, 2, 3, 4, 5])\n",
    "assert l2_norm(vector8) == np.sqrt(55)\n",
    "\n",
    "# Тест 9: Вектор (1, 2, 3, 4, 5, 6) имеет L2-норму sqrt(91).\n",
    "vector9 = np.array([1, 2, 3, 4, 5, 6])\n",
    "assert l2_norm(vector9) == np.sqrt(91)\n",
    "\n",
    "# Тест 10: Вектор (1, 2, 3, 4, 5, 6, 7, 8, 9) имеет L2-норму sqrt(285).\n",
    "vector10 = np.array([1, 2, 3, 4, 5, 6, 7, 8, 9])\n",
    "assert l2_norm(vector10) == np.sqrt(285)"
   ]
  },
  {
   "cell_type": "markdown",
   "metadata": {
    "deletable": false,
    "editable": false,
    "nbgrader": {
     "cell_type": "markdown",
     "checksum": "dfdce0cbac6b910579f060b83d30b8c0",
     "grade": false,
     "grade_id": "cell-938593drg6cc",
     "locked": true,
     "schema_version": 3,
     "solution": false,
     "task": false
    },
    "tags": []
   },
   "source": [
    "---\n",
    "## Задание 2 (1 балл)\n",
    "\n",
    "Напишите код функции, которая на вход принимает два одномерных np.array массива чисел и производит их сложение с помощью numpy. Если длины векторов не равны, функция должна вернуть None"
   ]
  },
  {
   "cell_type": "code",
   "execution_count": 9,
   "metadata": {
    "deletable": false,
    "nbgrader": {
     "cell_type": "code",
     "checksum": "388b13b4793a95c63e373a1d0aea80a3",
     "grade": false,
     "grade_id": "add_vectors",
     "locked": false,
     "schema_version": 3,
     "solution": true,
     "task": false
    },
    "tags": []
   },
   "outputs": [],
   "source": [
    "def add_vectors(arr1, arr2):\n",
    "    \"\"\"\n",
    "    Складывает два одномерных массива.\n",
    "\n",
    "    Аргументы:\n",
    "    arr1, arr2 -- массивы, представленные в виде np.array\n",
    "\n",
    "    Возвращает:\n",
    "    Массив, который является результатом сложения\n",
    "    \"\"\"\n",
    "    # НАЧАЛО ВАШЕГО РЕШЕНИЯ\n",
    "    if len(arr1) == len(arr2):\n",
    "        return np.add(arr1, arr2)\n",
    "    else:\n",
    "        return None\n",
    "    # КОНЕЦ ВАШЕГО РЕШЕНИЯ"
   ]
  },
  {
   "cell_type": "code",
   "execution_count": 10,
   "metadata": {
    "deletable": false,
    "editable": false,
    "nbgrader": {
     "cell_type": "code",
     "checksum": "f3394508a1f3caff3c86e9d1d224242f",
     "grade": true,
     "grade_id": "add_vectors_test",
     "locked": true,
     "points": 1,
     "schema_version": 3,
     "solution": false,
     "task": false
    },
    "tags": []
   },
   "outputs": [],
   "source": [
    "arr1 = np.array([1, 2, 3])\n",
    "arr2 = np.array([4, 5, 6])\n",
    "assert np.array_equal(add_vectors(arr1, arr2), np.array([5, 7, 9]))\n",
    "\n",
    "arr1 = np.array([1.5, 2.0, 3.5])\n",
    "arr2 = np.array([4.2, 5.7, 6.1])\n",
    "assert np.allclose(add_vectors(arr1, arr2), np.array([5.7, 7.7, 9.6]))\n",
    "\n",
    "arr1 = np.array([])\n",
    "arr2 = np.array([])\n",
    "assert np.array_equal(add_vectors(arr1, arr2), np.array([]))\n",
    "\n",
    "arr1 = np.array([-1, 2, -3])\n",
    "arr2 = np.array([4, -5, 6])\n",
    "assert np.array_equal(add_vectors(arr1, arr2), np.array([3, -3, 3]))\n",
    "\n",
    "arr1 = np.array([1, 2, 3])\n",
    "arr2 = np.array([4])\n",
    "assert np.array_equal(add_vectors(arr1, arr2), None)\n",
    "\n",
    "arr1 = np.array([1, 2, 3])\n",
    "arr2 = np.array([4, 5])\n",
    "assert np.array_equal(add_vectors(arr1, arr2), None)\n",
    "\n",
    "arr1 = np.array([1, 2, 3, 4, 5])\n",
    "arr2 = np.array([2, 4, 6, 8, 10])\n",
    "assert np.array_equal(add_vectors(arr1, arr2), np.array([3, 6, 9, 12, 15]))\n",
    "\n",
    "arr1 = np.array([1, 2, 3])\n",
    "arr2 = np.array([0, 0, 0])\n",
    "assert np.array_equal(add_vectors(arr1, arr2), arr1)\n",
    "\n",
    "arr1 = np.array([1, 2, 3])\n",
    "arr2 = np.array([-1, -2, -3])\n",
    "assert np.array_equal(add_vectors(arr1, arr2), np.array([0, 0, 0]))\n",
    "\n",
    "arr1 = np.array([1, 2, 3])\n",
    "arr2 = np.array([1, 2, 3])\n",
    "assert np.array_equal(add_vectors(arr1, arr2), np.array([2, 4, 6]))"
   ]
  },
  {
   "cell_type": "markdown",
   "metadata": {
    "deletable": false,
    "editable": false,
    "nbgrader": {
     "cell_type": "markdown",
     "checksum": "1cc12d153b8e15179eb3084fcba91d6d",
     "grade": false,
     "grade_id": "cell-93859werh5c6cc",
     "locked": true,
     "schema_version": 3,
     "solution": false,
     "task": false
    },
    "tags": []
   },
   "source": [
    "---\n",
    "## Задание 3 (1 балл)\n",
    "\n",
    "Напишите код функции, которая на вход принимает два одномерных np.array массива чисел и вычисляет их скалярное произведение с помощью numpy. Если длины векторов не равны или векторы пустые, необходимо вернуть None"
   ]
  },
  {
   "cell_type": "code",
   "execution_count": 27,
   "metadata": {
    "deletable": false,
    "nbgrader": {
     "cell_type": "code",
     "checksum": "871f704998658dbb809c9c39ee61b90b",
     "grade": false,
     "grade_id": "scalar_product",
     "locked": false,
     "schema_version": 3,
     "solution": true,
     "task": false
    },
    "tags": []
   },
   "outputs": [],
   "source": [
    "def scalar_product(arr1, arr2):\n",
    "    \"\"\"\n",
    "    Вычисляет скалярное произведение двух одномерных массивов.\n",
    "\n",
    "    Аргументы:\n",
    "    arr1, arr2 -- массивы, представленные в виде np.array\n",
    "\n",
    "    Возвращает:\n",
    "    Скаляр, который является результатом вычисления\n",
    "    \"\"\"\n",
    "\n",
    "    \n",
    "    # НАЧАЛО ВАШЕГО РЕШЕНИЯ\n",
    "    if arr1.size != arr2.size or (arr1.size == 0 or arr2.size == 0) :\n",
    "        return None\n",
    "    else:\n",
    "        return np.dot(arr1, arr2)\n",
    "    # КОНЕЦ ВАШЕГО РЕШЕНИЯ"
   ]
  },
  {
   "cell_type": "code",
   "execution_count": 28,
   "metadata": {
    "deletable": false,
    "editable": false,
    "nbgrader": {
     "cell_type": "code",
     "checksum": "dbffd27605d004a4b6f84f4a3ce24ce0",
     "grade": true,
     "grade_id": "scalar_product_test",
     "locked": true,
     "points": 1,
     "schema_version": 3,
     "solution": false,
     "task": false
    },
    "tags": []
   },
   "outputs": [],
   "source": [
    "a = np.array([1, 2, 3])\n",
    "b = np.array([4, 5, 6])\n",
    "assert scalar_product(a, b) == 32\n",
    "\n",
    "a = np.array([1, 0, 0])\n",
    "b = np.array([0, 1, 0])\n",
    "assert scalar_product(a, b) == 0\n",
    "\n",
    "a = np.array([1, 2, 3, 4, 5])\n",
    "b = np.array([5, 4, 3, 2, 1])\n",
    "assert scalar_product(a, b) == 35\n",
    "\n",
    "a = np.array([1, 2])\n",
    "b = np.array([4, 5, 6])\n",
    "assert scalar_product(a, b) is None\n",
    "\n",
    "a = np.array([-1, 2, -3])\n",
    "b = np.array([4, -5, 6])\n",
    "assert scalar_product(a, b) == -32\n",
    "\n",
    "a = np.array([0, 0, 0])\n",
    "b = np.array([4, 5, 6])\n",
    "assert scalar_product(a, b) == 0\n",
    "\n",
    "a = np.array([1, 2, 3])\n",
    "b = np.array([4, 5])\n",
    "assert scalar_product(a, b) is None\n",
    "\n",
    "a = np.array([])\n",
    "b = np.array([4, 5, 6])\n",
    "assert scalar_product(a, b) is None\n",
    "\n",
    "a = np.array([])\n",
    "b = np.array([])\n",
    "assert scalar_product(a, b) is None\n",
    "\n",
    "a = np.array([1])\n",
    "b = np.array([4])\n",
    "assert scalar_product(a, b) == 4"
   ]
  },
  {
   "cell_type": "markdown",
   "metadata": {
    "deletable": false,
    "editable": false,
    "nbgrader": {
     "cell_type": "markdown",
     "checksum": "4f5a60c5049aad39de04cf4aaf579c7a",
     "grade": false,
     "grade_id": "cell-938593csghcc",
     "locked": true,
     "schema_version": 3,
     "solution": false,
     "task": false
    },
    "tags": []
   },
   "source": [
    "---\n",
    "## Задание 4 (1 балл)\n",
    "\n",
    "Напишите код функции, которая на вход принимает два одномерных np.array массива чисел и вычисляет косинусное расстояние между ними с помощью numpy. Если длины векторов не равны, или один из векторов пустой, необходимо вернуть None. В случае, если один из векторов нулевой, также нужно вернуть None"
   ]
  },
  {
   "cell_type": "code",
   "execution_count": 25,
   "metadata": {
    "deletable": false,
    "nbgrader": {
     "cell_type": "code",
     "checksum": "c5ed207c887635bdf63e1b9f09c8a4cd",
     "grade": false,
     "grade_id": "cosine_distance",
     "locked": false,
     "schema_version": 3,
     "solution": true,
     "task": false
    },
    "tags": []
   },
   "outputs": [],
   "source": [
    "def cosine_distance(arr1, arr2):\n",
    "    \"\"\"\n",
    "    Вычисляет косинусное расстояние между двумя одномерными массивами.\n",
    "\n",
    "    Аргументы:\n",
    "    arr1, arr2 -- массивы, представленные в виде np.array\n",
    "\n",
    "    Возвращает:\n",
    "    float, который является результатом вычисления\n",
    "    \"\"\"\n",
    "\n",
    "    # НАЧАЛО ВАШЕГО РЕШЕНИЯ\n",
    "    if arr1.size != arr2.size or (arr1.size == 0 or arr2.size == 0) or (not np.any(arr1)) or (not np.any(arr2)):\n",
    "        return None\n",
    "    else:\n",
    "        cosine_distance = 1 - np.dot(arr1, arr2) / (np.linalg.norm(arr1) * np.linalg.norm(arr2))\n",
    "        return cosine_distance\n",
    "    # КОНЕЦ ВАШЕГО РЕШЕНИЯ"
   ]
  },
  {
   "cell_type": "code",
   "execution_count": 26,
   "metadata": {
    "deletable": false,
    "editable": false,
    "nbgrader": {
     "cell_type": "code",
     "checksum": "8bde3d57e7a60048efa92302d81245f9",
     "grade": true,
     "grade_id": "cosine_distance_test",
     "locked": true,
     "points": 1,
     "schema_version": 3,
     "solution": false,
     "task": false
    },
    "tags": []
   },
   "outputs": [],
   "source": [
    "assert np.isclose(cosine_distance(np.array([1, 2, 3]), np.array([4, 5, 6])), 0.025368153802923787)\n",
    "assert cosine_distance(np.array([1, 2, 3]), np.array([4, 5])) is None\n",
    "assert cosine_distance(np.array([1, 2, 3]), np.array([])) is None\n",
    "assert np.isclose(cosine_distance(np.array([0, 1, 0, 1]), np.array([1, 0, 1, 0])), 1.0)\n",
    "assert np.isclose(cosine_distance(np.array([1, 0, 1]), np.array([-1, 0, -1])), 2.0)\n",
    "assert np.isclose(cosine_distance(np.array([3, 4]), np.array([6, 8])), 0.0)\n",
    "assert cosine_distance(np.array([]), np.array([1, 2, 3])) is None\n",
    "assert cosine_distance(np.array([]), np.array([])) is None\n",
    "assert cosine_distance(np.array([1, 2, 3]), np.array([0, 0, 0])) is None\n",
    "assert cosine_distance(np.array([0, 0, 0]), np.array([1, 2, 3])) is None"
   ]
  },
  {
   "cell_type": "markdown",
   "metadata": {
    "deletable": false,
    "editable": false,
    "nbgrader": {
     "cell_type": "markdown",
     "checksum": "5e9911a0731b83b7996645cd6a098f5b",
     "grade": false,
     "grade_id": "cell-7f3c2292ajtt",
     "locked": true,
     "schema_version": 3,
     "solution": false,
     "task": false
    },
    "tags": []
   },
   "source": [
    "# Задания на матрицы"
   ]
  },
  {
   "cell_type": "markdown",
   "metadata": {
    "deletable": false,
    "editable": false,
    "nbgrader": {
     "cell_type": "markdown",
     "checksum": "b6529111a5c43445d462ad81a2a7b5ec",
     "grade": false,
     "grade_id": "cell-938593c4a21sf5c6cc",
     "locked": true,
     "schema_version": 3,
     "solution": false,
     "task": false
    },
    "tags": []
   },
   "source": [
    "---\n",
    "## Задание 5 (1 балл)\n",
    "\n",
    "Напишите функцию, которая на вход принимает два np.array массива чисел и производит их поэлементное сложение с помощью numpy. Если размеры матриц не совпадают или массивы пустые (не содержат элементов), вернуть None"
   ]
  },
  {
   "cell_type": "code",
   "execution_count": 29,
   "metadata": {
    "deletable": false,
    "nbgrader": {
     "cell_type": "code",
     "checksum": "c6d03b15046c6b602b28a15ea4d0dc03",
     "grade": false,
     "grade_id": "add_arrays",
     "locked": false,
     "schema_version": 3,
     "solution": true,
     "task": false
    },
    "tags": []
   },
   "outputs": [],
   "source": [
    "def is_empty(arr):\n",
    "    \"\"\"\n",
    "    Вспомогательная функция\n",
    "    Проверяет, является ли многомерный массив пустым.\n",
    "\n",
    "    Аргументы:\n",
    "    arr -- массив, представленный в виде np.array\n",
    "\n",
    "    Возвращает:\n",
    "    bool -- True, если массив пустой, False в противном случае\n",
    "    \"\"\"\n",
    "    return arr.size == 0\n",
    "\n",
    "\n",
    "\n",
    "def add_arrays(arr1, arr2):\n",
    "    \"\"\"\n",
    "    Производит поэлементное сложение двух массивов.\n",
    "\n",
    "    Аргументы:\n",
    "    arr1, arr2 -- массивы, представленные в виде np.array\n",
    "\n",
    "    Возвращает:\n",
    "    np.array, являющийся результатом сложения\n",
    "    \"\"\"\n",
    "    # НАЧАЛО ВАШЕГО РЕШЕНИЯ\n",
    "    if arr1.size != arr2.size or is_empty(arr1) or is_empty(arr2):\n",
    "        return None\n",
    "    else:\n",
    "        return np.add(arr1, arr2)\n",
    "    # КОНЕЦ ВАШЕГО РЕШЕНИЯ"
   ]
  },
  {
   "cell_type": "code",
   "execution_count": 30,
   "metadata": {
    "deletable": false,
    "editable": false,
    "nbgrader": {
     "cell_type": "code",
     "checksum": "5dba2d7d3597e7f430351d674d86deb9",
     "grade": true,
     "grade_id": "add_arrays_test",
     "locked": true,
     "points": 1,
     "schema_version": 3,
     "solution": false,
     "task": false
    },
    "tags": []
   },
   "outputs": [],
   "source": [
    "arr1 = np.array([1, 2, 3])\n",
    "arr2 = np.array([4, 5, 6])\n",
    "assert np.array_equal(add_arrays(arr1, arr2), np.array([5, 7, 9]))\n",
    "\n",
    "arr1 = np.array([1, 2, 3])\n",
    "arr2 = np.array([])\n",
    "assert add_arrays(arr1, arr2) is None\n",
    "\n",
    "arr1 = np.array([1.1, 2.2, 3.3])\n",
    "arr2 = np.array([4.4, 5.5, 6.6])\n",
    "assert np.allclose(add_arrays(arr1, arr2), np.array([5.5, 7.7, 9.9]))\n",
    "\n",
    "arr1 = np.array([1, 2, 3])\n",
    "arr2 = np.array([4, 5, 6])\n",
    "assert np.array_equal(add_arrays(arr1, arr2), add_arrays(arr2, arr1))\n",
    "\n",
    "arr1 = np.array([1, 2, 3])\n",
    "arr2 = np.array([4, 5, 6])\n",
    "arr3 = np.array([7, 8, 9])\n",
    "assert np.array_equal(add_arrays(add_arrays(arr1, arr2), arr3), add_arrays(arr1, add_arrays(arr2, arr3)))\n",
    "\n",
    "arr1 = np.array([1, 2, 3])\n",
    "arr2 = np.array([4, 5, 6])\n",
    "assert np.array_equal(add_arrays(arr1, arr2), add_arrays(arr1, arr2))\n",
    "\n",
    "arr1 = np.array([])\n",
    "arr2 = np.array([1, 2, 3])\n",
    "assert add_arrays(arr1, arr2) is None\n",
    "\n",
    "arr1 = np.array([])\n",
    "arr2 = np.array([[], []])\n",
    "assert add_arrays(arr1, arr2) is None\n",
    "\n",
    "arr1 = np.random.rand(1000)\n",
    "arr2 = np.random.rand(1000)\n",
    "assert np.allclose(add_arrays(arr1, arr2), arr1 + arr2)"
   ]
  },
  {
   "cell_type": "markdown",
   "metadata": {
    "deletable": false,
    "editable": false,
    "nbgrader": {
     "cell_type": "markdown",
     "checksum": "cb03a2b215ff340defe0202e3b9b2d27",
     "grade": false,
     "grade_id": "cell-938593cdds5c6cc",
     "locked": true,
     "schema_version": 3,
     "solution": false,
     "task": false
    },
    "tags": []
   },
   "source": [
    "---\n",
    "## Задание 6 (1 балл)\n",
    "\n",
    "Напишите функцию, которая на вход принимает два np.array массива чисел и производит их умножение с помощью numpy. Должны соблюдаться правила произведения матриц. Если правила не соблюдаются, функция должна вернуть None"
   ]
  },
  {
   "cell_type": "code",
   "execution_count": 70,
   "metadata": {
    "deletable": false,
    "nbgrader": {
     "cell_type": "code",
     "checksum": "2bfae1b23733c83652e10cb03cf8eb13",
     "grade": false,
     "grade_id": "matrix_multiply",
     "locked": false,
     "schema_version": 3,
     "solution": true,
     "task": false
    },
    "tags": []
   },
   "outputs": [],
   "source": [
    "import numpy as np\n",
    "\n",
    "def matrix_multiply(a, b):\n",
    "    \"\"\"\n",
    "    Умножает две матрицы a и b с помощью numpy.\n",
    "\n",
    "    Аргументы:\n",
    "    a, b -- две матрицы, представленные в виде np.array\n",
    "\n",
    "    Возвращает:\n",
    "    Матрицу, полученную в результате умножения матриц a и b\n",
    "    \"\"\"\n",
    "    # НАЧАЛО ВАШЕГО РЕШЕНИЯ\n",
    "    if (a.ndim > 1 and a.shape[1] == b.shape[0]) or (b.ndim == a.size):\n",
    "            return np.dot(a, b)\n",
    "    else:\n",
    "            return None  \n",
    "    # КОНЕЦ ВАШЕГО РЕШЕНИЯ"
   ]
  },
  {
   "cell_type": "code",
   "execution_count": 69,
   "metadata": {
    "deletable": false,
    "editable": false,
    "nbgrader": {
     "cell_type": "code",
     "checksum": "9014568ecf3a716cc12b6a25fde67faa",
     "grade": true,
     "grade_id": "matrix_multiply_test",
     "locked": true,
     "points": 1,
     "schema_version": 3,
     "solution": false,
     "task": false
    },
    "tags": []
   },
   "outputs": [],
   "source": [
    "a1 = np.array([[1, 2], [3, 4]])\n",
    "b1 = np.array([[5, 6], [7, 8]])\n",
    "c1 = np.array([[19, 22], [43, 50]])\n",
    "assert np.array_equal(matrix_multiply(a1, b1), c1)\n",
    "\n",
    "a2 = np.array([[1, 2, 3], [4, 5, 6]])\n",
    "b2 = np.array([[7, 8], [9, 10], [11, 12]])\n",
    "c2 = np.array([[58, 64], [139, 154]])\n",
    "assert np.array_equal(matrix_multiply(a2, b2), c2)\n",
    "\n",
    "a3 = np.array([[1, 2, 3], [4, 5, 6]])\n",
    "b3 = np.array([[7, 8], [9, 10]])\n",
    "assert matrix_multiply(a3, b3) is None\n",
    "\n",
    "a4 = np.array([1, 2, 3])\n",
    "b4 = np.array([4, 5, 6])\n",
    "assert matrix_multiply(a4, b4) is None\n",
    "\n",
    "a5 = np.array([[1, 2], [3, 4]])\n",
    "b5 = np.array([[5], [6]])\n",
    "c5 = np.array([[17], [39]])\n",
    "assert np.array_equal(matrix_multiply(a5, b5), c5)\n",
    "\n",
    "a6 = np.array([[1, 2, 3]])\n",
    "b6 = np.array([[4], [5], [6]])\n",
    "c6 = np.array([[32]])\n",
    "assert np.array_equal(matrix_multiply(a6, b6), c6)\n",
    "\n",
    "a7 = np.array([[]])\n",
    "b7 = np.array([[1]])\n",
    "assert matrix_multiply(a7, b7) is None\n",
    "\n",
    "a8 = np.array([[]])\n",
    "b8 = np.array([[]])\n",
    "assert matrix_multiply(a8, b8) is None"
   ]
  },
  {
   "cell_type": "markdown",
   "metadata": {
    "deletable": false,
    "editable": false,
    "nbgrader": {
     "cell_type": "markdown",
     "checksum": "ca4322cdd7df8462b1548fda749ba721",
     "grade": false,
     "grade_id": "cell-938593cddehc",
     "locked": true,
     "schema_version": 3,
     "solution": false,
     "task": false
    },
    "tags": []
   },
   "source": [
    "---\n",
    "## Задание 7 (1 балл)\n",
    "\n",
    "Напишите функцию, которая на вход принимает np.array массив чисел и вычисляет определитель с помощью numpy. Если матрица не квадратная, функция должна вернуть None"
   ]
  },
  {
   "cell_type": "code",
   "execution_count": 72,
   "metadata": {
    "deletable": false,
    "nbgrader": {
     "cell_type": "code",
     "checksum": "5d1035f4f5de9c9f956df19fa6d76d82",
     "grade": false,
     "grade_id": "determinant",
     "locked": false,
     "schema_version": 3,
     "solution": true,
     "task": false
    },
    "tags": []
   },
   "outputs": [],
   "source": [
    "def determinant(arr):\n",
    "    \"\"\"\n",
    "    Вычисляет определитель матрицы arr с помощью numpy.\n",
    "\n",
    "    Аргументы:\n",
    "    arr -- матрица, представленная в виде np.array\n",
    "\n",
    "    Возвращает:\n",
    "    Определитель матрицы, либо None\n",
    "    \"\"\"    \n",
    "    # НАЧАЛО ВАШЕГО РЕШЕНИЯ\n",
    "    if (arr.ndim > 1 and arr.shape[0] == arr.shape[1]) or (arr.ndim == 1 and arr.size == 1):\n",
    "        return np.linalg.det(arr)\n",
    "    # КОНЕЦ ВАШЕГО РЕШЕНИЯ"
   ]
  },
  {
   "cell_type": "code",
   "execution_count": 74,
   "metadata": {
    "deletable": false,
    "editable": false,
    "nbgrader": {
     "cell_type": "code",
     "checksum": "a0d3c22f0a1c8dddfecfad53bf255ef6",
     "grade": true,
     "grade_id": "determinant_test",
     "locked": true,
     "points": 1,
     "schema_version": 3,
     "solution": false,
     "task": false
    },
    "tags": []
   },
   "outputs": [],
   "source": [
    "arr1 = np.array([[1, 2], [3, 4]])\n",
    "assert np.isclose(determinant(arr1), -2)\n",
    "\n",
    "arr2 = np.array([[1, 2, 3, 4], [5, 6, 7, 8], [9, 10, 11, 12]])\n",
    "assert determinant(arr2) == None\n",
    "\n",
    "arr3 = np.array([[1]])\n",
    "assert np.isclose(determinant(arr3), 1)\n",
    "\n",
    "arr2 = np.array([[1, 0, 0], [0, 1, 0], [0, 0, 1]])\n",
    "assert np.isclose(determinant(arr2), 1)\n",
    "\n",
    "arr3 = np.array([[1, 2, 3], [4, 5, 6], [7, 8, 9]])\n",
    "assert np.isclose(determinant(arr3), 0)\n",
    "\n",
    "arr5 = np.array([[1, 0], [0, 1], [0, 0]])\n",
    "assert determinant(arr5) == None\n",
    "\n",
    "arr6 = np.array([])\n",
    "assert determinant(arr6) == None\n",
    "\n",
    "arr8 = np.array([[1, 2], [3, 4], [5, 6]])\n",
    "assert determinant(arr8) == None\n",
    "\n",
    "arr9 = np.array([[1, 2, 3], [4, 5, 6]])\n",
    "assert determinant(arr9) == None\n",
    "\n",
    "arr10 = np.array([[1, 2], [3, 4], [5, 6]])\n",
    "assert determinant(arr10) == None"
   ]
  },
  {
   "cell_type": "markdown",
   "metadata": {
    "deletable": false,
    "editable": false,
    "nbgrader": {
     "cell_type": "markdown",
     "checksum": "e38c479458994c5c88839a004890990f",
     "grade": false,
     "grade_id": "cell-7d9f5sghj6f2b",
     "locked": true,
     "schema_version": 3,
     "solution": false,
     "task": false
    },
    "tags": []
   },
   "source": [
    "# Задание на производные"
   ]
  },
  {
   "cell_type": "markdown",
   "metadata": {
    "deletable": false,
    "editable": false,
    "nbgrader": {
     "cell_type": "markdown",
     "checksum": "cb6dfb141981b65e84a2bbda71416dec",
     "grade": false,
     "grade_id": "cell-9385sgj15c6cc",
     "locked": true,
     "schema_version": 3,
     "solution": false,
     "task": false
    },
    "tags": []
   },
   "source": [
    "---\n",
    "## Задание 8 (1 балл)\n",
    "\n",
    "Напишите функция для вычисления производной функции $\\frac{7x^3}{3} - \\frac{5x^2}{2}$ в точке x. Функция должна возврвращать переменную df_dx"
   ]
  },
  {
   "cell_type": "code",
   "execution_count": 83,
   "metadata": {
    "deletable": false,
    "nbgrader": {
     "cell_type": "code",
     "checksum": "371f679a2ce2d7551904a17e2b884912",
     "grade": false,
     "grade_id": "calculate_dderivative",
     "locked": false,
     "schema_version": 3,
     "solution": true,
     "task": false
    },
    "tags": []
   },
   "outputs": [],
   "source": [
    "df_dx = 0\n",
    "def calculate_dderivative(x: float):\n",
    "    \"\"\"\n",
    "    Вычисляет производную \\frac{7x^3}{3} - \\frac{5x^2}{2} в точке x\n",
    "\n",
    "    Аргументы:\n",
    "    x -- float\n",
    "    \n",
    "    Возвращает:\n",
    "    df_dx - производная \\frac{7x^3}{3} - \\frac{5x^2}{2} в точке x\n",
    "    \"\"\"\n",
    "    # НАЧАЛО ВАШЕГО РЕШЕНИЯ\n",
    "    def f(x):\n",
    "        return (7 / 3 * x**3 - 5 / 2 * x**2)\n",
    "    h = 0.001\n",
    "    df_dx = (f(x+h) - f(x))/h\n",
    "    # КОНЕЦ ВАШЕГО РЕШЕНИЯ\n",
    "    return df_dx"
   ]
  },
  {
   "cell_type": "code",
   "execution_count": 84,
   "metadata": {
    "deletable": false,
    "editable": false,
    "nbgrader": {
     "cell_type": "code",
     "checksum": "bbc90f792bc887f6a76f58ff27b4bdd4",
     "grade": true,
     "grade_id": "calculate_dderivative_test",
     "locked": true,
     "points": 1,
     "schema_version": 3,
     "solution": false,
     "task": false
    },
    "tags": []
   },
   "outputs": [],
   "source": [
    "assert np.isclose(calculate_dderivative(0), 0, atol=0.1)\n",
    "assert np.isclose(calculate_dderivative(1), 2, atol=0.1)\n",
    "assert np.isclose(calculate_dderivative(2), 18, atol=0.1)\n",
    "assert np.isclose(calculate_dderivative(3), 48, atol=0.1)\n",
    "assert np.isclose(calculate_dderivative(5), 150, atol=0.1)"
   ]
  }
 ],
 "metadata": {
  "kernelspec": {
   "display_name": "Python 3 (ipykernel)",
   "language": "python",
   "name": "python3"
  },
  "language_info": {
   "codemirror_mode": {
    "name": "ipython",
    "version": 3
   },
   "file_extension": ".py",
   "mimetype": "text/x-python",
   "name": "python",
   "nbconvert_exporter": "python",
   "pygments_lexer": "ipython3",
   "version": "3.10.12"
  }
 },
 "nbformat": 4,
 "nbformat_minor": 4
}
