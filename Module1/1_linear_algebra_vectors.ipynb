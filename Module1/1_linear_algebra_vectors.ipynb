{
 "cells": [
  {
   "cell_type": "markdown",
   "metadata": {},
   "source": [
    "# Содержание\n",
    "\n",
    "1. [Сравнение numpy и sympy](#numpy-sympy-comparison)\n",
    "2. [Операции с векторами](#vectorы-operations)\n",
    "    1. [Вычисление длины вектора](#vector-lenth)\n",
    "    2. [Сложение векторов](#vector-add)\n",
    "    3. [Вычитание векторов](#vector-subtract)\n",
    "    4. [Умножение вектора на константу](#vector-constant-multiplication)\n",
    "    5. [Скалярное произведение векторов](#scalar-vector-multiplication)\n",
    "    6. [Векторное произведение векторов](#vector-vector-multiplication)\n",
    "    7. [Вычисление расстояния между векторами](#vectors-distance)"
   ]
  },
  {
   "cell_type": "markdown",
   "metadata": {},
   "source": [
    "# Сравнение numpy и sympy  <a class=\"anchor\" id=\"numpy-sympy-comparison\"></a>"
   ]
  },
  {
   "attachments": {},
   "cell_type": "markdown",
   "metadata": {},
   "source": [
    "NumPy и SymPy - две библиотеки для работы с числовыми данными в Python. Некоторые отличия между ними:\n",
    "\n",
    "- NumPy - это библиотека для работы с массивами чисел и матрицами, а SymPy - это библиотека для работы с символьными выражениями.\n",
    "\n",
    "- NumPy предоставляет множество быстрых и эффективных функций для работы с массивами чисел, таких как математические операции, операции срезов, агрегирующие функции и др. SymPy же предоставляет функции для символьных вычислений, таких как упрощение выражений, дифференцирование и интегрирование, решение уравнений и систем уравнений.\n",
    " \n",
    "- В NumPy используются числа с плавающей запятой (float), а в SymPy - символьные переменные (Symbol).\n",
    "\n",
    "- NumPy предназначен для работы с числами и матрицами, используя численные методы, тогда как SymPy предоставляет возможность работы с математическими выражениями и символьными переменными.\n",
    "\n",
    "- NumPy - это библиотека для вычислений на массивах, а SymPy - это символьный математический пакет.\n",
    "\n",
    "NumPy и SymPy - это две разные библиотеки с разными задачами и функциональностью. Если вам нужно работать с числами и матрицами, используя численные методы, то лучше использовать NumPy. Если вам нужно работать с символьными выражениями, то лучше использовать SymPy. В курсе SymPy дан с ознакомительной целью."
   ]
  },
  {
   "cell_type": "markdown",
   "metadata": {},
   "source": [
    "# Операции с векторами  <a class=\"anchor\" id=\"vectorы-operations\"></a>"
   ]
  },
  {
   "cell_type": "markdown",
   "metadata": {},
   "source": [
    "Для начала импортируем необходимые библиотеки:"
   ]
  },
  {
   "cell_type": "code",
   "execution_count": 1,
   "metadata": {},
   "outputs": [],
   "source": [
    "import numpy as np\n",
    "import sympy as sp"
   ]
  },
  {
   "cell_type": "markdown",
   "metadata": {},
   "source": [
    "## Вычисление длины вектора  <a class=\"anchor\" id=\"vector-lenth\"></a>"
   ]
  },
  {
   "cell_type": "markdown",
   "metadata": {},
   "source": [
    "### Numpy"
   ]
  },
  {
   "cell_type": "markdown",
   "metadata": {},
   "source": [
    "В NumPy для вычисления длины вектора можно использовать функцию numpy.linalg.norm(). Функция принимает вектор как аргумент и возвращает его длину (норму). Параметр 'ord' отвечает за тип нормы вектора, по умолчанию он равен 2 (L2 или евклидова норма)\n",
    "\n",
    "Вот пример кода, который вычисляет длину вектора (2, 3, 4) с помощью функции numpy.linalg.norm():"
   ]
  },
  {
   "cell_type": "code",
   "execution_count": 2,
   "metadata": {},
   "outputs": [
    {
     "name": "stdout",
     "output_type": "stream",
     "text": [
      "5.385164807134504\n",
      "9.0\n",
      "4.626065009182741\n"
     ]
    }
   ],
   "source": [
    "v = np.array([2, 3, 4])\n",
    "length = np.linalg.norm(v) # по умолчанию вычисляется L2 или евклидова норма \n",
    "print(length)\n",
    "\n",
    "length = np.linalg.norm(v, ord=1) # вычисляется L1 или манхэттенская норма \n",
    "print(length)\n",
    "\n",
    "length = np.linalg.norm(v, ord=3) # вычисляется L3 или кубическая норма \n",
    "print(length)"
   ]
  },
  {
   "cell_type": "markdown",
   "metadata": {},
   "source": [
    "## Сложение векторов <a class=\"anchor\" id=\"vector-add\"></a>"
   ]
  },
  {
   "cell_type": "markdown",
   "metadata": {},
   "source": [
    "### Numpy"
   ]
  },
  {
   "cell_type": "markdown",
   "metadata": {},
   "source": [
    "В библиотеке NumPy сложение векторов можно выполнить с помощью оператора +. Для выполнения сложения векторов необходимо, чтобы векторы имели одинаковую длину. В противном случае, возникнет ошибка.\n",
    "\n",
    "Вот пример кода, который выполняет сложение двух векторов (1, 2, 3) и (4, 5, 6) в NumPy:"
   ]
  },
  {
   "cell_type": "code",
   "execution_count": 3,
   "metadata": {},
   "outputs": [
    {
     "name": "stdout",
     "output_type": "stream",
     "text": [
      "[5 7 9]\n"
     ]
    }
   ],
   "source": [
    "v1 = np.array([1, 2, 3])\n",
    "v2 = np.array([4, 5, 6])\n",
    "v_sum = v1 + v2\n",
    "\n",
    "print(v_sum)"
   ]
  },
  {
   "cell_type": "markdown",
   "metadata": {},
   "source": [
    "### Sympy"
   ]
  },
  {
   "cell_type": "markdown",
   "metadata": {},
   "source": [
    "В библиотеке SymPy сложение векторов можно выполнить с помощью функции sympy.Matrix. Для выполнения сложения векторов необходимо создать матрицы-столбцы из векторов с помощью функции sympy.Matrix и затем применить операцию сложения +.\n",
    "\n",
    "Вот пример кода, который выполняет сложение двух векторов (1, 2, 3) и (4, 5, 6) в SymPy:"
   ]
  },
  {
   "cell_type": "code",
   "execution_count": 4,
   "metadata": {},
   "outputs": [
    {
     "name": "stdout",
     "output_type": "stream",
     "text": [
      "Matrix([[5], [7], [9]])\n"
     ]
    }
   ],
   "source": [
    "v1 = sp.Matrix([1, 2, 3])\n",
    "v2 = sp.Matrix([4, 5, 6])\n",
    "v_sum = v1 + v2\n",
    "\n",
    "print(v_sum)"
   ]
  },
  {
   "cell_type": "markdown",
   "metadata": {},
   "source": [
    "## Вычитание векторов <a class=\"anchor\" id=\"vector-subtract\"></a>"
   ]
  },
  {
   "cell_type": "markdown",
   "metadata": {},
   "source": [
    "### Numpy"
   ]
  },
  {
   "cell_type": "markdown",
   "metadata": {},
   "source": [
    "В библиотеке NumPy вычитание векторов можно выполнить с помощью оператора -. Для выполнения вычитания векторов необходимо, чтобы векторы имели одинаковую длину. В противном случае, возникнет ошибка.\n",
    "\n",
    "Вот пример кода, который выполняет вычитание векторов (1, 2, 3) и (4, 5, 6) в NumPy:"
   ]
  },
  {
   "cell_type": "code",
   "execution_count": 5,
   "metadata": {},
   "outputs": [
    {
     "name": "stdout",
     "output_type": "stream",
     "text": [
      "[-3 -3 -3]\n"
     ]
    }
   ],
   "source": [
    "v1 = np.array([1, 2, 3])\n",
    "v2 = np.array([4, 5, 6])\n",
    "v_diff = v1 - v2\n",
    "\n",
    "print(v_diff)"
   ]
  },
  {
   "cell_type": "markdown",
   "metadata": {},
   "source": [
    "### SymPy"
   ]
  },
  {
   "cell_type": "markdown",
   "metadata": {},
   "source": [
    "В Sympy можно вычислить разность между двумя векторами, используя функцию Matrix, которая позволяет создавать матрицы любого размера, в том числе векторы."
   ]
  },
  {
   "cell_type": "code",
   "execution_count": 6,
   "metadata": {},
   "outputs": [
    {
     "name": "stdout",
     "output_type": "stream",
     "text": [
      "Matrix([[-3], [-3], [-3]])\n"
     ]
    }
   ],
   "source": [
    "# создаем векторы\n",
    "v1 = sp.Matrix([1, 2, 3])\n",
    "v2 = sp.Matrix([4, 5, 6])\n",
    "\n",
    "# вычисляем разность векторов\n",
    "v_diff = v1 - v2\n",
    "\n",
    "# выводим результат\n",
    "print(v_diff)"
   ]
  },
  {
   "cell_type": "markdown",
   "metadata": {},
   "source": [
    "## Умножение вектора на константу <a class=\"anchor\" id=\"vector-constant-multiplication\"></a>"
   ]
  },
  {
   "cell_type": "markdown",
   "metadata": {},
   "source": [
    "### Numpy"
   ]
  },
  {
   "cell_type": "markdown",
   "metadata": {},
   "source": [
    "В NumPy можно умножать векторы на константы, используя оператор умножения *. Для этого нужно передать вектор и константу как аргументы этого оператора. Пример:"
   ]
  },
  {
   "cell_type": "code",
   "execution_count": 7,
   "metadata": {},
   "outputs": [
    {
     "name": "stdout",
     "output_type": "stream",
     "text": [
      "[2 4 6]\n"
     ]
    }
   ],
   "source": [
    "a = np.array([1, 2, 3])  # вектор\n",
    "k = 2                   # константа\n",
    "\n",
    "b = k * a               # умножение вектора на константу\n",
    "\n",
    "print(b)                # вывод результата"
   ]
  },
  {
   "cell_type": "markdown",
   "metadata": {},
   "source": [
    "### Sympy"
   ]
  },
  {
   "cell_type": "markdown",
   "metadata": {},
   "source": [
    "Для умножения вектора на константу в Sympy можно воспользоваться функцией sympy.Matrix, которая позволяет создавать матрицы и векторы в символьном виде.\n",
    "\n",
    "Пример умножения вектора на константу:"
   ]
  },
  {
   "cell_type": "code",
   "execution_count": 8,
   "metadata": {},
   "outputs": [
    {
     "name": "stdout",
     "output_type": "stream",
     "text": [
      "Matrix([[2], [4], [6]])\n"
     ]
    }
   ],
   "source": [
    "import sympy as sp\n",
    "\n",
    "a = sp.Matrix([1, 2, 3])  # вектор\n",
    "k = 2                     # константа\n",
    "\n",
    "b = k * a                 # умножение вектора на константу\n",
    "\n",
    "print(b)                  # вывод результата"
   ]
  },
  {
   "cell_type": "markdown",
   "metadata": {},
   "source": [
    "## Скалярное произведение векторов <a class=\"anchor\" id=\"scalar-vector-multiplication\"></a>"
   ]
  },
  {
   "cell_type": "markdown",
   "metadata": {},
   "source": [
    "### Numpy"
   ]
  },
  {
   "cell_type": "markdown",
   "metadata": {},
   "source": [
    "В NumPy скалярное произведение векторов может быть вычислено с помощью функции np.dot() или метода .dot()."
   ]
  },
  {
   "cell_type": "code",
   "execution_count": 9,
   "metadata": {},
   "outputs": [
    {
     "name": "stdout",
     "output_type": "stream",
     "text": [
      "32\n",
      "32\n"
     ]
    }
   ],
   "source": [
    "a = np.array([1, 2, 3])\n",
    "b = np.array([4, 5, 6])\n",
    "\n",
    "# вычисление скалярного произведения с помощью функции np.dot()\n",
    "dot_product = np.dot(a, b)\n",
    "print(dot_product)  # 32\n",
    "\n",
    "# вычисление скалярного произведения с помощью метода .dot()\n",
    "dot_product = a.dot(b)\n",
    "print(dot_product)  # 32"
   ]
  },
  {
   "cell_type": "markdown",
   "metadata": {},
   "source": [
    "### Sympy"
   ]
  },
  {
   "cell_type": "markdown",
   "metadata": {},
   "source": [
    "В библиотеке SymPy можно использовать класс sympy.Matrix для работы с матрицами и векторами. Чтобы вычислить скалярное произведение векторов с помощью этого класса, необходимо использовать метод dot()."
   ]
  },
  {
   "cell_type": "code",
   "execution_count": 10,
   "metadata": {},
   "outputs": [
    {
     "name": "stdout",
     "output_type": "stream",
     "text": [
      "32\n"
     ]
    }
   ],
   "source": [
    "a = sp.Matrix([1, 2, 3])\n",
    "b = sp.Matrix([4, 5, 6])\n",
    "\n",
    "dot_product = a.dot(b)\n",
    "print(dot_product)  # 32"
   ]
  },
  {
   "cell_type": "markdown",
   "metadata": {},
   "source": [
    "## Векторное произведение векторов <a class=\"anchor\" id=\"vector-vector-multiplication\"></a>"
   ]
  },
  {
   "cell_type": "markdown",
   "metadata": {},
   "source": [
    "### Numpy"
   ]
  },
  {
   "cell_type": "markdown",
   "metadata": {},
   "source": [
    "В библиотеке NumPy векторное умножение (произведение) двух векторов можно выполнить с помощью функции cross()."
   ]
  },
  {
   "cell_type": "code",
   "execution_count": 11,
   "metadata": {},
   "outputs": [
    {
     "name": "stdout",
     "output_type": "stream",
     "text": [
      "Векторное произведение:  [-3  6 -3]\n"
     ]
    }
   ],
   "source": [
    "# Определение двух векторов\n",
    "v1 = np.array([1, 2, 3])\n",
    "v2 = np.array([4, 5, 6])\n",
    "\n",
    "# Вычисление векторного произведения\n",
    "v_cross = np.cross(v1, v2)\n",
    "\n",
    "# Вывод результата\n",
    "print(\"Векторное произведение: \", v_cross)"
   ]
  },
  {
   "cell_type": "markdown",
   "metadata": {},
   "source": [
    "### Sympy"
   ]
  },
  {
   "cell_type": "markdown",
   "metadata": {},
   "source": [
    "В библиотеке SymPy векторное умножение двух векторов можно выполнить с помощью функции cross(). Векторы должны быть заданы с помощью класса sympy.vector.coordsys.CartesianCoordSys и sympy.vector.vector.Vector.\n",
    "\n",
    "Вот пример использования функции cross() для векторного умножения двух векторов в SymPy:"
   ]
  },
  {
   "cell_type": "code",
   "execution_count": 12,
   "metadata": {},
   "outputs": [
    {
     "name": "stdout",
     "output_type": "stream",
     "text": [
      "Векторное произведение:  (-3)*N.i + 6*N.j + (-3)*N.k\n"
     ]
    }
   ],
   "source": [
    "from sympy.vector import CoordSys3D, cross\n",
    "N = CoordSys3D('N')  # Создание трехмерной декартовой системы координат\n",
    "\n",
    "# Определение двух векторов\n",
    "v1 = 1*N.i + 2*N.j + 3*N.k\n",
    "v2 = 4*N.i + 5*N.j + 6*N.k\n",
    "\n",
    "# Вычисление векторного произведения\n",
    "v_cross = cross(v1, v2)\n",
    "\n",
    "# Вывод результата\n",
    "print(\"Векторное произведение: \", v_cross)"
   ]
  },
  {
   "cell_type": "markdown",
   "metadata": {},
   "source": [
    "## Вычисление расстояния между векторами  <a class=\"anchor\" id=\"vectors-distance\"></a>"
   ]
  },
  {
   "cell_type": "markdown",
   "metadata": {},
   "source": [
    "### Numpy"
   ]
  },
  {
   "cell_type": "markdown",
   "metadata": {},
   "source": [
    "В библиотеке NumPy расстояние между двумя векторами можно вычислить с помощью функции numpy.linalg.norm().\n",
    "\n",
    "Вот пример использования функции numpy.linalg.norm() для вычисления расстояния между двумя векторами в NumPy:"
   ]
  },
  {
   "cell_type": "code",
   "execution_count": 13,
   "metadata": {
    "scrolled": true
   },
   "outputs": [
    {
     "name": "stdout",
     "output_type": "stream",
     "text": [
      "Расстояние между векторами по норме L2:  5.196152422706632\n",
      "Расстояние между векторами по норме L1:  9.0\n"
     ]
    }
   ],
   "source": [
    "# Определение двух векторов\n",
    "v1 = np.array([1, 2, 3])\n",
    "v2 = np.array([4, 5, 6])\n",
    "\n",
    "# Вычисление расстояния между векторами по норме L2\n",
    "distance = np.linalg.norm(v2 - v1)\n",
    "\n",
    "# Вывод результата\n",
    "print(\"Расстояние между векторами по норме L2: \", distance)\n",
    "\n",
    "\n",
    "# Вычисление расстояния между векторами по норме L1\n",
    "distance = np.linalg.norm(v2 - v1, ord=1)\n",
    "\n",
    "# Вывод результата\n",
    "print(\"Расстояние между векторами по норме L1: \", distance)"
   ]
  },
  {
   "cell_type": "markdown",
   "metadata": {},
   "source": [
    "В библиотеке NumPy нет прямой реализации вычисления косинусного расстояния между векторами. Можно реализовать такую функцию самостоятельно или воспользоваться библиотекой SciPy. "
   ]
  },
  {
   "cell_type": "code",
   "execution_count": 15,
   "metadata": {},
   "outputs": [
    {
     "name": "stdout",
     "output_type": "stream",
     "text": [
      "0.04597004230833501\n",
      "0.045970042308335124\n"
     ]
    }
   ],
   "source": [
    "# создаем два вектора\n",
    "x = np.array([1, 2, 3])\n",
    "y = np.array([4, 5, 5])\n",
    "# вычисляем косинусное расстояние по формуле\n",
    "cosine_distance = 1 - np.dot(x, y) / (np.linalg.norm(x) * np.linalg.norm(y))\n",
    "\n",
    "print(cosine_distance)\n",
    "\n",
    "from scipy.spatial import distance\n",
    "cosine_distance = distance.cosine(x, y)\n",
    "\n",
    "print(cosine_distance)"
   ]
  },
  {
   "cell_type": "markdown",
   "metadata": {},
   "source": [
    "### Sympy"
   ]
  },
  {
   "cell_type": "markdown",
   "metadata": {},
   "source": [
    "Векторы в sympy можно задать с помощью функции `Matrix`. Расстояние между двумя векторами можно найти с помощью метода `norm()`."
   ]
  },
  {
   "cell_type": "code",
   "execution_count": 16,
   "metadata": {},
   "outputs": [
    {
     "name": "stdout",
     "output_type": "stream",
     "text": [
      "3*sqrt(3)\n",
      "5.19615242270663\n",
      "9.00000000000000\n"
     ]
    }
   ],
   "source": [
    "a = sp.Matrix([1, 2, 3])\n",
    "b = sp.Matrix([4, 5, 6])\n",
    "\n",
    "# расстояние L2 между ними можно найти так:\n",
    "\n",
    "distance = (a - b).norm()\n",
    "\n",
    "# В результате переменная `distance` будет содержать значение `sqrt(27)`. \n",
    "# Если нужно получить численное значение, можно использовать метод `evalf()`:\n",
    "print(distance)\n",
    "print(distance.evalf())\n",
    "\n",
    "# расстояние L1 между можно найти так:\n",
    "\n",
    "distance = (a - b).norm(ord=1)\n",
    "\n",
    "print(distance.evalf())"
   ]
  },
  {
   "cell_type": "markdown",
   "metadata": {},
   "source": [
    "Косинусное расстояние напрямую не реализовано в библиотеке SymPy."
   ]
  },
  {
   "cell_type": "code",
   "execution_count": null,
   "metadata": {},
   "outputs": [],
   "source": []
  }
 ],
 "metadata": {
  "kernelspec": {
   "display_name": "Python 3 (ipykernel)",
   "language": "python",
   "name": "python3"
  },
  "language_info": {
   "codemirror_mode": {
    "name": "ipython",
    "version": 3
   },
   "file_extension": ".py",
   "mimetype": "text/x-python",
   "name": "python",
   "nbconvert_exporter": "python",
   "pygments_lexer": "ipython3",
   "version": "3.10.12"
  }
 },
 "nbformat": 4,
 "nbformat_minor": 1
}
