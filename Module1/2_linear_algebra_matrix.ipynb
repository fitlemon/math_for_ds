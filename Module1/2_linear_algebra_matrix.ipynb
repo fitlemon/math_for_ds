{
 "cells": [
  {
   "cell_type": "markdown",
   "metadata": {},
   "source": [
    "# Содержание\n",
    "\n",
    "1. [Операции с матрицами](#matrices-operations)\n",
    "    1. [Сложение и вычитание матриц](#adding-and-subtracting-matrices)\n",
    "    2. [Сложение матриц](#matrices-add)\n",
    "    3. [Вычитание матриц](#matrices-subtract)\n",
    "    4. [Умножение матрицы на константу](#matrix-constant-multiplication)\n",
    "    5. [Умножение матрицы на матрицу](#matrix-matrix-multiplication)\n",
    "    6. [Транспонирование матрицы](#matrix-transpose)\n",
    "    7. [Использование единичной и обратной матриц](#unit-and-inverse-matrices)\n",
    "    8. [Ранг матрицы](#matrix-rank)\n",
    "    9. [Определитель матрицы](#matrix-determinant)"
   ]
  },
  {
   "cell_type": "markdown",
   "metadata": {},
   "source": [
    "# Операции с матрицами  <a class=\"anchor\" id=\"matrices-operations\"></a>"
   ]
  },
  {
   "cell_type": "markdown",
   "metadata": {},
   "source": [
    "Python предоставляет несколько библиотек для работы с матрицами и выполнения операций над ними, таких как NumPy, SciPy, SymPy и др. Для начала импортируем необходимые библиотеки:"
   ]
  },
  {
   "cell_type": "code",
   "execution_count": 1,
   "metadata": {},
   "outputs": [],
   "source": [
    "import numpy as np\n",
    "import sympy as sp"
   ]
  },
  {
   "cell_type": "markdown",
   "metadata": {},
   "source": [
    "##  Сложение и вычитание матриц  <a class=\"anchor\" id=\"adding-and-subtracting-matrices\"></a>"
   ]
  },
  {
   "cell_type": "markdown",
   "metadata": {},
   "source": [
    "Матрицы могут быть сложены или вычитаны путем поэлементного сложения соответствующих элементов двух матриц одинакового размера. Эта операция доступна во всех библиотеках, которые поддерживают работу с матрицами."
   ]
  },
  {
   "cell_type": "markdown",
   "metadata": {},
   "source": [
    "## Сложение матриц <a class=\"anchor\" id=\"matrices-add\"></a>"
   ]
  },
  {
   "cell_type": "markdown",
   "metadata": {},
   "source": [
    "### Numpy"
   ]
  },
  {
   "cell_type": "markdown",
   "metadata": {},
   "source": [
    "Сложение матриц в NumPy можно выполнить с помощью оператора + или функции numpy.add(). Обе операции складывают соответствующие элементы двух матриц, которые должны быть одинакового размера.\n",
    "\n",
    "Вот пример сложения двух матриц с помощью библиотеки NumPy:"
   ]
  },
  {
   "cell_type": "code",
   "execution_count": 2,
   "metadata": {},
   "outputs": [
    {
     "name": "stdout",
     "output_type": "stream",
     "text": [
      "Результат сложения двух матриц:\n",
      "[[ 6  8]\n",
      " [10 12]]\n",
      "[[ 6  8]\n",
      " [10 12]]\n"
     ]
    }
   ],
   "source": [
    "# Создание двух матриц\n",
    "A = np.array([[1, 2], [3, 4]])\n",
    "B = np.array([[5, 6], [7, 8]])\n",
    "\n",
    "# Сложение двух матриц\n",
    "C = A + B\n",
    "D = np.add(A, B)\n",
    "\n",
    "# Вывод результата\n",
    "print(\"Результат сложения двух матриц:\")\n",
    "print(C)\n",
    "print(D)"
   ]
  },
  {
   "cell_type": "markdown",
   "metadata": {},
   "source": [
    "Как видно, элементы матрицы C и матрицы D равны, так как эти две операции эквивалентны."
   ]
  },
  {
   "cell_type": "markdown",
   "metadata": {},
   "source": [
    "### Sympy"
   ]
  },
  {
   "cell_type": "markdown",
   "metadata": {},
   "source": [
    "Сложение матриц в SymPy можно выполнить с помощью метода __add__() класса Matrix. Этот метод складывает соответствующие элементы двух матриц, которые должны быть одинакового размера.\n",
    "\n",
    "Вот пример сложения двух матриц с помощью библиотеки SymPy:"
   ]
  },
  {
   "cell_type": "code",
   "execution_count": 3,
   "metadata": {},
   "outputs": [
    {
     "name": "stdout",
     "output_type": "stream",
     "text": [
      "Результат сложения двух матриц:\n",
      "Matrix([[6, 8], [10, 12]])\n"
     ]
    }
   ],
   "source": [
    "# Создание двух матриц\n",
    "A = sp.Matrix([[1, 2], [3, 4]])\n",
    "B = sp.Matrix([[5, 6], [7, 8]])\n",
    "\n",
    "# Сложение двух матриц\n",
    "C = A + B\n",
    "\n",
    "# Вывод результата\n",
    "print(\"Результат сложения двух матриц:\")\n",
    "print(C)"
   ]
  },
  {
   "cell_type": "markdown",
   "metadata": {},
   "source": [
    "Как видно, операция сложения двух матриц в SymPy производится очень просто и удобно, используя функцию sympy.Matrix()."
   ]
  },
  {
   "cell_type": "markdown",
   "metadata": {},
   "source": [
    "## Вычитание матриц <a class=\"anchor\" id=\"matrices-subtract\"></a>"
   ]
  },
  {
   "cell_type": "markdown",
   "metadata": {},
   "source": [
    "### Numpy"
   ]
  },
  {
   "cell_type": "markdown",
   "metadata": {},
   "source": [
    "Для выполнения операции вычитания матриц с помощью NumPy, сначала мы создаем две матрицы A и B, используя функцию array и передавая ей списки значений для каждой строки матрицы. Затем мы используем оператор - для выполнения вычитания матриц A и B и сохраняем результат в новую матрицу C.\n",
    "\n",
    "В данном примере C[i][j] будет содержать разность элементов на позиции (i, j) в матрицах A и B. Если элементы в матрицах A и B на соответствующих позициях равны, то соответствующий элемент в матрице C будет равен нулю."
   ]
  },
  {
   "cell_type": "code",
   "execution_count": 4,
   "metadata": {},
   "outputs": [
    {
     "name": "stdout",
     "output_type": "stream",
     "text": [
      "[[-4 -4]\n",
      " [-4 -4]]\n"
     ]
    }
   ],
   "source": [
    "# Создание двух матриц\n",
    "A = np.array([[1, 2], [3, 4]])\n",
    "B = np.array([[5, 6], [7, 8]])\n",
    "\n",
    "# Вычитание матриц\n",
    "C = A - B\n",
    "\n",
    "# Вывод результата\n",
    "print(C)"
   ]
  },
  {
   "cell_type": "markdown",
   "metadata": {},
   "source": [
    "Результатом будет новая матрица C, которая будет содержать разности элементов соответствующих позиций в матрицах A и B. Например, первый элемент C[0][0] будет равен A[0][0] - B[0][0], то есть 1 - 5 = -4."
   ]
  },
  {
   "cell_type": "markdown",
   "metadata": {},
   "source": [
    "### SymPy"
   ]
  },
  {
   "cell_type": "markdown",
   "metadata": {},
   "source": [
    "Для выполнения операции вычитания матриц с помощью SymPy, мы создаем две матрицы A и B, используя класс Matrix и передавая ему списки значений для каждой строки матрицы. Затем мы используем метод __sub__ для выполнения вычитания матриц A и B и сохраняем результат в новую матрицу C.\n",
    "\n",
    "В данном примере C[i, j] будет содержать разность элементов на позиции (i, j) в матрицах A и B. Отличие от NumPy заключается в том, что SymPy работает с символьными выражениями, а не с числами, поэтому C[i, j] будет содержать символьное выражение, представляющее разность элементов матриц A и B на соответствующих позициях.\n",
    "\n",
    "После выполнения операции вычитания, мы можем вывести результат, используя просто вызов объекта C, который автоматически вызовет метод __repr__, показывающий результат в красиво отформатированном виде."
   ]
  },
  {
   "cell_type": "code",
   "execution_count": 5,
   "metadata": {},
   "outputs": [
    {
     "data": {
      "text/latex": [
       "$\\displaystyle \\left[\\begin{matrix}-4 & -4\\\\-4 & -4\\end{matrix}\\right]$"
      ],
      "text/plain": [
       "Matrix([\n",
       "[-4, -4],\n",
       "[-4, -4]])"
      ]
     },
     "execution_count": 5,
     "metadata": {},
     "output_type": "execute_result"
    }
   ],
   "source": [
    "# Создание двух матриц\n",
    "A = sp.Matrix([[1, 2], [3, 4]])\n",
    "B = sp.Matrix([[5, 6], [7, 8]])\n",
    "\n",
    "# Вычитание матриц\n",
    "C = A - B\n",
    "\n",
    "# Вывод результата\n",
    "C"
   ]
  },
  {
   "cell_type": "markdown",
   "metadata": {},
   "source": [
    "Результатом будет новая матрица C, которая будет содержать разности элементов соответствующих позиций в матрицах A и B. Например, первый элемент C[0,0] будет равен A[0,0] - B[0,0], то есть 1 - 5 = -4.\n",
    "\n",
    "Обратите внимание, что при использовании SymPy, матрицы представлены как объекты класса Matrix, а не ndarray, как в NumPy. Кроме того, операции с матрицами в SymPy выполняются с использованием символьных выражений, что позволяет работать с матрицами, содержащими переменные."
   ]
  },
  {
   "cell_type": "markdown",
   "metadata": {},
   "source": [
    "## Умножение матрицы на константу <a class=\"anchor\" id=\"matrix-constant-multiplication\"></a>"
   ]
  },
  {
   "cell_type": "markdown",
   "metadata": {},
   "source": [
    "### Numpy"
   ]
  },
  {
   "cell_type": "markdown",
   "metadata": {},
   "source": [
    "Умножение матрицы на константу в NumPy можно выполнить с помощью оператора * или функции numpy.multiply(). Оба метода умножают каждый элемент матрицы на заданную константу. Пример:"
   ]
  },
  {
   "cell_type": "code",
   "execution_count": 6,
   "metadata": {},
   "outputs": [
    {
     "name": "stdout",
     "output_type": "stream",
     "text": [
      "Результат умножения матрицы на константу:\n",
      "[[2 4]\n",
      " [6 8]]\n",
      "[[2 4]\n",
      " [6 8]]\n"
     ]
    }
   ],
   "source": [
    "# Создание матрицы\n",
    "A = np.array([[1, 2], [3, 4]])\n",
    "\n",
    "# Умножение матрицы на константу\n",
    "k = 2\n",
    "B = k * A\n",
    "C = np.multiply(k, A)\n",
    "\n",
    "# Вывод результата\n",
    "print(\"Результат умножения матрицы на константу:\")\n",
    "print(B)\n",
    "print(C)"
   ]
  },
  {
   "cell_type": "markdown",
   "metadata": {},
   "source": [
    "Как видно, элементы матрицы B и матрицы C равны, так как эти два метода эквивалентны."
   ]
  },
  {
   "cell_type": "markdown",
   "metadata": {},
   "source": [
    "### Sympy"
   ]
  },
  {
   "cell_type": "markdown",
   "metadata": {},
   "source": [
    "Умножение матрицы на константу в SymPy можно выполнить с помощью метода multiply() объекта sympy.Matrix. Этот метод умножает каждый элемент матрицы на заданную константу. Пример:"
   ]
  },
  {
   "cell_type": "code",
   "execution_count": 7,
   "metadata": {},
   "outputs": [
    {
     "name": "stdout",
     "output_type": "stream",
     "text": [
      "Результат умножения матрицы на константу:\n",
      "Matrix([[2, 4], [6, 8]])\n"
     ]
    }
   ],
   "source": [
    "# Создание матрицы\n",
    "A = sp.Matrix([[1, 2], [3, 4]])\n",
    "\n",
    "# Умножение матрицы на константу\n",
    "k = 2\n",
    "B = A.multiply(k)\n",
    "\n",
    "# Вывод результата\n",
    "print(\"Результат умножения матрицы на константу:\")\n",
    "print(B)"
   ]
  },
  {
   "cell_type": "markdown",
   "metadata": {},
   "source": [
    "Как видно, элементы матрицы B равны умножению элементов матрицы A на константу k, что демонстрирует простоту и удобство работы с матрицами в SymPy."
   ]
  },
  {
   "cell_type": "markdown",
   "metadata": {},
   "source": [
    "## Умножение матрицы на матрицу <a class=\"anchor\" id=\"matrix-matrix-multiplication\"></a>"
   ]
  },
  {
   "cell_type": "markdown",
   "metadata": {},
   "source": [
    "### Numpy"
   ]
  },
  {
   "cell_type": "markdown",
   "metadata": {},
   "source": [
    "Умножение матрицы на матрицу в NumPy можно выполнить с помощью функции numpy.dot() или оператора @. Оба метода производят матричное умножение матрицы на матрицу, то есть каждый элемент новой матрицы получается как сумма произведений элементов строки первой матрицы на элементы столбца второй матрицы. Пример умножения матрицы на матрицу с помощью библиотеки NumPy:"
   ]
  },
  {
   "cell_type": "code",
   "execution_count": 8,
   "metadata": {},
   "outputs": [
    {
     "name": "stdout",
     "output_type": "stream",
     "text": [
      "Результат умножения матриц:\n",
      "[[19 22]\n",
      " [43 50]]\n",
      "[[19 22]\n",
      " [43 50]]\n"
     ]
    }
   ],
   "source": [
    "# Создание двух матриц\n",
    "A = np.array([[1, 2], [3, 4]])\n",
    "B = np.array([[5, 6], [7, 8]])\n",
    "\n",
    "# Умножение матриц\n",
    "C = np.dot(A, B)\n",
    "D = A @ B\n",
    "\n",
    "# Вывод результата\n",
    "print(\"Результат умножения матриц:\")\n",
    "print(C)\n",
    "print(D)"
   ]
  },
  {
   "cell_type": "markdown",
   "metadata": {},
   "source": [
    "Как видно, результаты выполнения методов numpy.dot() и @ совпадают и равны матрице, полученной в результате умножения матрицы A на матрицу B."
   ]
  },
  {
   "cell_type": "markdown",
   "metadata": {},
   "source": [
    "### Sympy"
   ]
  },
  {
   "cell_type": "markdown",
   "metadata": {},
   "source": [
    "Умножение матрицы на матрицу в SymPy можно выполнить с помощью метода sympy.Matrix() и оператора *. Метод sympy.Matrix() используется для представления матриц и векторов как объектов SymPy, а оператор * выполняет матричное умножение двух матриц.\n",
    "\n",
    "Пример умножения матрицы на матрицу с помощью библиотеки SymPy:"
   ]
  },
  {
   "cell_type": "code",
   "execution_count": 9,
   "metadata": {},
   "outputs": [
    {
     "name": "stdout",
     "output_type": "stream",
     "text": [
      "Результат умножения матриц:\n",
      "Matrix([[19, 22], [43, 50]])\n"
     ]
    }
   ],
   "source": [
    "# Создание двух матриц\n",
    "A = sp.Matrix([[1, 2], [3, 4]])\n",
    "B = sp.Matrix([[5, 6], [7, 8]])\n",
    "\n",
    "# Умножение матриц\n",
    "C = A * B\n",
    "\n",
    "# Вывод результата\n",
    "print(\"Результат умножения матриц:\")\n",
    "print(C)"
   ]
  },
  {
   "cell_type": "markdown",
   "metadata": {},
   "source": [
    "Как видно, результатом выполнения операции A * B является матрица, полученная в результате умножения матрицы A на матрицу B."
   ]
  },
  {
   "cell_type": "markdown",
   "metadata": {},
   "source": [
    "## Транспонирование матрицы <a class=\"anchor\" id=\"matrix-transpose\"></a>"
   ]
  },
  {
   "cell_type": "markdown",
   "metadata": {},
   "source": [
    "### Numpy"
   ]
  },
  {
   "cell_type": "markdown",
   "metadata": {},
   "source": [
    "Транспонирование матрицы в NumPy можно выполнить с помощью метода numpy.transpose() или атрибута T. Оба метода возвращают новую матрицу, которая получается из исходной матрицы путем замены строк на столбцы (и наоборот). Пример транспонирования матрицы с помощью библиотеки NumPy:"
   ]
  },
  {
   "cell_type": "code",
   "execution_count": 10,
   "metadata": {},
   "outputs": [
    {
     "name": "stdout",
     "output_type": "stream",
     "text": [
      "Исходная матрица:\n",
      "[[1 2]\n",
      " [3 4]\n",
      " [5 6]]\n",
      "Транспонированная матрица:\n",
      "[[1 3 5]\n",
      " [2 4 6]]\n",
      "[[1 3 5]\n",
      " [2 4 6]]\n"
     ]
    }
   ],
   "source": [
    "# Создание матрицы\n",
    "A = np.array([[1, 2], [3, 4], [5, 6]])\n",
    "\n",
    "# Транспонирование матрицы\n",
    "B = np.transpose(A)\n",
    "C = A.T\n",
    "\n",
    "# Вывод результата\n",
    "print(\"Исходная матрица:\")\n",
    "print(A)\n",
    "print(\"Транспонированная матрица:\")\n",
    "print(B)\n",
    "print(C)"
   ]
  },
  {
   "cell_type": "markdown",
   "metadata": {},
   "source": [
    "Как видно, результаты выполнения методов numpy.transpose() и T совпадают и равны транспонированной матрице, полученной из исходной матрицы A."
   ]
  },
  {
   "cell_type": "markdown",
   "metadata": {},
   "source": [
    "### Sympy"
   ]
  },
  {
   "cell_type": "markdown",
   "metadata": {},
   "source": [
    "Транспонирование матрицы в SymPy можно выполнить с помощью метода transpose() или атрибута T. Оба метода возвращают новую матрицу, которая получается из исходной матрицы путем замены строк на столбцы (и наоборот). Пример транспонирования матрицы с помощью библиотеки SymPy:"
   ]
  },
  {
   "cell_type": "code",
   "execution_count": 11,
   "metadata": {},
   "outputs": [
    {
     "name": "stdout",
     "output_type": "stream",
     "text": [
      "Исходная матрица:\n",
      "Matrix([[1, 2], [3, 4], [5, 6]])\n",
      "Транспонированная матрица:\n",
      "Matrix([[1, 3, 5], [2, 4, 6]])\n",
      "Matrix([[1, 3, 5], [2, 4, 6]])\n"
     ]
    }
   ],
   "source": [
    "# Создание матрицы\n",
    "A = sp.Matrix([[1, 2], [3, 4], [5, 6]])\n",
    "\n",
    "# Транспонирование матрицы\n",
    "B = A.transpose()\n",
    "C = A.T\n",
    "\n",
    "# Вывод результата\n",
    "print(\"Исходная матрица:\")\n",
    "print(A)\n",
    "print(\"Транспонированная матрица:\")\n",
    "print(B)\n",
    "print(C)"
   ]
  },
  {
   "cell_type": "markdown",
   "metadata": {},
   "source": [
    "Как видно, результаты выполнения методов sympy.Matrix.transpose() и T совпадают и равны транспонированной матрице, полученной из исходной матрицы A."
   ]
  },
  {
   "cell_type": "markdown",
   "metadata": {},
   "source": [
    "## Использование единичной и обратной матриц <a class=\"anchor\" id=\"unit-and-inverse-matrices\"></a>"
   ]
  },
  {
   "cell_type": "markdown",
   "metadata": {},
   "source": [
    "### Numpy"
   ]
  },
  {
   "cell_type": "markdown",
   "metadata": {},
   "source": [
    "В библиотеке NumPy есть функции для создания единичной и обратной матриц.\n",
    "\n",
    "Единичная матрица - это квадратная матрица, у которой все элементы главной диагонали равны 1, а остальные элементы равны 0. Единичную матрицу в NumPy можно создать с помощью функции eye. Например, чтобы создать 3x3 единичную матрицу, нужно использовать следующий код:"
   ]
  },
  {
   "cell_type": "code",
   "execution_count": 12,
   "metadata": {
    "scrolled": false
   },
   "outputs": [
    {
     "name": "stdout",
     "output_type": "stream",
     "text": [
      "[[1. 0. 0.]\n",
      " [0. 1. 0.]\n",
      " [0. 0. 1.]]\n"
     ]
    }
   ],
   "source": [
    "import numpy as np\n",
    "\n",
    "I = np.eye(3)\n",
    "print(I)"
   ]
  },
  {
   "cell_type": "markdown",
   "metadata": {},
   "source": [
    "Обратная матрица - это квадратная матрица, которая, умноженная на исходную матрицу, дает единичную матрицу. В Для создания обратной матрицы можно использовать функцию numpy.linalg.inv. Если матрица необратима, то функция numpy.linalg.inv() выдаст ошибку. Например, чтобы найти обратную матрицу для матрицы A, можно использовать следующий код:"
   ]
  },
  {
   "cell_type": "code",
   "execution_count": 13,
   "metadata": {},
   "outputs": [
    {
     "name": "stdout",
     "output_type": "stream",
     "text": [
      "[[-2.   1. ]\n",
      " [ 1.5 -0.5]]\n"
     ]
    }
   ],
   "source": [
    "A = np.array([[1, 2], [3, 4]])\n",
    "A_inv = np.linalg.inv(A)\n",
    "print(A_inv)"
   ]
  },
  {
   "cell_type": "markdown",
   "metadata": {},
   "source": [
    "### Sympy"
   ]
  },
  {
   "cell_type": "markdown",
   "metadata": {},
   "source": [
    "Единичную матрицу в SymPy можно создать с помощью функции eye из модуля sympy. Например, чтобы создать 3x3 единичную матрицу, нужно использовать следующий код:"
   ]
  },
  {
   "cell_type": "code",
   "execution_count": 14,
   "metadata": {},
   "outputs": [
    {
     "name": "stdout",
     "output_type": "stream",
     "text": [
      "Matrix([[1, 0, 0], [0, 1, 0], [0, 0, 1]])\n"
     ]
    }
   ],
   "source": [
    "I = sp.eye(3)\n",
    "print(I)"
   ]
  },
  {
   "cell_type": "markdown",
   "metadata": {},
   "source": [
    "Для создания обратной матрицы можно использовать метод inv объекта Matrix. Например, чтобы найти обратную матрицу для матрицы A, можно использовать следующий код:"
   ]
  },
  {
   "cell_type": "code",
   "execution_count": 15,
   "metadata": {
    "scrolled": true
   },
   "outputs": [
    {
     "name": "stdout",
     "output_type": "stream",
     "text": [
      "Matrix([[-2, 1], [3/2, -1/2]])\n"
     ]
    }
   ],
   "source": [
    "A = sp.Matrix([[1, 2], [3, 4]])\n",
    "A_inv = A.inv()\n",
    "print(A_inv)"
   ]
  },
  {
   "cell_type": "markdown",
   "metadata": {},
   "source": [
    "Обратная матрица для матрицы A существует только если определитель A не равен нулю. Если определитель равен нулю, то обратной матрицы не существует."
   ]
  },
  {
   "cell_type": "markdown",
   "metadata": {},
   "source": [
    "## Ранг матрицы <a class=\"anchor\" id=\"matrix-rank\"></a>"
   ]
  },
  {
   "cell_type": "markdown",
   "metadata": {},
   "source": [
    "### Numpy"
   ]
  },
  {
   "cell_type": "markdown",
   "metadata": {},
   "source": [
    "Чтобы вычислить ранг матрицы в NumPy, можно воспользоваться функцией numpy.linalg.matrix_rank(). Эта функция принимает матрицу в качестве аргумента и возвращает ее ранг."
   ]
  },
  {
   "cell_type": "code",
   "execution_count": 16,
   "metadata": {},
   "outputs": [
    {
     "name": "stdout",
     "output_type": "stream",
     "text": [
      "Матрица:\n",
      " [[1 2 3]\n",
      " [4 5 6]\n",
      " [7 8 9]]\n",
      "Ранг матрицы: 2\n"
     ]
    }
   ],
   "source": [
    "# Создание матрицы\n",
    "matrix = np.array([[1, 2, 3],\n",
    "                   [4, 5, 6],\n",
    "                   [7, 8, 9]])\n",
    "\n",
    "# Вычисление ранга матрицы\n",
    "rank = np.linalg.matrix_rank(matrix)\n",
    "\n",
    "print(\"Матрица:\\n\", matrix)\n",
    "print(\"Ранг матрицы:\", rank)"
   ]
  },
  {
   "cell_type": "markdown",
   "metadata": {},
   "source": [
    "### Sympy"
   ]
  },
  {
   "cell_type": "markdown",
   "metadata": {},
   "source": [
    "Чтобы вычислить ранг матрицы с помощью библиотеки SymPy, нужно сначала создать матрицу с помощью класса Matrix из модуля sympy.matrices. Затем можно использовать метод rank() для вычисления ранга матрицы."
   ]
  },
  {
   "cell_type": "code",
   "execution_count": 17,
   "metadata": {},
   "outputs": [
    {
     "name": "stdout",
     "output_type": "stream",
     "text": [
      "Матрица:\n",
      " Matrix([[1, 2, 3], [4, 5, 6], [7, 8, 9]])\n",
      "Ранг матрицы: 2\n"
     ]
    }
   ],
   "source": [
    "# Создание матрицы\n",
    "matrix = sp.Matrix([[1, 2, 3],\n",
    "                    [4, 5, 6],\n",
    "                    [7, 8, 9]])\n",
    "\n",
    "# Вычисление ранга матрицы\n",
    "rank = matrix.rank()\n",
    "\n",
    "print(\"Матрица:\\n\", matrix)\n",
    "print(\"Ранг матрицы:\", rank)\n"
   ]
  },
  {
   "cell_type": "markdown",
   "metadata": {},
   "source": [
    "## Определитель матрицы <a class=\"anchor\" id=\"matrix-determinant\"></a>"
   ]
  },
  {
   "cell_type": "markdown",
   "metadata": {},
   "source": [
    "### Numpy"
   ]
  },
  {
   "cell_type": "markdown",
   "metadata": {},
   "source": [
    "В NumPy определитель матрицы можно вычислить с помощью функции numpy.linalg.det(). Функция принимает матрицу в качестве аргумента и возвращает ее определитель.\n",
    "\n",
    "Пример использования функции numpy.linalg.det() в NumPy:"
   ]
  },
  {
   "cell_type": "code",
   "execution_count": 18,
   "metadata": {},
   "outputs": [
    {
     "name": "stdout",
     "output_type": "stream",
     "text": [
      "Матрица A:\n",
      "[[1 2 3]\n",
      " [4 5 6]\n",
      " [7 8 9]]\n",
      "Определитель матрицы det(A) = 0.0\n"
     ]
    }
   ],
   "source": [
    "# Создание матрицы\n",
    "A = np.array([[1, 2, 3], [4, 5, 6], [7, 8, 9]])\n",
    "\n",
    "# Вычисление определителя матрицы\n",
    "det_A = np.linalg.det(A)\n",
    "\n",
    "print(\"Матрица A:\")\n",
    "print(A)\n",
    "print(f\"Определитель матрицы det(A) = {det_A}\")"
   ]
  },
  {
   "cell_type": "markdown",
   "metadata": {},
   "source": [
    "Как видно, в примере создается матрица A, находится ее определитель с помощью функции numpy.linalg.det(), и выводится на экран. Определитель матрицы A равен -9.51619735392994e-16. Обратите внимание, что значение определителя матрицы может быть достаточно малым или большим из-за погрешностей округления."
   ]
  },
  {
   "cell_type": "markdown",
   "metadata": {},
   "source": [
    "### Sympy"
   ]
  },
  {
   "cell_type": "markdown",
   "metadata": {},
   "source": [
    "В SymPy определитель матрицы можно вычислить с помощью функции sympy.det(). Функция принимает матрицу в качестве аргумента и возвращает ее определитель.\n",
    "\n",
    "Пример использования функции sympy.det() в SymPy:"
   ]
  },
  {
   "cell_type": "code",
   "execution_count": 19,
   "metadata": {},
   "outputs": [
    {
     "name": "stdout",
     "output_type": "stream",
     "text": [
      "Матрица A:\n",
      "Matrix([[1, 2, 3], [4, 5, 6], [7, 8, 9]])\n",
      "Определитель матрицы det(A) = 0\n"
     ]
    }
   ],
   "source": [
    "# Создание матрицы\n",
    "A = sp.Matrix([[1, 2, 3], [4, 5, 6], [7, 8, 9]])\n",
    "\n",
    "# Вычисление определителя матрицы\n",
    "det_A = A.det()\n",
    "\n",
    "print(\"Матрица A:\")\n",
    "print(A)\n",
    "print(f\"Определитель матрицы det(A) = {det_A}\")"
   ]
  },
  {
   "cell_type": "markdown",
   "metadata": {},
   "source": [
    "Как видно, в примере создается матрица A, находится ее определитель с помощью функции sympy.Matrix.det(), и выводится на экран. Определитель матрицы A равен 0. Обратите внимание, что значение определителя матрицы может быть достаточно малым или большим из-за погрешностей округления. Также SymPy может вычислять определитель матрицы, содержащей символы в явном виде."
   ]
  }
 ],
 "metadata": {
  "kernelspec": {
   "display_name": "Python 3 (ipykernel)",
   "language": "python",
   "name": "python3"
  },
  "language_info": {
   "codemirror_mode": {
    "name": "ipython",
    "version": 3
   },
   "file_extension": ".py",
   "mimetype": "text/x-python",
   "name": "python",
   "nbconvert_exporter": "python",
   "pygments_lexer": "ipython3",
   "version": "3.10.12"
  }
 },
 "nbformat": 4,
 "nbformat_minor": 1
}
