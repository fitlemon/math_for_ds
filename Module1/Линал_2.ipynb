{
  "nbformat": 4,
  "nbformat_minor": 0,
  "metadata": {
    "colab": {
      "provenance": []
    },
    "kernelspec": {
      "name": "python3",
      "display_name": "Python 3"
    },
    "language_info": {
      "name": "python"
    }
  },
  "cells": [
    {
      "cell_type": "markdown",
      "source": [
        "## Система уравнений для линейной регрессии"
      ],
      "metadata": {
        "id": "bUiyMzMVFFty"
      }
    },
    {
      "cell_type": "markdown",
      "source": [
        "Линейная регрессия: значение целевой переменной 𝑦 определяется взвешенной суммой значений признаков:\n",
        "\n",
        "$$y = w_{1}x_{1} + w_{2}x_{2} + \\dots + w_{n}x_{n} + b$$\n",
        "\n",
        "Отсюда для датасета с $n$ столбцами и $m$ строками получаем уравнение:\n",
        "\n",
        "$$\\boldsymbol{y} = X\\boldsymbol{w}$$ где $X \\in \\mathbb{R}^{m\\times n}$.\n"
      ],
      "metadata": {
        "id": "Imxy8NMFFJSJ"
      }
    },
    {
      "cell_type": "markdown",
      "source": [
        "## Свойство 1"
      ],
      "metadata": {
        "id": "wLo1yiA7rfHG"
      }
    },
    {
      "cell_type": "markdown",
      "source": [
        "**Линейная незавивисимость и ранг**\n",
        "\n",
        "Предполагаем, что признаки не зависимы, т. е. ни один из векторов $\\{\\overline{x}_1, \\overline{x}_2, \\dots, \\overline{x}_n\\}\\in\\mathbb{R}^m$ нельзя получить как линейную комбинацию остальных.\n",
        "\n",
        "Вопрос: чему тогда равен ранг матрицы $X$?"
      ],
      "metadata": {
        "id": "h32DSZFXI6VO"
      }
    },
    {
      "cell_type": "markdown",
      "source": [
        "## Свойство 2"
      ],
      "metadata": {
        "id": "DOzFwoCUa1xU"
      }
    },
    {
      "cell_type": "markdown",
      "source": [
        "**Транспонирование**\n",
        "\n",
        "Найти такую $X^T$, что $X^T_{ij} = X_{ji}$.\n",
        "\n",
        "Вопрос: какая будет размерность у $X^T \\cdot X$?"
      ],
      "metadata": {
        "id": "1kXcU0xGa1xV"
      }
    },
    {
      "cell_type": "markdown",
      "source": [
        "## Свойство 3"
      ],
      "metadata": {
        "id": "KlfYKUzmfFuF"
      }
    },
    {
      "cell_type": "markdown",
      "source": [
        "**Обратная матрица**\n",
        "\n",
        "Найти такую $X^{-1}$, что $X^{-1}X = I$.\n",
        "\n",
        "Вопрос: каковы условия обратимости матрицы?"
      ],
      "metadata": {
        "id": "KgtL-wM0dmPv"
      }
    },
    {
      "cell_type": "markdown",
      "source": [
        "## Матричное решение системы"
      ],
      "metadata": {
        "id": "YWsVRHTHrYrY"
      }
    },
    {
      "cell_type": "markdown",
      "source": [
        "$$\n",
        "\\begin{align*}\n",
        "    \\boldsymbol{y} &= X\\boldsymbol{w} \\\\\n",
        "    X^{T}\\boldsymbol{y} &= X^{T}X\\boldsymbol{w} \\\\\n",
        "    \\boldsymbol{w} &= {(X^{T}X)}^{-1}X^{T}\\boldsymbol{y}    \n",
        "\\end{align*}\n",
        "$$"
      ],
      "metadata": {
        "id": "-SSHrjbYra2G"
      }
    }
  ]
}