{
 "cells": [
  {
   "cell_type": "markdown",
   "metadata": {},
   "source": [
    "# Содержание\n",
    "\n",
    "1. [Операции с производными](#derivatives-operations)\n",
    "    1. [Нахождение производной функции](#differentiation)\n",
    "    2. [Нахождение производной функции в точке](#differentiation-at-point)"
   ]
  },
  {
   "cell_type": "markdown",
   "metadata": {},
   "source": [
    "# Операции с производными  <a class=\"anchor\" id=\"derivatives-operations\"></a>"
   ]
  },
  {
   "cell_type": "markdown",
   "metadata": {},
   "source": [
    "Производная - это понятие, используемое в математике для описания того, как быстро изменяется функция в каждой точке.\n",
    "Если мы говорим о функции, которая описывает зависимость одной переменной от другой, то производная показывает, как быстро изменяется значение функции с изменением ее аргумента в каждой точке.\n",
    "\n",
    "Более формально, производная функции определяется как предел отношения приращения функции к приращению ее аргумента при стремлении приращения аргумента к нулю:\n",
    "\\begin{equation*}\n",
    "\\begin{gathered}\n",
    "     f'(x) = \\frac{f(x + \\Delta x) - f(x)}{\\Delta x}   \\\\\n",
    "    \\text{где $\\Delta x$ - бесконечно малое приращение аргумента.}\n",
    "\\end{gathered}\n",
    "\\end{equation*}\n",
    "Эта формула показывает, как быстро изменяется функция f(x) в точке x.\n",
    "Если производная положительна, то функция возрастает в этой точке, если отрицательна - функция убывает.\n",
    "Если производная равна нулю, то функция имеет экстремум (максимум или минимум) в этой точке."
   ]
  },
  {
   "cell_type": "code",
   "execution_count": 1,
   "metadata": {},
   "outputs": [],
   "source": [
    "import numpy as np\n",
    "import sympy as sp"
   ]
  },
  {
   "cell_type": "markdown",
   "metadata": {},
   "source": [
    "##  Нахождение производной функции <a class=\"anchor\" id=\"differentiation\"></a>"
   ]
  },
  {
   "cell_type": "markdown",
   "metadata": {},
   "source": [
    "### Sympy"
   ]
  },
  {
   "cell_type": "markdown",
   "metadata": {},
   "source": [
    "Библиотека Sympy очень удобна для нахождения производных сложных функций. Для нахождения производной функции $\\cos(x^2) * 5x^3$ с помощью SymPy, можно использовать следующий код"
   ]
  },
  {
   "cell_type": "code",
   "execution_count": 2,
   "metadata": {},
   "outputs": [
    {
     "name": "stdout",
     "output_type": "stream",
     "text": [
      "-10*x**4*sin(x**2) + 15*x**2*cos(x**2)\n"
     ]
    }
   ],
   "source": [
    "# Создаем символьную переменную\n",
    "x = sp.Symbol('x')\n",
    "\n",
    "# Определяем функцию\n",
    "f = sp.cos(x**2) * 5 * x**3\n",
    "\n",
    "# Находим производную функции f\n",
    "df = sp.diff(f, x)\n",
    "\n",
    "# Выводим производную функции f\n",
    "print(df)"
   ]
  },
  {
   "cell_type": "markdown",
   "metadata": {},
   "source": [
    "##  Нахождение производной функции в точке <a class=\"anchor\" id=\"differentiation-at-point\"></a>"
   ]
  },
  {
   "cell_type": "markdown",
   "metadata": {},
   "source": [
    "### Python"
   ]
  },
  {
   "cell_type": "markdown",
   "metadata": {},
   "source": [
    "Для вычисления производной функции в заданной точке с помощью Python можно воспользоваться формулой численной производной. Для этого необходимо вычислить конечную разность функции в точке, используя значения функции в двух близлежащих точках.\n",
    "\n",
    "Например, давайте рассмотрим функцию y = $x^2$ и найдем ее производную в точке x = 2 с помощью Python:"
   ]
  },
  {
   "cell_type": "code",
   "execution_count": 3,
   "metadata": {},
   "outputs": [
    {
     "name": "stdout",
     "output_type": "stream",
     "text": [
      "Значение производной в точке x0:\n",
      "4.000010000027032\n"
     ]
    }
   ],
   "source": [
    "# Определяем функцию\n",
    "def f(x):\n",
    "    return x**2\n",
    "\n",
    "# Определяем точку, в которой будем вычислять производную\n",
    "x0 = 2\n",
    "\n",
    "# Определяем шаг дискретизации\n",
    "h = 0.00001\n",
    "\n",
    "# Вычисляем конечную разность функции в точке x0\n",
    "df_dx = (f(x0 + h) - f(x0)) / h\n",
    "\n",
    "# Выводим результат\n",
    "print(\"Значение производной в точке x0:\")\n",
    "print(df_dx)"
   ]
  },
  {
   "cell_type": "markdown",
   "metadata": {},
   "source": [
    "Результатом будет значение производной функции в точке x = 2, вычисленное с помощью формулы численной производной. Чтобы улучшить точность вычислений, можно уменьшить шаг дискретизации h, например, до 0.00001 или 0.000001.\n",
    "\n",
    "Если функция имеет сложную формулу или не задана явно, можно воспользоваться методом numpy.gradient()"
   ]
  },
  {
   "cell_type": "markdown",
   "metadata": {},
   "source": [
    "### Sympy"
   ]
  },
  {
   "cell_type": "markdown",
   "metadata": {},
   "source": [
    "Чтобы найти производную функции $x^2$ в точке 2 с помощью SymPy, можно определить символьную переменную x и символьную функцию $y = x^2$, вычислить ее производную с помощью метода diff(), а затем подставить значение x = 2 в выражение для производной, используя метод subs()."
   ]
  },
  {
   "cell_type": "code",
   "execution_count": 4,
   "metadata": {},
   "outputs": [
    {
     "name": "stdout",
     "output_type": "stream",
     "text": [
      "Значение производной функции x^2 в точке x0:\n",
      "4\n"
     ]
    }
   ],
   "source": [
    "# Определяем символьную переменную\n",
    "x = sp.Symbol('x')\n",
    "\n",
    "# Определяем функцию\n",
    "y = x**2\n",
    "x0 = 2\n",
    "\n",
    "# Вычисляем производную функции\n",
    "dy_dx = y.diff(x)\n",
    "\n",
    "# Вычисляем значение производной в точке x = 2\n",
    "dy_dx_value = dy_dx.subs(x, x0)\n",
    "\n",
    "# Выводим результат\n",
    "print(\"Значение производной функции x^2 в точке x0:\")\n",
    "print(dy_dx_value)"
   ]
  },
  {
   "cell_type": "code",
   "execution_count": null,
   "metadata": {},
   "outputs": [],
   "source": []
  }
 ],
 "metadata": {
  "kernelspec": {
   "display_name": "Python 3 (ipykernel)",
   "language": "python",
   "name": "python3"
  },
  "language_info": {
   "codemirror_mode": {
    "name": "ipython",
    "version": 3
   },
   "file_extension": ".py",
   "mimetype": "text/x-python",
   "name": "python",
   "nbconvert_exporter": "python",
   "pygments_lexer": "ipython3",
   "version": "3.10.12"
  }
 },
 "nbformat": 4,
 "nbformat_minor": 1
}
