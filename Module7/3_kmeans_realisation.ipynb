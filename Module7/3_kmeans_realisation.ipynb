{
 "cells": [
  {
   "cell_type": "markdown",
   "metadata": {
    "tags": []
   },
   "source": [
    "# Цель занятия\n",
    "На этом занятии мы рассмотрим применение алгоритма K-Means для задачи кластеризации."
   ]
  },
  {
   "cell_type": "markdown",
   "metadata": {
    "id": "h93nb1trtwhu"
   },
   "source": [
    "K-means (K-средних) - это алгоритм машинного обучения для кластеризации данных. Он пытается разделить набор данных на заранее заданное количество кластеров (K) таким образом, чтобы точки внутри одного кластера были похожи друг на друга, а точки из разных кластеров отличались.\n",
    "\n",
    "Алгоритм K-средних работает следующим образом:\n",
    "1. Инициализация: Задается количество кластеров K и выбираются случайные центроиды для каждого кластера.\n",
    "2. Назначение точек кластерам: Каждая точка данных относится к ближайшему центроиду на основе евклидового расстояния.\n",
    "3. Пересчет центроидов: Для каждого кластера вычисляется новый центроид, как среднее значение всех точек, отнесенных к этому кластеру.\n",
    "4. Повторение шагов 2 и 3: Шаги 2 и 3 повторяются до тех пор, пока центроиды не перестанут значительно изменяться или не будет достигнуто максимальное количество итераций.\n",
    "\n",
    "Алгоритм K-средних стремится минимизировать суммарное квадратичное отклонение точек от центроидов внутри каждого кластера. Он является одним из наиболее популярных и простых алгоритмов кластеризации и широко используется в различных областях, включая анализ данных, обработку изображений и многие другие."
   ]
  },
  {
   "cell_type": "code",
   "execution_count": null,
   "metadata": {},
   "outputs": [],
   "source": [
    "import numpy as np\n",
    "import matplotlib.pyplot as plt\n",
    "from sklearn.cluster import KMeans\n",
    "from sklearn.datasets import make_blobs\n",
    "from sklearn.metrics import silhouette_score\n",
    "import warnings\n",
    "warnings.filterwarnings(\"ignore\")"
   ]
  },
  {
   "cell_type": "code",
   "execution_count": null,
   "metadata": {},
   "outputs": [],
   "source": [
    "# Генерируем случайные данные\n",
    "np.random.seed(0)\n",
    "X, _ = make_blobs(n_samples=200, centers=4, random_state=0, cluster_std=0.7)"
   ]
  },
  {
   "cell_type": "code",
   "execution_count": null,
   "metadata": {},
   "outputs": [],
   "source": [
    "# Задаем диапазон количества кластеров\n",
    "min_clusters = 2\n",
    "max_clusters = 10\n",
    "\n",
    "# Создаем пустые списки для сохранения значений инерции и коэффициента силуэта\n",
    "inertias = []\n",
    "silhouette_scores = []"
   ]
  },
  {
   "cell_type": "code",
   "execution_count": null,
   "metadata": {},
   "outputs": [],
   "source": [
    "# Пробуем разное количество кластеров\n",
    "for n_clusters in range(min_clusters, max_clusters + 1):\n",
    "    # Применяем алгоритм K-Means\n",
    "    kmeans = KMeans(n_clusters=n_clusters, random_state=0)\n",
    "    kmeans.fit(X)\n",
    "    \n",
    "    # Сохраняем значения инерции и коэффициента силуэта\n",
    "    inertias.append(kmeans.inertia_)\n",
    "    silhouette_scores.append(silhouette_score(X, kmeans.labels_))"
   ]
  },
  {
   "cell_type": "markdown",
   "metadata": {},
   "source": [
    "Метод локтя является одним из распространенных подходов для выбора оптимального количества кластеров в алгоритме K-Means. Он основан на анализе инерции (или суммы квадратов расстояний) внутри кластеров.\n",
    "\n",
    "Инерция представляет собой меру того, насколько точки внутри каждого кластера близки друг к другу. Чем меньше значение инерции, тем более компактны и плотные кластеры. Цель K-Means - минимизировать инерцию путем нахождения оптимальных центров кластеров.\n",
    "\n",
    "Метод локтя предполагает, что оптимальное количество кластеров соответствует \"локтевой точке\" на графике инерции в зависимости от количества кластеров. Идея состоит в том, чтобы выбрать количество кластеров, после которого увеличение количества кластеров приводит к уменьшению инерции с гораздо меньшими темпами. Это может быть интерпретировано как точка, где добавление дополнительных кластеров не приносит значительного улучшения.\n",
    "\n",
    "На графике метода локтя обычно отображается количество кластеров по оси x и инерция по оси y. Выглядит это как график, который напоминает сгиб руки в локте. Мы ищем \"локтевую точку\" на этой кривой - точку, где сгиб происходит.\n",
    "\n",
    "Определение оптимального количества кластеров с использованием метода локтя требует некоторой субъективности, поскольку нет однозначного определения \"локтевой точки\". Но метод локтя предоставляет важную информацию и помогает принять решение о количестве кластеров, исходя из изменения инерции."
   ]
  },
  {
   "cell_type": "code",
   "execution_count": null,
   "metadata": {},
   "outputs": [],
   "source": [
    "# Визуализация метода локтя\n",
    "plt.figure(figsize=(10, 6))\n",
    "plt.plot(range(min_clusters, max_clusters + 1), inertias, marker='o')\n",
    "plt.title('K-Means Elbow Method')\n",
    "plt.xlabel('Number of Clusters')\n",
    "plt.ylabel('Inertia')\n",
    "plt.show()"
   ]
  },
  {
   "cell_type": "code",
   "execution_count": null,
   "metadata": {},
   "outputs": [],
   "source": [
    "# Визуализация коэффициента силуэта\n",
    "plt.figure(figsize=(10, 6))\n",
    "plt.plot(range(min_clusters, max_clusters + 1), silhouette_scores, marker='o')\n",
    "plt.title('K-Means Silhouette Score')\n",
    "plt.xlabel('Number of Clusters')\n",
    "plt.ylabel('Silhouette Score')\n",
    "plt.show()"
   ]
  },
  {
   "cell_type": "markdown",
   "metadata": {},
   "source": [
    "В этом примере мы сначала генерируем случайные данные с помощью функции make_blobs из модуля sklearn.datasets. Мы используем данные с 4 кластерами.\n",
    "\n",
    "Затем мы задаем диапазон количества кластеров, от min_clusters до max_clusters.\n",
    "\n",
    "Далее мы создаем пустые списки inertias и silhouette_scores для сохранения значений инерции и коэффициента силуэта для каждого количества кластеров.\n",
    "\n",
    "Затем мы пробуем разное количество кластеров, применяя алгоритм K-Means для каждого количества кластеров. Мы сохраняем значения инерции (inertias) и коэффициента силуэта (silhouette_scores).\n",
    "\n",
    "После завершения цикла, мы визуализируем метод локтя, строя график инерции в зависимости от количества кластеров.\n",
    "\n",
    "Затем мы также визуализируем коэффициент силуэта, строя график коэффициента силуэта в зависимости от количества кластеров."
   ]
  }
 ],
 "metadata": {
  "colab": {
   "collapsed_sections": [],
   "name": "Data Wrangling & EDA with Pandas.ipynb",
   "provenance": []
  },
  "kernelspec": {
   "display_name": "Python 3 (ipykernel)",
   "language": "python",
   "name": "python3"
  },
  "language_info": {
   "codemirror_mode": {
    "name": "ipython",
    "version": 3
   },
   "file_extension": ".py",
   "mimetype": "text/x-python",
   "name": "python",
   "nbconvert_exporter": "python",
   "pygments_lexer": "ipython3",
   "version": "3.10.0"
  },
  "toc-autonumbering": true,
  "toc-showcode": false,
  "toc-showmarkdowntxt": false,
  "toc-showtags": false
 },
 "nbformat": 4,
 "nbformat_minor": 4
}
