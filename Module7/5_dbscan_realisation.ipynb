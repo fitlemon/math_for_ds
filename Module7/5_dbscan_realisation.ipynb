{
 "cells": [
  {
   "cell_type": "markdown",
   "metadata": {
    "tags": []
   },
   "source": [
    "# Цель занятия\n",
    "На этом занятии мы рассмотрим применение алгоритма DBSCAN для задачи кластеризации."
   ]
  },
  {
   "cell_type": "markdown",
   "metadata": {
    "id": "h93nb1trtwhu"
   },
   "source": [
    "Процесс обучения алгоритма DBSCAN состоит из следующих шагов:\n",
    "1. Задание параметров: Прежде чем приступить к обучению DBSCAN, необходимо задать параметры алгоритма. Главными параметрами являются:\n",
    "    eps (epsilon): радиус окрестности, в пределах которой точки считаются соседними.\n",
    "    min_samples: минимальное количество точек в окрестности, необходимое для определения основной точки.\n",
    "    Значения этих параметров должны быть выбраны в соответствии с характеристиками данных и требуемым уровнем плотности точек.\n",
    "2. Вычисление плотности: Алгоритм DBSCAN анализирует плотность точек в пространстве данных. Для каждой точки вычисляется число соседей, находящихся в пределах заданного радиуса eps.\n",
    "3. Определение типов точек: В зависимости от числа соседей каждая точка может быть классифицирована как:\n",
    "    Основная точка (core point): точка, для которой число соседей в окрестности eps превышает или равно min_samples.\n",
    "    Граничная точка (border point): точка, для которой число соседей в окрестности eps меньше min_samples, но находится в окрестности основной точки.\n",
    "    Шумовая точка (noise point): точка, для которой число соседей в окрестности eps меньше min_samples и не находится в окрестности основной точки.\n",
    "4. Формирование кластеров: DBSCAN идентифицирует связанные основные точки и объединяет их в кластеры. Две точки считаются связанными, если есть путь от одной точки к другой через серию соседних точек, и каждая точка на этом пути также является основной. В результате формируются кластеры различной формы и размеров.\n",
    "5. Маркировка граничных точек: Граничные точки, которые не принадлежат ни одному кластеру, могут быть отмечены соответствующим образом или оставаться без метки.\n",
    "\n",
    "Важно отметить, что DBSCAN не требует явного обучения или итераций, как в случае с алгоритмами, основанными на центроидах, например, K-средних. Он основывается на анализе плотности точек и обнаружении связанных областей в данных. Поэтому процесс работы DBSCAN не включает фазы обучения и тестирования, а только параметризацию и применение алгоритма к данным."
   ]
  },
  {
   "cell_type": "code",
   "execution_count": null,
   "metadata": {},
   "outputs": [],
   "source": [
    "import numpy as np\n",
    "import matplotlib.pyplot as plt\n",
    "from sklearn.cluster import DBSCAN"
   ]
  },
  {
   "cell_type": "code",
   "execution_count": null,
   "metadata": {},
   "outputs": [],
   "source": [
    "# Генерируем случайные данные\n",
    "np.random.seed(0)\n",
    "X = np.random.randn(100, 2)"
   ]
  },
  {
   "cell_type": "code",
   "execution_count": null,
   "metadata": {},
   "outputs": [],
   "source": [
    "# Задаем параметры DBSCAN\n",
    "epsilon = 0.3  # Радиус окрестности\n",
    "min_samples = 5  # Минимальное количество соседей"
   ]
  },
  {
   "cell_type": "code",
   "execution_count": null,
   "metadata": {},
   "outputs": [],
   "source": [
    "# Применяем алгоритм DBSCAN\n",
    "dbscan = DBSCAN(eps=epsilon, min_samples=min_samples)\n",
    "dbscan.fit(X)\n",
    "\n",
    "# Получаем метки кластеров\n",
    "labels = dbscan.labels_"
   ]
  },
  {
   "cell_type": "code",
   "execution_count": null,
   "metadata": {},
   "outputs": [],
   "source": [
    "# Визуализация результатов\n",
    "plt.figure(figsize=(8, 6))\n",
    "plt.scatter(X[:, 0], X[:, 1], c=labels, cmap='viridis')\n",
    "plt.title('DBSCAN Clustering')\n",
    "plt.xlabel('X')\n",
    "plt.ylabel('Y')\n",
    "plt.show()"
   ]
  },
  {
   "cell_type": "code",
   "execution_count": null,
   "metadata": {},
   "outputs": [],
   "source": [
    "# Получаем количество кластеров\n",
    "num_clusters = len(set(labels)) - (1 if -1 in labels else 0)\n",
    "print(\"Количество кластеров:\", num_clusters)"
   ]
  }
 ],
 "metadata": {
  "colab": {
   "collapsed_sections": [],
   "name": "Data Wrangling & EDA with Pandas.ipynb",
   "provenance": []
  },
  "kernelspec": {
   "display_name": "Python 3 (ipykernel)",
   "language": "python",
   "name": "python3"
  },
  "language_info": {
   "codemirror_mode": {
    "name": "ipython",
    "version": 3
   },
   "file_extension": ".py",
   "mimetype": "text/x-python",
   "name": "python",
   "nbconvert_exporter": "python",
   "pygments_lexer": "ipython3",
   "version": "3.10.0"
  },
  "toc-autonumbering": true,
  "toc-showcode": false,
  "toc-showmarkdowntxt": false,
  "toc-showtags": false
 },
 "nbformat": 4,
 "nbformat_minor": 4
}
