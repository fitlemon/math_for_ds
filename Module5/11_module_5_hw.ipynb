{
 "cells": [
  {
   "cell_type": "markdown",
   "metadata": {},
   "source": [
    "Прежде чем проверять задания:\n",
    "- **Перезапустите ядро** (**restart the kernel**) (В меню, выбрать Ядро (Kernel) $\\rightarrow$ Перезапустить (Restart)\n",
    "- Затем **Выполнить все ячейки**  **run all cells** (В меню, выбрать Ячейка (Cell) $\\rightarrow$ Запустить все (Run All).\n",
    "\n",
    "Убедитесь, что заполнены все ячейки с комментарием \"НАЧАЛО ВАШЕГО РЕШЕНИЯ\".\n",
    "\n",
    "После ячеек с заданием следуют ячейки с проверкой с помощью assert.\n",
    "\n",
    "Если в коде есть ошибки, assert выведет уведомление об ошибке.\n",
    "\n",
    "Если в коде нет ошибок, assert отработает без вывода дополнительной информации."
   ]
  },
  {
   "cell_type": "markdown",
   "metadata": {},
   "source": [
    "---"
   ]
  },
  {
   "cell_type": "markdown",
   "metadata": {
    "deletable": false,
    "editable": false,
    "nbgrader": {
     "cell_type": "markdown",
     "checksum": "bb539edbcb31a15b083fea0c484d7061",
     "grade": false,
     "grade_id": "cell-9bf354ef0a7b3bab",
     "locked": true,
     "schema_version": 3,
     "solution": false,
     "task": false
    }
   },
   "source": [
    "# Цель занятия\n",
    "На этом занятии мы на практике закрепим работу с решающими деревьями, композициями деревьев на основе бэггинга и случайного леса."
   ]
  },
  {
   "cell_type": "markdown",
   "metadata": {
    "deletable": false,
    "editable": false,
    "nbgrader": {
     "cell_type": "markdown",
     "checksum": "7b2003ebfd0f5a46323f891b28b8c237",
     "grade": false,
     "grade_id": "cell-ad0908409300e6db",
     "locked": true,
     "schema_version": 3,
     "solution": false,
     "task": false
    }
   },
   "source": [
    "**Решающее дерево** - это алгоритм машинного обучения, который используется для решения задач классификации и регрессии. Оно представляет собой древовидную структуру, где каждый узел представляет тест на одном из признаков, а каждая ветвь - возможный результат этого теста. Листья дерева представляют собой конечный результат - прогноз для новых данных.\n",
    "\n",
    "В процессе построения решающего дерева, алгоритм выбирает тест, который лучше всего разделяет данные на различные классы или предсказывает значение целевой переменной. Затем данные разбиваются на две или более частей в соответствии с результатами теста. Этот процесс повторяется для каждой полученной части, пока не будет достигнут критерий останова."
   ]
  },
  {
   "cell_type": "code",
   "execution_count": 1,
   "metadata": {
    "deletable": false,
    "editable": false,
    "nbgrader": {
     "cell_type": "code",
     "checksum": "de60f66251d737c37f6d25cd83c22326",
     "grade": false,
     "grade_id": "cell-c37a4ea3f59325d2",
     "locked": true,
     "schema_version": 3,
     "solution": false,
     "task": false
    }
   },
   "outputs": [],
   "source": [
    "# импорт необходимых библиотек\n",
    "\n",
    "import numpy as np"
   ]
  },
  {
   "cell_type": "markdown",
   "metadata": {},
   "source": [
    "## Часть 1. Задание 1. Реализация критерия Джини.\n",
    "\n",
    "Функция gini_index принимает вектор y с дискретными значениями и вычисляет значение критерия Джини для данного вектора. В функции gini_index сначала подсчитывается количество уникальных значений в векторе y, затем вычисляется вероятность каждого уникального значения и, наконец, вычисляется значение критерия Джини. Отличие заключается в том, что значение критерия Джини вычисляется по формуле 1 - сумма квадратов вероятностей."
   ]
  },
  {
   "cell_type": "code",
   "execution_count": 2,
   "metadata": {},
   "outputs": [
    {
     "data": {
      "text/plain": [
       "array([0.66666667, 0.33333333])"
      ]
     },
     "execution_count": 2,
     "metadata": {},
     "output_type": "execute_result"
    }
   ],
   "source": [
    "y = np.array([0, 0, 1])\n",
    "_, counts = np.unique(y, return_counts=True)\n",
    "probs = counts / len(y)\n",
    "probs"
   ]
  },
  {
   "cell_type": "code",
   "execution_count": 3,
   "metadata": {
    "deletable": false,
    "nbgrader": {
     "cell_type": "code",
     "checksum": "89a7174dc0787bd1c51c38ecc3e28474",
     "grade": false,
     "grade_id": "cell-a3e6f52bfbf18e37",
     "locked": false,
     "schema_version": 3,
     "solution": true,
     "task": false
    }
   },
   "outputs": [],
   "source": [
    "# Завершите реализацию функции gini_index \n",
    "\n",
    "def gini_index(y):\n",
    "\n",
    "    # Вычисляет критерий Джини для вектора y со значениями дискретных переменных.\n",
    "\n",
    "    # Аргументы:\n",
    "    # - y: вектор numpy с дискретными значениями.\n",
    "\n",
    "    # Возвращает:\n",
    "    # - gini: значение критерия Джини типа float.\n",
    "\n",
    "    # Подсчитываем количество каждого уникального значения в y.\n",
    "    _, counts = np.unique(y, return_counts=True)\n",
    "    # Вычисляем вероятность каждого уникального значения.\n",
    "    probs = counts / len(y)\n",
    "    \n",
    "    if not len(probs):\n",
    "        return 0\n",
    "    \n",
    "    \"\"\"\n",
    "    Вычислите значение критерия Джини и запишите его в переменную criterion\n",
    "    Формула критерия Джини: 1 - сумма квадратов вероятностей  \n",
    "    Пример для энтропии: criterion = -np.sum(probs * np.log2(probs)) !!! заменить на формулу для Джини\n",
    "    \"\"\"\n",
    "    # НАЧАЛО ВАШЕГО РЕШЕНИЯ\n",
    "    criterion = 1 -  np.sum(np.square(probs))\n",
    "    # КОНЕЦ ВАШЕГО РЕШЕНИЯ\n",
    "    \n",
    "    return criterion"
   ]
  },
  {
   "cell_type": "code",
   "execution_count": 4,
   "metadata": {
    "deletable": false,
    "editable": false,
    "nbgrader": {
     "cell_type": "code",
     "checksum": "44f5914eb99c4c600d56120ddd3763bf",
     "grade": true,
     "grade_id": "cell-0d95db3083a6ee39",
     "locked": true,
     "points": 2,
     "schema_version": 3,
     "solution": false,
     "task": false
    }
   },
   "outputs": [],
   "source": [
    "# Пустой вектор: \n",
    "assert gini_index(np.array([])) == 0\n",
    "# Вектор с одним элементом:\n",
    "assert gini_index(np.array([1])) == 0\n",
    "# Вектор с двумя одинаковыми элементами: \n",
    "assert gini_index(np.array([2,2])) == 0\n",
    "# Вектор с двумя разными элементами: \n",
    "assert gini_index(np.array([1,2])) == 0.5\n",
    "# Вектор с тремя одинаковыми элементами: \n",
    "assert gini_index(np.array([0,0,0])) == 0\n",
    "# Вектор с тремя элементами, два из которых одинаковые: \n",
    "assert gini_index(np.array([0,0,1])) == 0.4444444444444444\n",
    "# Вектор с тремя элементами, все элементы разные: \n",
    "assert gini_index(np.array([1,2,3])) == 0.6666666666666667\n",
    "# Вектор с четырьмя одинаковыми элементами: \n",
    "assert gini_index(np.array([7,7,7,7])) == 0\n",
    "# Вектор с четырьмя элементами, два из которых одинаковые: \n",
    "assert gini_index(np.array([5,5,2,1])) == 0.625\n",
    "# Вектор с пятью элементами, все элементы разные:\n",
    "assert np.isclose(gini_index(np.array([5,4,3,2,1])), 0.7999999999999998, atol=0.1)"
   ]
  },
  {
   "cell_type": "markdown",
   "metadata": {},
   "source": [
    "## Часть 1.  Задание 2. Реализация прироста информации на основе критерия Джини.\n",
    "\n",
    "Для реализации прироста информации на основе критерия Джини для вектора признаков нужно вычислить критерий Джини для каждого разбиения и выбрать разбиение с наименьшим критерием Джини. "
   ]
  },
  {
   "cell_type": "code",
   "execution_count": 5,
   "metadata": {
    "deletable": false,
    "nbgrader": {
     "cell_type": "code",
     "checksum": "982749a66c32ac2c6b012e30c85a0519",
     "grade": false,
     "grade_id": "cell-42d71d240347b2d2",
     "locked": false,
     "schema_version": 3,
     "solution": true,
     "task": false
    }
   },
   "outputs": [],
   "source": [
    "def find_best_split_gini(X, y):\n",
    "\n",
    "    # Находит лучшее разбиение для вектора признаков X и вектора целевой переменной y, используя критерий Джини.\n",
    "\n",
    "    # Аргументы:\n",
    "    # - X: вектор numpy с вещественными значениями признаков.\n",
    "    # - y: вектор numpy с дискретными значениями целевой переменной.\n",
    "\n",
    "    # Возвращает:\n",
    "    # - best_feature: индекс признака, по которому было найдено лучшее разбиение.\n",
    "    # - best_threshold: значение порога, по которому было найдено лучшее разбиение.\n",
    "    # - best_gain: значение критерия энтропии для лучшего разбиения.\n",
    "\n",
    "    best_feature, best_threshold, best_gain = None, None, 0\n",
    "    # Итерируемся по всем признакам.\n",
    "    for feature in range(X.shape[1]):\n",
    "        # Находим уникальные значения признака.\n",
    "        thresholds = np.unique(X[:, feature])\n",
    "        # Итерируемся по всем возможным пороговым значениям признака.\n",
    "        for threshold in thresholds:\n",
    "            # Определяем индексы объектов, которые относятся к левому поддереву и правому поддереву.\n",
    "            left_indices = X[:, feature] <= threshold\n",
    "            right_indices = X[:, feature] > threshold\n",
    "            # Пропускаем текущую итерацию, если не найдены объекты, которые относятся к левому или правому поддереву.\n",
    "            if len(left_indices) == 0 or len(right_indices) == 0:\n",
    "                continue\n",
    "            # Определяем вектор целевой переменной для объектов, которые относятся к левому и правому поддереву.\n",
    "            left_y, right_y = y[left_indices], y[right_indices]\n",
    "            \"\"\"\n",
    "            Вычисляем значение прироста информации для текущего разбиения.\n",
    "            Необходимо сохранить результат вычисления в переменную gain\n",
    "            Пример для энтропии: \n",
    "            gain = entropy(y) - (len(left_y) / len(y)) * entropy(left_y) - (len(right_y) / len(y)) * entropy(right_y) \n",
    "            !!! заменить на вычисление критерия Джини\n",
    "            \"\"\"\n",
    "            # НАЧАЛО ВАШЕГО РЕШЕНИЯ\n",
    "            gain = gini_index(y) - (len(left_y) / len(y)) * gini_index(left_y) - (len(right_y) / len(y) * gini_index(right_y))\n",
    "            # КОНЕЦ ВАШЕГО РЕШЕНИЯ\n",
    "            # Обновляем значения лучшего разбиения, если найдено разбиение с большим значением\n",
    "            if gain > best_gain:\n",
    "                best_feature, best_threshold, best_gain = feature, threshold, gain\n",
    "    return best_feature, best_threshold, best_gain"
   ]
  },
  {
   "cell_type": "code",
   "execution_count": 6,
   "metadata": {
    "deletable": false,
    "editable": false,
    "nbgrader": {
     "cell_type": "code",
     "checksum": "c2a92ecc40cc66f97fdea2da2d7e59d2",
     "grade": true,
     "grade_id": "cell-d93de88faeb7870d",
     "locked": true,
     "points": 2,
     "schema_version": 3,
     "solution": false,
     "task": false
    }
   },
   "outputs": [],
   "source": [
    "# Проверим, что функция `find_best_split_gini` работает правильно на примере:\n",
    "\n",
    "X = np.array([[1, 2], [3, 4], [5, 6], [7, 8], [9, 10]])\n",
    "y = np.array([0, 1, 1, 0, 1])\n",
    "\n",
    "best_feature, best_threshold, best_gain = find_best_split_gini(X, y)\n",
    "\n",
    "\n",
    "assert best_feature == 0\n",
    "assert best_threshold == 1\n",
    "assert round(best_gain, 2) == 0.18\n",
    "\n",
    "\n",
    "# Проверим, что функция `find_best_split_gini` работает правильно на примере, когда все элементы одного класса:\n",
    "\n",
    "X = np.array([[1, 2], [3, 4], [5, 6], [7, 8], [9, 10]])\n",
    "y = np.array([0, 0, 0, 0, 0])\n",
    "\n",
    "best_feature, best_threshold, best_gain = find_best_split_gini(X, y)\n",
    "\n",
    "assert best_feature is None\n",
    "assert best_threshold is None\n",
    "assert best_gain == 0\n",
    "\n",
    "\n",
    "# Проверим, что функция `find_best_split_gini` работает правильно на примере, когда все признаки одинаковы:\n",
    "\n",
    "X = np.array([[1, 1], [1, 1], [1, 1], [1, 1], [1, 1]])\n",
    "y = np.array([0, 1, 1, 0, 1])\n",
    "\n",
    "best_feature, best_threshold, best_gain = find_best_split_gini(X, y)\n",
    "\n",
    "assert best_feature is None\n",
    "assert best_threshold is None\n",
    "assert best_gain == 0\n",
    "\n",
    "\n",
    "# Проверим, что функция `find_best_split_gini` работает правильно на примере, когда все элементы разных классов:\n",
    "\n",
    "X = np.array([[1, 2], [3, 4], [5, 6], [7, 8], [9, 10]])\n",
    "y = np.array([0, 1, 0, 1, 0])\n",
    "\n",
    "best_feature, best_threshold, best_gain = find_best_split_gini(X, y)\n",
    "\n",
    "assert best_feature == 0\n",
    "assert best_threshold == 1\n",
    "assert round(best_gain, 2) == 0.08"
   ]
  },
  {
   "cell_type": "markdown",
   "metadata": {
    "deletable": false,
    "editable": false,
    "nbgrader": {
     "cell_type": "markdown",
     "checksum": "f4ca75c9a2e41994e7337ba80acf0ed2",
     "grade": false,
     "grade_id": "cell-332919cbfa1f2c05",
     "locked": true,
     "schema_version": 3,
     "solution": false,
     "task": false
    }
   },
   "source": [
    "## Часть 2. Задание 3. Бэггинг для классификации\n",
    "\n",
    "В этом примере мы воспользуемся набором данных Iris.\n",
    "\n",
    "Нужно будет определить базовый оценщик как решающее дерево классификации, определить BaggingClassifier с количеством оценщиков n_estimators равным 10. Затем мы обучим модель на обучающем наборе данных и оценим ее производительность на тестовом наборе данных с помощью метрики точности (accuracy_score)."
   ]
  },
  {
   "cell_type": "code",
   "execution_count": 7,
   "metadata": {
    "deletable": false,
    "editable": false,
    "nbgrader": {
     "cell_type": "code",
     "checksum": "d9f738a096d2d17ee738cac7c4466924",
     "grade": false,
     "grade_id": "cell-8fc463e3a569e5e9",
     "locked": true,
     "schema_version": 3,
     "solution": false,
     "task": false
    }
   },
   "outputs": [],
   "source": [
    "# Загрузка библиотек\n",
    "from sklearn.ensemble import BaggingClassifier\n",
    "from sklearn.tree import DecisionTreeClassifier\n",
    "from sklearn.datasets import load_iris\n",
    "from sklearn.model_selection import train_test_split\n",
    "from sklearn.metrics import f1_score\n",
    "\n",
    "# Загрузка датасета\n",
    "iris = load_iris()\n",
    "X, y = iris.data, iris.target\n",
    "\n",
    "# Разделение набора данных на обучающий и тестовый наборы\n",
    "X_train, X_test, y_train, y_test = train_test_split(X, y, test_size=0.2, random_state=42)"
   ]
  },
  {
   "cell_type": "code",
   "execution_count": 8,
   "metadata": {
    "deletable": false,
    "nbgrader": {
     "cell_type": "code",
     "checksum": "3814d3ff67a3ade8b3aea3fbb500b933",
     "grade": false,
     "grade_id": "cell-c16141ee4486a672",
     "locked": false,
     "schema_version": 3,
     "solution": true,
     "task": false
    }
   },
   "outputs": [],
   "source": [
    "\"\"\"\n",
    "Инициализируйте бэггинг-классификатор на основе класса BaggingClassifier, \n",
    "в параметр estimator передайте значение DecisionTreeClassifier(), \n",
    "в параметр n_estimators - значение 30, \n",
    "в параметр random_state - значение 0.\n",
    "Экземпляр сохраните в переменную bagging\n",
    "\n",
    "Пример с другой моделью:\n",
    "bagging = BaggingClassifier(estimator=SVC(), n_estimators=10, random_state=1)\n",
    "\"\"\"\n",
    "# НАЧАЛО ВАШЕГО РЕШЕНИЯ\n",
    "bagging = BaggingClassifier(estimator=DecisionTreeClassifier(), n_estimators=30, random_state=0)\n",
    "# КОНЕЦ ВАШЕГО РЕШЕНИЯ"
   ]
  },
  {
   "cell_type": "code",
   "execution_count": 9,
   "metadata": {
    "deletable": false,
    "editable": false,
    "nbgrader": {
     "cell_type": "code",
     "checksum": "c34727cdce3e996b33b5b3bd65f2328a",
     "grade": true,
     "grade_id": "cell-a4b7b7488c61e7e9",
     "locked": true,
     "points": 2,
     "schema_version": 3,
     "solution": false,
     "task": false
    }
   },
   "outputs": [],
   "source": [
    "assert type(bagging) == BaggingClassifier"
   ]
  },
  {
   "cell_type": "code",
   "execution_count": 10,
   "metadata": {
    "deletable": false,
    "editable": false,
    "nbgrader": {
     "cell_type": "code",
     "checksum": "26f9bed7b03b1e10935fed8dac791115",
     "grade": false,
     "grade_id": "cell-1c98d09d5490639c",
     "locked": true,
     "schema_version": 3,
     "solution": false,
     "task": false
    }
   },
   "outputs": [],
   "source": [
    "# Обучение бэггинг-классификатора на обучающем наборе\n",
    "bagging.fit(X_train, y_train)\n",
    "\n",
    "# Оценка производительности бэггинг-классификатора на тестовом наборе\n",
    "y_pred = bagging.predict(X_test)"
   ]
  },
  {
   "cell_type": "code",
   "execution_count": 11,
   "metadata": {
    "deletable": false,
    "nbgrader": {
     "cell_type": "code",
     "checksum": "57f7d02f1664e064ffa94e906acc207f",
     "grade": false,
     "grade_id": "cell-33acde160292af9b",
     "locked": false,
     "schema_version": 3,
     "solution": true,
     "task": false
    }
   },
   "outputs": [
    {
     "name": "stdout",
     "output_type": "stream",
     "text": [
      "f1_macro: 1.0\n"
     ]
    }
   ],
   "source": [
    "\"\"\"\n",
    "Посчитайте f1_macro метрику для трех классов и сохраните в переменную f1_macro\n",
    "Пример для f1_micro:\n",
    "f1_micro = f1_score(y_test, y_pred, average='micro')\n",
    "\"\"\"\n",
    "# НАЧАЛО ВАШЕГО РЕШЕНИЯ\n",
    "f1_macro = f1_score(y_test, y_pred, average='macro')\n",
    "# КОНЕЦ ВАШЕГО РЕШЕНИЯ\n",
    "\n",
    "print(\"f1_macro:\", f1_macro)"
   ]
  },
  {
   "cell_type": "code",
   "execution_count": 12,
   "metadata": {
    "deletable": false,
    "editable": false,
    "nbgrader": {
     "cell_type": "code",
     "checksum": "f9c18256d05493197eafe4e9cbd56cb3",
     "grade": true,
     "grade_id": "cell-b68bea2a867a40ce",
     "locked": true,
     "points": 1,
     "schema_version": 3,
     "solution": false,
     "task": false
    }
   },
   "outputs": [],
   "source": [
    "assert f1_macro > 0.95"
   ]
  },
  {
   "cell_type": "markdown",
   "metadata": {
    "deletable": false,
    "editable": false,
    "nbgrader": {
     "cell_type": "markdown",
     "checksum": "91b88bf44d770c08dd5b2d59408cbee6",
     "grade": false,
     "grade_id": "cell-7d570636228d9211",
     "locked": true,
     "schema_version": 3,
     "solution": false,
     "task": false
    }
   },
   "source": [
    "## Часть 3. Задание 4. Случайный лес для регрессии\n",
    "\n",
    "Случайный лес (Random Forest) - это алгоритм машинного обучения, который является комбинацией множества решающих деревьев. Он применяется как для задач классификации, так и для задач регрессии.\n",
    "\n",
    "Суть метода заключается в том, что мы строим несколько деревьев решений на случайных подмножествах данных и случайных подмножествах признаков на каждом нелистовом узле, а затем усредняем их ответы для уменьшения эффекта переобучения. Для каждого дерева в случайном лесу используется только подмножество данных, которое выбирается случайным образом с возвращением (bootstrap).\n",
    "\n",
    "Кроме того, для каждого разбиения дерева в случайном лесу выбирается только подмножество признаков, которые можно использовать для разделения узлов. Это позволяет получить более разнообразные деревья и уменьшить вероятность переобучения."
   ]
  },
  {
   "cell_type": "code",
   "execution_count": 13,
   "metadata": {
    "deletable": false,
    "editable": false,
    "nbgrader": {
     "cell_type": "code",
     "checksum": "541f02d21d69d2a50aab2bfc45975250",
     "grade": false,
     "grade_id": "cell-4b968d3440b77d2c",
     "locked": true,
     "schema_version": 3,
     "solution": false,
     "task": false
    }
   },
   "outputs": [],
   "source": [
    "# загрузка библиотек\n",
    "import pandas as pd\n",
    "from sklearn.ensemble import RandomForestRegressor\n",
    "from sklearn.metrics import mean_absolute_error\n",
    "from sklearn.model_selection import train_test_split"
   ]
  },
  {
   "cell_type": "code",
   "execution_count": 14,
   "metadata": {
    "deletable": false,
    "editable": false,
    "nbgrader": {
     "cell_type": "code",
     "checksum": "87555a771029f1fbe0003cec2d3a8b17",
     "grade": false,
     "grade_id": "cell-c2ae8e3c342c443c",
     "locked": true,
     "schema_version": 3,
     "solution": false,
     "task": false
    }
   },
   "outputs": [
    {
     "data": {
      "text/html": [
       "<div>\n",
       "<style scoped>\n",
       "    .dataframe tbody tr th:only-of-type {\n",
       "        vertical-align: middle;\n",
       "    }\n",
       "\n",
       "    .dataframe tbody tr th {\n",
       "        vertical-align: top;\n",
       "    }\n",
       "\n",
       "    .dataframe thead th {\n",
       "        text-align: right;\n",
       "    }\n",
       "</style>\n",
       "<table border=\"1\" class=\"dataframe\">\n",
       "  <thead>\n",
       "    <tr style=\"text-align: right;\">\n",
       "      <th></th>\n",
       "      <th>crim</th>\n",
       "      <th>zn</th>\n",
       "      <th>indus</th>\n",
       "      <th>chas</th>\n",
       "      <th>nox</th>\n",
       "      <th>rm</th>\n",
       "      <th>age</th>\n",
       "      <th>dis</th>\n",
       "      <th>rad</th>\n",
       "      <th>tax</th>\n",
       "      <th>ptratio</th>\n",
       "      <th>black</th>\n",
       "      <th>lstat</th>\n",
       "      <th>medv</th>\n",
       "    </tr>\n",
       "  </thead>\n",
       "  <tbody>\n",
       "    <tr>\n",
       "      <th>1</th>\n",
       "      <td>0.00632</td>\n",
       "      <td>18.0</td>\n",
       "      <td>2.31</td>\n",
       "      <td>0</td>\n",
       "      <td>0.538</td>\n",
       "      <td>6.575</td>\n",
       "      <td>65.2</td>\n",
       "      <td>4.0900</td>\n",
       "      <td>1</td>\n",
       "      <td>296</td>\n",
       "      <td>15.3</td>\n",
       "      <td>396.90</td>\n",
       "      <td>4.98</td>\n",
       "      <td>24.0</td>\n",
       "    </tr>\n",
       "    <tr>\n",
       "      <th>2</th>\n",
       "      <td>0.02731</td>\n",
       "      <td>0.0</td>\n",
       "      <td>7.07</td>\n",
       "      <td>0</td>\n",
       "      <td>0.469</td>\n",
       "      <td>6.421</td>\n",
       "      <td>78.9</td>\n",
       "      <td>4.9671</td>\n",
       "      <td>2</td>\n",
       "      <td>242</td>\n",
       "      <td>17.8</td>\n",
       "      <td>396.90</td>\n",
       "      <td>9.14</td>\n",
       "      <td>21.6</td>\n",
       "    </tr>\n",
       "    <tr>\n",
       "      <th>3</th>\n",
       "      <td>0.02729</td>\n",
       "      <td>0.0</td>\n",
       "      <td>7.07</td>\n",
       "      <td>0</td>\n",
       "      <td>0.469</td>\n",
       "      <td>7.185</td>\n",
       "      <td>61.1</td>\n",
       "      <td>4.9671</td>\n",
       "      <td>2</td>\n",
       "      <td>242</td>\n",
       "      <td>17.8</td>\n",
       "      <td>392.83</td>\n",
       "      <td>4.03</td>\n",
       "      <td>34.7</td>\n",
       "    </tr>\n",
       "    <tr>\n",
       "      <th>4</th>\n",
       "      <td>0.03237</td>\n",
       "      <td>0.0</td>\n",
       "      <td>2.18</td>\n",
       "      <td>0</td>\n",
       "      <td>0.458</td>\n",
       "      <td>6.998</td>\n",
       "      <td>45.8</td>\n",
       "      <td>6.0622</td>\n",
       "      <td>3</td>\n",
       "      <td>222</td>\n",
       "      <td>18.7</td>\n",
       "      <td>394.63</td>\n",
       "      <td>2.94</td>\n",
       "      <td>33.4</td>\n",
       "    </tr>\n",
       "    <tr>\n",
       "      <th>5</th>\n",
       "      <td>0.06905</td>\n",
       "      <td>0.0</td>\n",
       "      <td>2.18</td>\n",
       "      <td>0</td>\n",
       "      <td>0.458</td>\n",
       "      <td>7.147</td>\n",
       "      <td>54.2</td>\n",
       "      <td>6.0622</td>\n",
       "      <td>3</td>\n",
       "      <td>222</td>\n",
       "      <td>18.7</td>\n",
       "      <td>396.90</td>\n",
       "      <td>5.33</td>\n",
       "      <td>36.2</td>\n",
       "    </tr>\n",
       "  </tbody>\n",
       "</table>\n",
       "</div>"
      ],
      "text/plain": [
       "      crim    zn  indus  chas    nox     rm   age     dis  rad  tax  ptratio  \\\n",
       "1  0.00632  18.0   2.31     0  0.538  6.575  65.2  4.0900    1  296     15.3   \n",
       "2  0.02731   0.0   7.07     0  0.469  6.421  78.9  4.9671    2  242     17.8   \n",
       "3  0.02729   0.0   7.07     0  0.469  7.185  61.1  4.9671    2  242     17.8   \n",
       "4  0.03237   0.0   2.18     0  0.458  6.998  45.8  6.0622    3  222     18.7   \n",
       "5  0.06905   0.0   2.18     0  0.458  7.147  54.2  6.0622    3  222     18.7   \n",
       "\n",
       "    black  lstat  medv  \n",
       "1  396.90   4.98  24.0  \n",
       "2  396.90   9.14  21.6  \n",
       "3  392.83   4.03  34.7  \n",
       "4  394.63   2.94  33.4  \n",
       "5  396.90   5.33  36.2  "
      ]
     },
     "execution_count": 14,
     "metadata": {},
     "output_type": "execute_result"
    }
   ],
   "source": [
    "# загрузка датасета\n",
    "df = pd.read_csv(\"Boston.csv\", header=0, index_col=0)\n",
    "df.head()"
   ]
  },
  {
   "cell_type": "code",
   "execution_count": 15,
   "metadata": {
    "deletable": false,
    "editable": false,
    "nbgrader": {
     "cell_type": "code",
     "checksum": "8868d56b90dcccb8b3626ef309217908",
     "grade": false,
     "grade_id": "cell-af8e59f874d6670f",
     "locked": true,
     "schema_version": 3,
     "solution": false,
     "task": false
    }
   },
   "outputs": [],
   "source": [
    "# Разделим данные на тренировочную и тестовую выборки:\n",
    "X = df.drop('medv', axis=1)\n",
    "y = df['medv']\n",
    "X_train, X_test, y_train, y_test = train_test_split(X, y, test_size=0.2, random_state=42)"
   ]
  },
  {
   "cell_type": "code",
   "execution_count": 16,
   "metadata": {
    "deletable": false,
    "nbgrader": {
     "cell_type": "code",
     "checksum": "4ab20963b12075c893e1b465556cfb89",
     "grade": false,
     "grade_id": "cell-0807738669e9b21b",
     "locked": false,
     "schema_version": 3,
     "solution": true,
     "task": false
    }
   },
   "outputs": [],
   "source": [
    "\"\"\"\n",
    "Инициализируйте экземпляр класса RandomForestRegressor, \n",
    "в параметр n_estimators передайте значение 100, \n",
    "в параметр max_depth - значение 5, \n",
    "в параметр random_state - значение 0.\n",
    "Экземпляр сохраните в переменную rfr\n",
    "\n",
    "Пример с другой моделью:\n",
    "rfc = RandomForestClassifier(n_estimators=100, max_depth=5, random_state=0)\n",
    "\"\"\"\n",
    "\n",
    "# НАЧАЛО ВАШЕГО РЕШЕНИЯ\n",
    "rfr = RandomForestRegressor(n_estimators=100, max_depth=5, random_state=0)\n",
    "# КОНЕЦ ВАШЕГО РЕШЕНИЯ"
   ]
  },
  {
   "cell_type": "code",
   "execution_count": 17,
   "metadata": {
    "deletable": false,
    "editable": false,
    "nbgrader": {
     "cell_type": "code",
     "checksum": "ee6f14c7e9e740355ea8cd4628a99a26",
     "grade": true,
     "grade_id": "cell-31e4b54fb1755366",
     "locked": true,
     "points": 3,
     "schema_version": 3,
     "solution": false,
     "task": false
    }
   },
   "outputs": [],
   "source": [
    "assert type(rfr) == RandomForestRegressor"
   ]
  },
  {
   "cell_type": "code",
   "execution_count": 18,
   "metadata": {
    "deletable": false,
    "editable": false,
    "nbgrader": {
     "cell_type": "code",
     "checksum": "acea0e63e54bcdb3be5d31fccaf60b08",
     "grade": false,
     "grade_id": "cell-21a8310731ed17f7",
     "locked": true,
     "schema_version": 3,
     "solution": false,
     "task": false
    }
   },
   "outputs": [
    {
     "name": "stdout",
     "output_type": "stream",
     "text": [
      "MAE: 2.218644233909917\n"
     ]
    }
   ],
   "source": [
    "rfr.fit(X_train, y_train)\n",
    "# Оценим качество модели на тестовой выборке с использованием метрики MAE:\n",
    "y_pred = rfr.predict(X_test)\n",
    "mae = mean_absolute_error(y_test, y_pred)\n",
    "print(\"MAE:\", mae)"
   ]
  }
 ],
 "metadata": {
  "kernelspec": {
   "display_name": "Python 3 (ipykernel)",
   "language": "python",
   "name": "python3"
  },
  "language_info": {
   "codemirror_mode": {
    "name": "ipython",
    "version": 3
   },
   "file_extension": ".py",
   "mimetype": "text/x-python",
   "name": "python",
   "nbconvert_exporter": "python",
   "pygments_lexer": "ipython3",
   "version": "3.10.12"
  }
 },
 "nbformat": 4,
 "nbformat_minor": 1
}
