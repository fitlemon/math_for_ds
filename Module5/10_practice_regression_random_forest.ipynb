{
 "cells": [
  {
   "cell_type": "code",
   "execution_count": 1,
   "id": "93b8939c",
   "metadata": {},
   "outputs": [],
   "source": [
    "from utils.hints import hide_toggle"
   ]
  },
  {
   "cell_type": "markdown",
   "id": "3fe14a49",
   "metadata": {},
   "source": [
    "# Набор данных \"Wine Quality\""
   ]
  },
  {
   "cell_type": "markdown",
   "id": "9781cf0c",
   "metadata": {},
   "source": [
    "Набор данных \"Wine Quality\" (Качество вина) содержит информацию о химических характеристиках различных видов вина. Основная цель этого набора данных - предсказание оценки качества вина на основе его химических составляющих.\n",
    "\n",
    "Краткое описание признаков:\n",
    "\n",
    "1. **Фиксированные кислоты**: Количество фиксированных кислот в вине.\n",
    "\n",
    "2. **Летучие кислоты**: Количество летучих кислот в вине.\n",
    "\n",
    "3. **Лимонная кислота**: Количество лимонной кислоты в вине.\n",
    "\n",
    "4. **Остаточный сахар**: Количество остаточного сахара в вине.\n",
    "\n",
    "5. **Хлориды**: Количество хлоридов в вине.\n",
    "\n",
    "6. **Свободный диоксид серы**: Количество свободного диоксида серы в вине.\n",
    "\n",
    "7. **Общий диоксид серы**: Количество общего диоксида серы в вине.\n",
    "\n",
    "8. **Плотность**: Плотность вина.\n",
    "\n",
    "9. **pH**: Уровень pH вина.\n",
    "\n",
    "10. **Сульфаты**: Количество сульфатов в вине.\n",
    "\n",
    "11. **Алкоголь**: Содержание алкоголя в вине.\n",
    "\n",
    "Целевая переменная:\n",
    "\n",
    "- **Оценка качества**: Оценка качества вина на основе экспертной оценки (от 0 до 10).\n",
    "\n",
    "Этот набор данных может быть использован для решения задач регрессии, где основная цель - предсказать оценку качества вина на основе его химических характеристик. Такие модели могут быть полезны в промышленности виноделия для оптимизации производства и контроля качества вина."
   ]
  },
  {
   "cell_type": "code",
   "execution_count": 2,
   "id": "b966528a",
   "metadata": {},
   "outputs": [
    {
     "name": "stdout",
     "output_type": "stream",
     "text": [
      "MSE на тестовом наборе:  0.29740262008733626\n"
     ]
    }
   ],
   "source": [
    "# Импорт необходимых библиотек\n",
    "import numpy as np\n",
    "import pandas as pd\n",
    "from sklearn.model_selection import train_test_split, GridSearchCV\n",
    "from sklearn.preprocessing import StandardScaler\n",
    "from sklearn.ensemble import RandomForestRegressor\n",
    "from sklearn.metrics import mean_squared_error\n",
    "\n",
    "# Загрузка набора данных Wine Quality из CSV-файла в DataFrame\n",
    "df = pd.read_csv(\"datasets/WineQT.csv\")\n",
    "\n",
    "# Определение признаков (X) и целевой переменной (y)\n",
    "X = df.drop(columns=['quality'])\n",
    "y = df['quality']\n",
    "\n",
    "# Нормализация признаков с помощью StandardScaler\n",
    "scaler = StandardScaler()\n",
    "X_scaled = scaler.fit_transform(X)\n",
    "\n",
    "# Разделение данных на обучающий и тестовый наборы\n",
    "X_train, X_test, y_train, y_test = train_test_split(X_scaled, y, test_size=0.2, random_state=42)\n",
    "\n",
    "# Создание модели RandomForestRegressor для регрессии\n",
    "random_forest = RandomForestRegressor()\n",
    "\n",
    "# Обучение модели на обучающем наборе данных\n",
    "random_forest.fit(X_train, y_train)\n",
    "\n",
    "# Прогнозирование на тестовом наборе\n",
    "y_pred = random_forest.predict(X_test)\n",
    "\n",
    "# Вычисление среднеквадратической ошибки (MSE) на тестовом наборе\n",
    "mse = mean_squared_error(y_pred, y_test)\n",
    "\n",
    "# Вывод значения MSE\n",
    "print(\"MSE на тестовом наборе: \", mse)\n"
   ]
  },
  {
   "cell_type": "markdown",
   "id": "df43f0a5",
   "metadata": {},
   "source": [
    "# Набор данных \"Bike Sharing Demand\""
   ]
  },
  {
   "cell_type": "markdown",
   "id": "2d5c0ab3",
   "metadata": {},
   "source": [
    "Набор данных \"Bike Sharing Demand\" (Предсказание спроса на прокат велосипедов) содержит информацию о прокате велосипедов в зависимости от времени и погодных условий. Этот набор данных представляет собой задачу регрессии, где основная цель - предсказать количество прокатов велосипедов в зависимости от различных факторов, таких как дата, время и погодные условия.\n",
    "\n",
    "Краткое описание признаков:\n",
    "\n",
    "1. **Дата и время**: Дата и время (год-месяц-день час) информации о прокате велосипедов.\n",
    "\n",
    "2. **Праздничный день**: Показатель, указывающий, является ли день праздничным (1 - да, 0 - нет).\n",
    "\n",
    "3. **Рабочий день**: Показатель, указывающий, является ли день рабочим (1 - да, 0 - нет).\n",
    "\n",
    "4. **Погода**: Описание погодных условий (например, ясно, облачно, дождь и т.д.).\n",
    "\n",
    "5. **Температура**: Температура в градусах Цельсия.\n",
    "\n",
    "6. **Ощущаемая температура**: Субъективное восприятие температуры в градусах Цельсия.\n",
    "\n",
    "7. **Влажность**: Влажность воздуха в процентах.\n",
    "\n",
    "8. **Ветер**: Скорость ветра в м/с.\n",
    "\n",
    "Целевая переменная:\n",
    "\n",
    "- **Количество прокатов велосипедов**: Количество велосипедов, которые были взяты в прокат в данное время.\n",
    "\n",
    "Этот набор данных может быть использован для построения моделей регрессии, которые предсказывают спрос на прокат велосипедов в зависимости от различных факторов, таких как погодные условия и время суток. Такие модели могут быть полезны для оптимизации предложения велосипедов и прогнозирования популярности проката в различные дни и часы."
   ]
  },
  {
   "cell_type": "code",
   "execution_count": 3,
   "id": "b04aa1c4",
   "metadata": {},
   "outputs": [],
   "source": [
    "\"\"\"\n",
    "По аналогии с решением задачи Wine Quality решите в текущей ячейке задачу для предсказания целевой переменной на \n",
    "наборе Bike Sharing Demand. С случае затруднений можно посмотреть на образец решения задания в ячейке ниже.\n",
    "\"\"\";\n",
    "\n",
    "# НАЧАЛО ВАШЕГО РЕШЕНИЯ\n",
    "\n",
    "# КОНЕЦ ВАШЕГО РЕШЕНИЯ"
   ]
  },
  {
   "cell_type": "code",
   "execution_count": 4,
   "id": "07989edc",
   "metadata": {},
   "outputs": [
    {
     "data": {
      "text/html": [
       "\n",
       "        <script>\n",
       "            function code_toggle_5579389717071287462() {\n",
       "                $('div.cell.code_cell.rendered.selected').next().find('div.input').toggle();\n",
       "            }\n",
       "\n",
       "            $('div.cell.code_cell.rendered.selected').find(\"div.input\").hide();\n",
       "        </script>\n",
       "\n",
       "        <a href=\"javascript:code_toggle_5579389717071287462()\">Нажмите на ссылку внизу, чтобы увидеть ответ к заданию</a>\n",
       "    "
      ],
      "text/plain": [
       "<IPython.core.display.HTML object>"
      ]
     },
     "execution_count": 4,
     "metadata": {},
     "output_type": "execute_result"
    }
   ],
   "source": [
    "hide_toggle(for_next=True)"
   ]
  },
  {
   "cell_type": "code",
   "execution_count": 5,
   "id": "a68c8c18",
   "metadata": {},
   "outputs": [
    {
     "name": "stdout",
     "output_type": "stream",
     "text": [
      "MSE на тестовом наборе:  1842.2700501836548\n"
     ]
    }
   ],
   "source": [
    "# Импорт необходимых библиотек\n",
    "import pandas as pd\n",
    "import numpy as np\n",
    "from sklearn.model_selection import train_test_split, GridSearchCV\n",
    "from sklearn.preprocessing import StandardScaler, OneHotEncoder\n",
    "from sklearn.compose import ColumnTransformer\n",
    "from sklearn.pipeline import Pipeline\n",
    "from sklearn.ensemble import RandomForestRegressor\n",
    "from sklearn.metrics import mean_squared_error\n",
    "\n",
    "# Загрузка набора данных bike sharing\n",
    "df = pd.read_csv(\"datasets/bike-sharing-demand.csv\")\n",
    "\n",
    "# Разбиение столбца 'datetime' на составные части и создание новых признаков\n",
    "df['datetime'] = pd.to_datetime(df['datetime'])\n",
    "df['year'] = df['datetime'].dt.year\n",
    "df['month'] = df['datetime'].dt.month\n",
    "df['day'] = df['datetime'].dt.day\n",
    "df['hour'] = df['datetime'].dt.hour\n",
    "df['minute'] = df['datetime'].dt.minute\n",
    "\n",
    "# Отделяем целевую переменную от признаков и удаляем исходный столбец 'datetime'\n",
    "X = df.drop(columns=['count', 'datetime'])\n",
    "y = df['count']\n",
    "\n",
    "# Предобработка данных: преобразование категориальных признаков и нормализация числовых признаков\n",
    "numeric_features = ['temp', 'atemp', 'humidity', 'windspeed', 'year', 'month', 'day', 'hour', 'minute']\n",
    "categorical_features = ['season', 'holiday', 'workingday', 'weather']\n",
    "\n",
    "numeric_transformer = Pipeline(steps=[\n",
    "    ('scaler', StandardScaler())\n",
    "])\n",
    "\n",
    "categorical_transformer = Pipeline(steps=[\n",
    "    ('onehot', OneHotEncoder(drop='first'))\n",
    "])\n",
    "\n",
    "preprocessor = ColumnTransformer(\n",
    "    transformers=[\n",
    "        ('num', numeric_transformer, numeric_features),\n",
    "        ('cat', categorical_transformer, categorical_features)\n",
    "    ])\n",
    "\n",
    "# Разделение данных на обучающий и тестовый наборы\n",
    "X_train, X_test, y_train, y_test = train_test_split(X, y, test_size=0.2, random_state=42)\n",
    "\n",
    "# Создание модели RandomForestRegressor для регрессии\n",
    "random_forest = RandomForestRegressor()\n",
    "\n",
    "# Обучение модели на обучающем наборе данных\n",
    "random_forest.fit(preprocessor.fit_transform(X_train), y_train)\n",
    "\n",
    "# Прогнозирование на тестовом наборе\n",
    "y_pred = random_forest.predict(preprocessor.transform(X_test))\n",
    "\n",
    "# Вычисление среднеквадратической ошибки (MSE) на тестовом наборе\n",
    "mse = mean_squared_error(y_pred, y_test)\n",
    "\n",
    "# Вывод значения MSE\n",
    "print(\"MSE на тестовом наборе: \", mse)\n"
   ]
  },
  {
   "cell_type": "markdown",
   "id": "5d5dae08",
   "metadata": {},
   "source": [
    "# Набор данных \"Beijing PM2.5 Data\""
   ]
  },
  {
   "cell_type": "markdown",
   "id": "07cd4473",
   "metadata": {},
   "source": [
    "Набор данных \"Beijing PM2.5 Data\" содержит информацию об уровне загрязнения воздуха PM2.5 (частицы с диаметром менее 2.5 микрометров) в Пекине. Этот набор данных представляет собой задачу регрессии, где основная цель - предсказать уровень PM2.5 воздуха на основе различных метеорологических факторов.\n",
    "\n",
    "Краткое описание признаков:\n",
    "- year: год данных в данной строке\n",
    "- month: месяц данных в данной строке\n",
    "- day: день данных в данной строке\n",
    "- hour: час данных в данной строке\n",
    "- pm2.5: концентрация PM2.5 (в микрограммах на кубический метр)\n",
    "- DEWP: Точка росы (в градусах Цельсия)\n",
    "- TEMP: Температура (в градусах Цельсия)\n",
    "- PRES: Давление (в гектопаскалях)\n",
    "- cbwd: Комбинированное направление ветра\n",
    "- Iws: Накопленная скорость ветра (в метрах в секунду)\n",
    "- Is: Накопленное количество часов снега\n",
    "- Ir: Накопленное количество часов дождя\n",
    "\n",
    "Целевая переменная:\n",
    "\n",
    "- **PM2.5**: Концентрация частиц PM2.5 в воздухе.\n",
    "\n",
    "Этот набор данных может быть использован для построения моделей регрессии, которые предсказывают уровень загрязнения воздуха PM2.5 в Пекине на основе метеорологических факторов и других загрязнений. Такие модели могут быть полезны для прогнозирования качества воздуха и принятия мер для снижения загрязнения в городе."
   ]
  },
  {
   "cell_type": "code",
   "execution_count": 6,
   "id": "3001f0f0",
   "metadata": {},
   "outputs": [],
   "source": [
    "\"\"\"\n",
    "По аналогии с решением задачи Wine Quality решите в текущей ячейке задачу для предсказания целевой переменной на \n",
    "наборе Beijing PM2.5 Data. С случае затруднений можно посмотреть на образец решения задания в ячейке ниже.\n",
    "\"\"\";\n",
    "\n",
    "# НАЧАЛО ВАШЕГО РЕШЕНИЯ\n",
    "\n",
    "# КОНЕЦ ВАШЕГО РЕШЕНИЯ"
   ]
  },
  {
   "cell_type": "code",
   "execution_count": 7,
   "id": "34483247",
   "metadata": {},
   "outputs": [
    {
     "data": {
      "text/html": [
       "\n",
       "        <script>\n",
       "            function code_toggle_12693304020592406211() {\n",
       "                $('div.cell.code_cell.rendered.selected').next().find('div.input').toggle();\n",
       "            }\n",
       "\n",
       "            $('div.cell.code_cell.rendered.selected').find(\"div.input\").hide();\n",
       "        </script>\n",
       "\n",
       "        <a href=\"javascript:code_toggle_12693304020592406211()\">Нажмите на ссылку внизу, чтобы увидеть ответ к заданию</a>\n",
       "    "
      ],
      "text/plain": [
       "<IPython.core.display.HTML object>"
      ]
     },
     "execution_count": 7,
     "metadata": {},
     "output_type": "execute_result"
    }
   ],
   "source": [
    "hide_toggle(for_next=True)"
   ]
  },
  {
   "cell_type": "code",
   "execution_count": 8,
   "id": "af540124",
   "metadata": {},
   "outputs": [
    {
     "name": "stdout",
     "output_type": "stream",
     "text": [
      "MSE на тестовом наборе:  1708.0932821599617\n"
     ]
    }
   ],
   "source": [
    "# Импорт необходимых библиотек\n",
    "import pandas as pd\n",
    "import numpy as np\n",
    "from sklearn.model_selection import train_test_split, GridSearchCV\n",
    "from sklearn.preprocessing import StandardScaler, OneHotEncoder\n",
    "from sklearn.compose import ColumnTransformer\n",
    "from sklearn.pipeline import Pipeline\n",
    "from sklearn.ensemble import RandomForestRegressor\n",
    "from sklearn.metrics import mean_squared_error\n",
    "\n",
    "# Загрузка набора данных Beijing_PM25_Data\n",
    "df = pd.read_csv(\"datasets/Beijing_PM25_Data.csv\")\n",
    "\n",
    "# Отделяем целевую переменную от признаков\n",
    "X = df.drop(columns=['pm2.5'])\n",
    "y = df['pm2.5']\n",
    "\n",
    "# Предобработка данных: преобразование категориальных признаков и нормализация числовых признаков\n",
    "numeric_features = ['DEWP', 'TEMP', 'PRES', 'Iws', 'Is', 'Ir']\n",
    "categorical_features = ['year', 'month', 'day', 'hour', 'cbwd']\n",
    "\n",
    "numeric_transformer = Pipeline(steps=[\n",
    "    ('scaler', StandardScaler())\n",
    "])\n",
    "\n",
    "categorical_transformer = Pipeline(steps=[\n",
    "    ('onehot', OneHotEncoder(drop='first'))\n",
    "])\n",
    "\n",
    "preprocessor = ColumnTransformer(\n",
    "    transformers=[\n",
    "        ('num', numeric_transformer, numeric_features),\n",
    "        ('cat', categorical_transformer, categorical_features)\n",
    "    ])\n",
    "\n",
    "# Разделение данных на обучающий и тестовый наборы\n",
    "X_train, X_test, y_train, y_test = train_test_split(X, y, test_size=0.2, random_state=42)\n",
    "\n",
    "# Создание модели RandomForestRegressor для регрессии\n",
    "random_forest = RandomForestRegressor()\n",
    "\n",
    "# Обучение модели на обучающем наборе данных\n",
    "random_forest.fit(preprocessor.fit_transform(X_train), y_train)\n",
    "\n",
    "# Прогнозирование на тестовом наборе\n",
    "y_pred = random_forest.predict(preprocessor.transform(X_test))\n",
    "\n",
    "# Вычисление среднеквадратической ошибки (MSE) на тестовом наборе\n",
    "mse = mean_squared_error(y_pred, y_test)\n",
    "\n",
    "# Вывод значения MSE\n",
    "print(\"MSE на тестовом наборе: \", mse)\n"
   ]
  },
  {
   "cell_type": "markdown",
   "id": "5838c737",
   "metadata": {},
   "source": [
    "# Набор данных \"Concrete Compressive Strength\""
   ]
  },
  {
   "cell_type": "markdown",
   "id": "3943ac2a",
   "metadata": {},
   "source": [
    "Набор данных \"Concrete Compressive Strength\" содержит информацию о различных химических и физических характеристиках бетона и их влиянии на его сжимающую прочность. Этот набор данных представляет собой задачу регрессии, где основная цель - предсказать сжимающую прочность бетона на основе его состава.\n",
    "\n",
    "Краткое описание признаков:\n",
    "\n",
    "1. **Цемент**: Количество цемента в бетоне.\n",
    "\n",
    "2. **Зола** (зольность): Количество золы (побочного продукта) в бетоне.\n",
    "\n",
    "3. **Шлак** (железосодержащий материал): Количество шлака (железосодержащего материала) в бетоне.\n",
    "\n",
    "4. **Вода**: Количество воды в бетоне.\n",
    "\n",
    "5. **Суперпластификатор** (высокоэффективный пластификатор): Количество добавки суперпластификатора в бетоне.\n",
    "\n",
    "6. **Зерно 1**: Размер зерна одного из инертных материалов в бетоне.\n",
    "\n",
    "7. **Зерно 2**: Размер зерна второго инертного материала в бетоне.\n",
    "\n",
    "8. **Возраст**: Возраст бетона в днях на момент тестирования его сжимающей прочности.\n",
    "\n",
    "Целевая переменная:\n",
    "\n",
    "- **Сжимающая прочность бетона**: Количество сжимающей прочности бетона (в МПа).\n",
    "\n",
    "Этот набор данных может быть использован для построения моделей регрессии, которые предсказывают сжимающую прочность бетона на основе его химических и физических характеристик. Такие модели могут быть полезны для оптимизации состава бетонных смесей с целью достижения требуемых свойств прочности. Также они могут использоваться в строительной индустрии для прогнозирования качества бетонных конструкций."
   ]
  },
  {
   "cell_type": "code",
   "execution_count": 9,
   "id": "8357f4f3",
   "metadata": {},
   "outputs": [],
   "source": [
    "\"\"\"\n",
    "По аналогии с решением задачи Wine Quality решите в текущей ячейке задачу для предсказания целевой переменной на \n",
    "наборе Wine Quality. С случае затруднений можно посмотреть на образец решения задания в ячейке ниже.\n",
    "\"\"\";\n",
    "\n",
    "# НАЧАЛО ВАШЕГО РЕШЕНИЯ\n",
    "\n",
    "# КОНЕЦ ВАШЕГО РЕШЕНИЯ"
   ]
  },
  {
   "cell_type": "code",
   "execution_count": 10,
   "id": "bce8867f",
   "metadata": {},
   "outputs": [
    {
     "data": {
      "text/html": [
       "\n",
       "        <script>\n",
       "            function code_toggle_5444496757004201958() {\n",
       "                $('div.cell.code_cell.rendered.selected').next().find('div.input').toggle();\n",
       "            }\n",
       "\n",
       "            $('div.cell.code_cell.rendered.selected').find(\"div.input\").hide();\n",
       "        </script>\n",
       "\n",
       "        <a href=\"javascript:code_toggle_5444496757004201958()\">Нажмите на ссылку внизу, чтобы увидеть ответ к заданию</a>\n",
       "    "
      ],
      "text/plain": [
       "<IPython.core.display.HTML object>"
      ]
     },
     "execution_count": 10,
     "metadata": {},
     "output_type": "execute_result"
    }
   ],
   "source": [
    "hide_toggle(for_next=True)"
   ]
  },
  {
   "cell_type": "code",
   "execution_count": 11,
   "id": "929bfda4",
   "metadata": {},
   "outputs": [
    {
     "name": "stdout",
     "output_type": "stream",
     "text": [
      "MSE на тестовом наборе:  30.836094601312325\n"
     ]
    }
   ],
   "source": [
    "# Импорт необходимых библиотек\n",
    "import pandas as pd\n",
    "import numpy as np\n",
    "from sklearn.model_selection import train_test_split, GridSearchCV\n",
    "from sklearn.preprocessing import StandardScaler\n",
    "from sklearn.ensemble import RandomForestRegressor\n",
    "from sklearn.metrics import mean_squared_error\n",
    "\n",
    "# Загрузка набора данных Concrete Compressive Strength\n",
    "df = pd.read_excel(\"datasets/Concrete_Data.xls\")\n",
    "\n",
    "# Отделяем целевую переменную от признаков\n",
    "X = df.drop(columns=['Concrete compressive strength'])\n",
    "y = df['Concrete compressive strength']\n",
    "\n",
    "# Предобработка данных: нормализация числовых признаков\n",
    "numeric_features = X.columns.tolist()\n",
    "\n",
    "numeric_transformer = Pipeline(steps=[\n",
    "    ('scaler', StandardScaler())\n",
    "])\n",
    "\n",
    "preprocessor = ColumnTransformer(\n",
    "    transformers=[\n",
    "        ('num', numeric_transformer, numeric_features)\n",
    "    ])\n",
    "\n",
    "# Разделение данных на обучающий и тестовый наборы\n",
    "X_train, X_test, y_train, y_test = train_test_split(X, y, test_size=0.2, random_state=42)\n",
    "\n",
    "# Создание модели RandomForestRegressor для регрессии\n",
    "random_forest = RandomForestRegressor()\n",
    "\n",
    "# Обучение модели на обучающем наборе данных\n",
    "random_forest.fit(preprocessor.fit_transform(X_train), y_train)\n",
    "\n",
    "# Прогнозирование на тестовом наборе\n",
    "y_pred = random_forest.predict(preprocessor.transform(X_test))\n",
    "\n",
    "# Вычисление среднеквадратической ошибки (MSE) на тестовом наборе\n",
    "mse = mean_squared_error(y_pred, y_test)\n",
    "\n",
    "# Вывод значения MSE\n",
    "print(\"MSE на тестовом наборе: \", mse)\n"
   ]
  },
  {
   "cell_type": "markdown",
   "id": "8ef2e087",
   "metadata": {},
   "source": [
    "# Набор данных \"Appliances Energy Prediction\""
   ]
  },
  {
   "cell_type": "markdown",
   "id": "07af4fbe",
   "metadata": {},
   "source": [
    "Набор данных \"Appliances Energy Prediction\" (Прогноз энергопотребления бытовых приборов) содержит информацию о энергопотреблении бытовых приборов в доме. Этот набор данных представляет собой задачу регрессии, где основная цель - предсказать энергопотребление приборов на основе различных факторов.\n",
    "\n",
    "Краткое описание признаков:\n",
    "\n",
    "Описание признаков в данном файле \"Appliances Energy Prediction\" представлено ниже:\n",
    "\n",
    "1. date time year-month-day hour:minute:second: Дата и время в формате год-месяц-день час:минута:секунда.\n",
    "2. lights: Потребление энергии осветительных приборов в доме в ватт-часах (Wh).\n",
    "3. T1: Температура в кухне, в градусах Цельсия.\n",
    "4. RH_1: Влажность в кухне, в процентах (%).\n",
    "5. T2: Температура в гостиной, в градусах Цельсия.\n",
    "6. RH_2: Влажность в гостиной, в процентах (%).\n",
    "7. T3: Температура в прачечной, в градусах Цельсия.\n",
    "8. RH_3: Влажность в прачечной, в процентах (%).\n",
    "9. T4: Температура в офисной комнате, в градусах Цельсия.\n",
    "10. RH_4: Влажность в офисной комнате, в процентах (%).\n",
    "11. T5: Температура в ванной комнате, в градусах Цельсия.\n",
    "12. RH_5: Влажность в ванной комнате, в процентах (%).\n",
    "13. T6: Температура снаружи здания (северная сторона), в градусах Цельсия.\n",
    "14. RH_6: Влажность снаружи здания (северная сторона), в процентах (%).\n",
    "15. T7: Температура в гладильной комнате, в градусах Цельсия.\n",
    "16. RH_7: Влажность в гладильной комнате, в процентах (%).\n",
    "17. T8: Температура в комнате для подростков 2, в градусах Цельсия.\n",
    "18. RH_8: Влажность в комнате для подростков 2, в процентах (%).\n",
    "19. T9: Температура в комнате для родителей, в градусах Цельсия.\n",
    "20. RH_9: Влажность в комнате для родителей, в процентах (%).\n",
    "21. To: Температура на улице (из метеостанции Chievres), в градусах Цельсия.\n",
    "22. Pressure: Давление (из метеостанции Chievres), в мм рт. ст.\n",
    "23. RH_out: Влажность на улице (из метеостанции Chievres), в процентах (%).\n",
    "24. Wind speed: Скорость ветра (из метеостанции Chievres), в м/с.\n",
    "25. Visibility: Видимость (из метеостанции Chievres), в км.\n",
    "26. Tdewpoint: Точка росы (из метеостанции Chievres), в градусах Цельсия.\n",
    "27. rv1: Случайная переменная 1, безразмерная.\n",
    "28. rv2: Случайная переменная 2, безразмерная.\n",
    "\n",
    "Целевая переменная:\n",
    "\n",
    "Appliances: Потребление энергии в ватт-часах (Wh) на бытовые приборы.\n",
    "\n",
    "Данные в этом файле содержат информацию о потреблении энергии и различных погодных условиях, которые могут влиять на энергопотребление в здании. Задача состоит в предсказании потребления энергии на бытовые приборы на основе доступных признаков.\n",
    "\n",
    "Этот набор данных может быть использован для построения моделей регрессии, которые предсказывают энергопотребление бытовых приборов на основе различных факторов, таких как температура и влажность внутри и снаружи дома. Такие модели могут быть полезны для оптимизации энергопотребления в домашних условиях и повышения энергоэффективности бытовых систем."
   ]
  },
  {
   "cell_type": "code",
   "execution_count": 12,
   "id": "aa756235",
   "metadata": {},
   "outputs": [],
   "source": [
    "\"\"\"\n",
    "По аналогии с решением задачи Wine Quality решите в текущей ячейке задачу для предсказания целевой переменной на \n",
    "наборе Wine Quality. С случае затруднений можно посмотреть на образец решения задания в ячейке ниже.\n",
    "\"\"\";\n",
    "\n",
    "# НАЧАЛО ВАШЕГО РЕШЕНИЯ\n",
    "\n",
    "# КОНЕЦ ВАШЕГО РЕШЕНИЯ"
   ]
  },
  {
   "cell_type": "code",
   "execution_count": 13,
   "id": "046c6cda",
   "metadata": {},
   "outputs": [
    {
     "data": {
      "text/html": [
       "\n",
       "        <script>\n",
       "            function code_toggle_3724030266666683628() {\n",
       "                $('div.cell.code_cell.rendered.selected').next().find('div.input').toggle();\n",
       "            }\n",
       "\n",
       "            $('div.cell.code_cell.rendered.selected').find(\"div.input\").hide();\n",
       "        </script>\n",
       "\n",
       "        <a href=\"javascript:code_toggle_3724030266666683628()\">Нажмите на ссылку внизу, чтобы увидеть ответ к заданию</a>\n",
       "    "
      ],
      "text/plain": [
       "<IPython.core.display.HTML object>"
      ]
     },
     "execution_count": 13,
     "metadata": {},
     "output_type": "execute_result"
    }
   ],
   "source": [
    "hide_toggle(for_next=True)"
   ]
  },
  {
   "cell_type": "code",
   "execution_count": 14,
   "id": "9e9a2050",
   "metadata": {},
   "outputs": [
    {
     "name": "stdout",
     "output_type": "stream",
     "text": [
      "MSE на тестовом наборе:  4432.268814289333\n"
     ]
    }
   ],
   "source": [
    "# Импорт необходимых библиотек\n",
    "import pandas as pd\n",
    "import numpy as np\n",
    "from sklearn.model_selection import train_test_split, GridSearchCV\n",
    "from sklearn.preprocessing import StandardScaler\n",
    "from sklearn.ensemble import RandomForestRegressor\n",
    "from sklearn.metrics import mean_squared_error\n",
    "\n",
    "# Загрузка набора данных Appliances Energy Prediction\n",
    "df = pd.read_csv(\"datasets/KAG_energydata_complete.csv\", parse_dates=['date'])\n",
    "\n",
    "# Создание новых столбцов \"year\", \"month\", \"day\" и \"hour\" на основе значения \"date\"\n",
    "df['year'] = df['date'].dt.year\n",
    "df['month'] = df['date'].dt.month\n",
    "df['day'] = df['date'].dt.day\n",
    "df['hour'] = df['date'].dt.hour\n",
    "\n",
    "# Удаление исходного столбца \"date\"\n",
    "df = df.drop(columns=['date'])\n",
    "\n",
    "# Отделяем целевую переменную от признаков\n",
    "X = df.drop(columns=['Appliances'])\n",
    "y = df['Appliances']\n",
    "\n",
    "# Предобработка данных: преобразование категориальных признаков и нормализация числовых признаков\n",
    "categorical_features = ['year', 'month', 'day', 'hour']\n",
    "numeric_features = [x for x in X.columns.tolist() if x not in categorical_features]\n",
    "\n",
    "numeric_transformer = Pipeline(steps=[\n",
    "    ('scaler', StandardScaler())\n",
    "])\n",
    "\n",
    "categorical_transformer = Pipeline(steps=[\n",
    "    ('onehot', OneHotEncoder(drop='first'))\n",
    "])\n",
    "\n",
    "preprocessor = ColumnTransformer(\n",
    "    transformers=[\n",
    "        ('num', numeric_transformer, numeric_features),\n",
    "        ('cat', categorical_transformer, categorical_features)\n",
    "    ])\n",
    "\n",
    "# Разделение данных на обучающий и тестовый наборы\n",
    "X_train, X_test, y_train, y_test = train_test_split(X, y, test_size=0.2, random_state=42)\n",
    "\n",
    "# Создание модели RandomForestRegressor для регрессии\n",
    "random_forest = RandomForestRegressor()\n",
    "\n",
    "# Обучение модели на обучающем наборе данных\n",
    "random_forest.fit(preprocessor.fit_transform(X_train), y_train)\n",
    "\n",
    "# Прогнозирование на тестовом наборе\n",
    "y_pred = random_forest.predict(preprocessor.transform(X_test))\n",
    "\n",
    "# Вычисление среднеквадратической ошибки (MSE) на тестовом наборе\n",
    "mse = mean_squared_error(y_pred, y_test)\n",
    "\n",
    "# Вывод значения MSE\n",
    "print(\"MSE на тестовом наборе: \", mse)\n"
   ]
  }
 ],
 "metadata": {
  "kernelspec": {
   "display_name": "Python 3 (ipykernel)",
   "language": "python",
   "name": "python3"
  },
  "language_info": {
   "codemirror_mode": {
    "name": "ipython",
    "version": 3
   },
   "file_extension": ".py",
   "mimetype": "text/x-python",
   "name": "python",
   "nbconvert_exporter": "python",
   "pygments_lexer": "ipython3",
   "version": "3.11.4"
  }
 },
 "nbformat": 4,
 "nbformat_minor": 5
}
