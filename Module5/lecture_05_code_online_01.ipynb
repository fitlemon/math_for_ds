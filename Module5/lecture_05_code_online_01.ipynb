{
 "cells": [
  {
   "cell_type": "markdown",
   "metadata": {
    "id": "UUKwV5NLRHqo",
    "tags": []
   },
   "source": [
    "# Цель занятия\n",
    "На этом занятии мы рассмотрим особенности модели решающего дерева."
   ]
  },
  {
   "cell_type": "markdown",
   "metadata": {
    "id": "h93nb1trtwhu"
   },
   "source": [
    "**Решающее дерево** - это алгоритм машинного обучения, который используется для решения задач классификации и регрессии. Оно представляет собой древовидную структуру, где каждый узел представляет тест на одном из признаков, а каждая ветвь - возможный результат этого теста. Листья дерева представляют собой конечный результат - прогноз для новых данных.\n",
    "\n",
    "В процессе построения решающего дерева, алгоритм выбирает тест, который лучше всего разделяет данные на различные классы или предсказывает значение целевой переменной. Затем данные разбиваются на две или более частей в соответствии с результатами теста. Этот процесс повторяется для каждой полученной части, пока не будет достигнут критерий останова.\n"
   ]
  },
  {
   "cell_type": "markdown",
   "metadata": {
    "id": "DKfqE_cKRHqx"
   },
   "source": [
    "## Энтропия\n",
    "\n",
    "Энтропийный критерий используется в машинном обучении для измерения неопределенности в наборе данных. Он основан на понятии энтропии из информационной теории.\n",
    "\n",
    "Энтропия является мерой неопределенности. Чем выше энтропия, тем более неопределенным является набор данных. Для бинарной классификации, когда у нас есть два класса, энтропия может быть выражена следующей формулой:\n",
    "\n",
    "$$H(p) = -p_1 \\log_2(p_1) -p_2 \\log_2(p_2)$$\n",
    "\n",
    "где $p_1$ и $p_2$ - вероятности первого и второго классов соответственно.\n",
    "\n",
    "Чтобы применить энтропийный критерий к дереву решений, мы вычисляем энтропию для каждого разбиения на признаке и выбираем разбиение с наименьшей энтропией. Чем меньше энтропия, тем более \"чистым\" является разбиение, то есть чем меньше неопределенности в подмножествах данных, полученных после разбиения."
   ]
  },
  {
   "cell_type": "markdown",
   "metadata": {
    "id": "utsROjZCRHqx"
   },
   "source": [
    "## Критерий Джини\n",
    "\n",
    "Критерий Джини (Gini impurity) также используется в деревьях решений для измерения неопределенности в наборе данных. Он вычисляет вероятность неправильной классификации случайно выбранного элемента, если он случайным образом принадлежит к одному из классов. Для бинарной классификации критерий Джини может быть выражен следующей формулой:\n",
    "\n",
    "$$Gini(p) = 1 - (p_1^2 + p_2^2)$$\n",
    "\n",
    "где $p_1$ и $p_2$ - вероятности первого и второго классов соответственно.\n",
    "\n",
    "Для реализации критерия Джини в дереве решений, аналогично энтропийному критерию, необходимо выполнить следующие шаги:\n",
    "\n",
    "1. Разделить данные по каждому признаку и вычислить критерий Джини для каждого разбиения, используя указанную формулу.\n",
    "\n",
    "2. Вычислить улучшение (impurity reduction) для каждого разбиения. Улучшение показывает, насколько снизилась критерий Джини после разбиения и является разницей между критерием Джини до разбиения и суммой критериев Джини после разбиения.\n",
    "\n",
    "3. Выбрать разбиение с наименьшим критерием Джини или наибольшим улучшением в зависимости от реализации алгоритма."
   ]
  },
  {
   "cell_type": "markdown",
   "metadata": {
    "id": "MoALbl2RRHqz"
   },
   "source": [
    "Для реализации энтропийного критерия в Python для вектора признаков, нам нужно вычислить энтропию для каждого разбиения и выбрать разбиение с наименьшей энтропией:"
   ]
  },
  {
   "cell_type": "code",
   "execution_count": null,
   "metadata": {
    "executionInfo": {
     "elapsed": 6,
     "status": "ok",
     "timestamp": 1700741395032,
     "user": {
      "displayName": "Sergey Korpachev",
      "userId": "09181340988160569540"
     },
     "user_tz": -180
    },
    "id": "blWy9O0cRHq0"
   },
   "outputs": [],
   "source": [
    "import numpy as np\n",
    "\n",
    "def entropy(y):\n",
    "    \"\"\"\n",
    "    Вычисляет энтропию вектора y со значениями дискретных переменных.\n",
    "    Аргументы:\n",
    "    - y: вектор numpy с дискретными значениями.\n",
    "    Возвращает:\n",
    "    - entropy: значение энтропии типа float.\n",
    "    \"\"\"\n",
    "    # Подсчитываем количество каждого уникального значения в y.\n",
    "    _, counts = np.unique(y, return_counts=True)\n",
    "    # Вычисляем вероятность каждого уникального значения.\n",
    "    probs = counts / len(y)\n",
    "    # Вычисляем значение энтропии.\n",
    "    return -np.sum(probs * np.log2(probs))\n",
    "\n",
    "def find_best_split_entropy(X, y):\n",
    "    \"\"\"\n",
    "    Находит лучшее разбиение для вектора признаков X и вектора целевой переменной y, используя критерий энтропии.\n",
    "    Аргументы:\n",
    "    - X: вектор numpy с вещественными значениями признаков.\n",
    "    - y: вектор numpy с дискретными значениями целевой переменной.\n",
    "\n",
    "    Возвращает:\n",
    "    - best_feature: индекс признака, по которому было найдено лучшее разбиение.\n",
    "    - best_threshold: значение порога, по которому было найдено лучшее разбиение.\n",
    "    - best_gain: значение критерия энтропии для лучшего разбиения.\n",
    "    \"\"\"\n",
    "    best_feature, best_threshold, best_gain = None, None, 0\n",
    "    # Итерируемся по всем признакам.\n",
    "    for feature in range(X.shape[1]):\n",
    "        # Находим уникальные значения признака.\n",
    "        thresholds = np.unique(X[:, feature])\n",
    "        # Итерируемся по всем возможным пороговым значениям признака.\n",
    "        for threshold in thresholds:\n",
    "            # Определяем индексы объектов, которые относятся к левому поддереву и правому поддереву.\n",
    "            left_indices = X[:, feature] <= threshold\n",
    "            right_indices = X[:, feature] > threshold\n",
    "            # Пропускаем текущую итерацию, если не найдены объекты, которые относятся к левому или правому поддереву.\n",
    "            if len(left_indices) == 0 or len(right_indices) == 0:\n",
    "                continue\n",
    "            # Определяем вектор целевой переменной для объектов, которые относятся к левому и правому поддереву.\n",
    "            left_y, right_y = y[left_indices], y[right_indices]\n",
    "            # Вычисляем значение критерия энтропии для текущего разбиения.\n",
    "            gain = entropy(y) - (len(left_y) / len(y)) * entropy(left_y) - (len(right_y) / len(y)) * entropy(right_y)\n",
    "            # Обновляем значения лучшего разбиения, если найдено разбиение с большим значением\n",
    "            if gain > best_gain:\n",
    "                best_feature, best_threshold, best_gain = feature, threshold, gain\n",
    "    return best_feature, best_threshold, best_gain\n"
   ]
  },
  {
   "cell_type": "code",
   "execution_count": null,
   "metadata": {
    "colab": {
     "base_uri": "https://localhost:8080/"
    },
    "executionInfo": {
     "elapsed": 400,
     "status": "ok",
     "timestamp": 1700741555852,
     "user": {
      "displayName": "Sergey Korpachev",
      "userId": "09181340988160569540"
     },
     "user_tz": -180
    },
    "id": "5TxO_a6yRHq3",
    "outputId": "5abfe889-8173-446f-f862-19acba6e8942"
   },
   "outputs": [],
   "source": [
    "X = np.array([[2, 4], [2, 6], [2, 8], [4, 10], [6, 10], [8, 8], [8, 6], [8, 4],\n",
    "     [6, 6], [6, 4], [10, 2], [6, 8], [7.683182774875691, 2.0378865840698976], [12, 4], [12, 6], [12, 8]])\n",
    "y = np.array(np.array([0]*8 + [1]*8))\n",
    "best_feature, best_threshold, best_gain = find_best_split_entropy(X, y)\n",
    "print(\"Best feature:\", best_feature)\n",
    "print(\"Best threshold:\", best_threshold)\n",
    "print(\"Best gain:\", best_gain)"
   ]
  },
  {
   "cell_type": "markdown",
   "metadata": {
    "id": "S9Fjp6ZLRHq4"
   },
   "source": [
    "![dividing_plane.png](data:image/png;base64,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)"
   ]
  },
  {
   "cell_type": "markdown",
   "metadata": {
    "id": "IU4mHue0RHq5"
   },
   "source": [
    "## Критерий MSE\n",
    "\n",
    "MSE (Mean Squared Error) используется в машинном обучении для измерения среднеквадратичной ошибки модели. Он является одним из критериев оценки качества модели.\n",
    "\n",
    "MSE вычисляется путем суммирования квадратов разностей между предсказанными значениями модели и фактическими значениями и деления этой суммы на количество наблюдений:\n",
    "\n",
    "$$MSE = \\frac{1}{n} \\sum_{i=1}^{n} (y_i - \\hat{y_i})^2$$\n",
    "\n",
    "где $y_i$ - фактическое значение, $\\hat{y_i}$ - предсказанное значение модели, а $n$ - количество наблюдений.\n",
    "\n",
    "Чтобы применить MSE в задаче регрессии, мы минимизируем этот критерий при обучении модели. Меньшее значение MSE указывает на более точные предсказания модели и более близкие к фактическим значениям целевой переменной.\n",
    "\n",
    "MSE (Mean Squared Error) выражается как сумма дисперсии и смещения модели:\n",
    "\n",
    "$\n",
    "\\text{MSE} = \\text{Bias}^2 + \\text{Variance} + \\text{Error}\n",
    "$\n",
    "\n",
    "где:\n",
    "\n",
    "- Bias (смещение) отражает разницу между средним значением прогнозов модели и истинным средним значением целевой переменной.\n",
    "\n",
    "- Variance (дисперсия) является мерой разброса данных относительно их среднего значения.\n",
    "\n",
    "- Error представляет собой невоспроизводимую случайную составляющую данных.\n",
    "\n",
    "Цель состоит в том, чтобы найти баланс между смещением и дисперсией для достижения наилучшей модели, минимизируя MSE.\n",
    "\n",
    "Таким образом, при использовании MSE в деревьях решений или других моделях регрессии, мы стремимся выбрать разбиения, которые минимизируют среднеквадратичную ошибку, чтобы получить наилучшую модель с наименьшими отклонениями от фактических значений."
   ]
  },
  {
   "cell_type": "markdown",
   "metadata": {
    "id": "hcoEGZi-RHq6"
   },
   "source": [
    "## Базовое дерево"
   ]
  },
  {
   "cell_type": "code",
   "execution_count": null,
   "metadata": {
    "executionInfo": {
     "elapsed": 468,
     "status": "ok",
     "timestamp": 1700741620681,
     "user": {
      "displayName": "Sergey Korpachev",
      "userId": "09181340988160569540"
     },
     "user_tz": -180
    },
    "id": "SnMsd01RRHq6"
   },
   "outputs": [],
   "source": [
    "class BasicTree:\n",
    "\n",
    "    def __init__(self):\n",
    "        raise NotImplementedError(\"Метод требует переопределения в классе наследования\")\n",
    "\n",
    "    @staticmethod\n",
    "    def find_best_split_entropy(X, y):\n",
    "        \"\"\"\n",
    "        Находит лучшее разбиение для вектора признаков X и вектора целевой переменной y, используя критерий энтропии.\n",
    "        Аргументы:\n",
    "        - X: вектор numpy с вещественными значениями признаков.\n",
    "        - y: вектор numpy с дискретными значениями целевой переменной.\n",
    "\n",
    "        Возвращает:\n",
    "        - best_feature: индекс признака, по которому было найдено лучшее разбиение.\n",
    "        - best_threshold: значение порога, по которому было найдено лучшее разбиение.\n",
    "        - best_gain: значение критерия энтропии для лучшего разбиения.\n",
    "        \"\"\"\n",
    "        def entropy(y):\n",
    "            \"\"\"\n",
    "            Вычисляет энтропию вектора y со значениями дискретных переменных.\n",
    "            Аргументы:\n",
    "            - y: вектор numpy с дискретными значениями.\n",
    "            Возвращает:\n",
    "            - entropy: значение энтропии типа float.\n",
    "            \"\"\"\n",
    "            # Подсчитываем количество каждого уникального значения в y.\n",
    "            _, counts = np.unique(y, return_counts=True)\n",
    "            # Вычисляем вероятность каждого уникального значения.\n",
    "            probs = counts / len(y)\n",
    "            # Вычисляем значение энтропии.\n",
    "            return -np.sum(probs * np.log2(probs))\n",
    "\n",
    "        best_feature, best_threshold, best_gain = None, None, 0\n",
    "        # Итерируемся по всем признакам.\n",
    "        for feature in range(X.shape[1]):\n",
    "            # Находим уникальные значения признака.\n",
    "            thresholds = np.unique(X[:, feature])\n",
    "            # Итерируемся по всем возможным пороговым значениям признака.\n",
    "            for threshold in thresholds:\n",
    "                # Определяем индексы объектов, которые относятся к левому поддереву и правому поддереву.\n",
    "                left_indices = X[:, feature] <= threshold\n",
    "                right_indices = X[:, feature] > threshold\n",
    "                # Пропускаем текущую итерацию, если не найдены объекты, которые относятся к левому или правому поддереву.\n",
    "                if len(left_indices) == 0 or len(right_indices) == 0:\n",
    "                    continue\n",
    "                # Определяем вектор целевой переменной для объектов, которые относятся к левому и правому поддереву.\n",
    "                left_y, right_y = y[left_indices], y[right_indices]\n",
    "                # Вычисляем значение критерия энтропии для текущего разбиения.\n",
    "                gain = entropy(y) - (len(left_y) / len(y)) * entropy(left_y) \\\n",
    "                                       - (len(right_y) / len(y)) * entropy(right_y)\n",
    "                # Обновляем значения лучшего разбиения, если найдено разбиение с большим значением\n",
    "                if gain > best_gain:\n",
    "                    best_feature, best_threshold, best_gain = feature, threshold, gain\n",
    "        return best_feature, best_threshold, best_gain\n",
    "\n",
    "\n",
    "    @staticmethod\n",
    "    def find_best_split_mse(X, y):\n",
    "        \"\"\"\n",
    "        Находит лучшее разбиение для вектора признаков X и вектора целевой переменной y,\n",
    "        используя критерий среднеквадратичной ошибки (MSE).\n",
    "\n",
    "        Аргументы:\n",
    "        - X: вектор numpy с вещественными значениями признаков.\n",
    "        - y: вектор numpy с вещественными значениями целевой переменной.\n",
    "\n",
    "        Возвращает:\n",
    "        - best_feature: индекс признака, по которому было найдено лучшее разбиение.\n",
    "        - best_threshold: значение порога, по которому было найдено лучшее разбиение.\n",
    "        - best_mse: значение критерия среднеквадратичной ошибки для лучшего разбиения.\n",
    "        \"\"\"\n",
    "        best_feature, best_threshold, best_mse = None, None, float('inf')\n",
    "        for feature in range(X.shape[1]):\n",
    "            thresholds = np.unique(X[:, feature])\n",
    "            for threshold in thresholds:\n",
    "                left_indices = X[:, feature] <= threshold\n",
    "                right_indices = X[:, feature] > threshold\n",
    "                if len(left_indices) == 0 or len(right_indices) == 0:\n",
    "                    continue\n",
    "                left_y, right_y = y[left_indices], y[right_indices]\n",
    "                mse = np.mean((left_y - np.mean(left_y))**2) + np.mean((right_y - np.mean(right_y))**2)\n",
    "                if mse < best_mse:\n",
    "                    best_feature, best_threshold, best_mse = feature, threshold, mse\n",
    "        return best_feature, best_threshold, best_mse\n",
    "\n",
    "    def fit(self, X, y, y_pred=None):\n",
    "        \"\"\"\n",
    "        Обучает дерево регрессии на обучающих данных X и y.\n",
    "\n",
    "        Аргументы:\n",
    "        - X: вектор numpy с вещественными значениями признаков.\n",
    "        - y: вектор numpy с вещественными значениями целевой переменной.\n",
    "        - y_pred (опционально): вектор numpy с вещественными значениями предсказаний (для Gradient boosting)\n",
    "        \"\"\"\n",
    "        if y_pred is not None:\n",
    "            self.tree = self._build_tree(X, y, depth=0, y_pred=y_pred)\n",
    "        else:\n",
    "            self.tree = self._build_tree(X, y, depth=0)\n",
    "\n",
    "    def predict(self, X):\n",
    "        \"\"\"\n",
    "        Выполняет предсказание для входных данных X.\n",
    "\n",
    "        Аргументы:\n",
    "        - X: вектор numpy с вещественными значениями признаков.\n",
    "\n",
    "        Возвращает:\n",
    "        - predictions: вектор numpy с предсказанными вещественными значениями.\n",
    "        \"\"\"\n",
    "        return np.array([self._traverse_tree(x, self.tree) for x in X])\n",
    "\n",
    "    def _build_tree(self, X, y, depth, y_pred=None):\n",
    "        \"\"\"\n",
    "        Рекурсивно строит дерево регрессии, используя входные данные X и y.\n",
    "\n",
    "        Аргументы:\n",
    "        - X: вектор numpy с вещественными значениями признаков.\n",
    "        - y: вектор numpy с вещественными значениями целевой переменной.\n",
    "        - y_pred (опционально): вектор numpy с вещественными значениями предсказаний (для Gradient boosting)\n",
    "        - depth: текущая глубина дерева.\n",
    "\n",
    "        Возвращает:\n",
    "        - node: словарь, представляющий узел дерева.\n",
    "\n",
    "        \"\"\"\n",
    "        # Проверка условий останова по максимальной глубине и другим критериям\n",
    "        if self.max_depth is not None and depth >= self.max_depth:\n",
    "            # Создание листового узла\n",
    "            return self._create_leaf_node(y, y_pred)\n",
    "\n",
    "        # Нахождение лучшего разбиения по критерию энтропии\n",
    "        if self.criterion == \"entropy\":\n",
    "            best_feature, best_threshold, _ = self.find_best_split_entropy(X, y)\n",
    "\n",
    "        # Нахождение лучшего разбиения по критерию mse\n",
    "        elif self.criterion == \"mse\":\n",
    "            best_feature, best_threshold, _ = self.find_best_split_mse(X, y)\n",
    "\n",
    "        else:\n",
    "            raise Exception('Следует задать критерий разбиения из списка [\"mse\", \"entropy\"]')\n",
    "\n",
    "        # Проверка условия останова, если не удалось найти лучшее разбиение\n",
    "        if best_feature is None or best_threshold is None:\n",
    "            # Создание листового узла\n",
    "            if y_pred is not None:\n",
    "                return self._create_leaf_node(y, y_pred)\n",
    "            return self._create_leaf_node(y)\n",
    "\n",
    "        # Разделение данных на левое и правое поддеревья\n",
    "        left_indices = X[:, best_feature] <= best_threshold\n",
    "        right_indices = X[:, best_feature] > best_threshold\n",
    "\n",
    "        # Рекурсивное построение левого и правого поддеревьев\n",
    "        if y_pred is not None:\n",
    "            left_tree = self._build_tree(X[left_indices], y[left_indices], y_pred[left_indices], depth + 1)\n",
    "            right_tree = self._build_tree(X[right_indices], y[right_indices], y_pred[right_indices], depth + 1)\n",
    "        else:\n",
    "            left_tree = self._build_tree(X[left_indices], y[left_indices], depth + 1)\n",
    "            right_tree = self._build_tree(X[right_indices], y[right_indices], depth + 1)\n",
    "\n",
    "        # Создание узла с информацией о лучшем разбиении\n",
    "        node = {'feature': best_feature, 'threshold': best_threshold,\n",
    "                'left': left_tree, 'right': right_tree}\n",
    "\n",
    "        return node\n",
    "\n",
    "\n",
    "    def _create_leaf_node(self, y, y_pred=None):\n",
    "        raise NotImplementedError(\"Метод требует переопределения в классе наследования\")\n",
    "\n",
    "\n",
    "    def _traverse_tree(self, x, node):\n",
    "        \"\"\"\n",
    "        Обходит дерево регрессии для выполнения предсказания на входных данных x.\n",
    "\n",
    "        Аргументы:\n",
    "        - x: вектор numpy с вещественными значениями признаков.\n",
    "        - node: текущий узел дерева.\n",
    "\n",
    "        Возвращает:\n",
    "        - value: предсказанное вещественное значение.\n",
    "        \"\"\"\n",
    "        if 'value' in node:\n",
    "            return node['value']\n",
    "\n",
    "        if x[node['feature']] <= node['threshold']:\n",
    "            return self._traverse_tree(x, node['left'])\n",
    "        else:\n",
    "            return self._traverse_tree(x, node['right'])\n"
   ]
  },
  {
   "cell_type": "markdown",
   "metadata": {
    "id": "wZ9xuqTORHq8"
   },
   "source": [
    "## Дерево для регрессии"
   ]
  },
  {
   "cell_type": "code",
   "execution_count": null,
   "metadata": {
    "executionInfo": {
     "elapsed": 267,
     "status": "ok",
     "timestamp": 1700741701361,
     "user": {
      "displayName": "Sergey Korpachev",
      "userId": "09181340988160569540"
     },
     "user_tz": -180
    },
    "id": "SBEWB62ERHq9"
   },
   "outputs": [],
   "source": [
    "class RegressionTree(BasicTree):\n",
    "    def __init__(self, max_depth=None, criterion=\"mse\"):\n",
    "        \"\"\"\n",
    "        Инициализирует объект RegressionTree.\n",
    "\n",
    "        Аргументы:\n",
    "        - max_depth: максимальная глубина дерева (опционально).\n",
    "        Если значение None, то дерево будет строиться без ограничения глубины.\n",
    "        - criterion: выбор способа разбиений деревьев. Выбирается из списка:\n",
    "        [\"mse\", \"entropy\", \"gini\"]\n",
    "        \"\"\"\n",
    "        self.max_depth = max_depth\n",
    "        self.criterion = criterion\n",
    "        self.tree = None\n",
    "\n",
    "\n",
    "    def _create_leaf_node(self, y, y_pred=None):\n",
    "        \"\"\"\n",
    "        Создает листовой узел дерева регрессии.\n",
    "\n",
    "        Аргументы:\n",
    "        - y: вектор numpy с вещественными значениями целевой переменной.\n",
    "\n",
    "        Возвращает:\n",
    "        - node: словарь, представляющий листовой узел среднего значения целевой переменной.\n",
    "        \"\"\"\n",
    "        return {'value': np.mean(y)}"
   ]
  },
  {
   "cell_type": "code",
   "execution_count": null,
   "metadata": {
    "colab": {
     "base_uri": "https://localhost:8080/"
    },
    "executionInfo": {
     "elapsed": 6,
     "status": "ok",
     "timestamp": 1700741702762,
     "user": {
      "displayName": "Sergey Korpachev",
      "userId": "09181340988160569540"
     },
     "user_tz": -180
    },
    "id": "2RzJQ5h5RHq9",
    "outputId": "25e3a895-f753-44fb-e47a-5d250813c7ab"
   },
   "outputs": [],
   "source": [
    "X_train = np.array([[1, 2], [3, 4], [5, 6], [7, 8]])\n",
    "y_train = np.array([1, 2, 3, 4])\n",
    "\n",
    "regressor = RegressionTree(max_depth=3)\n",
    "regressor.fit(X_train, y_train)\n",
    "\n",
    "X_test = np.array([[2, 3], [6, 7]])\n",
    "y_test = regressor.predict(X_test)\n",
    "\n",
    "print(y_test)"
   ]
  },
  {
   "cell_type": "code",
   "execution_count": null,
   "metadata": {
    "colab": {
     "base_uri": "https://localhost:8080/",
     "height": 469
    },
    "executionInfo": {
     "elapsed": 394,
     "status": "ok",
     "timestamp": 1700741788254,
     "user": {
      "displayName": "Sergey Korpachev",
      "userId": "09181340988160569540"
     },
     "user_tz": -180
    },
    "id": "sVBE8qBjRHq-",
    "outputId": "b917d294-0e00-4cfa-973b-9dc71c44e98c"
   },
   "outputs": [],
   "source": [
    "import matplotlib.pyplot as plt\n",
    "\n",
    "# Визуализация обучающих данных\n",
    "plt.scatter(X_train[:, 0], y_train, color='blue', label='Training Data')\n",
    "\n",
    "# Визуализация предсказанных значений\n",
    "plt.scatter(X_test[:, 0], y_test, color='red', label='Predicted Values')\n",
    "\n",
    "# Добавление линии предсказанных значений\n",
    "plt.plot(X_test[:, 0], y_test, color='red', linestyle='--')\n",
    "\n",
    "plt.xlabel('X')\n",
    "plt.ylabel('y')\n",
    "plt.legend()\n",
    "plt.show()"
   ]
  },
  {
   "cell_type": "code",
   "execution_count": null,
   "metadata": {
    "colab": {
     "base_uri": "https://localhost:8080/"
    },
    "executionInfo": {
     "elapsed": 1595,
     "status": "ok",
     "timestamp": 1700741804303,
     "user": {
      "displayName": "Sergey Korpachev",
      "userId": "09181340988160569540"
     },
     "user_tz": -180
    },
    "id": "Bx5deYUhRHq_",
    "outputId": "8a1c3a12-d102-4393-a1f0-67d8ccc2ae45"
   },
   "outputs": [],
   "source": [
    "from sklearn.tree import DecisionTreeRegressor\n",
    "from sklearn import tree\n",
    "import graphviz\n",
    "import pydotplus\n",
    "\n",
    "X_train = np.array([[1, 2], [3, 4], [5, 6], [7, 8]])\n",
    "y_train = np.array([1, 2, 3, 4])\n",
    "\n",
    "regressor = DecisionTreeRegressor(max_depth=3)\n",
    "regressor.fit(X_train, y_train)\n",
    "\n",
    "X_test = np.array([[2, 3], [6, 7]])\n",
    "y_test = regressor.predict(X_test)\n",
    "\n",
    "print(y_test)"
   ]
  },
  {
   "cell_type": "code",
   "execution_count": null,
   "metadata": {
    "colab": {
     "base_uri": "https://localhost:8080/",
     "height": 469
    },
    "executionInfo": {
     "elapsed": 826,
     "status": "ok",
     "timestamp": 1700741820256,
     "user": {
      "displayName": "Sergey Korpachev",
      "userId": "09181340988160569540"
     },
     "user_tz": -180
    },
    "id": "rYvvR6BpRHrA",
    "outputId": "9351f439-14ae-4807-ef7c-db1a9fd4ddc8"
   },
   "outputs": [],
   "source": [
    "import matplotlib.pyplot as plt\n",
    "\n",
    "# Визуализация обучающих данных\n",
    "plt.scatter(X_train[:, 0], y_train, color='blue', label='Training Data')\n",
    "\n",
    "# Визуализация предсказанных значений\n",
    "plt.scatter(X_test[:, 0], y_test, color='red', label='Predicted Values')\n",
    "\n",
    "# Добавление линии предсказанных значений\n",
    "plt.plot(X_test[:, 0], y_test, color='red', linestyle='--')\n",
    "\n",
    "plt.xlabel('X')\n",
    "plt.ylabel('y')\n",
    "plt.legend()\n",
    "plt.show()"
   ]
  },
  {
   "cell_type": "code",
   "execution_count": null,
   "metadata": {
    "colab": {
     "base_uri": "https://localhost:8080/",
     "height": 400
    },
    "executionInfo": {
     "elapsed": 688,
     "status": "ok",
     "timestamp": 1700741823799,
     "user": {
      "displayName": "Sergey Korpachev",
      "userId": "09181340988160569540"
     },
     "user_tz": -180
    },
    "id": "_4uKddsoRHrB",
    "outputId": "3e412f8a-c8e1-4aa2-dd93-6ee7212373ad"
   },
   "outputs": [],
   "source": [
    "dot_data = tree.export_graphviz(regressor, out_file=None)\n",
    "graph = pydotplus.graph_from_dot_data(dot_data)\n",
    "graphviz.Source(graph.to_string())"
   ]
  },
  {
   "cell_type": "markdown",
   "metadata": {
    "id": "TyNB08NfRHrB"
   },
   "source": [
    "## Дерево для классификации"
   ]
  },
  {
   "cell_type": "code",
   "execution_count": null,
   "metadata": {
    "executionInfo": {
     "elapsed": 239,
     "status": "ok",
     "timestamp": 1700741842722,
     "user": {
      "displayName": "Sergey Korpachev",
      "userId": "09181340988160569540"
     },
     "user_tz": -180
    },
    "id": "v0WaETN8RHrC"
   },
   "outputs": [],
   "source": [
    "class ClassificationTree(BasicTree):\n",
    "    def __init__(self, max_depth=None, criterion=\"entropy\"):\n",
    "        \"\"\"\n",
    "        Инициализирует объект RegressionTree.\n",
    "\n",
    "        Аргументы:\n",
    "        - max_depth: максимальная глубина дерева (опционально).\n",
    "        Если значение None, то дерево будет строиться без ограничения глубины.\n",
    "        - criterion: выбор способа разбиений деревьев. Выбирается из списка:\n",
    "        [\"mse\", \"entropy\", \"gini\"]\n",
    "        \"\"\"\n",
    "        self.max_depth = max_depth\n",
    "        self.criterion = criterion\n",
    "        self.tree = None\n",
    "\n",
    "\n",
    "    def _create_leaf_node(self, y):\n",
    "        \"\"\"\n",
    "        Создает листовой узел дерева классификации.\n",
    "\n",
    "        Аргументы:\n",
    "        - y: вектор numpy с дискретными значениями целевой переменной.\n",
    "\n",
    "        Возвращает:\n",
    "        - node: словарь, представляющий листовой узел с наиболее часто встречающимся значением целевой переменной.\n",
    "        \"\"\"\n",
    "        unique_classes, counts = np.unique(y, return_counts=True)\n",
    "        most_common_class = unique_classes[np.argmax(counts)]\n",
    "        return {'value': most_common_class}"
   ]
  },
  {
   "cell_type": "code",
   "execution_count": null,
   "metadata": {
    "colab": {
     "base_uri": "https://localhost:8080/"
    },
    "executionInfo": {
     "elapsed": 335,
     "status": "ok",
     "timestamp": 1700741848358,
     "user": {
      "displayName": "Sergey Korpachev",
      "userId": "09181340988160569540"
     },
     "user_tz": -180
    },
    "id": "dTfV5SCWRHrC",
    "outputId": "56d8f14d-50df-4205-b823-0a809b1e8de1"
   },
   "outputs": [],
   "source": [
    "# Создание и обучение дерева классификации\n",
    "X_train = np.array([[1.2, 2.4], [0.5, 1.8], [3.1, 2.9], [2.0, 1.5]])\n",
    "y_train = np.array([0, 0, 1, 1])\n",
    "\n",
    "clf = ClassificationTree(max_depth=2)\n",
    "clf.fit(X_train, y_train)\n",
    "\n",
    "# Предсказание классов для новых данных\n",
    "X_test = np.array([[1.0, 2.0], [2.5, 1.7]])\n",
    "y_test = clf.predict(X_test)\n",
    "\n",
    "# Вывод предсказанных классов\n",
    "for i, x in enumerate(X_test):\n",
    "    print(f\"Пример {i+1}: {x} -> Класс: {y_test[i]}\")\n"
   ]
  },
  {
   "cell_type": "code",
   "execution_count": null,
   "metadata": {
    "colab": {
     "base_uri": "https://localhost:8080/",
     "height": 468
    },
    "executionInfo": {
     "elapsed": 1199,
     "status": "ok",
     "timestamp": 1700741854013,
     "user": {
      "displayName": "Sergey Korpachev",
      "userId": "09181340988160569540"
     },
     "user_tz": -180
    },
    "id": "T4-j3FAERHrD",
    "outputId": "e493208b-771b-42cc-cdf1-747fadb3462d"
   },
   "outputs": [],
   "source": [
    "from mlxtend.plotting import plot_decision_regions\n",
    "plot_decision_regions(X_train, y_train, clf=clf, legend=3)"
   ]
  },
  {
   "cell_type": "code",
   "execution_count": null,
   "metadata": {
    "colab": {
     "base_uri": "https://localhost:8080/"
    },
    "executionInfo": {
     "elapsed": 11,
     "status": "ok",
     "timestamp": 1700741854014,
     "user": {
      "displayName": "Sergey Korpachev",
      "userId": "09181340988160569540"
     },
     "user_tz": -180
    },
    "id": "XUkXlkkWRHrE",
    "outputId": "53c2fe30-0463-4c60-e06e-b53018526688"
   },
   "outputs": [],
   "source": [
    "from sklearn.tree import DecisionTreeClassifier\n",
    "from sklearn import tree\n",
    "import graphviz\n",
    "import pydotplus\n",
    "\n",
    "classifier = DecisionTreeClassifier(max_depth=3)\n",
    "classifier.fit(X_train, y_train)\n",
    "\n",
    "y_test = classifier.predict(X_test)\n",
    "\n",
    "print(y_test)"
   ]
  },
  {
   "cell_type": "code",
   "execution_count": null,
   "metadata": {
    "colab": {
     "base_uri": "https://localhost:8080/",
     "height": 261
    },
    "executionInfo": {
     "elapsed": 245,
     "status": "ok",
     "timestamp": 1700741864042,
     "user": {
      "displayName": "Sergey Korpachev",
      "userId": "09181340988160569540"
     },
     "user_tz": -180
    },
    "id": "xTgjr0uzRHrE",
    "outputId": "987dd2e3-f3fa-40c4-da18-e43b7c76fcbf"
   },
   "outputs": [],
   "source": [
    "dot_data = tree.export_graphviz(classifier, out_file=None)\n",
    "graph = pydotplus.graph_from_dot_data(dot_data)\n",
    "graphviz.Source(graph.to_string())"
   ]
  },
  {
   "cell_type": "code",
   "execution_count": null,
   "metadata": {
    "colab": {
     "base_uri": "https://localhost:8080/",
     "height": 468
    },
    "executionInfo": {
     "elapsed": 408,
     "status": "ok",
     "timestamp": 1700741864775,
     "user": {
      "displayName": "Sergey Korpachev",
      "userId": "09181340988160569540"
     },
     "user_tz": -180
    },
    "id": "6JdGk30NRHrF",
    "outputId": "b63d1ee7-36b2-4165-fd99-bc03141babb7"
   },
   "outputs": [],
   "source": [
    "from mlxtend.plotting import plot_decision_regions\n",
    "plot_decision_regions(X_train, y_train, clf=classifier, legend=3)"
   ]
  },
  {
   "cell_type": "markdown",
   "metadata": {
    "id": "EJXPqeVpRHrG"
   },
   "source": [
    "## Сравнение решающего дерева и линейной модели\n",
    "\n",
    "- Линейные модели могут работать лучше на линейно разделимых данных\n",
    "\n",
    "- При сложных нелинейных зависимостях решающее дерево может работать лучше"
   ]
  },
  {
   "cell_type": "code",
   "execution_count": null,
   "metadata": {
    "executionInfo": {
     "elapsed": 353,
     "status": "ok",
     "timestamp": 1700741885321,
     "user": {
      "displayName": "Sergey Korpachev",
      "userId": "09181340988160569540"
     },
     "user_tz": -180
    },
    "id": "SZytDH-WRHrG"
   },
   "outputs": [],
   "source": [
    "\"\"\"\n",
    "Импорт необходимых библиотек:\n",
    "\n",
    "\"\"\"\n",
    "import matplotlib.pyplot as plt\n",
    "import numpy as np\n",
    "from sklearn.model_selection import train_test_split\n",
    "from sklearn.linear_model import LogisticRegression\n",
    "from sklearn.metrics import f1_score\n",
    "from mlxtend.plotting import plot_decision_regions\n",
    "from sklearn.tree import DecisionTreeClassifier"
   ]
  },
  {
   "cell_type": "code",
   "execution_count": null,
   "metadata": {
    "colab": {
     "base_uri": "https://localhost:8080/",
     "height": 450
    },
    "executionInfo": {
     "elapsed": 478,
     "status": "ok",
     "timestamp": 1700741886110,
     "user": {
      "displayName": "Sergey Korpachev",
      "userId": "09181340988160569540"
     },
     "user_tz": -180
    },
    "id": "J4l5srr6RHrH",
    "outputId": "1e82e232-c190-4cd6-8c55-0286566884bd"
   },
   "outputs": [],
   "source": [
    "\"\"\"\n",
    "Генерация искусственного набора данных:\n",
    "\"\"\"\n",
    "seed = 1\n",
    "np.random.seed(seed)\n",
    "n = 1000\n",
    "data = np.zeros(shape=(n, 2))\n",
    "data[:, 0] = np.linspace(-5, 5, n)\n",
    "data[:, 1] = data[:, 0] + 0.5 * np.random.normal(size=n)\n",
    "target = (data[:, 1] > data[:, 0]).astype(int)\n",
    "plt.scatter(data[:, 0], data[:, 1], s=100, c=target)\n",
    "plt.show()"
   ]
  },
  {
   "cell_type": "code",
   "execution_count": null,
   "metadata": {
    "executionInfo": {
     "elapsed": 243,
     "status": "ok",
     "timestamp": 1700741909595,
     "user": {
      "displayName": "Sergey Korpachev",
      "userId": "09181340988160569540"
     },
     "user_tz": -180
    },
    "id": "e5TlcBUxRHrH"
   },
   "outputs": [],
   "source": [
    "\"\"\"\n",
    "Разделение набора данных на обучающую и тестовую выборки:\n",
    "\n",
    "\"\"\"\n",
    "\n",
    "X_train, X_test, y_train, y_test = train_test_split(data, target, test_size=0.2, random_state=seed)"
   ]
  },
  {
   "cell_type": "code",
   "execution_count": null,
   "metadata": {
    "colab": {
     "base_uri": "https://localhost:8080/"
    },
    "executionInfo": {
     "elapsed": 4,
     "status": "ok",
     "timestamp": 1700741909874,
     "user": {
      "displayName": "Sergey Korpachev",
      "userId": "09181340988160569540"
     },
     "user_tz": -180
    },
    "id": "gOMitJt4RHrI",
    "outputId": "a162d882-baee-46d9-ad54-3ba362c3f592"
   },
   "outputs": [],
   "source": [
    "\"\"\"\n",
    "Создание объекта линейного классификатора и обучение его на обучающей выборке:\n",
    "\"\"\"\n",
    "linear_classifier = LogisticRegression(random_state=seed)\n",
    "linear_classifier.fit(X_train, y_train)\n",
    "\n",
    "\"\"\"\n",
    "Получение прогнозов на тестовой выборке и оценка точности классификатора:\n",
    "\"\"\"\n",
    "y_pred_linear = linear_classifier.predict(X_test)\n",
    "print('f1_score_linear:', f1_score(y_test, y_pred_linear))"
   ]
  },
  {
   "cell_type": "code",
   "execution_count": null,
   "metadata": {
    "colab": {
     "base_uri": "https://localhost:8080/",
     "height": 450
    },
    "executionInfo": {
     "elapsed": 637,
     "status": "ok",
     "timestamp": 1700741913269,
     "user": {
      "displayName": "Sergey Korpachev",
      "userId": "09181340988160569540"
     },
     "user_tz": -180
    },
    "id": "i9JW-p3WRHrJ",
    "outputId": "8ba188c7-bb99-4d49-e416-e7725fe95c9c"
   },
   "outputs": [],
   "source": [
    "\"\"\"\n",
    "Визуализация разделяющей поверхности линейного классификатора\n",
    "\"\"\"\n",
    "plot_decision_regions(X_test, y_test, linear_classifier)\n",
    "plt.show()"
   ]
  },
  {
   "cell_type": "code",
   "execution_count": null,
   "metadata": {
    "colab": {
     "base_uri": "https://localhost:8080/"
    },
    "executionInfo": {
     "elapsed": 10,
     "status": "ok",
     "timestamp": 1700741913269,
     "user": {
      "displayName": "Sergey Korpachev",
      "userId": "09181340988160569540"
     },
     "user_tz": -180
    },
    "id": "bxEhFzVvRHrK",
    "outputId": "04b5781a-ea4c-4b97-c528-f542257c58da"
   },
   "outputs": [],
   "source": [
    "\"\"\"\n",
    "Создание объекта дерева и обучение его на обучающей выборке:\n",
    "\"\"\"\n",
    "tree_classifier = DecisionTreeClassifier(random_state=seed)\n",
    "tree_classifier.fit(X_train, y_train)\n",
    "\n",
    "\"\"\"\n",
    "Получение прогнозов на тестовой выборке и оценка точности дерева:\n",
    "\"\"\"\n",
    "y_pred_tree = tree_classifier.predict(X_test)\n",
    "print('f1_score_tree:', f1_score(y_test, y_pred_tree))"
   ]
  },
  {
   "cell_type": "code",
   "execution_count": null,
   "metadata": {
    "colab": {
     "base_uri": "https://localhost:8080/",
     "height": 450
    },
    "executionInfo": {
     "elapsed": 507,
     "status": "ok",
     "timestamp": 1700741919631,
     "user": {
      "displayName": "Sergey Korpachev",
      "userId": "09181340988160569540"
     },
     "user_tz": -180
    },
    "id": "fbfOxbA3RHrL",
    "outputId": "f472edb2-a2dc-4442-d4d5-de64910ed695"
   },
   "outputs": [],
   "source": [
    "\"\"\"\n",
    "Визуализация разделяющей поверхности дерева\n",
    "\"\"\"\n",
    "plot_decision_regions(X_test, y_test, tree_classifier)\n",
    "plt.show()"
   ]
  },
  {
   "cell_type": "markdown",
   "metadata": {
    "id": "06JcT4W8RHrM"
   },
   "source": [
    "## Бэггинг для регрессии"
   ]
  },
  {
   "cell_type": "code",
   "execution_count": null,
   "metadata": {
    "executionInfo": {
     "elapsed": 299,
     "status": "ok",
     "timestamp": 1700741960327,
     "user": {
      "displayName": "Sergey Korpachev",
      "userId": "09181340988160569540"
     },
     "user_tz": -180
    },
    "id": "VIANkFmjRHrO"
   },
   "outputs": [],
   "source": [
    "import numpy as np\n",
    "\n",
    "class BaggingRegressor:\n",
    "    def __init__(self, n_estimators=10, max_depth=None):\n",
    "        \"\"\"\n",
    "        Конструктор класса BaggingRegressor.\n",
    "\n",
    "        Аргументы:\n",
    "        - n_estimators: количество базовых моделей (деревьев).\n",
    "        - max_depth: максимальная глубина деревьев.\n",
    "\n",
    "        Переменные экземпляра:\n",
    "        - n_estimators: количество базовых моделей (деревьев).\n",
    "        - max_depth: максимальная глубина деревьев.\n",
    "        - estimators: список базовых моделей (деревьев).\n",
    "        \"\"\"\n",
    "        self.n_estimators = n_estimators\n",
    "        self.max_depth = max_depth\n",
    "        self.estimators = []\n",
    "\n",
    "    def fit(self, X, y):\n",
    "        \"\"\"\n",
    "        Обучает модель на данных X и y.\n",
    "\n",
    "        Аргументы:\n",
    "        - X: вектор numpy с вещественными значениями признаков.\n",
    "        - y: вектор numpy с вещественными значениями целевой переменной.\n",
    "        \"\"\"\n",
    "        for _ in range(self.n_estimators):\n",
    "            # Создание и обучение экземпляра RegressionTree\n",
    "            estimator = RegressionTree(max_depth=self.max_depth)\n",
    "            indices = np.random.choice(len(X), size=len(X), replace=True)\n",
    "            X_sampled = X[indices]\n",
    "            y_sampled = y[indices]\n",
    "            estimator.fit(X_sampled, y_sampled)\n",
    "            self.estimators.append(estimator)\n",
    "\n",
    "    def predict(self, X):\n",
    "        \"\"\"\n",
    "        Прогнозирует значения для новых данных X.\n",
    "\n",
    "        Аргументы:\n",
    "        - X: вектор numpy с вещественными значениями признаков.\n",
    "\n",
    "        Возвращает:\n",
    "        - predictions: вектор numpy с прогнозируемыми значениями.\n",
    "        \"\"\"\n",
    "        predictions = np.zeros(len(X))\n",
    "        for estimator in self.estimators:\n",
    "            predictions += estimator.predict(X)\n",
    "        return predictions / len(self.estimators)"
   ]
  },
  {
   "cell_type": "code",
   "execution_count": null,
   "metadata": {
    "colab": {
     "base_uri": "https://localhost:8080/"
    },
    "executionInfo": {
     "elapsed": 240,
     "status": "ok",
     "timestamp": 1700741966143,
     "user": {
      "displayName": "Sergey Korpachev",
      "userId": "09181340988160569540"
     },
     "user_tz": -180
    },
    "id": "hZtJUZbWRHrP",
    "outputId": "119be18c-deb1-49ba-a67e-3e737a166808"
   },
   "outputs": [],
   "source": [
    "np.random.seed(42)\n",
    "X_train = np.array([[1, 2], [3, 4], [5, 6], [7, 8]])\n",
    "y_train = np.array([1, 2, 3, 4])\n",
    "\n",
    "bagging_regressor = BaggingRegressor(n_estimators=5, max_depth=3)\n",
    "bagging_regressor.fit(X_train, y_train)\n",
    "\n",
    "X_test = np.array([[2, 3], [6, 7]])\n",
    "y_test = bagging_regressor.predict(X_test)\n",
    "\n",
    "print(y_test)"
   ]
  },
  {
   "cell_type": "code",
   "execution_count": null,
   "metadata": {
    "colab": {
     "base_uri": "https://localhost:8080/",
     "height": 469
    },
    "executionInfo": {
     "elapsed": 677,
     "status": "ok",
     "timestamp": 1700741969689,
     "user": {
      "displayName": "Sergey Korpachev",
      "userId": "09181340988160569540"
     },
     "user_tz": -180
    },
    "id": "YRjqZwYARHrQ",
    "outputId": "b8759cab-ccd6-418a-f6d0-0e2ea9091b81"
   },
   "outputs": [],
   "source": [
    "import matplotlib.pyplot as plt\n",
    "\n",
    "# Визуализация обучающих данных\n",
    "plt.scatter(X_train[:, 0], y_train, color='blue', label='Training Data')\n",
    "\n",
    "# Визуализация предсказанных значений\n",
    "plt.scatter(X_test[:, 0], y_test, color='red', label='Predicted Values')\n",
    "\n",
    "# Добавление линии предсказанных значений\n",
    "plt.plot(X_test[:, 0], y_test, color='red', linestyle='--')\n",
    "\n",
    "plt.xlabel('X')\n",
    "plt.ylabel('y')\n",
    "plt.legend()\n",
    "plt.show()"
   ]
  },
  {
   "cell_type": "code",
   "execution_count": null,
   "metadata": {
    "colab": {
     "base_uri": "https://localhost:8080/"
    },
    "executionInfo": {
     "elapsed": 407,
     "status": "ok",
     "timestamp": 1700741973391,
     "user": {
      "displayName": "Sergey Korpachev",
      "userId": "09181340988160569540"
     },
     "user_tz": -180
    },
    "id": "Wyq3Mwj6RHrR",
    "outputId": "5bf36384-3e93-4efb-f964-eccaa41d6122"
   },
   "outputs": [],
   "source": [
    "from sklearn.ensemble import BaggingRegressor\n",
    "\n",
    "# Определение базового оценщика (решающего дерева регрессии)\n",
    "base_estimator = DecisionTreeRegressor(random_state=42)\n",
    "\n",
    "# Определение бэггинг-регрессора\n",
    "bagging = BaggingRegressor(estimator=base_estimator, n_estimators=5, random_state=42)\n",
    "\n",
    "bagging.fit(X_train, y_train)\n",
    "\n",
    "y_test = bagging.predict(X_test)\n",
    "print(y_test)"
   ]
  },
  {
   "cell_type": "code",
   "execution_count": null,
   "metadata": {
    "colab": {
     "base_uri": "https://localhost:8080/",
     "height": 469
    },
    "executionInfo": {
     "elapsed": 5,
     "status": "ok",
     "timestamp": 1700741973901,
     "user": {
      "displayName": "Sergey Korpachev",
      "userId": "09181340988160569540"
     },
     "user_tz": -180
    },
    "id": "qhbrhJm7RHrR",
    "outputId": "12c72d3f-d58a-431b-b653-254e29b766fd",
    "scrolled": true
   },
   "outputs": [],
   "source": [
    "import matplotlib.pyplot as plt\n",
    "\n",
    "# Визуализация обучающих данных\n",
    "plt.scatter(X_train[:, 0], y_train, color='blue', label='Training Data')\n",
    "\n",
    "# Визуализация предсказанных значений\n",
    "plt.scatter(X_test[:, 0], y_test, color='red', label='Predicted Values')\n",
    "\n",
    "# Добавление линии предсказанных значений\n",
    "plt.plot(X_test[:, 0], y_test, color='red', linestyle='--')\n",
    "\n",
    "plt.xlabel('X')\n",
    "plt.ylabel('y')\n",
    "plt.legend()\n",
    "plt.show()"
   ]
  },
  {
   "cell_type": "markdown",
   "metadata": {
    "id": "99AH0PDFRHrT"
   },
   "source": [
    "## Бэггинг для классификации"
   ]
  },
  {
   "cell_type": "code",
   "execution_count": null,
   "metadata": {
    "executionInfo": {
     "elapsed": 655,
     "status": "ok",
     "timestamp": 1700741977278,
     "user": {
      "displayName": "Sergey Korpachev",
      "userId": "09181340988160569540"
     },
     "user_tz": -180
    },
    "id": "7dwTYxYIRHrT"
   },
   "outputs": [],
   "source": [
    "import numpy as np\n",
    "\n",
    "class BaggingClassifier:\n",
    "    def __init__(self, n_estimators=10, max_depth=None):\n",
    "        \"\"\"\n",
    "        Конструктор класса BaggingClassifier.\n",
    "\n",
    "        Аргументы:\n",
    "        - n_estimators: количество базовых моделей (деревьев).\n",
    "        - max_depth: максимальная глубина деревьев.\n",
    "\n",
    "        Переменные экземпляра:\n",
    "        - n_estimators: количество базовых моделей (деревьев).\n",
    "        - max_depth: максимальная глубина деревьев.\n",
    "        - estimators: список базовых моделей (деревьев).\n",
    "        \"\"\"\n",
    "        self.n_estimators = n_estimators\n",
    "        self.max_depth = max_depth\n",
    "        self.estimators = []\n",
    "\n",
    "    def fit(self, X, y):\n",
    "        \"\"\"\n",
    "        Обучает модель на данных X и y.\n",
    "\n",
    "        Аргументы:\n",
    "        - X: вектор numpy с вещественными значениями признаков.\n",
    "        - y: вектор numpy с дискретными значениями целевой переменной.\n",
    "        \"\"\"\n",
    "        for _ in range(self.n_estimators):\n",
    "            # Создание и обучение экземпляра ClassificationTree\n",
    "            estimator = ClassificationTree(max_depth=self.max_depth)\n",
    "            indices = np.random.choice(len(X), size=len(X), replace=True)\n",
    "            X_sampled = X[indices]\n",
    "            y_sampled = y[indices]\n",
    "            estimator.fit(X_sampled, y_sampled)\n",
    "            self.estimators.append(estimator)\n",
    "\n",
    "    def predict(self, X):\n",
    "        \"\"\"\n",
    "        Прогнозирует значения классов для новых данных X.\n",
    "\n",
    "        Аргументы:\n",
    "        - X: вектор numpy с вещественными значениями признаков.\n",
    "\n",
    "        Возвращает:\n",
    "        - predictions: вектор numpy с прогнозируемыми значениями классов.\n",
    "        \"\"\"\n",
    "        predictions = np.zeros(len(X))\n",
    "        for estimator in self.estimators:\n",
    "            predictions += estimator.predict(X)\n",
    "        return np.round(predictions / len(self.estimators))"
   ]
  },
  {
   "cell_type": "code",
   "execution_count": null,
   "metadata": {
    "colab": {
     "base_uri": "https://localhost:8080/"
    },
    "executionInfo": {
     "elapsed": 4,
     "status": "ok",
     "timestamp": 1700741979442,
     "user": {
      "displayName": "Sergey Korpachev",
      "userId": "09181340988160569540"
     },
     "user_tz": -180
    },
    "id": "cC-blL4yRHrV",
    "outputId": "13c0e1c2-804c-476f-be63-9f508a627d26"
   },
   "outputs": [],
   "source": [
    "# Создание и обучение бэггинга для классификации\n",
    "X_train = np.array([[1.2, 2.4], [0.5, 1.8], [3.1, 2.9], [2.0, 1.5]])\n",
    "y_train = np.array([0, 0, 1, 1])\n",
    "\n",
    "bagging_model = BaggingClassifier(n_estimators=5, max_depth=3)\n",
    "bagging_model.fit(X_train, y_train)\n",
    "\n",
    "# Предсказание классов для новых данных\n",
    "X_test = np.array([[1.0, 2.0], [2.5, 1.7]])\n",
    "y_test = bagging_model.predict(X_test)\n",
    "\n",
    "# Вывод предсказанных классов\n",
    "for i, x in enumerate(X_test):\n",
    "    print(f\"Пример {i+1}: {x} -> Класс: {y_test[i]}\")"
   ]
  },
  {
   "cell_type": "code",
   "execution_count": null,
   "metadata": {
    "colab": {
     "base_uri": "https://localhost:8080/",
     "height": 468
    },
    "executionInfo": {
     "elapsed": 1506,
     "status": "ok",
     "timestamp": 1700741981188,
     "user": {
      "displayName": "Sergey Korpachev",
      "userId": "09181340988160569540"
     },
     "user_tz": -180
    },
    "id": "KmKKsZqxRHrW",
    "outputId": "44c3d917-3af3-4764-edbc-4eaaa70e4ef5"
   },
   "outputs": [],
   "source": [
    "from mlxtend.plotting import plot_decision_regions\n",
    "plot_decision_regions(X_train, y_train, clf=bagging_model, legend=3)"
   ]
  },
  {
   "cell_type": "code",
   "execution_count": null,
   "metadata": {
    "colab": {
     "base_uri": "https://localhost:8080/"
    },
    "executionInfo": {
     "elapsed": 11,
     "status": "ok",
     "timestamp": 1700741981188,
     "user": {
      "displayName": "Sergey Korpachev",
      "userId": "09181340988160569540"
     },
     "user_tz": -180
    },
    "id": "tHz0Ltf8RHrX",
    "outputId": "f62b339b-d957-4459-f73a-975758ad72ba"
   },
   "outputs": [],
   "source": [
    "from sklearn.ensemble import BaggingClassifier\n",
    "from sklearn.tree import DecisionTreeClassifier\n",
    "\n",
    "# Создание и обучение бэггинга для классификации\n",
    "X_train = np.array([[1.2, 2.4], [0.5, 1.8], [3.1, 2.9], [2.0, 1.5]])\n",
    "y_train = np.array([0, 0, 1, 1])\n",
    "\n",
    "# Создание и обучение BaggingClassifier с базовой моделью DecisionTreeClassifier\n",
    "base_model = DecisionTreeClassifier(max_depth=3)\n",
    "bagging_model = BaggingClassifier(base_model, n_estimators=10, random_state=42)\n",
    "bagging_model.fit(X_train, y_train)\n",
    "\n",
    "# Прогнозирование классов на тестовой выборке\n",
    "y_pred = bagging_model.predict(X_test)\n",
    "\n",
    "# Предсказание классов для новых данных\n",
    "X_test = np.array([[1.0, 2.0], [2.5, 1.7]])\n",
    "y_test = bagging_model.predict(X_test)\n",
    "\n",
    "# Вывод предсказанных классов\n",
    "for i, x in enumerate(X_test):\n",
    "    print(f\"Пример {i+1}: {x} -> Класс: {y_test[i]}\")"
   ]
  },
  {
   "cell_type": "code",
   "execution_count": null,
   "metadata": {
    "colab": {
     "base_uri": "https://localhost:8080/",
     "height": 468
    },
    "executionInfo": {
     "elapsed": 771,
     "status": "ok",
     "timestamp": 1700741989184,
     "user": {
      "displayName": "Sergey Korpachev",
      "userId": "09181340988160569540"
     },
     "user_tz": -180
    },
    "id": "ehse3VaGRHrY",
    "outputId": "21700e93-ab5e-423d-8e33-2dc3e3d3ea7e"
   },
   "outputs": [],
   "source": [
    "from mlxtend.plotting import plot_decision_regions\n",
    "plot_decision_regions(X_train, y_train, clf=bagging_model, legend=3)"
   ]
  },
  {
   "cell_type": "markdown",
   "metadata": {
    "id": "bAL_Kj49RHrZ"
   },
   "source": [
    "## Случайный лес для регрессии"
   ]
  },
  {
   "cell_type": "code",
   "execution_count": null,
   "metadata": {
    "colab": {
     "base_uri": "https://localhost:8080/"
    },
    "executionInfo": {
     "elapsed": 303,
     "status": "ok",
     "timestamp": 1700742005271,
     "user": {
      "displayName": "Sergey Korpachev",
      "userId": "09181340988160569540"
     },
     "user_tz": -180
    },
    "id": "pe8lsJVWRHrZ",
    "outputId": "a92eb44c-34ed-4dcf-8ea3-bb442a4725ef"
   },
   "outputs": [],
   "source": [
    "from sklearn.ensemble import RandomForestRegressor\n",
    "\n",
    "X_train = np.array([[1, 2], [3, 4], [5, 6], [7, 8]])\n",
    "y_train = np.array([1, 2, 3, 4])\n",
    "\n",
    "\n",
    "print(y_test)\n",
    "\n",
    "# Создание и обучение модели случайного леса\n",
    "model = RandomForestRegressor(n_estimators=10, random_state=42)\n",
    "model.fit(X_train, y_train)\n",
    "\n",
    "X_test = np.array([[2, 3], [6, 7]])\n",
    "y_test = model.predict(X_test)\n",
    "\n",
    "# Прогнозирование на тестовом наборе данных\n",
    "y_pred = model.predict(X_test)"
   ]
  },
  {
   "cell_type": "code",
   "execution_count": null,
   "metadata": {
    "colab": {
     "base_uri": "https://localhost:8080/",
     "height": 469
    },
    "executionInfo": {
     "elapsed": 331,
     "status": "ok",
     "timestamp": 1700742005881,
     "user": {
      "displayName": "Sergey Korpachev",
      "userId": "09181340988160569540"
     },
     "user_tz": -180
    },
    "id": "55wfxqfvRHrZ",
    "outputId": "12a6b318-f85c-4194-c4f6-78df26fdfc8c"
   },
   "outputs": [],
   "source": [
    "import matplotlib.pyplot as plt\n",
    "\n",
    "# Визуализация обучающих данных\n",
    "plt.scatter(X_train[:, 0], y_train, color='blue', label='Training Data')\n",
    "\n",
    "# Визуализация предсказанных значений\n",
    "plt.scatter(X_test[:, 0], y_test, color='red', label='Predicted Values')\n",
    "\n",
    "# Добавление линии предсказанных значений\n",
    "plt.plot(X_test[:, 0], y_test, color='red', linestyle='--')\n",
    "\n",
    "plt.xlabel('X')\n",
    "plt.ylabel('y')\n",
    "plt.legend()\n",
    "plt.show()"
   ]
  },
  {
   "cell_type": "markdown",
   "metadata": {
    "id": "dEtviBtQRHra"
   },
   "source": [
    "## Случайный лес для классификации"
   ]
  },
  {
   "cell_type": "code",
   "execution_count": null,
   "metadata": {
    "colab": {
     "base_uri": "https://localhost:8080/"
    },
    "executionInfo": {
     "elapsed": 246,
     "status": "ok",
     "timestamp": 1700742009795,
     "user": {
      "displayName": "Sergey Korpachev",
      "userId": "09181340988160569540"
     },
     "user_tz": -180
    },
    "id": "5T4tBrThRHrb",
    "outputId": "cebd7ff4-6bb8-40bc-ecf3-69bd5c3267b6"
   },
   "outputs": [],
   "source": [
    "from sklearn.ensemble import RandomForestClassifier\n",
    "\n",
    "# Создание и обучение случайного леса для классификации\n",
    "X_train = np.array([[1.2, 2.4], [0.5, 1.8], [3.1, 2.9], [2.0, 1.5]])\n",
    "y_train = np.array([0, 0, 1, 1])\n",
    "\n",
    "# Создание и обучение модели случайного леса\n",
    "clf = RandomForestClassifier(n_estimators=10, random_state=42)\n",
    "clf.fit(X_train, y_train)\n",
    "\n",
    "# Прогнозирование классов для тестовых данных\n",
    "y_pred = clf.predict(X_test)\n",
    "\n",
    "# Предсказание классов для новых данных\n",
    "X_test = np.array([[1.0, 2.0], [2.5, 1.7]])\n",
    "y_test = clf.predict(X_test)\n",
    "\n",
    "# Вывод предсказанных классов\n",
    "for i, x in enumerate(X_test):\n",
    "    print(f\"Пример {i+1}: {x} -> Класс: {y_test[i]}\")"
   ]
  },
  {
   "cell_type": "code",
   "execution_count": null,
   "metadata": {
    "colab": {
     "base_uri": "https://localhost:8080/",
     "height": 468
    },
    "executionInfo": {
     "elapsed": 616,
     "status": "ok",
     "timestamp": 1700742010960,
     "user": {
      "displayName": "Sergey Korpachev",
      "userId": "09181340988160569540"
     },
     "user_tz": -180
    },
    "id": "xZdn34yTRHrc",
    "outputId": "b4a7fc64-6a81-4ec5-b6ef-0754dc1db05f"
   },
   "outputs": [],
   "source": [
    "from mlxtend.plotting import plot_decision_regions\n",
    "plot_decision_regions(X_train, y_train, clf=clf, legend=3)"
   ]
  },
  {
   "cell_type": "markdown",
   "metadata": {
    "id": "LBLUTBHlRHrd"
   },
   "source": [
    "**Концепция \"out-of-bag\"**\n",
    "\n",
    "Концепция \"out-of-bag\" (OOB) оценки является частью алгоритма случайного леса (random forest) и позволяет оценивать производительность модели без необходимости в отдельном наборе данных для валидации.\n",
    "\n",
    "При построении каждого дерева в случайном лесу, используется только подмножество обучающих данных, которое выбирается случайным образом с возвращением. Это означает, что некоторые образцы данных не попадают в выборку для обучения данного дерева.\n",
    "\n",
    "OOB-оценка использует эти образцы, которые не были включены в обучение конкретного дерева, для оценки его производительности. Каждый образец может быть классифицирован с использованием всех деревьев, которые не включали этот образец в свою обучающую выборку.\n",
    "\n",
    "Процесс оценки out-of-bag состоит из следующих шагов:\n",
    "1. Для каждого образца данных из обучающей выборки, который не был использован для обучения конкретного дерева, происходит классификация с использованием всех деревьев, которые не содержали этот образец в своей обучающей выборке.\n",
    "2. Прогнозы каждого дерева усредняются или голосуют для получения итогового прогноза для данного образца.\n",
    "3. Используя истинные метки классов для образцов, которые не были использованы для обучения дерева, оценивается производительность дерева путем сравнения его прогнозов с истинными метками классов.\n",
    "\n",
    "Итоговая оценка out-of-bag является усредненной оценкой производительности каждого дерева на его соответствующем наборе out-of-bag образцов. Эта оценка может служить в качестве приближенной оценки производительности модели на новых данных, поскольку она использует образцы, которые не были включены в обучение каждого отдельного дерева.\n",
    "\n",
    "OOB-оценка предоставляет удобный способ оценки модели без необходимости валидационного набора данных и может быть полезна для выбора оптимального числа деревьев в случайном лесу или для сравнения различных моделей случайного леса.\n",
    "\n",
    "Оценка out-of-bag точности не всегда является точной оценкой производительности модели и может быть несколько смещенной. Для получения более точной оценки производительности модели рекомендуется использовать кросс-валидацию или отдельный набор данных для валидации."
   ]
  },
  {
   "cell_type": "code",
   "execution_count": null,
   "metadata": {
    "colab": {
     "base_uri": "https://localhost:8080/"
    },
    "executionInfo": {
     "elapsed": 666,
     "status": "ok",
     "timestamp": 1700742016548,
     "user": {
      "displayName": "Sergey Korpachev",
      "userId": "09181340988160569540"
     },
     "user_tz": -180
    },
    "id": "Qz3u4nqRRHrd",
    "outputId": "af2f7320-b629-477e-de62-162a5765b48e"
   },
   "outputs": [],
   "source": [
    "from sklearn.ensemble import RandomForestClassifier\n",
    "from sklearn.datasets import make_classification\n",
    "\n",
    "# Генерация датасета\n",
    "X, y = make_classification(n_samples=1000, n_features=10, random_state=42)\n",
    "\n",
    "# Инициализация модели\n",
    "rf = RandomForestClassifier(n_estimators=100, oob_score=True, random_state=42)\n",
    "\n",
    "# Обучение модели\n",
    "rf.fit(X, y)\n",
    "\n",
    "# out-of-bag (accuracy)\n",
    "oob_score = rf.oob_score_\n",
    "print(\"Out-of-Bag Score:\", oob_score)"
   ]
  },
  {
   "cell_type": "markdown",
   "metadata": {
    "id": "iNlJXEAfUUUu"
   },
   "source": [
    "# Упражнение"
   ]
  },
  {
   "cell_type": "markdown",
   "metadata": {
    "id": "IEBX3JKzUYK1"
   },
   "source": [
    "Достаточно лёгкая задача на понимание работы простых деревьев решений. Задание на устойчивость обычного дерева.\n",
    "\n",
    "Как будет меняться построение (структура) простого дерева, если каждый раз оно будет строиться на разных частях данных? Разные подвыборки одной выборки.\n",
    "\n",
    "Подберите такое число (величина подвыборки), чтобы построение дерево не менялось. Или менялось, но слабо. Да и просто поиграйте с числами, чтобы почувствовать алгоритм."
   ]
  },
  {
   "cell_type": "code",
   "execution_count": null,
   "metadata": {
    "colab": {
     "base_uri": "https://localhost:8080/",
     "height": 452
    },
    "executionInfo": {
     "elapsed": 300,
     "status": "ok",
     "timestamp": 1700743558300,
     "user": {
      "displayName": "Sergey Korpachev",
      "userId": "09181340988160569540"
     },
     "user_tz": -180
    },
    "id": "i1DPnsQOVEaY",
    "outputId": "8353c99f-8cb2-43e9-d65a-b4110da9e638"
   },
   "outputs": [],
   "source": [
    "# генерируем наши данные\n",
    "\n",
    "np.random.seed(999)\n",
    "n = 100\n",
    "X = np.random.normal(size=(n, 2))\n",
    "X[:50, :] += 0.31\n",
    "X[50:, :] -= 0.31\n",
    "y = np.array([1] * 50 + [0] * 50)\n",
    "plt.scatter(X[:, 0], X[:, 1], s=100, c=y, cmap=\"winter\")\n",
    "plt.show()"
   ]
  },
  {
   "cell_type": "code",
   "execution_count": null,
   "metadata": {
    "colab": {
     "base_uri": "https://localhost:8080/",
     "height": 1000
    },
    "executionInfo": {
     "elapsed": 5068,
     "status": "ok",
     "timestamp": 1700743571708,
     "user": {
      "displayName": "Sergey Korpachev",
      "userId": "09181340988160569540"
     },
     "user_tz": -180
    },
    "id": "xuoEgcAsUaAS",
    "outputId": "e32d5e24-379d-4589-bfe9-59b981654139"
   },
   "outputs": [],
   "source": [
    "# построение дерева для разных подвыборок\n",
    "\n",
    "fig, ax = plt.subplots(nrows=3, ncols=3, figsize=(15, 12))\n",
    "\n",
    "for i in range(3):\n",
    "    for j in range(3):\n",
    "        seed_idx = 3 * i + j\n",
    "        np.random.seed(seed_idx)\n",
    "        tree = DecisionTreeClassifier(random_state=999)\n",
    "        idx_part = np.random.choice(len(X), replace=False, size=int(0.5 * len(X))) # здесь\n",
    "        X_part, y_part = X[idx_part, :], y[idx_part]\n",
    "        tree.fit(X_part, y_part)\n",
    "        ax[i][j].set_title(\"sample #{}\".format(seed_idx))\n",
    "        ax[i][j].axis(\"off\")\n",
    "        plot_decision_regions(X_part, y_part, tree, ax=ax[i][j])\n",
    "\n",
    "plt.show()"
   ]
  },
  {
   "cell_type": "code",
   "execution_count": null,
   "metadata": {
    "id": "r-FLHvaPRHre"
   },
   "outputs": [],
   "source": []
  }
 ],
 "metadata": {
  "colab": {
   "provenance": []
  },
  "kernelspec": {
   "display_name": "Python 3",
   "language": "python",
   "name": "python3"
  },
  "language_info": {
   "codemirror_mode": {
    "name": "ipython",
    "version": 3
   },
   "file_extension": ".py",
   "mimetype": "text/x-python",
   "name": "python",
   "nbconvert_exporter": "python",
   "pygments_lexer": "ipython3",
   "version": "3.8.10"
  },
  "toc-autonumbering": true,
  "toc-showcode": false,
  "toc-showmarkdowntxt": false,
  "toc-showtags": false
 },
 "nbformat": 4,
 "nbformat_minor": 1
}
