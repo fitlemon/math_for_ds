{
 "cells": [
  {
   "cell_type": "code",
   "execution_count": 1,
   "id": "784aa84b-01ab-4f7a-b477-d744f6e9b95f",
   "metadata": {},
   "outputs": [],
   "source": [
    "import numpy as np\n",
    "import pandas as pd\n",
    "import matplotlib\n",
    "import matplotlib.pyplot as plt\n",
    "import seaborn as sns\n",
    "from sklearn import datasets"
   ]
  },
  {
   "cell_type": "code",
   "execution_count": 2,
   "id": "1cf74a57-02e4-4390-9bf3-2f4cedff6317",
   "metadata": {},
   "outputs": [],
   "source": [
    "dataset = datasets.load_iris()"
   ]
  },
  {
   "cell_type": "code",
   "execution_count": 3,
   "id": "18f9de05-bc3d-4c59-98ab-145d1e34e0f2",
   "metadata": {},
   "outputs": [],
   "source": [
    "# print(dataset.DESCR)"
   ]
  },
  {
   "cell_type": "code",
   "execution_count": 3,
   "id": "5d0599c6-15ba-4206-a35d-f610bf83463a",
   "metadata": {},
   "outputs": [
    {
     "data": {
      "text/html": [
       "<div>\n",
       "<style scoped>\n",
       "    .dataframe tbody tr th:only-of-type {\n",
       "        vertical-align: middle;\n",
       "    }\n",
       "\n",
       "    .dataframe tbody tr th {\n",
       "        vertical-align: top;\n",
       "    }\n",
       "\n",
       "    .dataframe thead th {\n",
       "        text-align: right;\n",
       "    }\n",
       "</style>\n",
       "<table border=\"1\" class=\"dataframe\">\n",
       "  <thead>\n",
       "    <tr style=\"text-align: right;\">\n",
       "      <th></th>\n",
       "      <th>sepal length (cm)</th>\n",
       "      <th>sepal width (cm)</th>\n",
       "      <th>petal length (cm)</th>\n",
       "      <th>petal width (cm)</th>\n",
       "      <th>target label</th>\n",
       "      <th>target name</th>\n",
       "    </tr>\n",
       "  </thead>\n",
       "  <tbody>\n",
       "    <tr>\n",
       "      <th>0</th>\n",
       "      <td>5.1</td>\n",
       "      <td>3.5</td>\n",
       "      <td>1.4</td>\n",
       "      <td>0.2</td>\n",
       "      <td>0</td>\n",
       "      <td>setosa</td>\n",
       "    </tr>\n",
       "    <tr>\n",
       "      <th>1</th>\n",
       "      <td>4.9</td>\n",
       "      <td>3.0</td>\n",
       "      <td>1.4</td>\n",
       "      <td>0.2</td>\n",
       "      <td>0</td>\n",
       "      <td>setosa</td>\n",
       "    </tr>\n",
       "    <tr>\n",
       "      <th>2</th>\n",
       "      <td>4.7</td>\n",
       "      <td>3.2</td>\n",
       "      <td>1.3</td>\n",
       "      <td>0.2</td>\n",
       "      <td>0</td>\n",
       "      <td>setosa</td>\n",
       "    </tr>\n",
       "    <tr>\n",
       "      <th>3</th>\n",
       "      <td>4.6</td>\n",
       "      <td>3.1</td>\n",
       "      <td>1.5</td>\n",
       "      <td>0.2</td>\n",
       "      <td>0</td>\n",
       "      <td>setosa</td>\n",
       "    </tr>\n",
       "    <tr>\n",
       "      <th>4</th>\n",
       "      <td>5.0</td>\n",
       "      <td>3.6</td>\n",
       "      <td>1.4</td>\n",
       "      <td>0.2</td>\n",
       "      <td>0</td>\n",
       "      <td>setosa</td>\n",
       "    </tr>\n",
       "    <tr>\n",
       "      <th>...</th>\n",
       "      <td>...</td>\n",
       "      <td>...</td>\n",
       "      <td>...</td>\n",
       "      <td>...</td>\n",
       "      <td>...</td>\n",
       "      <td>...</td>\n",
       "    </tr>\n",
       "    <tr>\n",
       "      <th>145</th>\n",
       "      <td>6.7</td>\n",
       "      <td>3.0</td>\n",
       "      <td>5.2</td>\n",
       "      <td>2.3</td>\n",
       "      <td>2</td>\n",
       "      <td>virginica</td>\n",
       "    </tr>\n",
       "    <tr>\n",
       "      <th>146</th>\n",
       "      <td>6.3</td>\n",
       "      <td>2.5</td>\n",
       "      <td>5.0</td>\n",
       "      <td>1.9</td>\n",
       "      <td>2</td>\n",
       "      <td>virginica</td>\n",
       "    </tr>\n",
       "    <tr>\n",
       "      <th>147</th>\n",
       "      <td>6.5</td>\n",
       "      <td>3.0</td>\n",
       "      <td>5.2</td>\n",
       "      <td>2.0</td>\n",
       "      <td>2</td>\n",
       "      <td>virginica</td>\n",
       "    </tr>\n",
       "    <tr>\n",
       "      <th>148</th>\n",
       "      <td>6.2</td>\n",
       "      <td>3.4</td>\n",
       "      <td>5.4</td>\n",
       "      <td>2.3</td>\n",
       "      <td>2</td>\n",
       "      <td>virginica</td>\n",
       "    </tr>\n",
       "    <tr>\n",
       "      <th>149</th>\n",
       "      <td>5.9</td>\n",
       "      <td>3.0</td>\n",
       "      <td>5.1</td>\n",
       "      <td>1.8</td>\n",
       "      <td>2</td>\n",
       "      <td>virginica</td>\n",
       "    </tr>\n",
       "  </tbody>\n",
       "</table>\n",
       "<p>150 rows × 6 columns</p>\n",
       "</div>"
      ],
      "text/plain": [
       "    sepal length (cm) sepal width (cm) petal length (cm) petal width (cm)  \\\n",
       "0                 5.1              3.5               1.4              0.2   \n",
       "1                 4.9              3.0               1.4              0.2   \n",
       "2                 4.7              3.2               1.3              0.2   \n",
       "3                 4.6              3.1               1.5              0.2   \n",
       "4                 5.0              3.6               1.4              0.2   \n",
       "..                ...              ...               ...              ...   \n",
       "145               6.7              3.0               5.2              2.3   \n",
       "146               6.3              2.5               5.0              1.9   \n",
       "147               6.5              3.0               5.2              2.0   \n",
       "148               6.2              3.4               5.4              2.3   \n",
       "149               5.9              3.0               5.1              1.8   \n",
       "\n",
       "    target label target name  \n",
       "0              0      setosa  \n",
       "1              0      setosa  \n",
       "2              0      setosa  \n",
       "3              0      setosa  \n",
       "4              0      setosa  \n",
       "..           ...         ...  \n",
       "145            2   virginica  \n",
       "146            2   virginica  \n",
       "147            2   virginica  \n",
       "148            2   virginica  \n",
       "149            2   virginica  \n",
       "\n",
       "[150 rows x 6 columns]"
      ]
     },
     "execution_count": 3,
     "metadata": {},
     "output_type": "execute_result"
    }
   ],
   "source": [
    "# взглянем на данные\n",
    "ext_target = dataset.target[:, None]\n",
    "pd.DataFrame(\n",
    "    np.concatenate((dataset.data, ext_target,\n",
    "    dataset.target_names[ext_target]), axis=1),\n",
    "    columns=dataset.feature_names + ['target label', 'target name'],\n",
    ")"
   ]
  },
  {
   "cell_type": "code",
   "execution_count": 5,
   "id": "46b7c8ae-266e-4f85-a7d2-e2ea2950e17e",
   "metadata": {},
   "outputs": [
    {
     "data": {
      "text/plain": [
       "((150, 4), (150,))"
      ]
     },
     "execution_count": 5,
     "metadata": {},
     "output_type": "execute_result"
    }
   ],
   "source": [
    "# форма данных\n",
    "features = dataset.data\n",
    "target = dataset.target\n",
    "features.shape, target.shape"
   ]
  },
  {
   "cell_type": "markdown",
   "id": "6cbf7ec2-90dd-4ede-9261-fac855e3549e",
   "metadata": {},
   "source": [
    "## Своя реализация"
   ]
  },
  {
   "cell_type": "markdown",
   "id": "97d2c1a2-4434-47ea-9951-c50cc65c2ee2",
   "metadata": {},
   "source": [
    "нормальное или гауссовское распределение:\n",
    "$$\n",
    "f(x|\\mu,\\sigma^2)=\\frac{1}{\\sigma \\sqrt{2\\pi}} \\exp{ \\left( - \\frac{(x-\\mu)^2}{2\\sigma^2} \\right)}\n",
    "$$\n",
    "где $\\sigma$  стандартное отклонение, а$\\mu$ мат. ожидание"
   ]
  },
  {
   "cell_type": "code",
   "execution_count": 6,
   "id": "1f4083fa-9abf-44b1-a1c3-3ae397a83bfa",
   "metadata": {},
   "outputs": [],
   "source": [
    "class GaussianDistribution:\n",
    "    def __init__(self, feature):\n",
    "        '''\n",
    "        Args:\n",
    "        feature: column of design matrix, represents all\n",
    "        available values of features to model.\n",
    "        axis=0 stays for samples.\n",
    "        '''\n",
    "        self.mean = np.mean(feature, axis=0)\n",
    "        self.std = np.std(feature, axis=0)\n",
    "    def logpdf(self, value):\n",
    "        '''Logarithm of probability density at value'''\n",
    "        return - 0.5 * np.log(2. * np.pi * self.std**2) - (value - self.mean)**2 / (2 * self.std**2)\n",
    "    def pdf(self, value):\n",
    "        return np.exp(self.logpdf(value)) "
   ]
  },
  {
   "cell_type": "code",
   "execution_count": 7,
   "id": "00dc2619-081e-4513-aecc-fb57baf1f612",
   "metadata": {},
   "outputs": [
    {
     "name": "stdout",
     "output_type": "stream",
     "text": [
      "Seems fine!\n"
     ]
    }
   ],
   "source": [
    "import scipy\n",
    "_test = scipy.stats.norm(loc=features[:, :2].mean(axis=0),scale=features[:, :2].std(axis=0))\n",
    "assert np.allclose(\n",
    "    GaussianDistribution(features[:, :2]).logpdf(features[:5, :2]),\n",
    "    _test.logpdf(features[:5, :2])\n",
    ")\n",
    "print('Seems fine!')"
   ]
  },
  {
   "cell_type": "code",
   "execution_count": 8,
   "id": "ee63cb6c-43a4-41f2-8359-0f065cba53f7",
   "metadata": {},
   "outputs": [
    {
     "data": {
      "text/plain": [
       "array([[-1.13254506, -0.60435921],\n",
       "       [-1.38017561, -0.09388356],\n",
       "       [-1.68653276, -0.13910217],\n",
       "       [-1.86173382, -0.08999759],\n",
       "       [-1.24901951, -0.86542599]])"
      ]
     },
     "execution_count": 8,
     "metadata": {},
     "output_type": "execute_result"
    }
   ],
   "source": [
    "GaussianDistribution(features[:, :2]).logpdf(features[:5, :2])"
   ]
  },
  {
   "cell_type": "code",
   "execution_count": 9,
   "id": "95c2b2d5-6885-4933-af78-b3447a13eaa5",
   "metadata": {},
   "outputs": [
    {
     "data": {
      "text/plain": [
       "<matplotlib.collections.PathCollection at 0x7f77f2d25f90>"
      ]
     },
     "execution_count": 9,
     "metadata": {},
     "output_type": "execute_result"
    },
    {
     "data": {
      "image/png": "[encoded data removed]",
      "text/plain": [
       "<Figure size 640x480 with 1 Axes>"
      ]
     },
     "metadata": {},
     "output_type": "display_data"
    }
   ],
   "source": [
    "plt.axis([4, 8, 0, 1])\n",
    "plt.scatter(features[:, 0],GaussianDistribution(features[:, :2]).pdf(features[:, :2])[:,0])"
   ]
  },
  {
   "cell_type": "code",
   "execution_count": 10,
   "id": "77aa462f-974e-45c2-9e51-7342f3d49225",
   "metadata": {},
   "outputs": [
    {
     "data": {
      "text/plain": [
       "(array([ 9., 23., 14., 27., 16., 26., 18.,  6.,  5.,  6.]),\n",
       " array([4.3 , 4.66, 5.02, 5.38, 5.74, 6.1 , 6.46, 6.82, 7.18, 7.54, 7.9 ]),\n",
       " <BarContainer object of 10 artists>)"
      ]
     },
     "execution_count": 10,
     "metadata": {},
     "output_type": "execute_result"
    },
    {
     "data": {
      "image/png": "[encoded data removed]",
      "text/plain": [
       "<Figure size 640x480 with 1 Axes>"
      ]
     },
     "metadata": {},
     "output_type": "display_data"
    }
   ],
   "source": [
    "plt.axis([4, 8, 0, 30])\n",
    "plt.hist(features[:, 0])"
   ]
  },
  {
   "cell_type": "markdown",
   "id": "5497474b-299c-4eca-a1d8-00f2b64a3f08",
   "metadata": {},
   "source": [
    "## Наивный Байесовский классификатор\n",
    "\n",
    "**Наивные методы Байеса** — это алгоритм ML  обучения с учителем, основанных на применении теоремы Байеса с предположением об ***независимости между каждой парой признаков***.\n",
    "\n",
    "Пусть наступившее событие - это набор признаков (feature vector $x_i=(x_i^1, x_i^2, \\dots, x_i^n)$), а гипотетическое событие - значение метки класса (class label $y_i = C_k$) для некоторого образца $i \\in (1, \\dots ,m)$ и метки класса $C_k$. То в сответсвии с теоремой Байеса:\n",
    "\n",
    "$$\n",
    "P(y_i = C_k|x_i) = \\frac{P(x_i|y_i = C_k) P(y_i = C_k)}{P(x_i)}\n",
    "$$\n",
    "\n",
    "В соответсвии с теоремой о произведении вероятности независимых событий:\n",
    " $$\n",
    " P(x_i|y_i = C_k) = \\prod_{j=1}^{n}P(x_i^j|y_i = C_k)\n",
    " $$\n",
    "\n",
    "Заменяем:\n",
    "\n",
    "$$\n",
    "P(y_i = C_k|x_i) = \\frac{P(y_i = C_k) \\prod_{j=1}^{n}P(x_i^j|y_i = C_k)}{P(x_i)}, где\n",
    "$$\n",
    "\n",
    "$$\n",
    "P(x_i^j | y_i = C_k) = P(x_i^j | y_i = C_k, x_i^1, \\dots, x_i^{i-1}, x_i^{i+1}, \\dots, x_i^n)\n",
    "$$\n",
    "\n",
    "Ввиду того, что полная вероятность $P(x_i)$ является константой, и служит для нормирования, ее можно опустить и свести задачу к следующему виду:\n",
    "\n",
    "$$\n",
    "P(y_i = C_k|x_i) \\propto P(y_i = C_k) \\prod_{j=1}^{n}P(x_i^j|y_i = C_k)\\\\\\Downarrow\\\\\\hat{y} = \\arg\\max_{y_i = C_k} P(y_i = C_k) \\prod_{j=1}^{n}P(x_i^j|y_i = C_k)\n",
    "$$\n",
    "\n",
    "Довольно часто используют логарифмы вероятностей. Тогда,\n",
    "\n",
    "$$\n",
    "\\hat{y} = \\arg\\max_{y_i = C_k} ({\\log P(y_i = C_k) + \\sum_{j=1}^{n} \\log P(x_i^j|y_i = C_k)})\n",
    "$$\n",
    "\n",
    "Различные наивные байесовские классификаторы строятся с учетом имперического предположения о распределении вероятности $P(x_i^j|y_i = C_k)$. Самое распространенное предположение относительно количественных признаков заключается в том, что *распределение каждого признака подчиняется закону Гаусса*. Т.о,\n",
    "\n",
    "$$\n",
    "P(x_i^j|y_i = C_k) = \\frac{1}{\\sigma \\sqrt{2\\pi}} \\exp\\left(-\\frac{(x_i^j - \\mu )^2}{2\\sigma^2}\\right), где\n",
    "$$\n",
    "\n",
    "$$\\mu = \\frac{1}{n} \\sum_{i=1}^m x_i^j,$$\n",
    "\n",
    "$$\\sigma = \\sqrt{\\frac{1}{n-1} \\sum_{i=1}^m (x_i^j - \\mu)}.$$"
   ]
  },
  {
   "cell_type": "code",
   "execution_count": 11,
   "id": "cea008d1-b2fd-49b9-9b7a-be7c7e44f90c",
   "metadata": {},
   "outputs": [],
   "source": [
    "from sklearn.base import BaseEstimator, ClassifierMixin\n",
    "from scipy.special import logsumexp\n",
    "class NaiveBayes(BaseEstimator, ClassifierMixin):\n",
    "    def fit(self, X, y, sample_weight=None, distributions=None):\n",
    "        '''\n",
    "        sample_weight The argument is ignored. For compatibility only.\n",
    "        '''\n",
    "        self.unique_labels = np.unique(y)\n",
    "        # если распределения не указано, используем Гауссовское\n",
    "        if distributions is None:\n",
    "            distributions = [GaussianDistribution] * X.shape[1]\n",
    "        else:\n",
    "            #Check whether distributions are passed for all features\n",
    "            assert len(distributions) == X.shape[1]\n",
    "        # Here we find distribution parameters for every features in every class subset\n",
    "        # so P(x^i|y=C_k) will be estimated only using information from i-th feature of C_k class values\n",
    "        self.conditional_feature_distributions = {} #Label: [distribution for feature 1, …]\n",
    "        for label in self.unique_labels:\n",
    "            feature_distribution = []\n",
    "            for column_index in range(X.shape[1]):\n",
    "                # значения фичей column_index  для объектов класса label \n",
    "                feature_column = X[y == label, column_index]\n",
    "                fitted_distr = distributions[column_index](feature_column)\n",
    "                feature_distribution.append(fitted_distr)\n",
    "            self.conditional_feature_distributions[label] = feature_distribution\n",
    "            # Prior label distributions (unconditional probability of each class)\n",
    "        self.prior_label_distribution = {\n",
    "            label: sum((y==label).astype(float)) / len(y) for label in self.unique_labels\n",
    "        }\n",
    "    def predict_log_proba(self, X):\n",
    "        # Matrix of shape (n_objects : n_classes)\n",
    "        class_log_probas = np.zeros((X.shape[0], len(self.unique_labels)),dtype=float)\n",
    "        # Here we compute the class log probabilities for each class sequentially b\n",
    "        for label_idx, label in enumerate(self.unique_labels):\n",
    "            for idx in range(X.shape[1]):\n",
    "                # All loglikelihood for every feature w.r.t. fixed label\n",
    "                class_log_probas[:, label_idx] += self.conditional_feature_distributions[label][idx].logpdf(X[:, idx]) \n",
    "            # Add log proba of label prior\n",
    "            class_log_probas[:, label_idx] += np.log(self.prior_label_distribution[label]) \n",
    "        for idx in range(X.shape[1]):\n",
    "        # If you want to get probabilities, you need to subtract the log proba for every feature\n",
    "            class_log_probas -= logsumexp(class_log_probas, axis=1) [:, None] \n",
    "        return class_log_probas\n",
    "    def predict_proba(self, X):\n",
    "        return np.exp(self.predict_log_proba(X))\n",
    "    def predict(self, X):\n",
    "        log_probas = self.predict_log_proba(X)\n",
    "        # We need to cast labels to their original form (they may start from number other than 0)\n",
    "        return np.array([self.unique_labels[idx] for idx in log_probas.argmax(axis=1)])"
   ]
  },
  {
   "cell_type": "markdown",
   "id": "d48b08fe-217d-4baf-913f-26e1e8ba6b4d",
   "metadata": {},
   "source": [
    "Смотрим пример"
   ]
  },
  {
   "cell_type": "code",
   "execution_count": 12,
   "id": "62a444cf-1266-4b42-a227-c0d7e080c7e5",
   "metadata": {},
   "outputs": [
    {
     "name": "stdout",
     "output_type": "stream",
     "text": [
      "log probas:\n",
      "[[  0.         -41.14063634 -57.90531295]\n",
      " [  0.         -38.72865982 -56.71097942]]\n",
      "predicted labels:\n",
      "[0 0]\n"
     ]
    }
   ],
   "source": [
    "nb = NaiveBayes()\n",
    "nb.fit(features, target)\n",
    "print('log probas:\\n{}'.format(nb.predict_log_proba(features[:2])))\n",
    "print('predicted labels:\\n{}'.format(nb.predict(features[:2])))"
   ]
  },
  {
   "cell_type": "markdown",
   "id": "7f36d65e-c757-4c97-a7c7-49c85243b690",
   "metadata": {},
   "source": [
    "Проверяем"
   ]
  },
  {
   "cell_type": "code",
   "execution_count": 13,
   "id": "a8c53c88-927e-471c-b100-b85f26b60f46",
   "metadata": {},
   "outputs": [
    {
     "name": "stdout",
     "output_type": "stream",
     "text": [
      "(112, 4) (38, 4)\n"
     ]
    }
   ],
   "source": [
    "from sklearn.model_selection import train_test_split\n",
    "features_train, features_test, target_train, target_test = train_test_split(features, target, test_size=0.25)\n",
    "print(features_train.shape, features_test.shape)"
   ]
  },
  {
   "cell_type": "code",
   "execution_count": 14,
   "id": "931ce9c6-43d7-4d0d-8ae5-63c73ac7c32d",
   "metadata": {},
   "outputs": [],
   "source": [
    "nb = NaiveBayes()\n",
    "nb.fit(features_train, target_train,distributions=[GaussianDistribution]*4)\n",
    "nb_test_log_proba = nb.predict_log_proba(features_test)"
   ]
  },
  {
   "cell_type": "code",
   "execution_count": 15,
   "id": "40f3119b-c27a-4c49-a11b-af304188b5ec",
   "metadata": {},
   "outputs": [
    {
     "name": "stdout",
     "output_type": "stream",
     "text": [
      "Точность:0.9473684210526315\n"
     ]
    }
   ],
   "source": [
    "print('Точность:{}'.format(nb.score(features_test, target_test)))"
   ]
  },
  {
   "cell_type": "markdown",
   "id": "c917fad8-a446-4c34-9d8b-5538fcff825a",
   "metadata": {},
   "source": [
    "### NB Scikit Learn"
   ]
  },
  {
   "cell_type": "code",
   "execution_count": 16,
   "id": "ead35893-10dd-453a-b7a5-069cff24d8f9",
   "metadata": {},
   "outputs": [],
   "source": [
    "from sklearn.naive_bayes import GaussianNB\n",
    "from sklearn import metrics"
   ]
  },
  {
   "cell_type": "code",
   "execution_count": 17,
   "id": "391e21c2-3311-4316-9813-461a76efaa76",
   "metadata": {},
   "outputs": [
    {
     "data": {
      "text/html": [
       "<style>#sk-container-id-1 {color: black;background-color: white;}#sk-container-id-1 pre{padding: 0;}#sk-container-id-1 div.sk-toggleable {background-color: white;}#sk-container-id-1 label.sk-toggleable__label {cursor: pointer;display: block;width: 100%;margin-bottom: 0;padding: 0.3em;box-sizing: border-box;text-align: center;}#sk-container-id-1 label.sk-toggleable__label-arrow:before {content: \"▸\";float: left;margin-right: 0.25em;color: #696969;}#sk-container-id-1 label.sk-toggleable__label-arrow:hover:before {color: black;}#sk-container-id-1 div.sk-estimator:hover label.sk-toggleable__label-arrow:before {color: black;}#sk-container-id-1 div.sk-toggleable__content {max-height: 0;max-width: 0;overflow: hidden;text-align: left;background-color: #f0f8ff;}#sk-container-id-1 div.sk-toggleable__content pre {margin: 0.2em;color: black;border-radius: 0.25em;background-color: #f0f8ff;}#sk-container-id-1 input.sk-toggleable__control:checked~div.sk-toggleable__content {max-height: 200px;max-width: 100%;overflow: auto;}#sk-container-id-1 input.sk-toggleable__control:checked~label.sk-toggleable__label-arrow:before {content: \"▾\";}#sk-container-id-1 div.sk-estimator input.sk-toggleable__control:checked~label.sk-toggleable__label {background-color: #d4ebff;}#sk-container-id-1 div.sk-label input.sk-toggleable__control:checked~label.sk-toggleable__label {background-color: #d4ebff;}#sk-container-id-1 input.sk-hidden--visually {border: 0;clip: rect(1px 1px 1px 1px);clip: rect(1px, 1px, 1px, 1px);height: 1px;margin: -1px;overflow: hidden;padding: 0;position: absolute;width: 1px;}#sk-container-id-1 div.sk-estimator {font-family: monospace;background-color: #f0f8ff;border: 1px dotted black;border-radius: 0.25em;box-sizing: border-box;margin-bottom: 0.5em;}#sk-container-id-1 div.sk-estimator:hover {background-color: #d4ebff;}#sk-container-id-1 div.sk-parallel-item::after {content: \"\";width: 100%;border-bottom: 1px solid gray;flex-grow: 1;}#sk-container-id-1 div.sk-label:hover label.sk-toggleable__label {background-color: #d4ebff;}#sk-container-id-1 div.sk-serial::before {content: \"\";position: absolute;border-left: 1px solid gray;box-sizing: border-box;top: 0;bottom: 0;left: 50%;z-index: 0;}#sk-container-id-1 div.sk-serial {display: flex;flex-direction: column;align-items: center;background-color: white;padding-right: 0.2em;padding-left: 0.2em;position: relative;}#sk-container-id-1 div.sk-item {position: relative;z-index: 1;}#sk-container-id-1 div.sk-parallel {display: flex;align-items: stretch;justify-content: center;background-color: white;position: relative;}#sk-container-id-1 div.sk-item::before, #sk-container-id-1 div.sk-parallel-item::before {content: \"\";position: absolute;border-left: 1px solid gray;box-sizing: border-box;top: 0;bottom: 0;left: 50%;z-index: -1;}#sk-container-id-1 div.sk-parallel-item {display: flex;flex-direction: column;z-index: 1;position: relative;background-color: white;}#sk-container-id-1 div.sk-parallel-item:first-child::after {align-self: flex-end;width: 50%;}#sk-container-id-1 div.sk-parallel-item:last-child::after {align-self: flex-start;width: 50%;}#sk-container-id-1 div.sk-parallel-item:only-child::after {width: 0;}#sk-container-id-1 div.sk-dashed-wrapped {border: 1px dashed gray;margin: 0 0.4em 0.5em 0.4em;box-sizing: border-box;padding-bottom: 0.4em;background-color: white;}#sk-container-id-1 div.sk-label label {font-family: monospace;font-weight: bold;display: inline-block;line-height: 1.2em;}#sk-container-id-1 div.sk-label-container {text-align: center;}#sk-container-id-1 div.sk-container {/* jupyter's `normalize.less` sets `[hidden] { display: none; }` but bootstrap.min.css set `[hidden] { display: none !important; }` so we also need the `!important` here to be able to override the default hidden behavior on the sphinx rendered scikit-learn.org. See: https://github.com/scikit-learn/scikit-learn/issues/21755 */display: inline-block !important;position: relative;}#sk-container-id-1 div.sk-text-repr-fallback {display: none;}</style><div id=\"sk-container-id-1\" class=\"sk-top-container\"><div class=\"sk-text-repr-fallback\"><pre>GaussianNB()</pre><b>In a Jupyter environment, please rerun this cell to show the HTML representation or trust the notebook. <br />On GitHub, the HTML representation is unable to render, please try loading this page with nbviewer.org.</b></div><div class=\"sk-container\" hidden><div class=\"sk-item\"><div class=\"sk-estimator sk-toggleable\"><input class=\"sk-toggleable__control sk-hidden--visually\" id=\"sk-estimator-id-1\" type=\"checkbox\" checked><label for=\"sk-estimator-id-1\" class=\"sk-toggleable__label sk-toggleable__label-arrow\">GaussianNB</label><div class=\"sk-toggleable__content\"><pre>GaussianNB()</pre></div></div></div></div></div>"
      ],
      "text/plain": [
       "GaussianNB()"
      ]
     },
     "execution_count": 17,
     "metadata": {},
     "output_type": "execute_result"
    }
   ],
   "source": [
    "baes_model = GaussianNB()\n",
    "baes_model.fit(features_train, target_train)"
   ]
  },
  {
   "cell_type": "code",
   "execution_count": 18,
   "id": "b8d54f8c-0156-4967-a73b-4b7c504550f8",
   "metadata": {},
   "outputs": [
    {
     "name": "stdout",
     "output_type": "stream",
     "text": [
      "Точность:0.9473684210526315\n"
     ]
    }
   ],
   "source": [
    "print('Точность:{}'.format(baes_model.score(features_test, target_test)))"
   ]
  },
  {
   "cell_type": "markdown",
   "id": "e4557a9c-44b1-4522-a5b1-6a6cab8e4313",
   "metadata": {},
   "source": [
    "### А как там у соседей? Применим KNN"
   ]
  },
  {
   "cell_type": "code",
   "execution_count": 19,
   "id": "8b1253c8-e68f-4862-8036-612b3b5aa8ec",
   "metadata": {},
   "outputs": [],
   "source": [
    "from sklearn.neighbors import KNeighborsClassifier"
   ]
  },
  {
   "cell_type": "code",
   "execution_count": 20,
   "id": "eabd31e1-4916-4184-8ea5-40a0758dd4d1",
   "metadata": {},
   "outputs": [
    {
     "data": {
      "text/plain": [
       "0.9736842105263158"
      ]
     },
     "execution_count": 20,
     "metadata": {},
     "output_type": "execute_result"
    }
   ],
   "source": [
    "knn_model = KNeighborsClassifier(n_neighbors=5)\n",
    "knn_model.fit(features_train, target_train)\n",
    "knn_model.score(features_test, target_test)"
   ]
  },
  {
   "cell_type": "code",
   "execution_count": null,
   "id": "8276162e-14c5-4ea9-97c6-171427db745f",
   "metadata": {},
   "outputs": [],
   "source": []
  }
 ],
 "metadata": {
  "kernelspec": {
   "display_name": ".venv",
   "language": "python",
   "name": "python3"
  },
  "language_info": {
   "codemirror_mode": {
    "name": "ipython",
    "version": 3
   },
   "file_extension": ".py",
   "mimetype": "text/x-python",
   "name": "python",
   "nbconvert_exporter": "python",
   "pygments_lexer": "ipython3",
   "version": "3.10.12"
  }
 },
 "nbformat": 4,
 "nbformat_minor": 5
}
