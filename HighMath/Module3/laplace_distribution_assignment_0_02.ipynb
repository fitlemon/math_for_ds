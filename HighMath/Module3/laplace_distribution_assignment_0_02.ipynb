{
  "cells": [
    {
      "cell_type": "markdown",
      "metadata": {
        "id": "-2pjXks_0tmd"
      },
      "source": [
        "# Home assignment 02: Laplace distribution"
      ]
    },
    {
      "cell_type": "markdown",
      "metadata": {
        "id": "WPYirA190tmg"
      },
      "source": [
        "Today your goal is to build a class for Laplace distribution. The part of the notebook copies the one from the practice session."
      ]
    },
    {
      "cell_type": "markdown",
      "metadata": {
        "id": "q3dV1Fkm0tmh"
      },
      "source": [
        "## Loading data"
      ]
    },
    {
      "cell_type": "code",
      "execution_count": 1,
      "metadata": {
        "ExecuteTime": {
          "end_time": "2020-02-11T07:08:51.904850Z",
          "start_time": "2020-02-11T07:08:50.413258Z"
        },
        "id": "4pqgXdtr0tmh"
      },
      "outputs": [],
      "source": [
        "import numpy as np\n",
        "import pandas as pd\n",
        "import matplotlib\n",
        "import matplotlib.pyplot as plt\n",
        "import seaborn as sns\n",
        "from sklearn import datasets"
      ]
    },
    {
      "cell_type": "code",
      "execution_count": 2,
      "metadata": {
        "id": "DqF3lUcp0tmi"
      },
      "outputs": [],
      "source": [
        "matplotlib.rcParams['font.size'] = 11"
      ]
    },
    {
      "cell_type": "markdown",
      "metadata": {
        "id": "bVoWi-990tmi"
      },
      "source": [
        "First to load dataset we're going to use [`sklearn`](https://scikit-learn.org/stable/) package which we will extensively use during the whole course.\n",
        "\n",
        "`sklearn` implement most of classical and frequently used algorithms in Machine Learning. Also it provides [User Guide](https://scikit-learn.org/stable/user_guide.html) describing principles of every bunch of algorithms implemented.\n",
        "\n",
        "As an entry point to main `sklearn`'s concepts we recommend [getting started tutorial](https://scikit-learn.org/stable/getting_started.html) (check it out yourself). [Further tutorials](https://scikit-learn.org/stable/tutorial/index.html) can also be handy to develop your skills."
      ]
    },
    {
      "cell_type": "code",
      "execution_count": 3,
      "metadata": {
        "ExecuteTime": {
          "end_time": "2020-02-11T07:08:51.918857Z",
          "start_time": "2020-02-11T07:08:51.910566Z"
        },
        "colab": {
          "base_uri": "https://localhost:8080/"
        },
        "id": "bCm_TEUl0tmj",
        "outputId": "26128876-7795-4eb3-b576-6669cc5ed01d",
        "scrolled": false
      },
      "outputs": [
        {
          "name": "stdout",
          "output_type": "stream",
          "text": [
            ".. _iris_dataset:\n",
            "\n",
            "Iris plants dataset\n",
            "--------------------\n",
            "\n",
            "**Data Set Characteristics:**\n",
            "\n",
            ":Number of Instances: 150 (50 in each of three classes)\n",
            ":Number of Attributes: 4 numeric, predictive attributes and the class\n",
            ":Attribute Information:\n",
            "    - sepal length in cm\n",
            "    - sepal width in cm\n",
            "    - petal length in cm\n",
            "    - petal width in cm\n",
            "    - class:\n",
            "            - Iris-Setosa\n",
            "            - Iris-Versicolour\n",
            "            - Iris-Virginica\n",
            "\n",
            ":Summary Statistics:\n",
            "\n",
            "============== ==== ==== ======= ===== ====================\n",
            "                Min  Max   Mean    SD   Class Correlation\n",
            "============== ==== ==== ======= ===== ====================\n",
            "sepal length:   4.3  7.9   5.84   0.83    0.7826\n",
            "sepal width:    2.0  4.4   3.05   0.43   -0.4194\n",
            "petal length:   1.0  6.9   3.76   1.76    0.9490  (high!)\n",
            "petal width:    0.1  2.5   1.20   0.76    0.9565  (high!)\n",
            "============== ==== ==== ======= ===== ====================\n",
            "\n",
            ":Missing Attribute Values: None\n",
            ":Class Distribution: 33.3% for each of 3 classes.\n",
            ":Creator: R.A. Fisher\n",
            ":Donor: Michael Marshall (MARSHALL%PLU@io.arc.nasa.gov)\n",
            ":Date: July, 1988\n",
            "\n",
            "The famous Iris database, first used by Sir R.A. Fisher. The dataset is taken\n",
            "from Fisher's paper. Note that it's the same as in R, but not as in the UCI\n",
            "Machine Learning Repository, which has two wrong data points.\n",
            "\n",
            "This is perhaps the best known database to be found in the\n",
            "pattern recognition literature.  Fisher's paper is a classic in the field and\n",
            "is referenced frequently to this day.  (See Duda & Hart, for example.)  The\n",
            "data set contains 3 classes of 50 instances each, where each class refers to a\n",
            "type of iris plant.  One class is linearly separable from the other 2; the\n",
            "latter are NOT linearly separable from each other.\n",
            "\n",
            "|details-start|\n",
            "**References**\n",
            "|details-split|\n",
            "\n",
            "- Fisher, R.A. \"The use of multiple measurements in taxonomic problems\"\n",
            "  Annual Eugenics, 7, Part II, 179-188 (1936); also in \"Contributions to\n",
            "  Mathematical Statistics\" (John Wiley, NY, 1950).\n",
            "- Duda, R.O., & Hart, P.E. (1973) Pattern Classification and Scene Analysis.\n",
            "  (Q327.D83) John Wiley & Sons.  ISBN 0-471-22361-1.  See page 218.\n",
            "- Dasarathy, B.V. (1980) \"Nosing Around the Neighborhood: A New System\n",
            "  Structure and Classification Rule for Recognition in Partially Exposed\n",
            "  Environments\".  IEEE Transactions on Pattern Analysis and Machine\n",
            "  Intelligence, Vol. PAMI-2, No. 1, 67-71.\n",
            "- Gates, G.W. (1972) \"The Reduced Nearest Neighbor Rule\".  IEEE Transactions\n",
            "  on Information Theory, May 1972, 431-433.\n",
            "- See also: 1988 MLC Proceedings, 54-64.  Cheeseman et al\"s AUTOCLASS II\n",
            "  conceptual clustering system finds 3 classes in the data.\n",
            "- Many, many more ...\n",
            "\n",
            "|details-end|\n",
            "\n"
          ]
        }
      ],
      "source": [
        "dataset = datasets.load_iris()\n",
        "\n",
        "print(dataset.DESCR)"
      ]
    },
    {
      "cell_type": "markdown",
      "metadata": {
        "id": "7mYbo1JD0tmk"
      },
      "source": [
        "If you aren't familiar with Iris dataset - take a minute to read description above (as always [more info about it in Wikipedia](https://en.wikipedia.org/wiki/Iris_flower_data_set)).\n",
        "\n",
        "__TL;DR__ 150 objects equally distributed over 3 classes each described with 4 continuous features\n",
        "\n",
        "Just pretty table to look at:"
      ]
    },
    {
      "cell_type": "code",
      "execution_count": 4,
      "metadata": {
        "ExecuteTime": {
          "end_time": "2020-02-11T07:08:51.940271Z",
          "start_time": "2020-02-11T07:08:51.921326Z"
        },
        "colab": {
          "base_uri": "https://localhost:8080/",
          "height": 424
        },
        "id": "vnBV-d2e0tmk",
        "outputId": "fe8b1c07-ab2e-4469-ccff-bb7f7ec13bcf"
      },
      "outputs": [
        {
          "data": {
            "text/html": [
              "<div>\n",
              "<style scoped>\n",
              "    .dataframe tbody tr th:only-of-type {\n",
              "        vertical-align: middle;\n",
              "    }\n",
              "\n",
              "    .dataframe tbody tr th {\n",
              "        vertical-align: top;\n",
              "    }\n",
              "\n",
              "    .dataframe thead th {\n",
              "        text-align: right;\n",
              "    }\n",
              "</style>\n",
              "<table border=\"1\" class=\"dataframe\">\n",
              "  <thead>\n",
              "    <tr style=\"text-align: right;\">\n",
              "      <th></th>\n",
              "      <th>sepal length (cm)</th>\n",
              "      <th>sepal width (cm)</th>\n",
              "      <th>petal length (cm)</th>\n",
              "      <th>petal width (cm)</th>\n",
              "      <th>target label</th>\n",
              "      <th>target name</th>\n",
              "    </tr>\n",
              "  </thead>\n",
              "  <tbody>\n",
              "    <tr>\n",
              "      <th>0</th>\n",
              "      <td>5.1</td>\n",
              "      <td>3.5</td>\n",
              "      <td>1.4</td>\n",
              "      <td>0.2</td>\n",
              "      <td>0</td>\n",
              "      <td>setosa</td>\n",
              "    </tr>\n",
              "    <tr>\n",
              "      <th>1</th>\n",
              "      <td>4.9</td>\n",
              "      <td>3.0</td>\n",
              "      <td>1.4</td>\n",
              "      <td>0.2</td>\n",
              "      <td>0</td>\n",
              "      <td>setosa</td>\n",
              "    </tr>\n",
              "    <tr>\n",
              "      <th>2</th>\n",
              "      <td>4.7</td>\n",
              "      <td>3.2</td>\n",
              "      <td>1.3</td>\n",
              "      <td>0.2</td>\n",
              "      <td>0</td>\n",
              "      <td>setosa</td>\n",
              "    </tr>\n",
              "    <tr>\n",
              "      <th>3</th>\n",
              "      <td>4.6</td>\n",
              "      <td>3.1</td>\n",
              "      <td>1.5</td>\n",
              "      <td>0.2</td>\n",
              "      <td>0</td>\n",
              "      <td>setosa</td>\n",
              "    </tr>\n",
              "    <tr>\n",
              "      <th>4</th>\n",
              "      <td>5.0</td>\n",
              "      <td>3.6</td>\n",
              "      <td>1.4</td>\n",
              "      <td>0.2</td>\n",
              "      <td>0</td>\n",
              "      <td>setosa</td>\n",
              "    </tr>\n",
              "    <tr>\n",
              "      <th>...</th>\n",
              "      <td>...</td>\n",
              "      <td>...</td>\n",
              "      <td>...</td>\n",
              "      <td>...</td>\n",
              "      <td>...</td>\n",
              "      <td>...</td>\n",
              "    </tr>\n",
              "    <tr>\n",
              "      <th>145</th>\n",
              "      <td>6.7</td>\n",
              "      <td>3.0</td>\n",
              "      <td>5.2</td>\n",
              "      <td>2.3</td>\n",
              "      <td>2</td>\n",
              "      <td>virginica</td>\n",
              "    </tr>\n",
              "    <tr>\n",
              "      <th>146</th>\n",
              "      <td>6.3</td>\n",
              "      <td>2.5</td>\n",
              "      <td>5.0</td>\n",
              "      <td>1.9</td>\n",
              "      <td>2</td>\n",
              "      <td>virginica</td>\n",
              "    </tr>\n",
              "    <tr>\n",
              "      <th>147</th>\n",
              "      <td>6.5</td>\n",
              "      <td>3.0</td>\n",
              "      <td>5.2</td>\n",
              "      <td>2.0</td>\n",
              "      <td>2</td>\n",
              "      <td>virginica</td>\n",
              "    </tr>\n",
              "    <tr>\n",
              "      <th>148</th>\n",
              "      <td>6.2</td>\n",
              "      <td>3.4</td>\n",
              "      <td>5.4</td>\n",
              "      <td>2.3</td>\n",
              "      <td>2</td>\n",
              "      <td>virginica</td>\n",
              "    </tr>\n",
              "    <tr>\n",
              "      <th>149</th>\n",
              "      <td>5.9</td>\n",
              "      <td>3.0</td>\n",
              "      <td>5.1</td>\n",
              "      <td>1.8</td>\n",
              "      <td>2</td>\n",
              "      <td>virginica</td>\n",
              "    </tr>\n",
              "  </tbody>\n",
              "</table>\n",
              "<p>150 rows × 6 columns</p>\n",
              "</div>"
            ],
            "text/plain": [
              "    sepal length (cm) sepal width (cm) petal length (cm) petal width (cm)  \\\n",
              "0                 5.1              3.5               1.4              0.2   \n",
              "1                 4.9              3.0               1.4              0.2   \n",
              "2                 4.7              3.2               1.3              0.2   \n",
              "3                 4.6              3.1               1.5              0.2   \n",
              "4                 5.0              3.6               1.4              0.2   \n",
              "..                ...              ...               ...              ...   \n",
              "145               6.7              3.0               5.2              2.3   \n",
              "146               6.3              2.5               5.0              1.9   \n",
              "147               6.5              3.0               5.2              2.0   \n",
              "148               6.2              3.4               5.4              2.3   \n",
              "149               5.9              3.0               5.1              1.8   \n",
              "\n",
              "    target label target name  \n",
              "0              0      setosa  \n",
              "1              0      setosa  \n",
              "2              0      setosa  \n",
              "3              0      setosa  \n",
              "4              0      setosa  \n",
              "..           ...         ...  \n",
              "145            2   virginica  \n",
              "146            2   virginica  \n",
              "147            2   virginica  \n",
              "148            2   virginica  \n",
              "149            2   virginica  \n",
              "\n",
              "[150 rows x 6 columns]"
            ]
          },
          "execution_count": 4,
          "metadata": {},
          "output_type": "execute_result"
        }
      ],
      "source": [
        "ext_target = dataset.target[:, None]\n",
        "pd.DataFrame(\n",
        "    np.concatenate((dataset.data, ext_target, dataset.target_names[ext_target]), axis=1),\n",
        "    columns=dataset.feature_names + ['target label', 'target name'],\n",
        ")"
      ]
    },
    {
      "cell_type": "markdown",
      "metadata": {
        "id": "qCzIbgmX0tmk"
      },
      "source": [
        "Now give distinct names to the data we will use"
      ]
    },
    {
      "cell_type": "code",
      "execution_count": 8,
      "metadata": {
        "ExecuteTime": {
          "end_time": "2020-02-11T07:08:52.604007Z",
          "start_time": "2020-02-11T07:08:52.599704Z"
        },
        "colab": {
          "base_uri": "https://localhost:8080/"
        },
        "id": "qtLuGLQr0tmk",
        "outputId": "de40eaf3-d695-4fb5-f41c-aa71d60ba3dd"
      },
      "outputs": [
        {
          "data": {
            "text/plain": [
              "((150, 4), (150,))"
            ]
          },
          "execution_count": 8,
          "metadata": {},
          "output_type": "execute_result"
        }
      ],
      "source": [
        "features = dataset.data\n",
        "target = dataset.target\n",
        "\n",
        "features.shape, target.shape"
      ]
    },
    {
      "cell_type": "markdown",
      "metadata": {
        "id": "3ppag0fJ0tml"
      },
      "source": [
        "__Please, remember!!!__\n",
        "\n",
        "Anywhere in our course we have an agreement to shape design matrix (named `features` in code above) as \n",
        "\n",
        "`(#number_of_items, #number_of_features)` if not stated explicitly."
      ]
    },
    {
      "cell_type": "markdown",
      "metadata": {
        "id": "qerDuQcZ0tmm"
      },
      "source": [
        "## Distribution implementation"
      ]
    },
    {
      "cell_type": "markdown",
      "metadata": {
        "id": "NvfzQQld0tmm"
      },
      "source": [
        "Let's implement class taking list of feature values, estimating Laplace distribution params and able to give probability density of any given feature value.\n",
        "\n",
        "The file downloaded below contains the template for your class."
      ]
    },
    {
      "cell_type": "code",
      "execution_count": null,
      "metadata": {},
      "outputs": [],
      "source": [
        "!wget https://raw.githubusercontent.com/girafe-ai/ml-course/23s_dd_ml/homeworks/hw02_laplace/distribution.py"
      ]
    },
    {
      "cell_type": "markdown",
      "metadata": {
        "id": "IzbuTvTz3rRd"
      },
      "source": [
        "Denote the Laplace distribution $\\mathcal{L}(\\mu, b)$ PDF, where $\\mu$ stand for location (loc), and $b$ stands for scale:\n",
        "$$\n",
        "f(x|\\mu, b) = \\frac{1}{2b}\\exp(-\\frac{|x - \\mu|}{b})\n",
        "$$\n",
        "Let's implement the `LaplaceDistribution` class. (Of course in practice one could always use something like `scipy.stats.laplace`).\n",
        "\n",
        "Please note, that making computations with log probabilities is more stable.\n",
        "\n",
        "\n",
        "#### Description [from Wikipedia](https://en.wikipedia.org/wiki/Laplace_distribution#Statistical_inference):\n",
        "\n",
        "Given $n$ independent and identically distributed samples $x_1, x_2, ..., x_n$, the maximum likelihood (MLE) estimator of $\\mu$ is the sample median:\n",
        "$$\n",
        "\\hat{\\mu} = \\mathrm{median}(x).\n",
        "$$\n",
        "\n",
        "\n",
        "\n",
        "The MLE estimator $b$ is the mean absolute deviation from the median\n",
        "$$\n",
        "\\hat{b} = \\frac{1}{n} \\sum_{i = 1}^{n} |x_i - \\hat{\\mu}|.$$\n",
        "\n",
        "revealing a link between the Laplace distribution and least absolute deviations.\n",
        "A correction for small samples can be applied as follows:\n",
        "$\\hat{b}^* = \\hat{b} \\cdot n/(n-2)$\n"
      ]
    },
    {
      "cell_type": "code",
      "execution_count": 9,
      "metadata": {
        "id": "4T03ygUNHATx"
      },
      "outputs": [],
      "source": [
        "# Run some setup code for this notebook.\n",
        "import random\n",
        "import numpy as np\n",
        "import matplotlib.pyplot as plt\n",
        "\n",
        "# Some more magic so that the notebook will reload external python modules;\n",
        "# see http://stackoverflow.com/questions/1907993/autoreload-of-modules-in-ipython\n",
        "%load_ext autoreload\n",
        "%autoreload 2"
      ]
    },
    {
      "cell_type": "code",
      "execution_count": 25,
      "metadata": {
        "id": "IwKau_wgHDs-"
      },
      "outputs": [],
      "source": [
        "# This dirty hack might help if the autoreload has failed for some reason\n",
        "try:\n",
        "    del LaplaceDistribution\n",
        "except:\n",
        "    pass\n",
        "\n",
        "from distribution import LaplaceDistribution"
      ]
    },
    {
      "cell_type": "markdown",
      "metadata": {
        "id": "EEG2EDcyFySQ"
      },
      "source": [
        "### Distribution parameters check"
      ]
    },
    {
      "cell_type": "code",
      "execution_count": 26,
      "metadata": {
        "colab": {
          "base_uri": "https://localhost:8080/"
        },
        "id": "xmnaQF_T6hK-",
        "outputId": "0b69e355-4849-41fa-cb19-640d5182093e"
      },
      "outputs": [
        {
          "name": "stdout",
          "output_type": "stream",
          "text": [
            "Seems fine!\n"
          ]
        }
      ],
      "source": [
        "import scipy\n",
        "\n",
        "loc0, scale0 = scipy.stats.laplace.fit(features[:, 0])\n",
        "loc1, scale1 = scipy.stats.laplace.fit(features[:, 1])\n",
        "\n",
        "# 1d case\n",
        "my_distr_1 = LaplaceDistribution(features[:, 0])\n",
        "\n",
        "# check the 1d median (loc parameter)\n",
        "assert np.allclose(my_distr_1.loc, loc0), '1d distribution median error'\n",
        "# check the 1d scale (loc parameter)\n",
        "assert np.allclose(my_distr_1.scale, scale0), '1d distribution scale error'\n",
        "\n",
        "\n",
        "# 2d case\n",
        "my_distr_2 = LaplaceDistribution(features[:, :2])\n",
        "\n",
        "# check the 2d median (loc parameter)\n",
        "assert np.allclose(my_distr_2.loc, np.array([loc0, loc1])), '2d distribution median error'\n",
        "# check the 2d median (loc parameter)\n",
        "assert np.allclose(my_distr_2.scale, np.array([scale0, scale1])), '2d distribution scale error'\n",
        "\n",
        "\n",
        "\n",
        "print('Seems fine!')"
      ]
    },
    {
      "cell_type": "markdown",
      "metadata": {
        "id": "Bl1GXaVoF4Ne"
      },
      "source": [
        "### Distribution logpdf check"
      ]
    },
    {
      "cell_type": "code",
      "execution_count": 27,
      "metadata": {
        "colab": {
          "base_uri": "https://localhost:8080/"
        },
        "id": "NM-h1_956IQI",
        "outputId": "ae0dd839-1226-42f2-d46c-62c76df79855"
      },
      "outputs": [
        {
          "name": "stdout",
          "output_type": "stream",
          "text": [
            "Seems fine!\n"
          ]
        }
      ],
      "source": [
        "_test = scipy.stats.laplace(loc=[loc0, loc1], scale=[scale0, scale1])\n",
        "    \n",
        "assert np.allclose(\n",
        "    my_distr_2.logpdf(features[:5, :2]),\n",
        "    _test.logpdf(features[:5, :2])\n",
        "), 'Logpdfs do not match scipy results!'\n",
        "print('Seems fine!')"
      ]
    },
    {
      "cell_type": "markdown",
      "metadata": {
        "id": "st83V79zGHEx"
      },
      "source": [
        "Congratulations! Please, paste the `LaplaceDistribution` class code into the py file and submit it to the contest system."
      ]
    }
  ],
  "metadata": {
    "colab": {
      "provenance": []
    },
    "kernelspec": {
      "display_name": ".venv",
      "language": "python",
      "name": "python3"
    },
    "language_info": {
      "codemirror_mode": {
        "name": "ipython",
        "version": 3
      },
      "file_extension": ".py",
      "mimetype": "text/x-python",
      "name": "python",
      "nbconvert_exporter": "python",
      "pygments_lexer": "ipython3",
      "version": "3.10.12"
    }
  },
  "nbformat": 4,
  "nbformat_minor": 0
}
