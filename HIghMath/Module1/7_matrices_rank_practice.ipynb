{
  "cells": [
    {
      "cell_type": "code",
      "execution_count": 1,
      "metadata": {
        "collapsed": true
      },
      "outputs": [],
      "source": [
        "import numpy as np"
      ]
    },
    {
      "cell_type": "code",
      "execution_count": 2,
      "metadata": {
        "collapsed": false
      },
      "outputs": [
        {
          "name": "stdout",
          "output_type": "stream",
          "text": [
            "A1:\n",
            " [[ 1  2  3]\n",
            " [ 4  5  6]\n",
            " [ 7  8 10]]\n"
          ]
        }
      ],
      "source": [
        "# обратная матрица - все ок\n",
        "A1=np.array([[1,2,3],[4,5,6],[7,8,10]])\n",
        "print('A1:\\n',A1)"
      ]
    },
    {
      "cell_type": "code",
      "execution_count": 3,
      "metadata": {
        "collapsed": false
      },
      "outputs": [
        {
          "name": "stdout",
          "output_type": "stream",
          "text": [
            "rk(A3):\n",
            " 3\n"
          ]
        }
      ],
      "source": [
        "print('rk(A3):\\n',np.linalg.matrix_rank(A1))"
      ]
    },
    {
      "cell_type": "code",
      "execution_count": 4,
      "metadata": {
        "collapsed": false
      },
      "outputs": [
        {
          "name": "stdout",
          "output_type": "stream",
          "text": [
            "A1 inversed:\n",
            " [[-0.66666667 -1.33333333  1.        ]\n",
            " [-0.66666667  3.66666667 -2.        ]\n",
            " [ 1.         -2.          1.        ]]\n"
          ]
        }
      ],
      "source": [
        "# обратная матрица - все ок\n",
        "A1_inv=np.linalg.inv(A1)\n",
        "print('A1 inversed:\\n',A1_inv)\n"
      ]
    },
    {
      "cell_type": "code",
      "execution_count": 5,
      "metadata": {
        "collapsed": false
      },
      "outputs": [
        {
          "name": "stdout",
          "output_type": "stream",
          "text": [
            "A1 @ A1 inversed=E check:\n",
            " [[1.00000000e+00 0.00000000e+00 1.11022302e-16]\n",
            " [0.00000000e+00 1.00000000e+00 2.22044605e-16]\n",
            " [8.88178420e-16 0.00000000e+00 1.00000000e+00]] 1\n",
            "[[1. 0. 0.]\n",
            " [0. 1. 0.]\n",
            " [0. 0. 1.]]\n",
            "check OK\n"
          ]
        }
      ],
      "source": [
        "# обратная матрица - все ок\n",
        "print('A1 @ A1 inversed=E check:\\n',A1@A1_inv,1)\n",
        "print(np.round(A1@A1_inv,1))\n",
        "print('check OK')"
      ]
    },
    {
      "cell_type": "code",
      "execution_count": 6,
      "metadata": {
        "collapsed": false
      },
      "outputs": [
        {
          "name": "stdout",
          "output_type": "stream",
          "text": [
            "A2:\n",
            " [[1 2 3]\n",
            " [4 5 6]\n",
            " [1 2 3]]\n"
          ]
        }
      ],
      "source": [
        "# обратная матрица - вырожденный случай\n",
        "A2=np.array([[1,2,3],[4,5,6],[1,2,3]])\n",
        "print('A2:\\n',A2)"
      ]
    },
    {
      "cell_type": "code",
      "execution_count": 7,
      "metadata": {
        "collapsed": false
      },
      "outputs": [
        {
          "name": "stdout",
          "output_type": "stream",
          "text": [
            "rk(A3):\n",
            " 2\n"
          ]
        }
      ],
      "source": [
        "# обратная матрица - вырожденный случай\n",
        "print('rk(A3):\\n',np.linalg.matrix_rank(A2))"
      ]
    },
    {
      "cell_type": "code",
      "execution_count": 8,
      "metadata": {
        "collapsed": false
      },
      "outputs": [
        {
          "ename": "LinAlgError",
          "evalue": "Singular matrix",
          "output_type": "error",
          "traceback": [
            "\u001b[0;31m---------------------------------------------------------------------------\u001b[0m",
            "\u001b[0;31mLinAlgError\u001b[0m                               Traceback (most recent call last)",
            "Cell \u001b[0;32mIn[8], line 2\u001b[0m\n\u001b[1;32m      1\u001b[0m \u001b[38;5;66;03m# обратная матрица - вырожденный случай\u001b[39;00m\n\u001b[0;32m----> 2\u001b[0m \u001b[43mnp\u001b[49m\u001b[38;5;241;43m.\u001b[39;49m\u001b[43mlinalg\u001b[49m\u001b[38;5;241;43m.\u001b[39;49m\u001b[43minv\u001b[49m\u001b[43m(\u001b[49m\u001b[43mA2\u001b[49m\u001b[43m)\u001b[49m\n",
            "File \u001b[0;32m~/code/math_for_ds/.venv/lib/python3.10/site-packages/numpy/linalg/linalg.py:561\u001b[0m, in \u001b[0;36minv\u001b[0;34m(a)\u001b[0m\n\u001b[1;32m    559\u001b[0m signature \u001b[38;5;241m=\u001b[39m \u001b[38;5;124m'\u001b[39m\u001b[38;5;124mD->D\u001b[39m\u001b[38;5;124m'\u001b[39m \u001b[38;5;28;01mif\u001b[39;00m isComplexType(t) \u001b[38;5;28;01melse\u001b[39;00m \u001b[38;5;124m'\u001b[39m\u001b[38;5;124md->d\u001b[39m\u001b[38;5;124m'\u001b[39m\n\u001b[1;32m    560\u001b[0m extobj \u001b[38;5;241m=\u001b[39m get_linalg_error_extobj(_raise_linalgerror_singular)\n\u001b[0;32m--> 561\u001b[0m ainv \u001b[38;5;241m=\u001b[39m \u001b[43m_umath_linalg\u001b[49m\u001b[38;5;241;43m.\u001b[39;49m\u001b[43minv\u001b[49m\u001b[43m(\u001b[49m\u001b[43ma\u001b[49m\u001b[43m,\u001b[49m\u001b[43m \u001b[49m\u001b[43msignature\u001b[49m\u001b[38;5;241;43m=\u001b[39;49m\u001b[43msignature\u001b[49m\u001b[43m,\u001b[49m\u001b[43m \u001b[49m\u001b[43mextobj\u001b[49m\u001b[38;5;241;43m=\u001b[39;49m\u001b[43mextobj\u001b[49m\u001b[43m)\u001b[49m\n\u001b[1;32m    562\u001b[0m \u001b[38;5;28;01mreturn\u001b[39;00m wrap(ainv\u001b[38;5;241m.\u001b[39mastype(result_t, copy\u001b[38;5;241m=\u001b[39m\u001b[38;5;28;01mFalse\u001b[39;00m))\n",
            "File \u001b[0;32m~/code/math_for_ds/.venv/lib/python3.10/site-packages/numpy/linalg/linalg.py:112\u001b[0m, in \u001b[0;36m_raise_linalgerror_singular\u001b[0;34m(err, flag)\u001b[0m\n\u001b[1;32m    111\u001b[0m \u001b[38;5;28;01mdef\u001b[39;00m \u001b[38;5;21m_raise_linalgerror_singular\u001b[39m(err, flag):\n\u001b[0;32m--> 112\u001b[0m     \u001b[38;5;28;01mraise\u001b[39;00m LinAlgError(\u001b[38;5;124m\"\u001b[39m\u001b[38;5;124mSingular matrix\u001b[39m\u001b[38;5;124m\"\u001b[39m)\n",
            "\u001b[0;31mLinAlgError\u001b[0m: Singular matrix"
          ]
        }
      ],
      "source": [
        "# обратная матрица - вырожденный случай\n",
        "np.linalg.inv(A2)"
      ]
    },
    {
      "cell_type": "code",
      "execution_count": 13,
      "metadata": {
        "collapsed": false
      },
      "outputs": [
        {
          "name": "stdout",
          "output_type": "stream",
          "text": [
            "A3:\n",
            " [[1 2 3]\n",
            " [4 5 6]\n",
            " [7 8 9]]\n"
          ]
        }
      ],
      "source": [
        "# обратная матрица - magic\n",
        "A3=np.array([[1,2,3],[4,5,6],[7,8,9]])\n",
        "print('A3:\\n',A3)"
      ]
    },
    {
      "cell_type": "code",
      "execution_count": 12,
      "metadata": {
        "collapsed": false
      },
      "outputs": [
        {
          "name": "stdout",
          "output_type": "stream",
          "text": [
            "rk(A3):\n",
            " 2\n"
          ]
        }
      ],
      "source": [
        "# обратная матрица - magic\n",
        "print('rk(A3):\\n',np.linalg.matrix_rank(A3))"
      ]
    },
    {
      "cell_type": "code",
      "execution_count": 14,
      "metadata": {
        "collapsed": false
      },
      "outputs": [
        {
          "ename": "LinAlgError",
          "evalue": "Singular matrix",
          "output_type": "error",
          "traceback": [
            "\u001b[0;31m---------------------------------------------------------------------------\u001b[0m",
            "\u001b[0;31mLinAlgError\u001b[0m                               Traceback (most recent call last)",
            "Cell \u001b[0;32mIn[14], line 2\u001b[0m\n\u001b[1;32m      1\u001b[0m \u001b[38;5;66;03m# обратная матрица - magic\u001b[39;00m\n\u001b[0;32m----> 2\u001b[0m \u001b[38;5;28mprint\u001b[39m(\u001b[38;5;124m'\u001b[39m\u001b[38;5;124mA3 inversed:\u001b[39m\u001b[38;5;130;01m\\n\u001b[39;00m\u001b[38;5;124m'\u001b[39m,\u001b[43mnp\u001b[49m\u001b[38;5;241;43m.\u001b[39;49m\u001b[43mlinalg\u001b[49m\u001b[38;5;241;43m.\u001b[39;49m\u001b[43minv\u001b[49m\u001b[43m(\u001b[49m\u001b[43mA3\u001b[49m\u001b[43m)\u001b[49m)\n",
            "File \u001b[0;32m~/code/math_for_ds/.venv/lib/python3.10/site-packages/numpy/linalg/linalg.py:561\u001b[0m, in \u001b[0;36minv\u001b[0;34m(a)\u001b[0m\n\u001b[1;32m    559\u001b[0m signature \u001b[38;5;241m=\u001b[39m \u001b[38;5;124m'\u001b[39m\u001b[38;5;124mD->D\u001b[39m\u001b[38;5;124m'\u001b[39m \u001b[38;5;28;01mif\u001b[39;00m isComplexType(t) \u001b[38;5;28;01melse\u001b[39;00m \u001b[38;5;124m'\u001b[39m\u001b[38;5;124md->d\u001b[39m\u001b[38;5;124m'\u001b[39m\n\u001b[1;32m    560\u001b[0m extobj \u001b[38;5;241m=\u001b[39m get_linalg_error_extobj(_raise_linalgerror_singular)\n\u001b[0;32m--> 561\u001b[0m ainv \u001b[38;5;241m=\u001b[39m \u001b[43m_umath_linalg\u001b[49m\u001b[38;5;241;43m.\u001b[39;49m\u001b[43minv\u001b[49m\u001b[43m(\u001b[49m\u001b[43ma\u001b[49m\u001b[43m,\u001b[49m\u001b[43m \u001b[49m\u001b[43msignature\u001b[49m\u001b[38;5;241;43m=\u001b[39;49m\u001b[43msignature\u001b[49m\u001b[43m,\u001b[49m\u001b[43m \u001b[49m\u001b[43mextobj\u001b[49m\u001b[38;5;241;43m=\u001b[39;49m\u001b[43mextobj\u001b[49m\u001b[43m)\u001b[49m\n\u001b[1;32m    562\u001b[0m \u001b[38;5;28;01mreturn\u001b[39;00m wrap(ainv\u001b[38;5;241m.\u001b[39mastype(result_t, copy\u001b[38;5;241m=\u001b[39m\u001b[38;5;28;01mFalse\u001b[39;00m))\n",
            "File \u001b[0;32m~/code/math_for_ds/.venv/lib/python3.10/site-packages/numpy/linalg/linalg.py:112\u001b[0m, in \u001b[0;36m_raise_linalgerror_singular\u001b[0;34m(err, flag)\u001b[0m\n\u001b[1;32m    111\u001b[0m \u001b[38;5;28;01mdef\u001b[39;00m \u001b[38;5;21m_raise_linalgerror_singular\u001b[39m(err, flag):\n\u001b[0;32m--> 112\u001b[0m     \u001b[38;5;28;01mraise\u001b[39;00m LinAlgError(\u001b[38;5;124m\"\u001b[39m\u001b[38;5;124mSingular matrix\u001b[39m\u001b[38;5;124m\"\u001b[39m)\n",
            "\u001b[0;31mLinAlgError\u001b[0m: Singular matrix"
          ]
        }
      ],
      "source": [
        "# обратная матрица - magic\n",
        "print('A3 inversed:\\n',np.linalg.inv(A3))"
      ]
    },
    {
      "cell_type": "code",
      "execution_count": 15,
      "metadata": {
        "collapsed": false
      },
      "outputs": [
        {
          "ename": "LinAlgError",
          "evalue": "Singular matrix",
          "output_type": "error",
          "traceback": [
            "\u001b[0;31m---------------------------------------------------------------------------\u001b[0m",
            "\u001b[0;31mLinAlgError\u001b[0m                               Traceback (most recent call last)",
            "Cell \u001b[0;32mIn[15], line 2\u001b[0m\n\u001b[1;32m      1\u001b[0m \u001b[38;5;66;03m# обратная матрица - magic\u001b[39;00m\n\u001b[0;32m----> 2\u001b[0m \u001b[38;5;28mprint\u001b[39m(\u001b[38;5;124m'\u001b[39m\u001b[38;5;124mA3 @ A3 inversed = E check:\u001b[39m\u001b[38;5;130;01m\\n\u001b[39;00m\u001b[38;5;124m'\u001b[39m,A3\u001b[38;5;129m@np\u001b[39m\u001b[38;5;241;43m.\u001b[39;49m\u001b[43mlinalg\u001b[49m\u001b[38;5;241;43m.\u001b[39;49m\u001b[43minv\u001b[49m\u001b[43m(\u001b[49m\u001b[43mA3\u001b[49m\u001b[43m)\u001b[49m)\n\u001b[1;32m      3\u001b[0m \u001b[38;5;28mprint\u001b[39m(\u001b[38;5;124m'\u001b[39m\u001b[38;5;124mcheck failed\u001b[39m\u001b[38;5;124m'\u001b[39m)\n",
            "File \u001b[0;32m~/code/math_for_ds/.venv/lib/python3.10/site-packages/numpy/linalg/linalg.py:561\u001b[0m, in \u001b[0;36minv\u001b[0;34m(a)\u001b[0m\n\u001b[1;32m    559\u001b[0m signature \u001b[38;5;241m=\u001b[39m \u001b[38;5;124m'\u001b[39m\u001b[38;5;124mD->D\u001b[39m\u001b[38;5;124m'\u001b[39m \u001b[38;5;28;01mif\u001b[39;00m isComplexType(t) \u001b[38;5;28;01melse\u001b[39;00m \u001b[38;5;124m'\u001b[39m\u001b[38;5;124md->d\u001b[39m\u001b[38;5;124m'\u001b[39m\n\u001b[1;32m    560\u001b[0m extobj \u001b[38;5;241m=\u001b[39m get_linalg_error_extobj(_raise_linalgerror_singular)\n\u001b[0;32m--> 561\u001b[0m ainv \u001b[38;5;241m=\u001b[39m \u001b[43m_umath_linalg\u001b[49m\u001b[38;5;241;43m.\u001b[39;49m\u001b[43minv\u001b[49m\u001b[43m(\u001b[49m\u001b[43ma\u001b[49m\u001b[43m,\u001b[49m\u001b[43m \u001b[49m\u001b[43msignature\u001b[49m\u001b[38;5;241;43m=\u001b[39;49m\u001b[43msignature\u001b[49m\u001b[43m,\u001b[49m\u001b[43m \u001b[49m\u001b[43mextobj\u001b[49m\u001b[38;5;241;43m=\u001b[39;49m\u001b[43mextobj\u001b[49m\u001b[43m)\u001b[49m\n\u001b[1;32m    562\u001b[0m \u001b[38;5;28;01mreturn\u001b[39;00m wrap(ainv\u001b[38;5;241m.\u001b[39mastype(result_t, copy\u001b[38;5;241m=\u001b[39m\u001b[38;5;28;01mFalse\u001b[39;00m))\n",
            "File \u001b[0;32m~/code/math_for_ds/.venv/lib/python3.10/site-packages/numpy/linalg/linalg.py:112\u001b[0m, in \u001b[0;36m_raise_linalgerror_singular\u001b[0;34m(err, flag)\u001b[0m\n\u001b[1;32m    111\u001b[0m \u001b[38;5;28;01mdef\u001b[39;00m \u001b[38;5;21m_raise_linalgerror_singular\u001b[39m(err, flag):\n\u001b[0;32m--> 112\u001b[0m     \u001b[38;5;28;01mraise\u001b[39;00m LinAlgError(\u001b[38;5;124m\"\u001b[39m\u001b[38;5;124mSingular matrix\u001b[39m\u001b[38;5;124m\"\u001b[39m)\n",
            "\u001b[0;31mLinAlgError\u001b[0m: Singular matrix"
          ]
        }
      ],
      "source": [
        "# обратная матрица - magic\n",
        "print('A3 @ A3 inversed = E check:\\n',A3@np.linalg.inv(A3))\n",
        "print('check failed')"
      ]
    },
    {
      "cell_type": "code",
      "execution_count": 16,
      "metadata": {
        "collapsed": false
      },
      "outputs": [
        {
          "name": "stdout",
          "output_type": "stream",
          "text": [
            "det(A1)):\n",
            " -2.9999999999999996\n"
          ]
        }
      ],
      "source": [
        "print('det(A1)):\\n',np.linalg.det(A1))"
      ]
    },
    {
      "cell_type": "code",
      "execution_count": 17,
      "metadata": {
        "collapsed": false
      },
      "outputs": [
        {
          "name": "stdout",
          "output_type": "stream",
          "text": [
            "det(A2)):\n",
            " 0.0\n"
          ]
        }
      ],
      "source": [
        "print('det(A2)):\\n',np.linalg.det(A2))"
      ]
    },
    {
      "cell_type": "code",
      "execution_count": 18,
      "metadata": {
        "collapsed": false
      },
      "outputs": [
        {
          "name": "stdout",
          "output_type": "stream",
          "text": [
            "det(A3)):\n",
            " 0.0\n"
          ]
        }
      ],
      "source": [
        "print('det(A3)):\\n',np.linalg.det(A3))"
      ]
    },
    {
      "cell_type": "code",
      "execution_count": 19,
      "metadata": {
        "collapsed": false
      },
      "outputs": [
        {
          "name": "stdout",
          "output_type": "stream",
          "text": [
            "A4:\n",
            " [[1.      2.      3.     ]\n",
            " [4.      5.      6.     ]\n",
            " [1.      2.      3.00005]]\n",
            "rk(A4):\n",
            " 3\n",
            "det(A4):\n",
            " -0.00014999999999965044\n",
            "A4 inverse:\n",
            " [[-2.00016667e+04  6.66666667e-01  2.00000000e+04]\n",
            " [ 4.00013333e+04 -3.33333333e-01 -4.00000000e+04]\n",
            " [-2.00000000e+04  0.00000000e+00  2.00000000e+04]]\n"
          ]
        }
      ],
      "source": [
        "# обратная матрица - неустойчивость\n",
        "A4=np.array([[1,2,3],[4,5,6],[1,2,3.00005]])\n",
        "print('A4:\\n',A4)\n",
        "print('rk(A4):\\n',np.linalg.matrix_rank(A4))\n",
        "print('det(A4):\\n',np.linalg.det(A4))\n",
        "print('A4 inverse:\\n',np.linalg.inv(A4))"
      ]
    },
    {
      "cell_type": "code",
      "execution_count": 20,
      "metadata": {
        "collapsed": false
      },
      "outputs": [
        {
          "name": "stdout",
          "output_type": "stream",
          "text": [
            "A5:\n",
            " [[1.         2.         3.        ]\n",
            " [4.         5.         6.        ]\n",
            " [1.         2.         3.00000005]]\n",
            "rk(A5):\n",
            " 3\n",
            "det(A5):\n",
            " -1.5000000042064706e-07\n",
            "A5 inverse:\n",
            " [[-2.00000016e+07  6.66666667e-01  1.99999999e+07]\n",
            " [ 4.00000012e+07 -3.33333333e-01 -3.99999999e+07]\n",
            " [-1.99999999e+07  0.00000000e+00  1.99999999e+07]]\n"
          ]
        }
      ],
      "source": [
        "# обратная матрица - неустойчивость вблизи нулевого определителя\n",
        "A5=np.array([[1,2,3],[4,5,6],[1,2,3.00000005]])\n",
        "print('A5:\\n',A5)\n",
        "print('rk(A5):\\n',np.linalg.matrix_rank(A5))\n",
        "print('det(A5):\\n',np.linalg.det(A5))\n",
        "print('A5 inverse:\\n',np.linalg.inv(A5))"
      ]
    },
    {
      "cell_type": "code",
      "execution_count": 21,
      "metadata": {
        "collapsed": false
      },
      "outputs": [
        {
          "name": "stdout",
          "output_type": "stream",
          "text": [
            "A:\n",
            " [[1 1]\n",
            " [2 1]\n",
            " [1 1]]\n",
            "Матрица Грама:\n",
            " [[6 4]\n",
            " [4 3]]\n"
          ]
        }
      ],
      "source": [
        "# обратимость матрицы Грама линейно независимой системы векторов\n",
        "v1=np.array([1,2,1])\n",
        "v2=np.array([1,1,1])\n",
        "A=np.array([v1,v2]).T\n",
        "print('A:\\n',A)\n",
        "print('Матрица Грама:\\n',A.T@A)"
      ]
    },
    {
      "cell_type": "code",
      "execution_count": 22,
      "metadata": {
        "collapsed": false
      },
      "outputs": [
        {
          "name": "stdout",
          "output_type": "stream",
          "text": [
            "Ранг матрицы Грама:\n",
            " 2\n"
          ]
        }
      ],
      "source": [
        "print('Ранг матрицы Грама:\\n',np.linalg.matrix_rank(A.T@A))"
      ]
    },
    {
      "cell_type": "code",
      "execution_count": 23,
      "metadata": {
        "collapsed": false
      },
      "outputs": [
        {
          "name": "stdout",
          "output_type": "stream",
          "text": [
            "Определитель матрицы Грама:\n",
            " 2.0000000000000004\n"
          ]
        }
      ],
      "source": [
        "print('Определитель матрицы Грама:\\n',np.linalg.det(A.T@A))"
      ]
    },
    {
      "cell_type": "code",
      "execution_count": 24,
      "metadata": {
        "collapsed": false
      },
      "outputs": [
        {
          "name": "stdout",
          "output_type": "stream",
          "text": [
            "Обратная к матрице Грама:\n",
            " [[ 1.5 -2. ]\n",
            " [-2.   3. ]]\n"
          ]
        }
      ],
      "source": [
        "print('Обратная к матрице Грама:\\n',np.linalg.inv(A.T@A))"
      ]
    },
    {
      "cell_type": "code",
      "execution_count": 25,
      "metadata": {
        "collapsed": true
      },
      "outputs": [],
      "source": [
        "A = np.array([[8, 6, 11], [7, 5, 9],[6, 10, 6]])"
      ]
    },
    {
      "cell_type": "markdown",
      "metadata": {},
      "source": [
        "Найдите матрицу, обратную матрице .\n",
        "\n",
        "В качестве ответа запишите элемент из первого столбца второй строки, округлив его до трёх знаков после точки-разделителя.\n",
        "\n"
      ]
    },
    {
      "cell_type": "code",
      "execution_count": 26,
      "metadata": {},
      "outputs": [
        {
          "data": {
            "text/plain": [
              "array([[-1.875  ,  2.3125 , -0.03125],\n",
              "       [ 0.375  , -0.5625 ,  0.15625],\n",
              "       [ 1.25   , -1.375  , -0.0625 ]])"
            ]
          },
          "execution_count": 26,
          "metadata": {},
          "output_type": "execute_result"
        }
      ],
      "source": [
        "np.linalg.inv(A)"
      ]
    },
    {
      "cell_type": "markdown",
      "metadata": {},
      "source": [
        "Дана система векторов:"
      ]
    },
    {
      "cell_type": "code",
      "execution_count": 27,
      "metadata": {},
      "outputs": [],
      "source": [
        "v1 = np.array([9, 10, 7, 7, 9])\n",
        "v2 = np.array([2, 0, 5, 1, 4])\n",
        "v3 = np.array([4, 0, 0, 4, 1])\n",
        "v4 = np.array([3, -4, 3, -1, -4])"
      ]
    },
    {
      "cell_type": "markdown",
      "metadata": {},
      "source": [
        "Найдите ранг системы векторов , , , . Для этого создайте матрицу системы векторов. Векторы в матрице расположите в столбцы."
      ]
    },
    {
      "cell_type": "code",
      "execution_count": 32,
      "metadata": {},
      "outputs": [],
      "source": [
        "M = np.matrix([v1, v2, v3, v4]).T"
      ]
    },
    {
      "cell_type": "code",
      "execution_count": 33,
      "metadata": {},
      "outputs": [
        {
          "data": {
            "text/plain": [
              "4"
            ]
          },
          "execution_count": 33,
          "metadata": {},
          "output_type": "execute_result"
        }
      ],
      "source": [
        "np.linalg.matrix_rank(M)"
      ]
    },
    {
      "cell_type": "markdown",
      "metadata": {},
      "source": [
        "Найдите матрицу Грама системы векторов $ v_1 , v_2, v_3, v_4 $: $ G={\\mathrm{A}}^{T}A $. В качестве ответа запишите элемент из четвёртого столбца первой строки."
      ]
    },
    {
      "cell_type": "code",
      "execution_count": 34,
      "metadata": {},
      "outputs": [
        {
          "data": {
            "text/plain": [
              "matrix([[360,  96,  73, -35],\n",
              "        [ 96,  46,  16,   4],\n",
              "        [ 73,  16,  33,   4],\n",
              "        [-35,   4,   4,  51]])"
            ]
          },
          "execution_count": 34,
          "metadata": {},
          "output_type": "execute_result"
        }
      ],
      "source": [
        "M.T@M"
      ]
    },
    {
      "cell_type": "markdown",
      "metadata": {},
      "source": [
        "Найдите определитель матрицы Грама  системы  $ v_1 , v_2, v_3, v_4 $: $ G={\\mathrm{A}}^{T}A $. Ответ округлите до целого числа."
      ]
    },
    {
      "cell_type": "code",
      "execution_count": 35,
      "metadata": {},
      "outputs": [
        {
          "data": {
            "text/plain": [
              "3716647.9999999995"
            ]
          },
          "execution_count": 35,
          "metadata": {},
          "output_type": "execute_result"
        }
      ],
      "source": [
        "np.linalg.det(M.T@M)"
      ]
    },
    {
      "cell_type": "markdown",
      "metadata": {},
      "source": [
        "Является ли матрица Грама системы , , ,  вырожденной?\n"
      ]
    },
    {
      "cell_type": "code",
      "execution_count": 36,
      "metadata": {},
      "outputs": [
        {
          "data": {
            "text/plain": [
              "4"
            ]
          },
          "execution_count": 36,
          "metadata": {},
          "output_type": "execute_result"
        }
      ],
      "source": [
        "np.linalg.matrix_rank(M.T@M)"
      ]
    },
    {
      "cell_type": "markdown",
      "metadata": {},
      "source": [
        "Найдите обратную матрицу к матрице Грама  системы $ v_1 , v_2, v_3, v_4 $: $ G $. В качестве ответа запишите элемент из первого столбца третьей строки, округлив его до трёх знаков после точки-разделителя.вета "
      ]
    },
    {
      "cell_type": "code",
      "execution_count": 37,
      "metadata": {},
      "outputs": [
        {
          "data": {
            "text/plain": [
              "matrix([[ 0.01711488, -0.02798543, -0.02623063,  0.01599775],\n",
              "        [-0.02798543,  0.071967  ,  0.03031441, -0.02722776],\n",
              "        [-0.02623063,  0.03031441,  0.07683106, -0.02640498],\n",
              "        [ 0.01599775, -0.02722776, -0.02640498,  0.03479318]])"
            ]
          },
          "execution_count": 37,
          "metadata": {},
          "output_type": "execute_result"
        }
      ],
      "source": [
        "np.linalg.inv(M.T@M)"
      ]
    }
  ],
  "metadata": {
    "kernelspec": {
      "display_name": "Python 3",
      "language": "python",
      "name": "python3"
    },
    "language_info": {
      "codemirror_mode": {
        "name": "ipython",
        "version": 3
      },
      "file_extension": ".py",
      "mimetype": "text/x-python",
      "name": "python",
      "nbconvert_exporter": "python",
      "pygments_lexer": "ipython3",
      "version": "3.10.12"
    },
    "nteract": {
      "version": "0.26.0"
    }
  },
  "nbformat": 4,
  "nbformat_minor": 2
}
